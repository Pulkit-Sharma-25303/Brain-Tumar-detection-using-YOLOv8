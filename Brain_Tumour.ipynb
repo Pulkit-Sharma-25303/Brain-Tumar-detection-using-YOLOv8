{
  "nbformat": 4,
  "nbformat_minor": 0,
  "metadata": {
    "colab": {
      "provenance": [],
      "gpuType": "T4"
    },
    "kernelspec": {
      "name": "python3",
      "display_name": "Python 3"
    },
    "language_info": {
      "name": "python"
    },
    "accelerator": "GPU"
  },
  "cells": [
    {
      "cell_type": "code",
      "source": [
        "!mkdir -p /content/datasets/brain-tumor\n"
      ],
      "metadata": {
        "id": "_baEwv8WZfrx"
      },
      "execution_count": null,
      "outputs": []
    },
    {
      "cell_type": "code",
      "source": [
        "!curl -L \"https://github.com/ultralytics/assets/releases/download/v0.0.0/brain-tumor.zip\" -o brain-tumor.zip\n",
        "!unzip brain-tumor.zip -d /content/datasets/brain-tumor/\n"
      ],
      "metadata": {
        "colab": {
          "base_uri": "https://localhost:8080/"
        },
        "id": "P8WVSucRa8VF",
        "outputId": "e9875fba-dfa6-4ee9-e7b1-937f71587f2a"
      },
      "execution_count": null,
      "outputs": [
        {
          "output_type": "stream",
          "name": "stdout",
          "text": [
            "  % Total    % Received % Xferd  Average Speed   Time    Time     Time  Current\n",
            "                                 Dload  Upload   Total   Spent    Left  Speed\n",
            "  0     0    0     0    0     0      0      0 --:--:-- --:--:-- --:--:--     0\n",
            "100 4149k  100 4149k    0     0  2487k      0  0:00:01  0:00:01 --:--:-- 42.2M\n",
            "Archive:  brain-tumor.zip\n",
            "  inflating: /content/datasets/brain-tumor/train/images/00054_145.jpg  \n",
            "  inflating: /content/datasets/brain-tumor/train/images/00054_164.jpg  \n",
            "  inflating: /content/datasets/brain-tumor/train/images/00056_110.jpg  \n",
            "  inflating: /content/datasets/brain-tumor/train/images/00056_129.jpg  \n",
            "  inflating: /content/datasets/brain-tumor/train/images/00056_147.jpg  \n",
            "  inflating: /content/datasets/brain-tumor/train/images/00056_239.jpg  \n",
            "  inflating: /content/datasets/brain-tumor/train/images/00056_92.jpg  \n",
            "  inflating: /content/datasets/brain-tumor/train/images/00058_102.jpg  \n",
            "  inflating: /content/datasets/brain-tumor/train/images/00058_122.jpg  \n",
            "  inflating: /content/datasets/brain-tumor/train/images/00058_141.jpg  \n",
            "  inflating: /content/datasets/brain-tumor/train/images/00058_179.jpg  \n",
            "  inflating: /content/datasets/brain-tumor/train/images/00059_103.jpg  \n",
            "  inflating: /content/datasets/brain-tumor/train/images/00059_122.jpg  \n",
            "  inflating: /content/datasets/brain-tumor/train/images/00059_141.jpg  \n",
            "  inflating: /content/datasets/brain-tumor/train/images/00059_84.jpg  \n",
            "  inflating: /content/datasets/brain-tumor/train/images/00060_69.jpg  \n",
            "  inflating: /content/datasets/brain-tumor/train/images/00060_70.jpg  \n",
            "  inflating: /content/datasets/brain-tumor/train/images/00060_71.jpg  \n",
            "  inflating: /content/datasets/brain-tumor/train/images/00060_72.jpg  \n",
            "  inflating: /content/datasets/brain-tumor/train/images/00061_108.jpg  \n",
            "  inflating: /content/datasets/brain-tumor/train/images/00061_127.jpg  \n",
            "  inflating: /content/datasets/brain-tumor/train/images/00061_146.jpg  \n",
            "  inflating: /content/datasets/brain-tumor/train/images/00061_184.jpg  \n",
            "  inflating: /content/datasets/brain-tumor/train/images/00063_197.jpg  \n",
            "  inflating: /content/datasets/brain-tumor/train/images/00063_217.jpg  \n",
            "  inflating: /content/datasets/brain-tumor/train/images/00064_101.jpg  \n",
            "  inflating: /content/datasets/brain-tumor/train/images/00064_121.jpg  \n",
            "  inflating: /content/datasets/brain-tumor/train/images/00064_140.jpg  \n",
            "  inflating: /content/datasets/brain-tumor/train/images/00066_145.jpg  \n",
            "  inflating: /content/datasets/brain-tumor/train/images/00066_221.jpg  \n",
            "  inflating: /content/datasets/brain-tumor/train/images/00066_240.jpg  \n",
            "  inflating: /content/datasets/brain-tumor/train/images/00066_259.jpg  \n",
            "  inflating: /content/datasets/brain-tumor/train/images/00066_278.jpg  \n",
            "  inflating: /content/datasets/brain-tumor/train/images/00071_183.jpg  \n",
            "  inflating: /content/datasets/brain-tumor/train/images/00071_221.jpg  \n",
            "  inflating: /content/datasets/brain-tumor/train/images/00071_240.jpg  \n",
            "  inflating: /content/datasets/brain-tumor/train/images/00071_259.jpg  \n",
            "  inflating: /content/datasets/brain-tumor/train/images/00071_278.jpg  \n",
            "  inflating: /content/datasets/brain-tumor/train/images/00072_119.jpg  \n",
            "  inflating: /content/datasets/brain-tumor/train/images/00072_138.jpg  \n",
            "  inflating: /content/datasets/brain-tumor/train/images/00072_196.jpg  \n",
            "  inflating: /content/datasets/brain-tumor/train/images/00072_80.jpg  \n",
            "  inflating: /content/datasets/brain-tumor/train/images/00072_99.jpg  \n",
            "  inflating: /content/datasets/brain-tumor/train/images/00074_209.jpg  \n",
            "  inflating: /content/datasets/brain-tumor/train/images/00074_229.jpg  \n",
            "  inflating: /content/datasets/brain-tumor/train/images/00074_249.jpg  \n",
            "  inflating: /content/datasets/brain-tumor/train/images/00074_269.jpg  \n",
            "  inflating: /content/datasets/brain-tumor/train/images/00074_289.jpg  \n",
            "  inflating: /content/datasets/brain-tumor/train/images/00077_166.jpg  \n",
            "  inflating: /content/datasets/brain-tumor/train/images/00077_186.jpg  \n",
            "  inflating: /content/datasets/brain-tumor/train/images/00077_206.jpg  \n",
            "  inflating: /content/datasets/brain-tumor/train/images/00077_226.jpg  \n",
            "  inflating: /content/datasets/brain-tumor/train/images/00077_246.jpg  \n",
            "  inflating: /content/datasets/brain-tumor/train/images/00078_219.jpg  \n",
            "  inflating: /content/datasets/brain-tumor/train/images/00078_239.jpg  \n",
            "  inflating: /content/datasets/brain-tumor/train/images/00078_258.jpg  \n",
            "  inflating: /content/datasets/brain-tumor/train/images/00078_278.jpg  \n",
            "  inflating: /content/datasets/brain-tumor/train/images/00085_156.jpg  \n",
            "  inflating: /content/datasets/brain-tumor/train/images/00087_130.jpg  \n",
            "  inflating: /content/datasets/brain-tumor/train/images/00087_149.jpg  \n",
            "  inflating: /content/datasets/brain-tumor/train/images/00087_185.jpg  \n",
            "  inflating: /content/datasets/brain-tumor/train/images/00090_112.jpg  \n",
            "  inflating: /content/datasets/brain-tumor/train/images/00090_130.jpg  \n",
            "  inflating: /content/datasets/brain-tumor/train/images/00090_204.jpg  \n",
            "  inflating: /content/datasets/brain-tumor/train/images/00095_161.jpg  \n",
            "  inflating: /content/datasets/brain-tumor/train/images/00095_170.jpg  \n",
            "  inflating: /content/datasets/brain-tumor/train/images/00095_176.jpg  \n",
            "  inflating: /content/datasets/brain-tumor/train/images/00095_181.jpg  \n",
            "  inflating: /content/datasets/brain-tumor/train/images/00095_188.jpg  \n",
            "  inflating: /content/datasets/brain-tumor/train/images/00095_200.jpg  \n",
            "  inflating: /content/datasets/brain-tumor/train/images/00095_201.jpg  \n",
            "  inflating: /content/datasets/brain-tumor/train/images/00095_212.jpg  \n",
            "  inflating: /content/datasets/brain-tumor/train/images/00095_222.jpg  \n",
            "  inflating: /content/datasets/brain-tumor/train/images/00095_224.jpg  \n",
            "  inflating: /content/datasets/brain-tumor/train/images/00095_226.jpg  \n",
            "  inflating: /content/datasets/brain-tumor/train/images/00095_236.jpg  \n",
            "  inflating: /content/datasets/brain-tumor/train/images/00095_243.jpg  \n",
            "  inflating: /content/datasets/brain-tumor/train/images/00095_263.jpg  \n",
            "  inflating: /content/datasets/brain-tumor/train/images/00096_240.jpg  \n",
            "  inflating: /content/datasets/brain-tumor/train/images/00096_260.jpg  \n",
            "  inflating: /content/datasets/brain-tumor/train/images/00096_280.jpg  \n",
            "  inflating: /content/datasets/brain-tumor/train/images/00097_106.jpg  \n",
            "  inflating: /content/datasets/brain-tumor/train/images/00097_124.jpg  \n",
            "  inflating: /content/datasets/brain-tumor/train/images/00097_162.jpg  \n",
            "  inflating: /content/datasets/brain-tumor/train/images/00097_254.jpg  \n",
            "  inflating: /content/datasets/brain-tumor/train/images/00097_65.jpg  \n",
            "  inflating: /content/datasets/brain-tumor/train/images/00097_68.jpg  \n",
            "  inflating: /content/datasets/brain-tumor/train/images/00097_70.jpg  \n",
            "  inflating: /content/datasets/brain-tumor/train/images/00097_72.jpg  \n",
            "  inflating: /content/datasets/brain-tumor/train/images/00097_74.jpg  \n",
            "  inflating: /content/datasets/brain-tumor/train/images/00097_76.jpg  \n",
            "  inflating: /content/datasets/brain-tumor/train/images/00097_77.jpg  \n",
            "  inflating: /content/datasets/brain-tumor/train/images/00097_79.jpg  \n",
            "  inflating: /content/datasets/brain-tumor/train/images/00097_80.jpg  \n",
            "  inflating: /content/datasets/brain-tumor/train/images/00097_81.jpg  \n",
            "  inflating: /content/datasets/brain-tumor/train/images/00097_83.jpg  \n",
            "  inflating: /content/datasets/brain-tumor/train/images/00097_87.jpg  \n",
            "  inflating: /content/datasets/brain-tumor/train/images/00098_247.jpg  \n",
            "  inflating: /content/datasets/brain-tumor/train/images/00098_266.jpg  \n",
            "  inflating: /content/datasets/brain-tumor/train/images/00099_129.jpg  \n",
            "  inflating: /content/datasets/brain-tumor/train/images/00099_130.jpg  \n",
            "  inflating: /content/datasets/brain-tumor/train/images/00099_137.jpg  \n",
            "  inflating: /content/datasets/brain-tumor/train/images/00099_139.jpg  \n",
            "  inflating: /content/datasets/brain-tumor/train/images/00099_145.jpg  \n",
            "  inflating: /content/datasets/brain-tumor/train/images/00099_149.jpg  \n",
            "  inflating: /content/datasets/brain-tumor/train/images/00099_154.jpg  \n",
            "  inflating: /content/datasets/brain-tumor/train/images/00100_102.jpg  \n",
            "  inflating: /content/datasets/brain-tumor/train/images/00100_119.jpg  \n",
            "  inflating: /content/datasets/brain-tumor/train/images/00100_136.jpg  \n",
            "  inflating: /content/datasets/brain-tumor/train/images/00100_153.jpg  \n",
            "  inflating: /content/datasets/brain-tumor/train/images/00100_170.jpg  \n",
            "  inflating: /content/datasets/brain-tumor/train/images/00104_132.jpg  \n",
            "  inflating: /content/datasets/brain-tumor/train/images/00104_14.jpg  \n",
            "  inflating: /content/datasets/brain-tumor/train/images/00104_15.jpg  \n",
            "  inflating: /content/datasets/brain-tumor/train/images/00104_150.jpg  \n",
            "  inflating: /content/datasets/brain-tumor/train/images/00104_16.jpg  \n",
            "  inflating: /content/datasets/brain-tumor/train/images/00104_168.jpg  \n",
            "  inflating: /content/datasets/brain-tumor/train/images/00104_17.jpg  \n",
            "  inflating: /content/datasets/brain-tumor/train/images/00104_18.jpg  \n",
            "  inflating: /content/datasets/brain-tumor/train/images/00104_185.jpg  \n",
            "  inflating: /content/datasets/brain-tumor/train/images/00104_19.jpg  \n",
            "  inflating: /content/datasets/brain-tumor/train/images/00105_113.jpg  \n",
            "  inflating: /content/datasets/brain-tumor/train/images/00105_132.jpg  \n",
            "  inflating: /content/datasets/brain-tumor/train/images/00105_151.jpg  \n",
            "  inflating: /content/datasets/brain-tumor/train/images/00105_94.jpg  \n",
            "  inflating: /content/datasets/brain-tumor/train/images/00106_195.jpg  \n",
            "  inflating: /content/datasets/brain-tumor/train/images/00106_253.jpg  \n",
            "  inflating: /content/datasets/brain-tumor/train/images/00107_101.jpg  \n",
            "  inflating: /content/datasets/brain-tumor/train/images/00107_118.jpg  \n",
            "  inflating: /content/datasets/brain-tumor/train/images/00108_102.jpg  \n",
            "  inflating: /content/datasets/brain-tumor/train/images/00109_104.jpg  \n",
            "  inflating: /content/datasets/brain-tumor/train/images/00109_85.jpg  \n",
            "  inflating: /content/datasets/brain-tumor/train/images/00110_131.jpg  \n",
            "  inflating: /content/datasets/brain-tumor/train/images/00110_147.jpg  \n",
            "  inflating: /content/datasets/brain-tumor/train/images/00110_162.jpg  \n",
            "  inflating: /content/datasets/brain-tumor/train/images/00110_178.jpg  \n",
            "  inflating: /content/datasets/brain-tumor/train/images/00111_110.jpg  \n",
            "  inflating: /content/datasets/brain-tumor/train/images/00111_98.jpg  \n",
            "  inflating: /content/datasets/brain-tumor/train/images/00112_10.jpg  \n",
            "  inflating: /content/datasets/brain-tumor/train/images/00112_11.jpg  \n",
            "  inflating: /content/datasets/brain-tumor/train/images/00112_12.jpg  \n",
            "  inflating: /content/datasets/brain-tumor/train/images/00116_11.jpg  \n",
            "  inflating: /content/datasets/brain-tumor/train/images/00116_12.jpg  \n",
            "  inflating: /content/datasets/brain-tumor/train/images/00116_13.jpg  \n",
            "  inflating: /content/datasets/brain-tumor/train/images/00116_14.jpg  \n",
            "  inflating: /content/datasets/brain-tumor/train/images/00116_15.jpg  \n",
            "  inflating: /content/datasets/brain-tumor/train/images/00116_16.jpg  \n",
            "  inflating: /content/datasets/brain-tumor/train/images/00116_231.jpg  \n",
            "  inflating: /content/datasets/brain-tumor/train/images/00116_8.jpg  \n",
            "  inflating: /content/datasets/brain-tumor/train/images/00116_9.jpg  \n",
            "  inflating: /content/datasets/brain-tumor/train/images/00117_200.jpg  \n",
            "  inflating: /content/datasets/brain-tumor/train/images/00120_215.jpg  \n",
            "  inflating: /content/datasets/brain-tumor/train/images/00120_230.jpg  \n",
            "  inflating: /content/datasets/brain-tumor/train/images/00120_245.jpg  \n",
            "  inflating: /content/datasets/brain-tumor/train/images/00120_260.jpg  \n",
            "  inflating: /content/datasets/brain-tumor/train/images/00121_139.jpg  \n",
            "  inflating: /content/datasets/brain-tumor/train/images/00121_157.jpg  \n",
            "  inflating: /content/datasets/brain-tumor/train/images/00121_175.jpg  \n",
            "  inflating: /content/datasets/brain-tumor/train/images/00122_10.jpg  \n",
            "  inflating: /content/datasets/brain-tumor/train/images/00122_108.jpg  \n",
            "  inflating: /content/datasets/brain-tumor/train/images/00122_11.jpg  \n",
            "  inflating: /content/datasets/brain-tumor/train/images/00122_8.jpg  \n",
            "  inflating: /content/datasets/brain-tumor/train/images/00122_9.jpg  \n",
            "  inflating: /content/datasets/brain-tumor/train/images/00122_90.jpg  \n",
            "  inflating: /content/datasets/brain-tumor/train/images/00123_10.jpg  \n",
            "  inflating: /content/datasets/brain-tumor/train/images/00123_11.jpg  \n",
            "  inflating: /content/datasets/brain-tumor/train/images/00123_12.jpg  \n",
            "  inflating: /content/datasets/brain-tumor/train/images/00123_13.jpg  \n",
            "  inflating: /content/datasets/brain-tumor/train/images/00123_14.jpg  \n",
            "  inflating: /content/datasets/brain-tumor/train/images/00123_15.jpg  \n",
            "  inflating: /content/datasets/brain-tumor/train/images/00123_16.jpg  \n",
            "  inflating: /content/datasets/brain-tumor/train/images/00123_223.jpg  \n",
            "  inflating: /content/datasets/brain-tumor/train/images/00123_241.jpg  \n",
            "  inflating: /content/datasets/brain-tumor/train/images/00123_259.jpg  \n",
            "  inflating: /content/datasets/brain-tumor/train/images/00123_277.jpg  \n",
            "  inflating: /content/datasets/brain-tumor/train/images/00124_10.jpg  \n",
            "  inflating: /content/datasets/brain-tumor/train/images/00124_11.jpg  \n",
            "  inflating: /content/datasets/brain-tumor/train/images/00124_114.jpg  \n",
            "  inflating: /content/datasets/brain-tumor/train/images/00124_12.jpg  \n",
            "  inflating: /content/datasets/brain-tumor/train/images/00124_132.jpg  \n",
            "  inflating: /content/datasets/brain-tumor/train/images/00124_150.jpg  \n",
            "  inflating: /content/datasets/brain-tumor/train/images/00124_168.jpg  \n",
            "  inflating: /content/datasets/brain-tumor/train/images/00124_6.jpg  \n",
            "  inflating: /content/datasets/brain-tumor/train/images/00124_7.jpg  \n",
            "  inflating: /content/datasets/brain-tumor/train/images/00124_8.jpg  \n",
            "  inflating: /content/datasets/brain-tumor/train/images/00124_9.jpg  \n",
            "  inflating: /content/datasets/brain-tumor/train/images/00124_96.jpg  \n",
            "  inflating: /content/datasets/brain-tumor/train/images/00128_243.jpg  \n",
            "  inflating: /content/datasets/brain-tumor/train/images/00128_260.jpg  \n",
            "  inflating: /content/datasets/brain-tumor/train/images/00128_277.jpg  \n",
            "  inflating: /content/datasets/brain-tumor/train/images/00130_100.jpg  \n",
            "  inflating: /content/datasets/brain-tumor/train/images/00130_107.jpg  \n",
            "  inflating: /content/datasets/brain-tumor/train/images/00130_112.jpg  \n",
            "  inflating: /content/datasets/brain-tumor/train/images/00130_114.jpg  \n",
            "  inflating: /content/datasets/brain-tumor/train/images/00130_119.jpg  \n",
            "  inflating: /content/datasets/brain-tumor/train/images/00130_239.jpg  \n",
            "  inflating: /content/datasets/brain-tumor/train/images/00130_256.jpg  \n",
            "  inflating: /content/datasets/brain-tumor/train/images/00130_273.jpg  \n",
            "  inflating: /content/datasets/brain-tumor/train/images/00130_78.jpg  \n",
            "  inflating: /content/datasets/brain-tumor/train/images/00130_81.jpg  \n",
            "  inflating: /content/datasets/brain-tumor/train/images/00130_88.jpg  \n",
            "  inflating: /content/datasets/brain-tumor/train/images/00130_94.jpg  \n",
            "  inflating: /content/datasets/brain-tumor/train/images/00132_112.jpg  \n",
            "  inflating: /content/datasets/brain-tumor/train/images/00132_130.jpg  \n",
            "  inflating: /content/datasets/brain-tumor/train/images/00132_147.jpg  \n",
            "  inflating: /content/datasets/brain-tumor/train/images/00132_164.jpg  \n",
            "  inflating: /content/datasets/brain-tumor/train/images/00132_95.jpg  \n",
            "  inflating: /content/datasets/brain-tumor/train/images/00133_228.jpg  \n",
            "  inflating: /content/datasets/brain-tumor/train/images/00133_247.jpg  \n",
            "  inflating: /content/datasets/brain-tumor/train/images/00133_266.jpg  \n",
            "  inflating: /content/datasets/brain-tumor/train/images/00136_103.jpg  \n",
            "  inflating: /content/datasets/brain-tumor/train/images/00136_121.jpg  \n",
            "  inflating: /content/datasets/brain-tumor/train/images/00136_138.jpg  \n",
            "  inflating: /content/datasets/brain-tumor/train/images/00137_249.jpg  \n",
            "  inflating: /content/datasets/brain-tumor/train/images/00137_264.jpg  \n",
            "  inflating: /content/datasets/brain-tumor/train/images/00138_217.jpg  \n",
            "  inflating: /content/datasets/brain-tumor/train/images/00138_235.jpg  \n",
            "  inflating: /content/datasets/brain-tumor/train/images/00138_271.jpg  \n",
            "  inflating: /content/datasets/brain-tumor/train/images/00138_289.jpg  \n",
            "  inflating: /content/datasets/brain-tumor/train/images/00142_107.jpg  \n",
            "  inflating: /content/datasets/brain-tumor/train/images/00142_126.jpg  \n",
            "  inflating: /content/datasets/brain-tumor/train/images/00142_144.jpg  \n",
            "  inflating: /content/datasets/brain-tumor/train/images/00142_163.jpg  \n",
            "  inflating: /content/datasets/brain-tumor/train/images/00142_89.jpg  \n",
            "  inflating: /content/datasets/brain-tumor/train/images/00143_236.jpg  \n",
            "  inflating: /content/datasets/brain-tumor/train/images/00143_254.jpg  \n",
            "  inflating: /content/datasets/brain-tumor/train/images/00143_272.jpg  \n",
            "  inflating: /content/datasets/brain-tumor/train/images/00144_243.jpg  \n",
            "  inflating: /content/datasets/brain-tumor/train/images/00144_260.jpg  \n",
            "  inflating: /content/datasets/brain-tumor/train/images/00144_278.jpg  \n",
            "  inflating: /content/datasets/brain-tumor/train/images/00146_142.jpg  \n",
            "  inflating: /content/datasets/brain-tumor/train/images/00146_160.jpg  \n",
            "  inflating: /content/datasets/brain-tumor/train/images/00146_195.jpg  \n",
            "  inflating: /content/datasets/brain-tumor/train/images/00147_115.jpg  \n",
            "  inflating: /content/datasets/brain-tumor/train/images/00147_134.jpg  \n",
            "  inflating: /content/datasets/brain-tumor/train/images/00147_152.jpg  \n",
            "  inflating: /content/datasets/brain-tumor/train/images/00147_170.jpg  \n",
            "  inflating: /content/datasets/brain-tumor/train/images/00148_19.jpg  \n",
            "  inflating: /content/datasets/brain-tumor/train/images/00148_20.jpg  \n",
            "  inflating: /content/datasets/brain-tumor/train/images/00148_22.jpg  \n",
            "  inflating: /content/datasets/brain-tumor/train/images/00148_24.jpg  \n",
            "  inflating: /content/datasets/brain-tumor/train/images/00150_10.jpg  \n",
            "  inflating: /content/datasets/brain-tumor/train/images/00150_11.jpg  \n",
            "  inflating: /content/datasets/brain-tumor/train/images/00150_12.jpg  \n",
            "  inflating: /content/datasets/brain-tumor/train/images/00150_235.jpg  \n",
            "  inflating: /content/datasets/brain-tumor/train/images/00150_252.jpg  \n",
            "  inflating: /content/datasets/brain-tumor/train/images/00150_8.jpg  \n",
            "  inflating: /content/datasets/brain-tumor/train/images/00150_9.jpg  \n",
            "  inflating: /content/datasets/brain-tumor/train/images/00151_10.jpg  \n",
            "  inflating: /content/datasets/brain-tumor/train/images/00151_12.jpg  \n",
            "  inflating: /content/datasets/brain-tumor/train/images/00151_128.jpg  \n",
            "  inflating: /content/datasets/brain-tumor/train/images/00151_13.jpg  \n",
            "  inflating: /content/datasets/brain-tumor/train/images/00151_14.jpg  \n",
            "  inflating: /content/datasets/brain-tumor/train/images/00151_145.jpg  \n",
            "  inflating: /content/datasets/brain-tumor/train/images/00151_15.jpg  \n",
            "  inflating: /content/datasets/brain-tumor/train/images/00151_162.jpg  \n",
            "  inflating: /content/datasets/brain-tumor/train/images/00151_17.jpg  \n",
            "  inflating: /content/datasets/brain-tumor/train/images/00151_195.jpg  \n",
            "  inflating: /content/datasets/brain-tumor/train/images/00151_211.jpg  \n",
            "  inflating: /content/datasets/brain-tumor/train/images/00154_210.jpg  \n",
            "  inflating: /content/datasets/brain-tumor/train/images/00154_229.jpg  \n",
            "  inflating: /content/datasets/brain-tumor/train/images/00154_248.jpg  \n",
            "  inflating: /content/datasets/brain-tumor/train/images/00154_267.jpg  \n",
            "  inflating: /content/datasets/brain-tumor/train/images/00156_116.jpg  \n",
            "  inflating: /content/datasets/brain-tumor/train/images/00156_132.jpg  \n",
            "  inflating: /content/datasets/brain-tumor/train/images/00156_148.jpg  \n",
            "  inflating: /content/datasets/brain-tumor/train/images/00156_164.jpg  \n",
            "  inflating: /content/datasets/brain-tumor/train/images/00156_180.jpg  \n",
            "  inflating: /content/datasets/brain-tumor/train/images/00156_196.jpg  \n",
            "  inflating: /content/datasets/brain-tumor/train/images/00157_115.jpg  \n",
            "  inflating: /content/datasets/brain-tumor/train/images/00158_102.jpg  \n",
            "  inflating: /content/datasets/brain-tumor/train/images/00158_108.jpg  \n",
            "  inflating: /content/datasets/brain-tumor/train/images/00158_114.jpg  \n",
            "  inflating: /content/datasets/brain-tumor/train/images/00158_115.jpg  \n",
            "  inflating: /content/datasets/brain-tumor/train/images/00158_239.jpg  \n",
            "  inflating: /content/datasets/brain-tumor/train/images/00158_256.jpg  \n",
            "  inflating: /content/datasets/brain-tumor/train/images/00158_272.jpg  \n",
            "  inflating: /content/datasets/brain-tumor/train/images/00158_289.jpg  \n",
            "  inflating: /content/datasets/brain-tumor/train/images/00158_86.jpg  \n",
            "  inflating: /content/datasets/brain-tumor/train/images/00158_90.jpg  \n",
            "  inflating: /content/datasets/brain-tumor/train/images/00158_96.jpg  \n",
            "  inflating: /content/datasets/brain-tumor/train/images/00159_133.jpg  \n",
            "  inflating: /content/datasets/brain-tumor/train/images/00159_152.jpg  \n",
            "  inflating: /content/datasets/brain-tumor/train/images/00159_171.jpg  \n",
            "  inflating: /content/datasets/brain-tumor/train/images/00159_189.jpg  \n",
            "  inflating: /content/datasets/brain-tumor/train/images/00159_207.jpg  \n",
            "  inflating: /content/datasets/brain-tumor/train/images/00160_270.jpg  \n",
            "  inflating: /content/datasets/brain-tumor/train/images/00162_122.jpg  \n",
            "  inflating: /content/datasets/brain-tumor/train/images/00165_110.jpg  \n",
            "  inflating: /content/datasets/brain-tumor/train/images/00165_111.jpg  \n",
            "  inflating: /content/datasets/brain-tumor/train/images/00165_116.jpg  \n",
            "  inflating: /content/datasets/brain-tumor/train/images/00165_118.jpg  \n",
            "  inflating: /content/datasets/brain-tumor/train/images/00165_122.jpg  \n",
            "  inflating: /content/datasets/brain-tumor/train/images/00165_123.jpg  \n",
            "  inflating: /content/datasets/brain-tumor/train/images/00165_125.jpg  \n",
            "  inflating: /content/datasets/brain-tumor/train/images/00165_129.jpg  \n",
            "  inflating: /content/datasets/brain-tumor/train/images/00165_135.jpg  \n",
            "  inflating: /content/datasets/brain-tumor/train/images/00165_140.jpg  \n",
            "  inflating: /content/datasets/brain-tumor/train/images/00165_158.jpg  \n",
            "  inflating: /content/datasets/brain-tumor/train/images/00165_176.jpg  \n",
            "  inflating: /content/datasets/brain-tumor/train/images/00165_193.jpg  \n",
            "  inflating: /content/datasets/brain-tumor/train/images/00166_189.jpg  \n",
            "  inflating: /content/datasets/brain-tumor/train/images/00166_206.jpg  \n",
            "  inflating: /content/datasets/brain-tumor/train/images/00166_224.jpg  \n",
            "  inflating: /content/datasets/brain-tumor/train/images/00166_241.jpg  \n",
            "  inflating: /content/datasets/brain-tumor/train/images/00166_259.jpg  \n",
            "  inflating: /content/datasets/brain-tumor/train/images/00167_125.jpg  \n",
            "  inflating: /content/datasets/brain-tumor/train/images/00167_127.jpg  \n",
            "  inflating: /content/datasets/brain-tumor/train/images/00167_213.jpg  \n",
            "  inflating: /content/datasets/brain-tumor/train/images/00169_112.jpg  \n",
            "  inflating: /content/datasets/brain-tumor/train/images/00169_119.jpg  \n",
            "  inflating: /content/datasets/brain-tumor/train/images/00169_127.jpg  \n",
            "  inflating: /content/datasets/brain-tumor/train/images/00169_134.jpg  \n",
            "  inflating: /content/datasets/brain-tumor/train/images/00169_141.jpg  \n",
            "  inflating: /content/datasets/brain-tumor/train/images/00169_142.jpg  \n",
            "  inflating: /content/datasets/brain-tumor/train/images/00169_149.jpg  \n",
            "  inflating: /content/datasets/brain-tumor/train/images/00169_208.jpg  \n",
            "  inflating: /content/datasets/brain-tumor/train/images/00169_225.jpg  \n",
            "  inflating: /content/datasets/brain-tumor/train/images/00169_243.jpg  \n",
            "  inflating: /content/datasets/brain-tumor/train/images/00169_260.jpg  \n",
            "  inflating: /content/datasets/brain-tumor/train/images/00171_109.jpg  \n",
            "  inflating: /content/datasets/brain-tumor/train/images/00171_126.jpg  \n",
            "  inflating: /content/datasets/brain-tumor/train/images/00172_102.jpg  \n",
            "  inflating: /content/datasets/brain-tumor/train/images/00172_108.jpg  \n",
            "  inflating: /content/datasets/brain-tumor/train/images/00172_110.jpg  \n",
            "  inflating: /content/datasets/brain-tumor/train/images/00172_114.jpg  \n",
            "  inflating: /content/datasets/brain-tumor/train/images/00172_91.jpg  \n",
            "  inflating: /content/datasets/brain-tumor/train/images/00172_92.jpg  \n",
            "  inflating: /content/datasets/brain-tumor/train/images/00172_96.jpg  \n",
            "  inflating: /content/datasets/brain-tumor/train/images/00176_104.jpg  \n",
            "  inflating: /content/datasets/brain-tumor/train/images/00176_109.jpg  \n",
            "  inflating: /content/datasets/brain-tumor/train/images/00176_127.jpg  \n",
            "  inflating: /content/datasets/brain-tumor/train/images/00176_145.jpg  \n",
            "  inflating: /content/datasets/brain-tumor/train/images/00176_89.jpg  \n",
            "  inflating: /content/datasets/brain-tumor/train/images/00176_92.jpg  \n",
            "  inflating: /content/datasets/brain-tumor/train/images/00176_98.jpg  \n",
            "  inflating: /content/datasets/brain-tumor/train/images/00177_125.jpg  \n",
            "  inflating: /content/datasets/brain-tumor/train/images/00177_145.jpg  \n",
            "  inflating: /content/datasets/brain-tumor/train/images/00177_221.jpg  \n",
            "  inflating: /content/datasets/brain-tumor/train/images/00177_241.jpg  \n",
            "  inflating: /content/datasets/brain-tumor/train/images/00177_260.jpg  \n",
            "  inflating: /content/datasets/brain-tumor/train/images/00177_280.jpg  \n",
            "  inflating: /content/datasets/brain-tumor/train/images/00178_104.jpg  \n",
            "  inflating: /content/datasets/brain-tumor/train/images/00178_122.jpg  \n",
            "  inflating: /content/datasets/brain-tumor/train/images/00178_140.jpg  \n",
            "  inflating: /content/datasets/brain-tumor/train/images/00178_158.jpg  \n",
            "  inflating: /content/datasets/brain-tumor/train/images/00178_175.jpg  \n",
            "  inflating: /content/datasets/brain-tumor/train/images/00183_109.jpg  \n",
            "  inflating: /content/datasets/brain-tumor/train/images/00183_126.jpg  \n",
            "  inflating: /content/datasets/brain-tumor/train/images/00183_144.jpg  \n",
            "  inflating: /content/datasets/brain-tumor/train/images/00183_161.jpg  \n",
            "  inflating: /content/datasets/brain-tumor/train/images/00183_178.jpg  \n",
            "  inflating: /content/datasets/brain-tumor/train/images/00183_195.jpg  \n",
            "  inflating: /content/datasets/brain-tumor/train/images/00183_80.jpg  \n",
            "  inflating: /content/datasets/brain-tumor/train/images/00183_86.jpg  \n",
            "  inflating: /content/datasets/brain-tumor/train/images/00184_127.jpg  \n",
            "  inflating: /content/datasets/brain-tumor/train/images/00184_145.jpg  \n",
            "  inflating: /content/datasets/brain-tumor/train/images/00184_164.jpg  \n",
            "  inflating: /content/datasets/brain-tumor/train/images/00185_252.jpg  \n",
            "  inflating: /content/datasets/brain-tumor/train/images/00185_271.jpg  \n",
            "  inflating: /content/datasets/brain-tumor/train/images/00185_289.jpg  \n",
            "  inflating: /content/datasets/brain-tumor/train/images/00186_207.jpg  \n",
            "  inflating: /content/datasets/brain-tumor/train/images/00187_100.jpg  \n",
            "  inflating: /content/datasets/brain-tumor/train/images/00187_118.jpg  \n",
            "  inflating: /content/datasets/brain-tumor/train/images/00187_135.jpg  \n",
            "  inflating: /content/datasets/brain-tumor/train/images/00187_153.jpg  \n",
            "  inflating: /content/datasets/brain-tumor/train/images/00187_170.jpg  \n",
            "  inflating: /content/datasets/brain-tumor/train/images/00191_106.jpg  \n",
            "  inflating: /content/datasets/brain-tumor/train/images/00191_124.jpg  \n",
            "  inflating: /content/datasets/brain-tumor/train/images/00191_143.jpg  \n",
            "  inflating: /content/datasets/brain-tumor/train/images/00192_191.jpg  \n",
            "  inflating: /content/datasets/brain-tumor/train/images/00192_244.jpg  \n",
            "  inflating: /content/datasets/brain-tumor/train/images/00192_262.jpg  \n",
            "  inflating: /content/datasets/brain-tumor/train/images/00192_280.jpg  \n",
            "  inflating: /content/datasets/brain-tumor/train/images/00193_172.jpg  \n",
            "  inflating: /content/datasets/brain-tumor/train/images/00193_190.jpg  \n",
            "  inflating: /content/datasets/brain-tumor/train/images/00193_208.jpg  \n",
            "  inflating: /content/datasets/brain-tumor/train/images/00194_209.jpg  \n",
            "  inflating: /content/datasets/brain-tumor/train/images/00194_226.jpg  \n",
            "  inflating: /content/datasets/brain-tumor/train/images/00194_243.jpg  \n",
            "  inflating: /content/datasets/brain-tumor/train/images/00194_259.jpg  \n",
            "  inflating: /content/datasets/brain-tumor/train/images/00195_208.jpg  \n",
            "  inflating: /content/datasets/brain-tumor/train/images/00195_225.jpg  \n",
            "  inflating: /content/datasets/brain-tumor/train/images/00201_102.jpg  \n",
            "  inflating: /content/datasets/brain-tumor/train/images/00201_121.jpg  \n",
            "  inflating: /content/datasets/brain-tumor/train/images/00201_141.jpg  \n",
            "  inflating: /content/datasets/brain-tumor/train/images/00240_134.jpg  \n",
            "  inflating: /content/datasets/brain-tumor/train/images/00240_138.jpg  \n",
            "  inflating: /content/datasets/brain-tumor/train/images/00240_144.jpg  \n",
            "  inflating: /content/datasets/brain-tumor/train/images/00240_151.jpg  \n",
            "  inflating: /content/datasets/brain-tumor/train/images/00240_157.jpg  \n",
            "  inflating: /content/datasets/brain-tumor/train/images/00245_101.jpg  \n",
            "  inflating: /content/datasets/brain-tumor/train/images/00246_103.jpg  \n",
            "  inflating: /content/datasets/brain-tumor/train/images/00246_96.jpg  \n",
            "  inflating: /content/datasets/brain-tumor/train/images/00250_104.jpg  \n",
            "  inflating: /content/datasets/brain-tumor/train/images/00250_110.jpg  \n",
            "  inflating: /content/datasets/brain-tumor/train/images/00250_115.jpg  \n",
            "  inflating: /content/datasets/brain-tumor/train/images/00250_120.jpg  \n",
            "  inflating: /content/datasets/brain-tumor/train/images/00250_121.jpg  \n",
            "  inflating: /content/datasets/brain-tumor/train/images/00253_79.jpg  \n",
            "  inflating: /content/datasets/brain-tumor/train/images/00253_85.jpg  \n",
            "  inflating: /content/datasets/brain-tumor/train/images/00253_92.jpg  \n",
            "  inflating: /content/datasets/brain-tumor/train/images/00254_79.jpg  \n",
            "  inflating: /content/datasets/brain-tumor/train/images/00254_83.jpg  \n",
            "  inflating: /content/datasets/brain-tumor/train/images/00254_89.jpg  \n",
            "  inflating: /content/datasets/brain-tumor/train/images/00260_113.jpg  \n",
            "  inflating: /content/datasets/brain-tumor/train/images/00260_115.jpg  \n",
            "  inflating: /content/datasets/brain-tumor/train/images/00260_119.jpg  \n",
            "  inflating: /content/datasets/brain-tumor/train/images/00260_121.jpg  \n",
            "  inflating: /content/datasets/brain-tumor/train/images/00260_125.jpg  \n",
            "  inflating: /content/datasets/brain-tumor/train/images/00260_130.jpg  \n",
            "  inflating: /content/datasets/brain-tumor/train/images/00260_136.jpg  \n",
            "  inflating: /content/datasets/brain-tumor/train/images/00260_142.jpg  \n",
            "  inflating: /content/datasets/brain-tumor/train/images/00263_109.jpg  \n",
            "  inflating: /content/datasets/brain-tumor/train/images/00263_116.jpg  \n",
            "  inflating: /content/datasets/brain-tumor/train/images/00263_117.jpg  \n",
            "  inflating: /content/datasets/brain-tumor/train/images/00263_123.jpg  \n",
            "  inflating: /content/datasets/brain-tumor/train/images/00263_125.jpg  \n",
            "  inflating: /content/datasets/brain-tumor/train/images/00263_130.jpg  \n",
            "  inflating: /content/datasets/brain-tumor/train/images/00263_133.jpg  \n",
            "  inflating: /content/datasets/brain-tumor/train/images/00263_137.jpg  \n",
            "  inflating: /content/datasets/brain-tumor/train/images/00270_11.jpg  \n",
            "  inflating: /content/datasets/brain-tumor/train/images/00270_12.jpg  \n",
            "  inflating: /content/datasets/brain-tumor/train/images/00270_13.jpg  \n",
            "  inflating: /content/datasets/brain-tumor/train/images/00271_106.jpg  \n",
            "  inflating: /content/datasets/brain-tumor/train/images/00271_111.jpg  \n",
            "  inflating: /content/datasets/brain-tumor/train/images/00271_116.jpg  \n",
            "  inflating: /content/datasets/brain-tumor/train/images/00271_117.jpg  \n",
            "  inflating: /content/datasets/brain-tumor/train/images/00271_122.jpg  \n",
            "  inflating: /content/datasets/brain-tumor/train/images/00271_124.jpg  \n",
            "  inflating: /content/datasets/brain-tumor/train/images/00271_128.jpg  \n",
            "  inflating: /content/datasets/brain-tumor/train/images/00271_130.jpg  \n",
            "  inflating: /content/datasets/brain-tumor/train/images/00271_134.jpg  \n",
            "  inflating: /content/datasets/brain-tumor/train/images/00271_145.jpg  \n",
            "  inflating: /content/datasets/brain-tumor/train/images/00273_103.jpg  \n",
            "  inflating: /content/datasets/brain-tumor/train/images/00273_109.jpg  \n",
            "  inflating: /content/datasets/brain-tumor/train/images/00273_86.jpg  \n",
            "  inflating: /content/datasets/brain-tumor/train/images/00273_90.jpg  \n",
            "  inflating: /content/datasets/brain-tumor/train/images/00273_96.jpg  \n",
            "  inflating: /content/datasets/brain-tumor/train/images/00281_104.jpg  \n",
            "  inflating: /content/datasets/brain-tumor/train/images/00281_110.jpg  \n",
            "  inflating: /content/datasets/brain-tumor/train/images/00281_116.jpg  \n",
            "  inflating: /content/datasets/brain-tumor/train/images/00281_117.jpg  \n",
            "  inflating: /content/datasets/brain-tumor/train/images/00281_122.jpg  \n",
            "  inflating: /content/datasets/brain-tumor/train/images/00281_124.jpg  \n",
            "  inflating: /content/datasets/brain-tumor/train/images/00281_128.jpg  \n",
            "  inflating: /content/datasets/brain-tumor/train/images/00281_98.jpg  \n",
            "  inflating: /content/datasets/brain-tumor/train/images/00282_83.jpg  \n",
            "  inflating: /content/datasets/brain-tumor/train/images/00282_87.jpg  \n",
            "  inflating: /content/datasets/brain-tumor/train/images/00282_93.jpg  \n",
            "  inflating: /content/datasets/brain-tumor/train/images/00282_99.jpg  \n",
            "  inflating: /content/datasets/brain-tumor/train/images/00284_149.jpg  \n",
            "  inflating: /content/datasets/brain-tumor/train/images/00285_87.jpg  \n",
            "  inflating: /content/datasets/brain-tumor/train/images/00285_93.jpg  \n",
            "  inflating: /content/datasets/brain-tumor/train/images/00291_22.jpg  \n",
            "  inflating: /content/datasets/brain-tumor/train/images/00291_23.jpg  \n",
            "  inflating: /content/datasets/brain-tumor/train/images/00291_24.jpg  \n",
            "  inflating: /content/datasets/brain-tumor/train/images/00294_20.jpg  \n",
            "  inflating: /content/datasets/brain-tumor/train/images/00294_21.jpg  \n",
            "  inflating: /content/datasets/brain-tumor/train/images/00294_22.jpg  \n",
            "  inflating: /content/datasets/brain-tumor/train/images/00294_23.jpg  \n",
            "  inflating: /content/datasets/brain-tumor/train/images/00296_118.jpg  \n",
            "  inflating: /content/datasets/brain-tumor/train/images/00296_124.jpg  \n",
            "  inflating: /content/datasets/brain-tumor/train/images/00296_125.jpg  \n",
            "  inflating: /content/datasets/brain-tumor/train/images/00296_130.jpg  \n",
            "  inflating: /content/datasets/brain-tumor/train/images/00296_132.jpg  \n",
            "  inflating: /content/datasets/brain-tumor/train/images/00299_101.jpg  \n",
            "  inflating: /content/datasets/brain-tumor/train/images/00299_91.jpg  \n",
            "  inflating: /content/datasets/brain-tumor/train/images/00303_81.jpg  \n",
            "  inflating: /content/datasets/brain-tumor/train/images/00303_85.jpg  \n",
            "  inflating: /content/datasets/brain-tumor/train/images/00304_101.jpg  \n",
            "  inflating: /content/datasets/brain-tumor/train/images/00304_107.jpg  \n",
            "  inflating: /content/datasets/brain-tumor/train/images/00304_113.jpg  \n",
            "  inflating: /content/datasets/brain-tumor/train/images/00304_119.jpg  \n",
            "  inflating: /content/datasets/brain-tumor/train/images/00304_98.jpg  \n",
            "  inflating: /content/datasets/brain-tumor/train/images/00305_105.jpg  \n",
            "  inflating: /content/datasets/brain-tumor/train/images/00305_107.jpg  \n",
            "  inflating: /content/datasets/brain-tumor/train/images/00305_113.jpg  \n",
            "  inflating: /content/datasets/brain-tumor/train/images/00305_116.jpg  \n",
            "  inflating: /content/datasets/brain-tumor/train/images/00305_97.jpg  \n",
            "  inflating: /content/datasets/brain-tumor/train/images/00305_98.jpg  \n",
            "  inflating: /content/datasets/brain-tumor/train/images/00306_102.jpg  \n",
            "  inflating: /content/datasets/brain-tumor/train/images/00306_109.jpg  \n",
            "  inflating: /content/datasets/brain-tumor/train/images/00306_115.jpg  \n",
            "  inflating: /content/datasets/brain-tumor/train/images/00306_92.jpg  \n",
            "  inflating: /content/datasets/brain-tumor/train/images/00306_96.jpg  \n",
            "  inflating: /content/datasets/brain-tumor/train/images/00311_105.jpg  \n",
            "  inflating: /content/datasets/brain-tumor/train/images/00311_111.jpg  \n",
            "  inflating: /content/datasets/brain-tumor/train/images/00311_117.jpg  \n",
            "  inflating: /content/datasets/brain-tumor/train/images/00311_118.jpg  \n",
            "  inflating: /content/datasets/brain-tumor/train/images/00311_123.jpg  \n",
            "  inflating: /content/datasets/brain-tumor/train/images/00313_118.jpg  \n",
            "  inflating: /content/datasets/brain-tumor/train/images/00313_119.jpg  \n",
            "  inflating: /content/datasets/brain-tumor/train/images/00313_124.jpg  \n",
            "  inflating: /content/datasets/brain-tumor/train/images/00313_126.jpg  \n",
            "  inflating: /content/datasets/brain-tumor/train/images/00313_130.jpg  \n",
            "  inflating: /content/datasets/brain-tumor/train/images/00313_133.jpg  \n",
            "  inflating: /content/datasets/brain-tumor/train/images/00317_20.jpg  \n",
            "  inflating: /content/datasets/brain-tumor/train/images/00317_21.jpg  \n",
            "  inflating: /content/datasets/brain-tumor/train/images/00317_22.jpg  \n",
            "  inflating: /content/datasets/brain-tumor/train/images/00317_23.jpg  \n",
            "  inflating: /content/datasets/brain-tumor/train/images/00317_24.jpg  \n",
            "  inflating: /content/datasets/brain-tumor/train/images/00317_25.jpg  \n",
            "  inflating: /content/datasets/brain-tumor/train/images/00317_26.jpg  \n",
            "  inflating: /content/datasets/brain-tumor/train/images/00317_27.jpg  \n",
            "  inflating: /content/datasets/brain-tumor/train/images/00317_28.jpg  \n",
            "  inflating: /content/datasets/brain-tumor/train/images/00322_108.jpg  \n",
            "  inflating: /content/datasets/brain-tumor/train/images/00322_114.jpg  \n",
            "  inflating: /content/datasets/brain-tumor/train/images/00322_115.jpg  \n",
            "  inflating: /content/datasets/brain-tumor/train/images/00322_121.jpg  \n",
            "  inflating: /content/datasets/brain-tumor/train/images/00322_122.jpg  \n",
            "  inflating: /content/datasets/brain-tumor/train/images/00322_127.jpg  \n",
            "  inflating: /content/datasets/brain-tumor/train/images/00322_130.jpg  \n",
            "  inflating: /content/datasets/brain-tumor/train/images/00322_134.jpg  \n",
            "  inflating: /content/datasets/brain-tumor/train/images/00322_140.jpg  \n",
            "  inflating: /content/datasets/brain-tumor/train/images/00322_147.jpg  \n",
            "  inflating: /content/datasets/brain-tumor/train/images/00322_153.jpg  \n",
            "  inflating: /content/datasets/brain-tumor/train/images/00328_100.jpg  \n",
            "  inflating: /content/datasets/brain-tumor/train/images/00328_90.jpg  \n",
            "  inflating: /content/datasets/brain-tumor/train/images/00328_94.jpg  \n",
            "  inflating: /content/datasets/brain-tumor/train/images/00329_87.jpg  \n",
            "  inflating: /content/datasets/brain-tumor/train/images/00329_90.jpg  \n",
            "  inflating: /content/datasets/brain-tumor/train/images/00332_141.jpg  \n",
            "  inflating: /content/datasets/brain-tumor/train/images/00332_147.jpg  \n",
            "  inflating: /content/datasets/brain-tumor/train/images/00334_101.jpg  \n",
            "  inflating: /content/datasets/brain-tumor/train/images/00334_108.jpg  \n",
            "  inflating: /content/datasets/brain-tumor/train/images/00334_114.jpg  \n",
            "  inflating: /content/datasets/brain-tumor/train/images/00334_120.jpg  \n",
            "  inflating: /content/datasets/brain-tumor/train/images/00334_121.jpg  \n",
            "  inflating: /content/datasets/brain-tumor/train/images/00334_91.jpg  \n",
            "  inflating: /content/datasets/brain-tumor/train/images/00334_95.jpg  \n",
            "  inflating: /content/datasets/brain-tumor/train/images/00338_15.jpg  \n",
            "  inflating: /content/datasets/brain-tumor/train/images/00340_119.jpg  \n",
            "  inflating: /content/datasets/brain-tumor/train/images/00340_121.jpg  \n",
            "  inflating: /content/datasets/brain-tumor/train/images/00340_126.jpg  \n",
            "  inflating: /content/datasets/brain-tumor/train/images/00340_128.jpg  \n",
            "  inflating: /content/datasets/brain-tumor/train/images/00340_132.jpg  \n",
            "  inflating: /content/datasets/brain-tumor/train/images/00340_138.jpg  \n",
            "  inflating: /content/datasets/brain-tumor/train/images/00350_126.jpg  \n",
            "  inflating: /content/datasets/brain-tumor/train/images/00350_128.jpg  \n",
            "  inflating: /content/datasets/brain-tumor/train/images/00350_132.jpg  \n",
            "  inflating: /content/datasets/brain-tumor/train/images/00350_135.jpg  \n",
            "  inflating: /content/datasets/brain-tumor/train/images/00350_139.jpg  \n",
            "  inflating: /content/datasets/brain-tumor/train/images/00350_145.jpg  \n",
            "  inflating: /content/datasets/brain-tumor/train/images/00350_151.jpg  \n",
            "  inflating: /content/datasets/brain-tumor/train/images/00350_157.jpg  \n",
            "  inflating: /content/datasets/brain-tumor/train/images/00352_103.jpg  \n",
            "  inflating: /content/datasets/brain-tumor/train/images/00352_93.jpg  \n",
            "  inflating: /content/datasets/brain-tumor/train/images/00352_97.jpg  \n",
            "  inflating: /content/datasets/brain-tumor/train/images/00359_103.jpg  \n",
            "  inflating: /content/datasets/brain-tumor/train/images/00359_109.jpg  \n",
            "  inflating: /content/datasets/brain-tumor/train/images/00359_115.jpg  \n",
            "  inflating: /content/datasets/brain-tumor/train/images/00359_116.jpg  \n",
            "  inflating: /content/datasets/brain-tumor/train/images/00359_121.jpg  \n",
            "  inflating: /content/datasets/brain-tumor/train/images/00359_123.jpg  \n",
            "  inflating: /content/datasets/brain-tumor/train/images/00359_97.jpg  \n",
            "  inflating: /content/datasets/brain-tumor/train/images/00360_102.jpg  \n",
            "  inflating: /content/datasets/brain-tumor/train/images/00360_108.jpg  \n",
            "  inflating: /content/datasets/brain-tumor/train/images/00360_114.jpg  \n",
            "  inflating: /content/datasets/brain-tumor/train/images/00360_115.jpg  \n",
            "  inflating: /content/datasets/brain-tumor/train/images/00360_120.jpg  \n",
            "  inflating: /content/datasets/brain-tumor/train/images/00360_122.jpg  \n",
            "  inflating: /content/datasets/brain-tumor/train/images/00360_126.jpg  \n",
            "  inflating: /content/datasets/brain-tumor/train/images/00360_129.jpg  \n",
            "  inflating: /content/datasets/brain-tumor/train/images/00360_87.jpg  \n",
            "  inflating: /content/datasets/brain-tumor/train/images/00360_90.jpg  \n",
            "  inflating: /content/datasets/brain-tumor/train/images/00360_96.jpg  \n",
            "  inflating: /content/datasets/brain-tumor/train/images/00364_107.jpg  \n",
            "  inflating: /content/datasets/brain-tumor/train/images/00364_113.jpg  \n",
            "  inflating: /content/datasets/brain-tumor/train/images/00364_119.jpg  \n",
            "  inflating: /content/datasets/brain-tumor/train/images/00364_120.jpg  \n",
            "  inflating: /content/datasets/brain-tumor/train/images/00364_125.jpg  \n",
            "  inflating: /content/datasets/brain-tumor/train/images/00364_127.jpg  \n",
            "  inflating: /content/datasets/brain-tumor/train/images/00406_98.jpg  \n",
            "  inflating: /content/datasets/brain-tumor/train/images/100 (2).jpg  \n",
            "  inflating: /content/datasets/brain-tumor/train/images/100 (3).jpg  \n",
            "  inflating: /content/datasets/brain-tumor/train/images/100.jpg  \n",
            "  inflating: /content/datasets/brain-tumor/train/images/102 (2).jpg  \n",
            "  inflating: /content/datasets/brain-tumor/train/images/102 (3).jpg  \n",
            "  inflating: /content/datasets/brain-tumor/train/images/102 (4).jpg  \n",
            "  inflating: /content/datasets/brain-tumor/train/images/102.jpg  \n",
            "  inflating: /content/datasets/brain-tumor/train/images/103 (2).jpg  \n",
            "  inflating: /content/datasets/brain-tumor/train/images/103.jpg  \n",
            "  inflating: /content/datasets/brain-tumor/train/images/104 (2).jpg  \n",
            "  inflating: /content/datasets/brain-tumor/train/images/104 (3).jpg  \n",
            "  inflating: /content/datasets/brain-tumor/train/images/104.jpg  \n",
            "  inflating: /content/datasets/brain-tumor/train/images/105.jpg  \n",
            "  inflating: /content/datasets/brain-tumor/train/images/106 (2).jpg  \n",
            "  inflating: /content/datasets/brain-tumor/train/images/106.jpg  \n",
            "  inflating: /content/datasets/brain-tumor/train/images/107.jpg  \n",
            "  inflating: /content/datasets/brain-tumor/train/images/108.jpg  \n",
            "  inflating: /content/datasets/brain-tumor/train/images/109 (2).jpg  \n",
            "  inflating: /content/datasets/brain-tumor/train/images/109.jpg  \n",
            "  inflating: /content/datasets/brain-tumor/train/images/110 (2).jpg  \n",
            "  inflating: /content/datasets/brain-tumor/train/images/110.jpg  \n",
            "  inflating: /content/datasets/brain-tumor/train/images/111.jpg  \n",
            "  inflating: /content/datasets/brain-tumor/train/images/112 (2).jpg  \n",
            "  inflating: /content/datasets/brain-tumor/train/images/112.jpg  \n",
            "  inflating: /content/datasets/brain-tumor/train/images/113 (2).jpg  \n",
            "  inflating: /content/datasets/brain-tumor/train/images/113.jpg  \n",
            "  inflating: /content/datasets/brain-tumor/train/images/114.jpg  \n",
            "  inflating: /content/datasets/brain-tumor/train/images/115.jpg  \n",
            "  inflating: /content/datasets/brain-tumor/train/images/116.jpg  \n",
            "  inflating: /content/datasets/brain-tumor/train/images/118.jpg  \n",
            "  inflating: /content/datasets/brain-tumor/train/images/119.jpg  \n",
            "  inflating: /content/datasets/brain-tumor/train/images/124.jpg  \n",
            "  inflating: /content/datasets/brain-tumor/train/images/125.jpg  \n",
            "  inflating: /content/datasets/brain-tumor/train/images/128 (2).jpg  \n",
            "  inflating: /content/datasets/brain-tumor/train/images/128.jpg  \n",
            "  inflating: /content/datasets/brain-tumor/train/images/138.jpg  \n",
            "  inflating: /content/datasets/brain-tumor/train/images/144.jpg  \n",
            "  inflating: /content/datasets/brain-tumor/train/images/61 (3).jpg  \n",
            "  inflating: /content/datasets/brain-tumor/train/images/61 (4).jpg  \n",
            "  inflating: /content/datasets/brain-tumor/train/images/61 (5).jpg  \n",
            "  inflating: /content/datasets/brain-tumor/train/images/61 (6).jpg  \n",
            "  inflating: /content/datasets/brain-tumor/train/images/61 (7).jpg  \n",
            "  inflating: /content/datasets/brain-tumor/train/images/61 (8).jpg  \n",
            "  inflating: /content/datasets/brain-tumor/train/images/61.jpg  \n",
            "  inflating: /content/datasets/brain-tumor/train/images/62 (10).jpg  \n",
            "  inflating: /content/datasets/brain-tumor/train/images/62 (11).jpg  \n",
            "  inflating: /content/datasets/brain-tumor/train/images/62 (12).jpg  \n",
            "  inflating: /content/datasets/brain-tumor/train/images/62 (13).jpg  \n",
            "  inflating: /content/datasets/brain-tumor/train/images/62 (14).jpg  \n",
            "  inflating: /content/datasets/brain-tumor/train/images/62 (15).jpg  \n",
            "  inflating: /content/datasets/brain-tumor/train/images/62 (2).jpg  \n",
            "  inflating: /content/datasets/brain-tumor/train/images/62 (3).jpg  \n",
            "  inflating: /content/datasets/brain-tumor/train/images/62 (4).jpg  \n",
            "  inflating: /content/datasets/brain-tumor/train/images/62 (5).jpg  \n",
            "  inflating: /content/datasets/brain-tumor/train/images/62 (6).jpg  \n",
            "  inflating: /content/datasets/brain-tumor/train/images/62 (7).jpg  \n",
            "  inflating: /content/datasets/brain-tumor/train/images/62 (8).jpg  \n",
            "  inflating: /content/datasets/brain-tumor/train/images/62 (9).jpg  \n",
            "  inflating: /content/datasets/brain-tumor/train/images/62.jpg  \n",
            "  inflating: /content/datasets/brain-tumor/train/images/63 (2).jpg  \n",
            "  inflating: /content/datasets/brain-tumor/train/images/63 (3).jpg  \n",
            "  inflating: /content/datasets/brain-tumor/train/images/63 (4).jpg  \n",
            "  inflating: /content/datasets/brain-tumor/train/images/63 (5).jpg  \n",
            "  inflating: /content/datasets/brain-tumor/train/images/63 (6).jpg  \n",
            "  inflating: /content/datasets/brain-tumor/train/images/63 (7).jpg  \n",
            "  inflating: /content/datasets/brain-tumor/train/images/63 (8).jpg  \n",
            "  inflating: /content/datasets/brain-tumor/train/images/63.jpg  \n",
            "  inflating: /content/datasets/brain-tumor/train/images/64 (2).jpg  \n",
            "  inflating: /content/datasets/brain-tumor/train/images/64 (3).jpg  \n",
            "  inflating: /content/datasets/brain-tumor/train/images/64 (4).jpg  \n",
            "  inflating: /content/datasets/brain-tumor/train/images/64 (5).jpg  \n",
            "  inflating: /content/datasets/brain-tumor/train/images/64 (6).jpg  \n",
            "  inflating: /content/datasets/brain-tumor/train/images/64 (7).jpg  \n",
            "  inflating: /content/datasets/brain-tumor/train/images/64 (8).jpg  \n",
            "  inflating: /content/datasets/brain-tumor/train/images/64.jpg  \n",
            "  inflating: /content/datasets/brain-tumor/train/images/65 (10).jpg  \n",
            "  inflating: /content/datasets/brain-tumor/train/images/65 (11).jpg  \n",
            "  inflating: /content/datasets/brain-tumor/train/images/65 (12).jpg  \n",
            "  inflating: /content/datasets/brain-tumor/train/images/65 (2).jpg  \n",
            "  inflating: /content/datasets/brain-tumor/train/images/65 (3).jpg  \n",
            "  inflating: /content/datasets/brain-tumor/train/images/65 (4).jpg  \n",
            "  inflating: /content/datasets/brain-tumor/train/images/65 (5).jpg  \n",
            "  inflating: /content/datasets/brain-tumor/train/images/65 (6).jpg  \n",
            "  inflating: /content/datasets/brain-tumor/train/images/65 (7).jpg  \n",
            "  inflating: /content/datasets/brain-tumor/train/images/65 (8).jpg  \n",
            "  inflating: /content/datasets/brain-tumor/train/images/65 (9).jpg  \n",
            "  inflating: /content/datasets/brain-tumor/train/images/65.jpg  \n",
            "  inflating: /content/datasets/brain-tumor/train/images/66 (10).jpg  \n",
            "  inflating: /content/datasets/brain-tumor/train/images/66 (11).jpg  \n",
            "  inflating: /content/datasets/brain-tumor/train/images/66 (12).jpg  \n",
            "  inflating: /content/datasets/brain-tumor/train/images/66 (13).jpg  \n",
            "  inflating: /content/datasets/brain-tumor/train/images/66 (2).jpg  \n",
            "  inflating: /content/datasets/brain-tumor/train/images/66 (3).jpg  \n",
            "  inflating: /content/datasets/brain-tumor/train/images/66 (4).jpg  \n",
            "  inflating: /content/datasets/brain-tumor/train/images/66 (5).jpg  \n",
            "  inflating: /content/datasets/brain-tumor/train/images/66 (6).jpg  \n",
            "  inflating: /content/datasets/brain-tumor/train/images/66 (7).jpg  \n",
            "  inflating: /content/datasets/brain-tumor/train/images/66 (8).jpg  \n",
            "  inflating: /content/datasets/brain-tumor/train/images/66 (9).jpg  \n",
            "  inflating: /content/datasets/brain-tumor/train/images/66.jpg  \n",
            "  inflating: /content/datasets/brain-tumor/train/images/67 (10).jpg  \n",
            "  inflating: /content/datasets/brain-tumor/train/images/67 (11).jpg  \n",
            "  inflating: /content/datasets/brain-tumor/train/images/67 (2).jpg  \n",
            "  inflating: /content/datasets/brain-tumor/train/images/67 (3).jpg  \n",
            "  inflating: /content/datasets/brain-tumor/train/images/67 (4).jpg  \n",
            "  inflating: /content/datasets/brain-tumor/train/images/67 (5).jpg  \n",
            "  inflating: /content/datasets/brain-tumor/train/images/67 (6).jpg  \n",
            "  inflating: /content/datasets/brain-tumor/train/images/67 (7).jpg  \n",
            "  inflating: /content/datasets/brain-tumor/train/images/67 (8).jpg  \n",
            "  inflating: /content/datasets/brain-tumor/train/images/67 (9).jpg  \n",
            "  inflating: /content/datasets/brain-tumor/train/images/67.jpg  \n",
            "  inflating: /content/datasets/brain-tumor/train/images/68 (10).jpg  \n",
            "  inflating: /content/datasets/brain-tumor/train/images/68 (2).jpg  \n",
            "  inflating: /content/datasets/brain-tumor/train/images/68 (3).jpg  \n",
            "  inflating: /content/datasets/brain-tumor/train/images/68 (4).jpg  \n",
            "  inflating: /content/datasets/brain-tumor/train/images/68 (5).jpg  \n",
            "  inflating: /content/datasets/brain-tumor/train/images/68 (6).jpg  \n",
            "  inflating: /content/datasets/brain-tumor/train/images/68 (7).jpg  \n",
            "  inflating: /content/datasets/brain-tumor/train/images/68 (8).jpg  \n",
            "  inflating: /content/datasets/brain-tumor/train/images/68 (9).jpg  \n",
            "  inflating: /content/datasets/brain-tumor/train/images/68.jpg  \n",
            "  inflating: /content/datasets/brain-tumor/train/images/69 (2).jpg  \n",
            "  inflating: /content/datasets/brain-tumor/train/images/69 (3).jpg  \n",
            "  inflating: /content/datasets/brain-tumor/train/images/69 (4).jpg  \n",
            "  inflating: /content/datasets/brain-tumor/train/images/69 (5).jpg  \n",
            "  inflating: /content/datasets/brain-tumor/train/images/69 (6).jpg  \n",
            "  inflating: /content/datasets/brain-tumor/train/images/69 (7).jpg  \n",
            "  inflating: /content/datasets/brain-tumor/train/images/69 (8).jpg  \n",
            "  inflating: /content/datasets/brain-tumor/train/images/69.jpg  \n",
            "  inflating: /content/datasets/brain-tumor/train/images/70 (10).jpg  \n",
            "  inflating: /content/datasets/brain-tumor/train/images/70 (11).jpg  \n",
            "  inflating: /content/datasets/brain-tumor/train/images/70 (2).jpg  \n",
            "  inflating: /content/datasets/brain-tumor/train/images/70 (3).jpg  \n",
            "  inflating: /content/datasets/brain-tumor/train/images/70 (4).jpg  \n",
            "  inflating: /content/datasets/brain-tumor/train/images/70 (5).jpg  \n",
            "  inflating: /content/datasets/brain-tumor/train/images/70 (6).jpg  \n",
            "  inflating: /content/datasets/brain-tumor/train/images/70 (7).jpg  \n",
            "  inflating: /content/datasets/brain-tumor/train/images/70 (8).jpg  \n",
            "  inflating: /content/datasets/brain-tumor/train/images/70 (9).jpg  \n",
            "  inflating: /content/datasets/brain-tumor/train/images/70.jpg  \n",
            "  inflating: /content/datasets/brain-tumor/train/images/71 (2).jpg  \n",
            "  inflating: /content/datasets/brain-tumor/train/images/71 (3).jpg  \n",
            "  inflating: /content/datasets/brain-tumor/train/images/71 (4).jpg  \n",
            "  inflating: /content/datasets/brain-tumor/train/images/71 (5).jpg  \n",
            "  inflating: /content/datasets/brain-tumor/train/images/71 (6).jpg  \n",
            "  inflating: /content/datasets/brain-tumor/train/images/71.jpg  \n",
            "  inflating: /content/datasets/brain-tumor/train/images/72 (10).jpg  \n",
            "  inflating: /content/datasets/brain-tumor/train/images/72 (11).jpg  \n",
            "  inflating: /content/datasets/brain-tumor/train/images/72 (12).jpg  \n",
            "  inflating: /content/datasets/brain-tumor/train/images/72 (2).jpg  \n",
            "  inflating: /content/datasets/brain-tumor/train/images/72 (3).jpg  \n",
            "  inflating: /content/datasets/brain-tumor/train/images/72 (4).jpg  \n",
            "  inflating: /content/datasets/brain-tumor/train/images/72 (5).jpg  \n",
            "  inflating: /content/datasets/brain-tumor/train/images/72 (6).jpg  \n",
            "  inflating: /content/datasets/brain-tumor/train/images/72 (7).jpg  \n",
            "  inflating: /content/datasets/brain-tumor/train/images/72 (8).jpg  \n",
            "  inflating: /content/datasets/brain-tumor/train/images/72 (9).jpg  \n",
            "  inflating: /content/datasets/brain-tumor/train/images/72.jpg  \n",
            "  inflating: /content/datasets/brain-tumor/train/images/73 (2).jpg  \n",
            "  inflating: /content/datasets/brain-tumor/train/images/73 (3).jpg  \n",
            "  inflating: /content/datasets/brain-tumor/train/images/73 (4).jpg  \n",
            "  inflating: /content/datasets/brain-tumor/train/images/73 (5).jpg  \n",
            "  inflating: /content/datasets/brain-tumor/train/images/73 (6).jpg  \n",
            "  inflating: /content/datasets/brain-tumor/train/images/73.jpg  \n",
            "  inflating: /content/datasets/brain-tumor/train/images/74 (10).jpg  \n",
            "  inflating: /content/datasets/brain-tumor/train/images/74 (11).jpg  \n",
            "  inflating: /content/datasets/brain-tumor/train/images/74 (12).jpg  \n",
            "  inflating: /content/datasets/brain-tumor/train/images/74 (2).jpg  \n",
            "  inflating: /content/datasets/brain-tumor/train/images/74 (3).jpg  \n",
            "  inflating: /content/datasets/brain-tumor/train/images/74 (4).jpg  \n",
            "  inflating: /content/datasets/brain-tumor/train/images/74 (5).jpg  \n",
            "  inflating: /content/datasets/brain-tumor/train/images/74 (6).jpg  \n",
            "  inflating: /content/datasets/brain-tumor/train/images/74 (7).jpg  \n",
            "  inflating: /content/datasets/brain-tumor/train/images/74 (8).jpg  \n",
            "  inflating: /content/datasets/brain-tumor/train/images/74 (9).jpg  \n",
            "  inflating: /content/datasets/brain-tumor/train/images/74.jpg  \n",
            "  inflating: /content/datasets/brain-tumor/train/images/75 (10).jpg  \n",
            "  inflating: /content/datasets/brain-tumor/train/images/75 (2).jpg  \n",
            "  inflating: /content/datasets/brain-tumor/train/images/75 (3).jpg  \n",
            "  inflating: /content/datasets/brain-tumor/train/images/75 (4).jpg  \n",
            "  inflating: /content/datasets/brain-tumor/train/images/75 (5).jpg  \n",
            "  inflating: /content/datasets/brain-tumor/train/images/75 (6).jpg  \n",
            "  inflating: /content/datasets/brain-tumor/train/images/75 (7).jpg  \n",
            "  inflating: /content/datasets/brain-tumor/train/images/75 (8).jpg  \n",
            "  inflating: /content/datasets/brain-tumor/train/images/75 (9).jpg  \n",
            "  inflating: /content/datasets/brain-tumor/train/images/75.jpg  \n",
            "  inflating: /content/datasets/brain-tumor/train/images/76 (10).jpg  \n",
            "  inflating: /content/datasets/brain-tumor/train/images/76 (11).jpg  \n",
            "  inflating: /content/datasets/brain-tumor/train/images/76 (12).jpg  \n",
            "  inflating: /content/datasets/brain-tumor/train/images/76 (2).jpg  \n",
            "  inflating: /content/datasets/brain-tumor/train/images/76 (3).jpg  \n",
            "  inflating: /content/datasets/brain-tumor/train/images/76 (4).jpg  \n",
            "  inflating: /content/datasets/brain-tumor/train/images/76 (5).jpg  \n",
            "  inflating: /content/datasets/brain-tumor/train/images/76 (6).jpg  \n",
            "  inflating: /content/datasets/brain-tumor/train/images/76 (7).jpg  \n",
            "  inflating: /content/datasets/brain-tumor/train/images/76 (8).jpg  \n",
            "  inflating: /content/datasets/brain-tumor/train/images/76 (9).jpg  \n",
            "  inflating: /content/datasets/brain-tumor/train/images/76.jpg  \n",
            "  inflating: /content/datasets/brain-tumor/train/images/77 (2).jpg  \n",
            "  inflating: /content/datasets/brain-tumor/train/images/77 (3).jpg  \n",
            "  inflating: /content/datasets/brain-tumor/train/images/77 (4).jpg  \n",
            "  inflating: /content/datasets/brain-tumor/train/images/77 (5).jpg  \n",
            "  inflating: /content/datasets/brain-tumor/train/images/77 (6).jpg  \n",
            "  inflating: /content/datasets/brain-tumor/train/images/77.jpg  \n",
            "  inflating: /content/datasets/brain-tumor/train/images/78 (2).jpg  \n",
            "  inflating: /content/datasets/brain-tumor/train/images/78 (3).jpg  \n",
            "  inflating: /content/datasets/brain-tumor/train/images/78 (4).jpg  \n",
            "  inflating: /content/datasets/brain-tumor/train/images/78 (5).jpg  \n",
            "  inflating: /content/datasets/brain-tumor/train/images/78 (6).jpg  \n",
            "  inflating: /content/datasets/brain-tumor/train/images/78.jpg  \n",
            "  inflating: /content/datasets/brain-tumor/train/images/79 (10).jpg  \n",
            "  inflating: /content/datasets/brain-tumor/train/images/79 (11).jpg  \n",
            "  inflating: /content/datasets/brain-tumor/train/images/79 (12).jpg  \n",
            "  inflating: /content/datasets/brain-tumor/train/images/79 (2).jpg  \n",
            "  inflating: /content/datasets/brain-tumor/train/images/79 (3).jpg  \n",
            "  inflating: /content/datasets/brain-tumor/train/images/79 (4).jpg  \n",
            "  inflating: /content/datasets/brain-tumor/train/images/79 (5).jpg  \n",
            "  inflating: /content/datasets/brain-tumor/train/images/79 (6).jpg  \n",
            "  inflating: /content/datasets/brain-tumor/train/images/79 (7).jpg  \n",
            "  inflating: /content/datasets/brain-tumor/train/images/79 (8).jpg  \n",
            "  inflating: /content/datasets/brain-tumor/train/images/79 (9).jpg  \n",
            "  inflating: /content/datasets/brain-tumor/train/images/79.jpg  \n",
            "  inflating: /content/datasets/brain-tumor/train/images/80 (2).jpg  \n",
            "  inflating: /content/datasets/brain-tumor/train/images/80 (3).jpg  \n",
            "  inflating: /content/datasets/brain-tumor/train/images/80 (4).jpg  \n",
            "  inflating: /content/datasets/brain-tumor/train/images/80 (5).jpg  \n",
            "  inflating: /content/datasets/brain-tumor/train/images/80 (6).jpg  \n",
            "  inflating: /content/datasets/brain-tumor/train/images/80 (7).jpg  \n",
            "  inflating: /content/datasets/brain-tumor/train/images/80.jpg  \n",
            "  inflating: /content/datasets/brain-tumor/train/images/81 (2).jpg  \n",
            "  inflating: /content/datasets/brain-tumor/train/images/81 (3).jpg  \n",
            "  inflating: /content/datasets/brain-tumor/train/images/81 (4).jpg  \n",
            "  inflating: /content/datasets/brain-tumor/train/images/81 (5).jpg  \n",
            "  inflating: /content/datasets/brain-tumor/train/images/81 (6).jpg  \n",
            "  inflating: /content/datasets/brain-tumor/train/images/81.jpg  \n",
            "  inflating: /content/datasets/brain-tumor/train/images/82 (2).jpg  \n",
            "  inflating: /content/datasets/brain-tumor/train/images/82 (3).jpg  \n",
            "  inflating: /content/datasets/brain-tumor/train/images/82 (4).jpg  \n",
            "  inflating: /content/datasets/brain-tumor/train/images/82 (5).jpg  \n",
            "  inflating: /content/datasets/brain-tumor/train/images/82.jpg  \n",
            "  inflating: /content/datasets/brain-tumor/train/images/83 (2).jpg  \n",
            "  inflating: /content/datasets/brain-tumor/train/images/83 (3).jpg  \n",
            "  inflating: /content/datasets/brain-tumor/train/images/83 (4).jpg  \n",
            "  inflating: /content/datasets/brain-tumor/train/images/83 (5).jpg  \n",
            "  inflating: /content/datasets/brain-tumor/train/images/83.jpg  \n",
            "  inflating: /content/datasets/brain-tumor/train/images/84 (2).jpg  \n",
            "  inflating: /content/datasets/brain-tumor/train/images/84 (3).jpg  \n",
            "  inflating: /content/datasets/brain-tumor/train/images/84 (4).jpg  \n",
            "  inflating: /content/datasets/brain-tumor/train/images/84.jpg  \n",
            "  inflating: /content/datasets/brain-tumor/train/images/85 (2).jpg  \n",
            "  inflating: /content/datasets/brain-tumor/train/images/85 (3).jpg  \n",
            "  inflating: /content/datasets/brain-tumor/train/images/85 (4).jpg  \n",
            "  inflating: /content/datasets/brain-tumor/train/images/85 (5).jpg  \n",
            "  inflating: /content/datasets/brain-tumor/train/images/85 (6).jpg  \n",
            "  inflating: /content/datasets/brain-tumor/train/images/85.jpg  \n",
            "  inflating: /content/datasets/brain-tumor/train/images/86 (2).jpg  \n",
            "  inflating: /content/datasets/brain-tumor/train/images/86.jpg  \n",
            "  inflating: /content/datasets/brain-tumor/train/images/87 (2).jpg  \n",
            "  inflating: /content/datasets/brain-tumor/train/images/87 (3).jpg  \n",
            "  inflating: /content/datasets/brain-tumor/train/images/87 (4).jpg  \n",
            "  inflating: /content/datasets/brain-tumor/train/images/87 (5).jpg  \n",
            "  inflating: /content/datasets/brain-tumor/train/images/87.jpg  \n",
            "  inflating: /content/datasets/brain-tumor/train/images/88 (2).jpg  \n",
            "  inflating: /content/datasets/brain-tumor/train/images/88 (3).jpg  \n",
            "  inflating: /content/datasets/brain-tumor/train/images/88 (4).jpg  \n",
            "  inflating: /content/datasets/brain-tumor/train/images/88 (5).jpg  \n",
            "  inflating: /content/datasets/brain-tumor/train/images/88.jpg  \n",
            "  inflating: /content/datasets/brain-tumor/train/images/89 (2).jpg  \n",
            "  inflating: /content/datasets/brain-tumor/train/images/89 (3).jpg  \n",
            "  inflating: /content/datasets/brain-tumor/train/images/89 (4).jpg  \n",
            "  inflating: /content/datasets/brain-tumor/train/images/89 (5).jpg  \n",
            "  inflating: /content/datasets/brain-tumor/train/images/89.jpg  \n",
            "  inflating: /content/datasets/brain-tumor/train/images/90 (2).jpg  \n",
            "  inflating: /content/datasets/brain-tumor/train/images/90 (3).jpg  \n",
            "  inflating: /content/datasets/brain-tumor/train/images/90.jpg  \n",
            "  inflating: /content/datasets/brain-tumor/train/images/91 (2).jpg  \n",
            "  inflating: /content/datasets/brain-tumor/train/images/91 (3).jpg  \n",
            "  inflating: /content/datasets/brain-tumor/train/images/91 (4).jpg  \n",
            "  inflating: /content/datasets/brain-tumor/train/images/91 (5).jpg  \n",
            "  inflating: /content/datasets/brain-tumor/train/images/91 (6).jpg  \n",
            "  inflating: /content/datasets/brain-tumor/train/images/91.jpg  \n",
            "  inflating: /content/datasets/brain-tumor/train/images/92 (2).jpg  \n",
            "  inflating: /content/datasets/brain-tumor/train/images/92 (3).jpg  \n",
            "  inflating: /content/datasets/brain-tumor/train/images/92 (4).jpg  \n",
            "  inflating: /content/datasets/brain-tumor/train/images/92 (5).jpg  \n",
            "  inflating: /content/datasets/brain-tumor/train/images/92 (6).jpg  \n",
            "  inflating: /content/datasets/brain-tumor/train/images/92.jpg  \n",
            "  inflating: /content/datasets/brain-tumor/train/images/93 (2).jpg  \n",
            "  inflating: /content/datasets/brain-tumor/train/images/93 (3).jpg  \n",
            "  inflating: /content/datasets/brain-tumor/train/images/93 (4).jpg  \n",
            "  inflating: /content/datasets/brain-tumor/train/images/93 (5).jpg  \n",
            "  inflating: /content/datasets/brain-tumor/train/images/93 (6).jpg  \n",
            "  inflating: /content/datasets/brain-tumor/train/images/93.jpg  \n",
            "  inflating: /content/datasets/brain-tumor/train/images/94 (2).jpg  \n",
            "  inflating: /content/datasets/brain-tumor/train/images/94 (3).jpg  \n",
            "  inflating: /content/datasets/brain-tumor/train/images/94 (4).jpg  \n",
            "  inflating: /content/datasets/brain-tumor/train/images/94 (5).jpg  \n",
            "  inflating: /content/datasets/brain-tumor/train/images/94 (6).jpg  \n",
            "  inflating: /content/datasets/brain-tumor/train/images/94.jpg  \n",
            "  inflating: /content/datasets/brain-tumor/train/images/95 (2).jpg  \n",
            "  inflating: /content/datasets/brain-tumor/train/images/95 (3).jpg  \n",
            "  inflating: /content/datasets/brain-tumor/train/images/95 (4).jpg  \n",
            "  inflating: /content/datasets/brain-tumor/train/images/95.jpg  \n",
            "  inflating: /content/datasets/brain-tumor/train/images/96 (2).jpg  \n",
            "  inflating: /content/datasets/brain-tumor/train/images/96 (3).jpg  \n",
            "  inflating: /content/datasets/brain-tumor/train/images/96 (4).jpg  \n",
            "  inflating: /content/datasets/brain-tumor/train/images/96 (5).jpg  \n",
            "  inflating: /content/datasets/brain-tumor/train/images/96.jpg  \n",
            "  inflating: /content/datasets/brain-tumor/train/images/97 (2).jpg  \n",
            "  inflating: /content/datasets/brain-tumor/train/images/97 (3).jpg  \n",
            "  inflating: /content/datasets/brain-tumor/train/images/97.jpg  \n",
            "  inflating: /content/datasets/brain-tumor/train/images/98 (2).jpg  \n",
            "  inflating: /content/datasets/brain-tumor/train/images/98 (3).jpg  \n",
            "  inflating: /content/datasets/brain-tumor/train/images/98 (4).jpg  \n",
            "  inflating: /content/datasets/brain-tumor/train/images/98.jpg  \n",
            "  inflating: /content/datasets/brain-tumor/train/images/99 (2).jpg  \n",
            "  inflating: /content/datasets/brain-tumor/train/images/99 (3).jpg  \n",
            "  inflating: /content/datasets/brain-tumor/train/images/99 (4).jpg  \n",
            "  inflating: /content/datasets/brain-tumor/train/images/99.jpg  \n",
            "  inflating: /content/datasets/brain-tumor/train/labels/00054_145.txt  \n",
            "  inflating: /content/datasets/brain-tumor/train/labels/00054_164.txt  \n",
            "  inflating: /content/datasets/brain-tumor/train/labels/00056_110.txt  \n",
            "  inflating: /content/datasets/brain-tumor/train/labels/00056_129.txt  \n",
            "  inflating: /content/datasets/brain-tumor/train/labels/00056_147.txt  \n",
            "  inflating: /content/datasets/brain-tumor/train/labels/00056_239.txt  \n",
            "  inflating: /content/datasets/brain-tumor/train/labels/00056_92.txt  \n",
            "  inflating: /content/datasets/brain-tumor/train/labels/00058_102.txt  \n",
            "  inflating: /content/datasets/brain-tumor/train/labels/00058_122.txt  \n",
            "  inflating: /content/datasets/brain-tumor/train/labels/00058_141.txt  \n",
            "  inflating: /content/datasets/brain-tumor/train/labels/00058_179.txt  \n",
            "  inflating: /content/datasets/brain-tumor/train/labels/00059_103.txt  \n",
            "  inflating: /content/datasets/brain-tumor/train/labels/00059_122.txt  \n",
            "  inflating: /content/datasets/brain-tumor/train/labels/00059_141.txt  \n",
            "  inflating: /content/datasets/brain-tumor/train/labels/00059_84.txt  \n",
            "  inflating: /content/datasets/brain-tumor/train/labels/00060_69.txt  \n",
            "  inflating: /content/datasets/brain-tumor/train/labels/00060_70.txt  \n",
            "  inflating: /content/datasets/brain-tumor/train/labels/00060_71.txt  \n",
            "  inflating: /content/datasets/brain-tumor/train/labels/00060_72.txt  \n",
            "  inflating: /content/datasets/brain-tumor/train/labels/00061_108.txt  \n",
            "  inflating: /content/datasets/brain-tumor/train/labels/00061_127.txt  \n",
            "  inflating: /content/datasets/brain-tumor/train/labels/00061_146.txt  \n",
            "  inflating: /content/datasets/brain-tumor/train/labels/00061_184.txt  \n",
            "  inflating: /content/datasets/brain-tumor/train/labels/00063_197.txt  \n",
            "  inflating: /content/datasets/brain-tumor/train/labels/00063_217.txt  \n",
            "  inflating: /content/datasets/brain-tumor/train/labels/00064_101.txt  \n",
            "  inflating: /content/datasets/brain-tumor/train/labels/00064_121.txt  \n",
            "  inflating: /content/datasets/brain-tumor/train/labels/00064_140.txt  \n",
            "  inflating: /content/datasets/brain-tumor/train/labels/00066_145.txt  \n",
            "  inflating: /content/datasets/brain-tumor/train/labels/00066_221.txt  \n",
            "  inflating: /content/datasets/brain-tumor/train/labels/00066_240.txt  \n",
            "  inflating: /content/datasets/brain-tumor/train/labels/00066_259.txt  \n",
            "  inflating: /content/datasets/brain-tumor/train/labels/00066_278.txt  \n",
            "  inflating: /content/datasets/brain-tumor/train/labels/00071_183.txt  \n",
            "  inflating: /content/datasets/brain-tumor/train/labels/00071_221.txt  \n",
            "  inflating: /content/datasets/brain-tumor/train/labels/00071_240.txt  \n",
            "  inflating: /content/datasets/brain-tumor/train/labels/00071_259.txt  \n",
            "  inflating: /content/datasets/brain-tumor/train/labels/00071_278.txt  \n",
            "  inflating: /content/datasets/brain-tumor/train/labels/00072_119.txt  \n",
            "  inflating: /content/datasets/brain-tumor/train/labels/00072_138.txt  \n",
            "  inflating: /content/datasets/brain-tumor/train/labels/00072_196.txt  \n",
            "  inflating: /content/datasets/brain-tumor/train/labels/00072_80.txt  \n",
            "  inflating: /content/datasets/brain-tumor/train/labels/00072_99.txt  \n",
            "  inflating: /content/datasets/brain-tumor/train/labels/00074_209.txt  \n",
            "  inflating: /content/datasets/brain-tumor/train/labels/00074_229.txt  \n",
            "  inflating: /content/datasets/brain-tumor/train/labels/00074_249.txt  \n",
            "  inflating: /content/datasets/brain-tumor/train/labels/00074_269.txt  \n",
            "  inflating: /content/datasets/brain-tumor/train/labels/00074_289.txt  \n",
            "  inflating: /content/datasets/brain-tumor/train/labels/00077_166.txt  \n",
            "  inflating: /content/datasets/brain-tumor/train/labels/00077_186.txt  \n",
            "  inflating: /content/datasets/brain-tumor/train/labels/00077_206.txt  \n",
            "  inflating: /content/datasets/brain-tumor/train/labels/00077_226.txt  \n",
            "  inflating: /content/datasets/brain-tumor/train/labels/00077_246.txt  \n",
            "  inflating: /content/datasets/brain-tumor/train/labels/00078_219.txt  \n",
            "  inflating: /content/datasets/brain-tumor/train/labels/00078_239.txt  \n",
            "  inflating: /content/datasets/brain-tumor/train/labels/00078_258.txt  \n",
            "  inflating: /content/datasets/brain-tumor/train/labels/00078_278.txt  \n",
            "  inflating: /content/datasets/brain-tumor/train/labels/00085_156.txt  \n",
            "  inflating: /content/datasets/brain-tumor/train/labels/00087_130.txt  \n",
            "  inflating: /content/datasets/brain-tumor/train/labels/00087_149.txt  \n",
            "  inflating: /content/datasets/brain-tumor/train/labels/00087_185.txt  \n",
            "  inflating: /content/datasets/brain-tumor/train/labels/00090_112.txt  \n",
            "  inflating: /content/datasets/brain-tumor/train/labels/00090_130.txt  \n",
            "  inflating: /content/datasets/brain-tumor/train/labels/00090_204.txt  \n",
            "  inflating: /content/datasets/brain-tumor/train/labels/00095_161.txt  \n",
            "  inflating: /content/datasets/brain-tumor/train/labels/00095_170.txt  \n",
            "  inflating: /content/datasets/brain-tumor/train/labels/00095_176.txt  \n",
            "  inflating: /content/datasets/brain-tumor/train/labels/00095_181.txt  \n",
            "  inflating: /content/datasets/brain-tumor/train/labels/00095_188.txt  \n",
            "  inflating: /content/datasets/brain-tumor/train/labels/00095_200.txt  \n",
            "  inflating: /content/datasets/brain-tumor/train/labels/00095_201.txt  \n",
            "  inflating: /content/datasets/brain-tumor/train/labels/00095_212.txt  \n",
            "  inflating: /content/datasets/brain-tumor/train/labels/00095_222.txt  \n",
            "  inflating: /content/datasets/brain-tumor/train/labels/00095_224.txt  \n",
            "  inflating: /content/datasets/brain-tumor/train/labels/00095_226.txt  \n",
            "  inflating: /content/datasets/brain-tumor/train/labels/00095_236.txt  \n",
            "  inflating: /content/datasets/brain-tumor/train/labels/00095_243.txt  \n",
            "  inflating: /content/datasets/brain-tumor/train/labels/00095_263.txt  \n",
            "  inflating: /content/datasets/brain-tumor/train/labels/00096_240.txt  \n",
            "  inflating: /content/datasets/brain-tumor/train/labels/00096_260.txt  \n",
            "  inflating: /content/datasets/brain-tumor/train/labels/00096_280.txt  \n",
            "  inflating: /content/datasets/brain-tumor/train/labels/00097_106.txt  \n",
            "  inflating: /content/datasets/brain-tumor/train/labels/00097_124.txt  \n",
            "  inflating: /content/datasets/brain-tumor/train/labels/00097_162.txt  \n",
            "  inflating: /content/datasets/brain-tumor/train/labels/00097_254.txt  \n",
            "  inflating: /content/datasets/brain-tumor/train/labels/00097_65.txt  \n",
            "  inflating: /content/datasets/brain-tumor/train/labels/00097_68.txt  \n",
            "  inflating: /content/datasets/brain-tumor/train/labels/00097_70.txt  \n",
            "  inflating: /content/datasets/brain-tumor/train/labels/00097_72.txt  \n",
            "  inflating: /content/datasets/brain-tumor/train/labels/00097_74.txt  \n",
            "  inflating: /content/datasets/brain-tumor/train/labels/00097_76.txt  \n",
            "  inflating: /content/datasets/brain-tumor/train/labels/00097_77.txt  \n",
            "  inflating: /content/datasets/brain-tumor/train/labels/00097_79.txt  \n",
            "  inflating: /content/datasets/brain-tumor/train/labels/00097_80.txt  \n",
            "  inflating: /content/datasets/brain-tumor/train/labels/00097_81.txt  \n",
            "  inflating: /content/datasets/brain-tumor/train/labels/00097_83.txt  \n",
            "  inflating: /content/datasets/brain-tumor/train/labels/00097_87.txt  \n",
            "  inflating: /content/datasets/brain-tumor/train/labels/00098_247.txt  \n",
            "  inflating: /content/datasets/brain-tumor/train/labels/00098_266.txt  \n",
            "  inflating: /content/datasets/brain-tumor/train/labels/00099_129.txt  \n",
            "  inflating: /content/datasets/brain-tumor/train/labels/00099_130.txt  \n",
            "  inflating: /content/datasets/brain-tumor/train/labels/00099_137.txt  \n",
            "  inflating: /content/datasets/brain-tumor/train/labels/00099_139.txt  \n",
            "  inflating: /content/datasets/brain-tumor/train/labels/00099_145.txt  \n",
            "  inflating: /content/datasets/brain-tumor/train/labels/00099_149.txt  \n",
            "  inflating: /content/datasets/brain-tumor/train/labels/00099_154.txt  \n",
            "  inflating: /content/datasets/brain-tumor/train/labels/00100_102.txt  \n",
            "  inflating: /content/datasets/brain-tumor/train/labels/00100_119.txt  \n",
            "  inflating: /content/datasets/brain-tumor/train/labels/00100_136.txt  \n",
            "  inflating: /content/datasets/brain-tumor/train/labels/00100_153.txt  \n",
            "  inflating: /content/datasets/brain-tumor/train/labels/00100_170.txt  \n",
            "  inflating: /content/datasets/brain-tumor/train/labels/00104_132.txt  \n",
            "  inflating: /content/datasets/brain-tumor/train/labels/00104_14.txt  \n",
            "  inflating: /content/datasets/brain-tumor/train/labels/00104_15.txt  \n",
            "  inflating: /content/datasets/brain-tumor/train/labels/00104_150.txt  \n",
            "  inflating: /content/datasets/brain-tumor/train/labels/00104_16.txt  \n",
            "  inflating: /content/datasets/brain-tumor/train/labels/00104_168.txt  \n",
            "  inflating: /content/datasets/brain-tumor/train/labels/00104_17.txt  \n",
            "  inflating: /content/datasets/brain-tumor/train/labels/00104_18.txt  \n",
            "  inflating: /content/datasets/brain-tumor/train/labels/00104_185.txt  \n",
            "  inflating: /content/datasets/brain-tumor/train/labels/00104_19.txt  \n",
            "  inflating: /content/datasets/brain-tumor/train/labels/00105_113.txt  \n",
            "  inflating: /content/datasets/brain-tumor/train/labels/00105_132.txt  \n",
            "  inflating: /content/datasets/brain-tumor/train/labels/00105_151.txt  \n",
            "  inflating: /content/datasets/brain-tumor/train/labels/00105_94.txt  \n",
            "  inflating: /content/datasets/brain-tumor/train/labels/00106_195.txt  \n",
            "  inflating: /content/datasets/brain-tumor/train/labels/00106_253.txt  \n",
            "  inflating: /content/datasets/brain-tumor/train/labels/00107_101.txt  \n",
            "  inflating: /content/datasets/brain-tumor/train/labels/00107_118.txt  \n",
            "  inflating: /content/datasets/brain-tumor/train/labels/00108_102.txt  \n",
            "  inflating: /content/datasets/brain-tumor/train/labels/00109_104.txt  \n",
            "  inflating: /content/datasets/brain-tumor/train/labels/00109_85.txt  \n",
            "  inflating: /content/datasets/brain-tumor/train/labels/00110_131.txt  \n",
            "  inflating: /content/datasets/brain-tumor/train/labels/00110_147.txt  \n",
            "  inflating: /content/datasets/brain-tumor/train/labels/00110_162.txt  \n",
            "  inflating: /content/datasets/brain-tumor/train/labels/00110_178.txt  \n",
            "  inflating: /content/datasets/brain-tumor/train/labels/00111_110.txt  \n",
            "  inflating: /content/datasets/brain-tumor/train/labels/00111_98.txt  \n",
            "  inflating: /content/datasets/brain-tumor/train/labels/00112_10.txt  \n",
            "  inflating: /content/datasets/brain-tumor/train/labels/00112_11.txt  \n",
            "  inflating: /content/datasets/brain-tumor/train/labels/00112_12.txt  \n",
            "  inflating: /content/datasets/brain-tumor/train/labels/00116_11.txt  \n",
            "  inflating: /content/datasets/brain-tumor/train/labels/00116_12.txt  \n",
            "  inflating: /content/datasets/brain-tumor/train/labels/00116_13.txt  \n",
            "  inflating: /content/datasets/brain-tumor/train/labels/00116_14.txt  \n",
            "  inflating: /content/datasets/brain-tumor/train/labels/00116_15.txt  \n",
            "  inflating: /content/datasets/brain-tumor/train/labels/00116_16.txt  \n",
            "  inflating: /content/datasets/brain-tumor/train/labels/00116_231.txt  \n",
            "  inflating: /content/datasets/brain-tumor/train/labels/00116_8.txt  \n",
            "  inflating: /content/datasets/brain-tumor/train/labels/00116_9.txt  \n",
            "  inflating: /content/datasets/brain-tumor/train/labels/00117_200.txt  \n",
            "  inflating: /content/datasets/brain-tumor/train/labels/00120_215.txt  \n",
            "  inflating: /content/datasets/brain-tumor/train/labels/00120_230.txt  \n",
            "  inflating: /content/datasets/brain-tumor/train/labels/00120_245.txt  \n",
            "  inflating: /content/datasets/brain-tumor/train/labels/00120_260.txt  \n",
            "  inflating: /content/datasets/brain-tumor/train/labels/00121_139.txt  \n",
            "  inflating: /content/datasets/brain-tumor/train/labels/00121_157.txt  \n",
            "  inflating: /content/datasets/brain-tumor/train/labels/00121_175.txt  \n",
            "  inflating: /content/datasets/brain-tumor/train/labels/00122_10.txt  \n",
            "  inflating: /content/datasets/brain-tumor/train/labels/00122_108.txt  \n",
            "  inflating: /content/datasets/brain-tumor/train/labels/00122_11.txt  \n",
            "  inflating: /content/datasets/brain-tumor/train/labels/00122_8.txt  \n",
            "  inflating: /content/datasets/brain-tumor/train/labels/00122_9.txt  \n",
            "  inflating: /content/datasets/brain-tumor/train/labels/00122_90.txt  \n",
            "  inflating: /content/datasets/brain-tumor/train/labels/00123_10.txt  \n",
            "  inflating: /content/datasets/brain-tumor/train/labels/00123_11.txt  \n",
            "  inflating: /content/datasets/brain-tumor/train/labels/00123_12.txt  \n",
            "  inflating: /content/datasets/brain-tumor/train/labels/00123_13.txt  \n",
            "  inflating: /content/datasets/brain-tumor/train/labels/00123_14.txt  \n",
            "  inflating: /content/datasets/brain-tumor/train/labels/00123_15.txt  \n",
            "  inflating: /content/datasets/brain-tumor/train/labels/00123_16.txt  \n",
            "  inflating: /content/datasets/brain-tumor/train/labels/00123_223.txt  \n",
            "  inflating: /content/datasets/brain-tumor/train/labels/00123_241.txt  \n",
            "  inflating: /content/datasets/brain-tumor/train/labels/00123_259.txt  \n",
            "  inflating: /content/datasets/brain-tumor/train/labels/00123_277.txt  \n",
            "  inflating: /content/datasets/brain-tumor/train/labels/00124_10.txt  \n",
            "  inflating: /content/datasets/brain-tumor/train/labels/00124_11.txt  \n",
            "  inflating: /content/datasets/brain-tumor/train/labels/00124_114.txt  \n",
            "  inflating: /content/datasets/brain-tumor/train/labels/00124_12.txt  \n",
            "  inflating: /content/datasets/brain-tumor/train/labels/00124_132.txt  \n",
            "  inflating: /content/datasets/brain-tumor/train/labels/00124_150.txt  \n",
            "  inflating: /content/datasets/brain-tumor/train/labels/00124_168.txt  \n",
            "  inflating: /content/datasets/brain-tumor/train/labels/00124_6.txt  \n",
            "  inflating: /content/datasets/brain-tumor/train/labels/00124_7.txt  \n",
            "  inflating: /content/datasets/brain-tumor/train/labels/00124_8.txt  \n",
            "  inflating: /content/datasets/brain-tumor/train/labels/00124_9.txt  \n",
            "  inflating: /content/datasets/brain-tumor/train/labels/00124_96.txt  \n",
            "  inflating: /content/datasets/brain-tumor/train/labels/00128_243.txt  \n",
            "  inflating: /content/datasets/brain-tumor/train/labels/00128_260.txt  \n",
            "  inflating: /content/datasets/brain-tumor/train/labels/00128_277.txt  \n",
            "  inflating: /content/datasets/brain-tumor/train/labels/00130_100.txt  \n",
            "  inflating: /content/datasets/brain-tumor/train/labels/00130_107.txt  \n",
            "  inflating: /content/datasets/brain-tumor/train/labels/00130_112.txt  \n",
            "  inflating: /content/datasets/brain-tumor/train/labels/00130_114.txt  \n",
            "  inflating: /content/datasets/brain-tumor/train/labels/00130_119.txt  \n",
            "  inflating: /content/datasets/brain-tumor/train/labels/00130_239.txt  \n",
            "  inflating: /content/datasets/brain-tumor/train/labels/00130_256.txt  \n",
            "  inflating: /content/datasets/brain-tumor/train/labels/00130_273.txt  \n",
            "  inflating: /content/datasets/brain-tumor/train/labels/00130_78.txt  \n",
            "  inflating: /content/datasets/brain-tumor/train/labels/00130_81.txt  \n",
            "  inflating: /content/datasets/brain-tumor/train/labels/00130_88.txt  \n",
            "  inflating: /content/datasets/brain-tumor/train/labels/00130_94.txt  \n",
            "  inflating: /content/datasets/brain-tumor/train/labels/00132_112.txt  \n",
            "  inflating: /content/datasets/brain-tumor/train/labels/00132_130.txt  \n",
            "  inflating: /content/datasets/brain-tumor/train/labels/00132_147.txt  \n",
            "  inflating: /content/datasets/brain-tumor/train/labels/00132_164.txt  \n",
            "  inflating: /content/datasets/brain-tumor/train/labels/00132_95.txt  \n",
            "  inflating: /content/datasets/brain-tumor/train/labels/00133_228.txt  \n",
            "  inflating: /content/datasets/brain-tumor/train/labels/00133_247.txt  \n",
            "  inflating: /content/datasets/brain-tumor/train/labels/00133_266.txt  \n",
            "  inflating: /content/datasets/brain-tumor/train/labels/00136_103.txt  \n",
            "  inflating: /content/datasets/brain-tumor/train/labels/00136_121.txt  \n",
            "  inflating: /content/datasets/brain-tumor/train/labels/00136_138.txt  \n",
            "  inflating: /content/datasets/brain-tumor/train/labels/00137_249.txt  \n",
            "  inflating: /content/datasets/brain-tumor/train/labels/00137_264.txt  \n",
            "  inflating: /content/datasets/brain-tumor/train/labels/00138_217.txt  \n",
            "  inflating: /content/datasets/brain-tumor/train/labels/00138_235.txt  \n",
            "  inflating: /content/datasets/brain-tumor/train/labels/00138_271.txt  \n",
            "  inflating: /content/datasets/brain-tumor/train/labels/00138_289.txt  \n",
            "  inflating: /content/datasets/brain-tumor/train/labels/00142_107.txt  \n",
            "  inflating: /content/datasets/brain-tumor/train/labels/00142_126.txt  \n",
            "  inflating: /content/datasets/brain-tumor/train/labels/00142_144.txt  \n",
            "  inflating: /content/datasets/brain-tumor/train/labels/00142_163.txt  \n",
            "  inflating: /content/datasets/brain-tumor/train/labels/00142_89.txt  \n",
            "  inflating: /content/datasets/brain-tumor/train/labels/00143_236.txt  \n",
            "  inflating: /content/datasets/brain-tumor/train/labels/00143_254.txt  \n",
            "  inflating: /content/datasets/brain-tumor/train/labels/00143_272.txt  \n",
            "  inflating: /content/datasets/brain-tumor/train/labels/00144_243.txt  \n",
            "  inflating: /content/datasets/brain-tumor/train/labels/00144_260.txt  \n",
            "  inflating: /content/datasets/brain-tumor/train/labels/00144_278.txt  \n",
            "  inflating: /content/datasets/brain-tumor/train/labels/00146_142.txt  \n",
            "  inflating: /content/datasets/brain-tumor/train/labels/00146_160.txt  \n",
            "  inflating: /content/datasets/brain-tumor/train/labels/00146_195.txt  \n",
            "  inflating: /content/datasets/brain-tumor/train/labels/00147_115.txt  \n",
            "  inflating: /content/datasets/brain-tumor/train/labels/00147_134.txt  \n",
            "  inflating: /content/datasets/brain-tumor/train/labels/00147_152.txt  \n",
            "  inflating: /content/datasets/brain-tumor/train/labels/00147_170.txt  \n",
            "  inflating: /content/datasets/brain-tumor/train/labels/00148_19.txt  \n",
            "  inflating: /content/datasets/brain-tumor/train/labels/00148_20.txt  \n",
            "  inflating: /content/datasets/brain-tumor/train/labels/00148_22.txt  \n",
            "  inflating: /content/datasets/brain-tumor/train/labels/00148_24.txt  \n",
            "  inflating: /content/datasets/brain-tumor/train/labels/00150_10.txt  \n",
            "  inflating: /content/datasets/brain-tumor/train/labels/00150_11.txt  \n",
            "  inflating: /content/datasets/brain-tumor/train/labels/00150_12.txt  \n",
            "  inflating: /content/datasets/brain-tumor/train/labels/00150_235.txt  \n",
            "  inflating: /content/datasets/brain-tumor/train/labels/00150_252.txt  \n",
            "  inflating: /content/datasets/brain-tumor/train/labels/00150_8.txt  \n",
            "  inflating: /content/datasets/brain-tumor/train/labels/00150_9.txt  \n",
            "  inflating: /content/datasets/brain-tumor/train/labels/00151_10.txt  \n",
            "  inflating: /content/datasets/brain-tumor/train/labels/00151_12.txt  \n",
            "  inflating: /content/datasets/brain-tumor/train/labels/00151_128.txt  \n",
            "  inflating: /content/datasets/brain-tumor/train/labels/00151_13.txt  \n",
            "  inflating: /content/datasets/brain-tumor/train/labels/00151_14.txt  \n",
            "  inflating: /content/datasets/brain-tumor/train/labels/00151_145.txt  \n",
            "  inflating: /content/datasets/brain-tumor/train/labels/00151_15.txt  \n",
            "  inflating: /content/datasets/brain-tumor/train/labels/00151_162.txt  \n",
            "  inflating: /content/datasets/brain-tumor/train/labels/00151_17.txt  \n",
            "  inflating: /content/datasets/brain-tumor/train/labels/00151_195.txt  \n",
            "  inflating: /content/datasets/brain-tumor/train/labels/00151_211.txt  \n",
            "  inflating: /content/datasets/brain-tumor/train/labels/00154_210.txt  \n",
            "  inflating: /content/datasets/brain-tumor/train/labels/00154_229.txt  \n",
            "  inflating: /content/datasets/brain-tumor/train/labels/00154_248.txt  \n",
            "  inflating: /content/datasets/brain-tumor/train/labels/00154_267.txt  \n",
            "  inflating: /content/datasets/brain-tumor/train/labels/00156_116.txt  \n",
            "  inflating: /content/datasets/brain-tumor/train/labels/00156_132.txt  \n",
            "  inflating: /content/datasets/brain-tumor/train/labels/00156_148.txt  \n",
            "  inflating: /content/datasets/brain-tumor/train/labels/00156_164.txt  \n",
            "  inflating: /content/datasets/brain-tumor/train/labels/00156_180.txt  \n",
            "  inflating: /content/datasets/brain-tumor/train/labels/00156_196.txt  \n",
            "  inflating: /content/datasets/brain-tumor/train/labels/00157_115.txt  \n",
            "  inflating: /content/datasets/brain-tumor/train/labels/00158_102.txt  \n",
            "  inflating: /content/datasets/brain-tumor/train/labels/00158_108.txt  \n",
            "  inflating: /content/datasets/brain-tumor/train/labels/00158_114.txt  \n",
            "  inflating: /content/datasets/brain-tumor/train/labels/00158_115.txt  \n",
            "  inflating: /content/datasets/brain-tumor/train/labels/00158_239.txt  \n",
            "  inflating: /content/datasets/brain-tumor/train/labels/00158_256.txt  \n",
            "  inflating: /content/datasets/brain-tumor/train/labels/00158_272.txt  \n",
            "  inflating: /content/datasets/brain-tumor/train/labels/00158_289.txt  \n",
            "  inflating: /content/datasets/brain-tumor/train/labels/00158_86.txt  \n",
            "  inflating: /content/datasets/brain-tumor/train/labels/00158_90.txt  \n",
            "  inflating: /content/datasets/brain-tumor/train/labels/00158_96.txt  \n",
            "  inflating: /content/datasets/brain-tumor/train/labels/00159_133.txt  \n",
            "  inflating: /content/datasets/brain-tumor/train/labels/00159_152.txt  \n",
            "  inflating: /content/datasets/brain-tumor/train/labels/00159_171.txt  \n",
            "  inflating: /content/datasets/brain-tumor/train/labels/00159_189.txt  \n",
            "  inflating: /content/datasets/brain-tumor/train/labels/00159_207.txt  \n",
            "  inflating: /content/datasets/brain-tumor/train/labels/00160_270.txt  \n",
            "  inflating: /content/datasets/brain-tumor/train/labels/00162_122.txt  \n",
            "  inflating: /content/datasets/brain-tumor/train/labels/00165_110.txt  \n",
            "  inflating: /content/datasets/brain-tumor/train/labels/00165_111.txt  \n",
            "  inflating: /content/datasets/brain-tumor/train/labels/00165_116.txt  \n",
            "  inflating: /content/datasets/brain-tumor/train/labels/00165_118.txt  \n",
            "  inflating: /content/datasets/brain-tumor/train/labels/00165_122.txt  \n",
            "  inflating: /content/datasets/brain-tumor/train/labels/00165_123.txt  \n",
            "  inflating: /content/datasets/brain-tumor/train/labels/00165_125.txt  \n",
            "  inflating: /content/datasets/brain-tumor/train/labels/00165_129.txt  \n",
            "  inflating: /content/datasets/brain-tumor/train/labels/00165_135.txt  \n",
            "  inflating: /content/datasets/brain-tumor/train/labels/00165_140.txt  \n",
            "  inflating: /content/datasets/brain-tumor/train/labels/00165_158.txt  \n",
            "  inflating: /content/datasets/brain-tumor/train/labels/00165_176.txt  \n",
            "  inflating: /content/datasets/brain-tumor/train/labels/00165_193.txt  \n",
            "  inflating: /content/datasets/brain-tumor/train/labels/00166_189.txt  \n",
            "  inflating: /content/datasets/brain-tumor/train/labels/00166_206.txt  \n",
            "  inflating: /content/datasets/brain-tumor/train/labels/00166_224.txt  \n",
            "  inflating: /content/datasets/brain-tumor/train/labels/00166_241.txt  \n",
            "  inflating: /content/datasets/brain-tumor/train/labels/00166_259.txt  \n",
            "  inflating: /content/datasets/brain-tumor/train/labels/00167_125.txt  \n",
            "  inflating: /content/datasets/brain-tumor/train/labels/00167_127.txt  \n",
            "  inflating: /content/datasets/brain-tumor/train/labels/00167_213.txt  \n",
            "  inflating: /content/datasets/brain-tumor/train/labels/00169_112.txt  \n",
            "  inflating: /content/datasets/brain-tumor/train/labels/00169_119.txt  \n",
            "  inflating: /content/datasets/brain-tumor/train/labels/00169_127.txt  \n",
            "  inflating: /content/datasets/brain-tumor/train/labels/00169_134.txt  \n",
            "  inflating: /content/datasets/brain-tumor/train/labels/00169_141.txt  \n",
            "  inflating: /content/datasets/brain-tumor/train/labels/00169_142.txt  \n",
            "  inflating: /content/datasets/brain-tumor/train/labels/00169_149.txt  \n",
            "  inflating: /content/datasets/brain-tumor/train/labels/00169_208.txt  \n",
            "  inflating: /content/datasets/brain-tumor/train/labels/00169_225.txt  \n",
            "  inflating: /content/datasets/brain-tumor/train/labels/00169_243.txt  \n",
            "  inflating: /content/datasets/brain-tumor/train/labels/00169_260.txt  \n",
            "  inflating: /content/datasets/brain-tumor/train/labels/00171_109.txt  \n",
            "  inflating: /content/datasets/brain-tumor/train/labels/00171_126.txt  \n",
            "  inflating: /content/datasets/brain-tumor/train/labels/00172_102.txt  \n",
            "  inflating: /content/datasets/brain-tumor/train/labels/00172_108.txt  \n",
            "  inflating: /content/datasets/brain-tumor/train/labels/00172_110.txt  \n",
            "  inflating: /content/datasets/brain-tumor/train/labels/00172_114.txt  \n",
            "  inflating: /content/datasets/brain-tumor/train/labels/00172_91.txt  \n",
            "  inflating: /content/datasets/brain-tumor/train/labels/00172_92.txt  \n",
            "  inflating: /content/datasets/brain-tumor/train/labels/00172_96.txt  \n",
            "  inflating: /content/datasets/brain-tumor/train/labels/00176_104.txt  \n",
            "  inflating: /content/datasets/brain-tumor/train/labels/00176_109.txt  \n",
            "  inflating: /content/datasets/brain-tumor/train/labels/00176_127.txt  \n",
            "  inflating: /content/datasets/brain-tumor/train/labels/00176_145.txt  \n",
            "  inflating: /content/datasets/brain-tumor/train/labels/00176_89.txt  \n",
            "  inflating: /content/datasets/brain-tumor/train/labels/00176_92.txt  \n",
            "  inflating: /content/datasets/brain-tumor/train/labels/00176_98.txt  \n",
            "  inflating: /content/datasets/brain-tumor/train/labels/00177_125.txt  \n",
            "  inflating: /content/datasets/brain-tumor/train/labels/00177_145.txt  \n",
            "  inflating: /content/datasets/brain-tumor/train/labels/00177_221.txt  \n",
            "  inflating: /content/datasets/brain-tumor/train/labels/00177_241.txt  \n",
            "  inflating: /content/datasets/brain-tumor/train/labels/00177_260.txt  \n",
            "  inflating: /content/datasets/brain-tumor/train/labels/00177_280.txt  \n",
            "  inflating: /content/datasets/brain-tumor/train/labels/00178_104.txt  \n",
            "  inflating: /content/datasets/brain-tumor/train/labels/00178_122.txt  \n",
            "  inflating: /content/datasets/brain-tumor/train/labels/00178_140.txt  \n",
            "  inflating: /content/datasets/brain-tumor/train/labels/00178_158.txt  \n",
            "  inflating: /content/datasets/brain-tumor/train/labels/00178_175.txt  \n",
            "  inflating: /content/datasets/brain-tumor/train/labels/00183_109.txt  \n",
            "  inflating: /content/datasets/brain-tumor/train/labels/00183_126.txt  \n",
            "  inflating: /content/datasets/brain-tumor/train/labels/00183_144.txt  \n",
            "  inflating: /content/datasets/brain-tumor/train/labels/00183_161.txt  \n",
            "  inflating: /content/datasets/brain-tumor/train/labels/00183_178.txt  \n",
            "  inflating: /content/datasets/brain-tumor/train/labels/00183_195.txt  \n",
            "  inflating: /content/datasets/brain-tumor/train/labels/00183_80.txt  \n",
            "  inflating: /content/datasets/brain-tumor/train/labels/00183_86.txt  \n",
            "  inflating: /content/datasets/brain-tumor/train/labels/00184_127.txt  \n",
            "  inflating: /content/datasets/brain-tumor/train/labels/00184_145.txt  \n",
            "  inflating: /content/datasets/brain-tumor/train/labels/00184_164.txt  \n",
            "  inflating: /content/datasets/brain-tumor/train/labels/00185_252.txt  \n",
            "  inflating: /content/datasets/brain-tumor/train/labels/00185_271.txt  \n",
            "  inflating: /content/datasets/brain-tumor/train/labels/00185_289.txt  \n",
            "  inflating: /content/datasets/brain-tumor/train/labels/00186_207.txt  \n",
            "  inflating: /content/datasets/brain-tumor/train/labels/00187_100.txt  \n",
            "  inflating: /content/datasets/brain-tumor/train/labels/00187_118.txt  \n",
            "  inflating: /content/datasets/brain-tumor/train/labels/00187_135.txt  \n",
            "  inflating: /content/datasets/brain-tumor/train/labels/00187_153.txt  \n",
            "  inflating: /content/datasets/brain-tumor/train/labels/00187_170.txt  \n",
            "  inflating: /content/datasets/brain-tumor/train/labels/00191_106.txt  \n",
            "  inflating: /content/datasets/brain-tumor/train/labels/00191_124.txt  \n",
            "  inflating: /content/datasets/brain-tumor/train/labels/00191_143.txt  \n",
            "  inflating: /content/datasets/brain-tumor/train/labels/00192_191.txt  \n",
            "  inflating: /content/datasets/brain-tumor/train/labels/00192_244.txt  \n",
            "  inflating: /content/datasets/brain-tumor/train/labels/00192_262.txt  \n",
            "  inflating: /content/datasets/brain-tumor/train/labels/00192_280.txt  \n",
            "  inflating: /content/datasets/brain-tumor/train/labels/00193_172.txt  \n",
            "  inflating: /content/datasets/brain-tumor/train/labels/00193_190.txt  \n",
            "  inflating: /content/datasets/brain-tumor/train/labels/00193_208.txt  \n",
            "  inflating: /content/datasets/brain-tumor/train/labels/00194_209.txt  \n",
            "  inflating: /content/datasets/brain-tumor/train/labels/00194_226.txt  \n",
            "  inflating: /content/datasets/brain-tumor/train/labels/00194_243.txt  \n",
            "  inflating: /content/datasets/brain-tumor/train/labels/00194_259.txt  \n",
            "  inflating: /content/datasets/brain-tumor/train/labels/00195_208.txt  \n",
            "  inflating: /content/datasets/brain-tumor/train/labels/00195_225.txt  \n",
            "  inflating: /content/datasets/brain-tumor/train/labels/00201_102.txt  \n",
            "  inflating: /content/datasets/brain-tumor/train/labels/00201_121.txt  \n",
            "  inflating: /content/datasets/brain-tumor/train/labels/00201_141.txt  \n",
            "  inflating: /content/datasets/brain-tumor/train/labels/00240_134.txt  \n",
            "  inflating: /content/datasets/brain-tumor/train/labels/00240_138.txt  \n",
            "  inflating: /content/datasets/brain-tumor/train/labels/00240_144.txt  \n",
            "  inflating: /content/datasets/brain-tumor/train/labels/00240_151.txt  \n",
            "  inflating: /content/datasets/brain-tumor/train/labels/00240_157.txt  \n",
            "  inflating: /content/datasets/brain-tumor/train/labels/00245_101.txt  \n",
            "  inflating: /content/datasets/brain-tumor/train/labels/00246_103.txt  \n",
            "  inflating: /content/datasets/brain-tumor/train/labels/00246_96.txt  \n",
            "  inflating: /content/datasets/brain-tumor/train/labels/00250_104.txt  \n",
            "  inflating: /content/datasets/brain-tumor/train/labels/00250_110.txt  \n",
            "  inflating: /content/datasets/brain-tumor/train/labels/00250_115.txt  \n",
            "  inflating: /content/datasets/brain-tumor/train/labels/00250_120.txt  \n",
            "  inflating: /content/datasets/brain-tumor/train/labels/00250_121.txt  \n",
            "  inflating: /content/datasets/brain-tumor/train/labels/00253_79.txt  \n",
            "  inflating: /content/datasets/brain-tumor/train/labels/00253_85.txt  \n",
            "  inflating: /content/datasets/brain-tumor/train/labels/00253_92.txt  \n",
            "  inflating: /content/datasets/brain-tumor/train/labels/00254_79.txt  \n",
            "  inflating: /content/datasets/brain-tumor/train/labels/00254_83.txt  \n",
            "  inflating: /content/datasets/brain-tumor/train/labels/00254_89.txt  \n",
            "  inflating: /content/datasets/brain-tumor/train/labels/00260_113.txt  \n",
            "  inflating: /content/datasets/brain-tumor/train/labels/00260_115.txt  \n",
            "  inflating: /content/datasets/brain-tumor/train/labels/00260_119.txt  \n",
            "  inflating: /content/datasets/brain-tumor/train/labels/00260_121.txt  \n",
            "  inflating: /content/datasets/brain-tumor/train/labels/00260_125.txt  \n",
            "  inflating: /content/datasets/brain-tumor/train/labels/00260_130.txt  \n",
            "  inflating: /content/datasets/brain-tumor/train/labels/00260_136.txt  \n",
            "  inflating: /content/datasets/brain-tumor/train/labels/00260_142.txt  \n",
            "  inflating: /content/datasets/brain-tumor/train/labels/00263_109.txt  \n",
            "  inflating: /content/datasets/brain-tumor/train/labels/00263_116.txt  \n",
            "  inflating: /content/datasets/brain-tumor/train/labels/00263_117.txt  \n",
            "  inflating: /content/datasets/brain-tumor/train/labels/00263_123.txt  \n",
            "  inflating: /content/datasets/brain-tumor/train/labels/00263_125.txt  \n",
            "  inflating: /content/datasets/brain-tumor/train/labels/00263_130.txt  \n",
            "  inflating: /content/datasets/brain-tumor/train/labels/00263_133.txt  \n",
            "  inflating: /content/datasets/brain-tumor/train/labels/00263_137.txt  \n",
            "  inflating: /content/datasets/brain-tumor/train/labels/00270_11.txt  \n",
            "  inflating: /content/datasets/brain-tumor/train/labels/00270_12.txt  \n",
            "  inflating: /content/datasets/brain-tumor/train/labels/00270_13.txt  \n",
            "  inflating: /content/datasets/brain-tumor/train/labels/00271_106.txt  \n",
            "  inflating: /content/datasets/brain-tumor/train/labels/00271_111.txt  \n",
            "  inflating: /content/datasets/brain-tumor/train/labels/00271_116.txt  \n",
            "  inflating: /content/datasets/brain-tumor/train/labels/00271_117.txt  \n",
            "  inflating: /content/datasets/brain-tumor/train/labels/00271_122.txt  \n",
            "  inflating: /content/datasets/brain-tumor/train/labels/00271_124.txt  \n",
            "  inflating: /content/datasets/brain-tumor/train/labels/00271_128.txt  \n",
            "  inflating: /content/datasets/brain-tumor/train/labels/00271_130.txt  \n",
            "  inflating: /content/datasets/brain-tumor/train/labels/00271_134.txt  \n",
            "  inflating: /content/datasets/brain-tumor/train/labels/00271_145.txt  \n",
            "  inflating: /content/datasets/brain-tumor/train/labels/00273_103.txt  \n",
            "  inflating: /content/datasets/brain-tumor/train/labels/00273_109.txt  \n",
            "  inflating: /content/datasets/brain-tumor/train/labels/00273_86.txt  \n",
            "  inflating: /content/datasets/brain-tumor/train/labels/00273_90.txt  \n",
            "  inflating: /content/datasets/brain-tumor/train/labels/00273_96.txt  \n",
            "  inflating: /content/datasets/brain-tumor/train/labels/00281_104.txt  \n",
            "  inflating: /content/datasets/brain-tumor/train/labels/00281_110.txt  \n",
            "  inflating: /content/datasets/brain-tumor/train/labels/00281_116.txt  \n",
            "  inflating: /content/datasets/brain-tumor/train/labels/00281_117.txt  \n",
            "  inflating: /content/datasets/brain-tumor/train/labels/00281_122.txt  \n",
            "  inflating: /content/datasets/brain-tumor/train/labels/00281_124.txt  \n",
            "  inflating: /content/datasets/brain-tumor/train/labels/00281_128.txt  \n",
            "  inflating: /content/datasets/brain-tumor/train/labels/00281_98.txt  \n",
            "  inflating: /content/datasets/brain-tumor/train/labels/00282_83.txt  \n",
            "  inflating: /content/datasets/brain-tumor/train/labels/00282_87.txt  \n",
            "  inflating: /content/datasets/brain-tumor/train/labels/00282_93.txt  \n",
            "  inflating: /content/datasets/brain-tumor/train/labels/00282_99.txt  \n",
            "  inflating: /content/datasets/brain-tumor/train/labels/00284_149.txt  \n",
            "  inflating: /content/datasets/brain-tumor/train/labels/00285_87.txt  \n",
            "  inflating: /content/datasets/brain-tumor/train/labels/00285_93.txt  \n",
            "  inflating: /content/datasets/brain-tumor/train/labels/00291_22.txt  \n",
            "  inflating: /content/datasets/brain-tumor/train/labels/00291_23.txt  \n",
            "  inflating: /content/datasets/brain-tumor/train/labels/00291_24.txt  \n",
            "  inflating: /content/datasets/brain-tumor/train/labels/00294_20.txt  \n",
            "  inflating: /content/datasets/brain-tumor/train/labels/00294_21.txt  \n",
            "  inflating: /content/datasets/brain-tumor/train/labels/00294_22.txt  \n",
            "  inflating: /content/datasets/brain-tumor/train/labels/00294_23.txt  \n",
            "  inflating: /content/datasets/brain-tumor/train/labels/00296_118.txt  \n",
            "  inflating: /content/datasets/brain-tumor/train/labels/00296_124.txt  \n",
            "  inflating: /content/datasets/brain-tumor/train/labels/00296_125.txt  \n",
            "  inflating: /content/datasets/brain-tumor/train/labels/00296_130.txt  \n",
            "  inflating: /content/datasets/brain-tumor/train/labels/00296_132.txt  \n",
            "  inflating: /content/datasets/brain-tumor/train/labels/00299_101.txt  \n",
            "  inflating: /content/datasets/brain-tumor/train/labels/00299_91.txt  \n",
            "  inflating: /content/datasets/brain-tumor/train/labels/00303_81.txt  \n",
            "  inflating: /content/datasets/brain-tumor/train/labels/00303_85.txt  \n",
            "  inflating: /content/datasets/brain-tumor/train/labels/00304_101.txt  \n",
            "  inflating: /content/datasets/brain-tumor/train/labels/00304_107.txt  \n",
            "  inflating: /content/datasets/brain-tumor/train/labels/00304_113.txt  \n",
            "  inflating: /content/datasets/brain-tumor/train/labels/00304_119.txt  \n",
            "  inflating: /content/datasets/brain-tumor/train/labels/00304_98.txt  \n",
            "  inflating: /content/datasets/brain-tumor/train/labels/00305_105.txt  \n",
            "  inflating: /content/datasets/brain-tumor/train/labels/00305_107.txt  \n",
            "  inflating: /content/datasets/brain-tumor/train/labels/00305_113.txt  \n",
            "  inflating: /content/datasets/brain-tumor/train/labels/00305_116.txt  \n",
            "  inflating: /content/datasets/brain-tumor/train/labels/00305_97.txt  \n",
            "  inflating: /content/datasets/brain-tumor/train/labels/00305_98.txt  \n",
            "  inflating: /content/datasets/brain-tumor/train/labels/00306_102.txt  \n",
            "  inflating: /content/datasets/brain-tumor/train/labels/00306_109.txt  \n",
            "  inflating: /content/datasets/brain-tumor/train/labels/00306_115.txt  \n",
            "  inflating: /content/datasets/brain-tumor/train/labels/00306_92.txt  \n",
            "  inflating: /content/datasets/brain-tumor/train/labels/00306_96.txt  \n",
            "  inflating: /content/datasets/brain-tumor/train/labels/00311_105.txt  \n",
            "  inflating: /content/datasets/brain-tumor/train/labels/00311_111.txt  \n",
            "  inflating: /content/datasets/brain-tumor/train/labels/00311_117.txt  \n",
            "  inflating: /content/datasets/brain-tumor/train/labels/00311_118.txt  \n",
            "  inflating: /content/datasets/brain-tumor/train/labels/00311_123.txt  \n",
            "  inflating: /content/datasets/brain-tumor/train/labels/00313_118.txt  \n",
            "  inflating: /content/datasets/brain-tumor/train/labels/00313_119.txt  \n",
            "  inflating: /content/datasets/brain-tumor/train/labels/00313_124.txt  \n",
            "  inflating: /content/datasets/brain-tumor/train/labels/00313_126.txt  \n",
            "  inflating: /content/datasets/brain-tumor/train/labels/00313_130.txt  \n",
            "  inflating: /content/datasets/brain-tumor/train/labels/00313_133.txt  \n",
            "  inflating: /content/datasets/brain-tumor/train/labels/00317_20.txt  \n",
            "  inflating: /content/datasets/brain-tumor/train/labels/00317_21.txt  \n",
            "  inflating: /content/datasets/brain-tumor/train/labels/00317_22.txt  \n",
            "  inflating: /content/datasets/brain-tumor/train/labels/00317_23.txt  \n",
            "  inflating: /content/datasets/brain-tumor/train/labels/00317_24.txt  \n",
            "  inflating: /content/datasets/brain-tumor/train/labels/00317_25.txt  \n",
            "  inflating: /content/datasets/brain-tumor/train/labels/00317_26.txt  \n",
            "  inflating: /content/datasets/brain-tumor/train/labels/00317_27.txt  \n",
            "  inflating: /content/datasets/brain-tumor/train/labels/00317_28.txt  \n",
            "  inflating: /content/datasets/brain-tumor/train/labels/00322_108.txt  \n",
            "  inflating: /content/datasets/brain-tumor/train/labels/00322_114.txt  \n",
            "  inflating: /content/datasets/brain-tumor/train/labels/00322_115.txt  \n",
            "  inflating: /content/datasets/brain-tumor/train/labels/00322_121.txt  \n",
            "  inflating: /content/datasets/brain-tumor/train/labels/00322_122.txt  \n",
            "  inflating: /content/datasets/brain-tumor/train/labels/00322_127.txt  \n",
            "  inflating: /content/datasets/brain-tumor/train/labels/00322_130.txt  \n",
            "  inflating: /content/datasets/brain-tumor/train/labels/00322_134.txt  \n",
            "  inflating: /content/datasets/brain-tumor/train/labels/00322_140.txt  \n",
            "  inflating: /content/datasets/brain-tumor/train/labels/00322_147.txt  \n",
            "  inflating: /content/datasets/brain-tumor/train/labels/00322_153.txt  \n",
            "  inflating: /content/datasets/brain-tumor/train/labels/00328_100.txt  \n",
            "  inflating: /content/datasets/brain-tumor/train/labels/00328_90.txt  \n",
            "  inflating: /content/datasets/brain-tumor/train/labels/00328_94.txt  \n",
            "  inflating: /content/datasets/brain-tumor/train/labels/00329_87.txt  \n",
            "  inflating: /content/datasets/brain-tumor/train/labels/00329_90.txt  \n",
            "  inflating: /content/datasets/brain-tumor/train/labels/00332_141.txt  \n",
            "  inflating: /content/datasets/brain-tumor/train/labels/00332_147.txt  \n",
            "  inflating: /content/datasets/brain-tumor/train/labels/00334_101.txt  \n",
            "  inflating: /content/datasets/brain-tumor/train/labels/00334_108.txt  \n",
            "  inflating: /content/datasets/brain-tumor/train/labels/00334_114.txt  \n",
            "  inflating: /content/datasets/brain-tumor/train/labels/00334_120.txt  \n",
            "  inflating: /content/datasets/brain-tumor/train/labels/00334_121.txt  \n",
            "  inflating: /content/datasets/brain-tumor/train/labels/00334_91.txt  \n",
            "  inflating: /content/datasets/brain-tumor/train/labels/00334_95.txt  \n",
            "  inflating: /content/datasets/brain-tumor/train/labels/00338_15.txt  \n",
            "  inflating: /content/datasets/brain-tumor/train/labels/00340_119.txt  \n",
            "  inflating: /content/datasets/brain-tumor/train/labels/00340_121.txt  \n",
            "  inflating: /content/datasets/brain-tumor/train/labels/00340_126.txt  \n",
            "  inflating: /content/datasets/brain-tumor/train/labels/00340_128.txt  \n",
            "  inflating: /content/datasets/brain-tumor/train/labels/00340_132.txt  \n",
            "  inflating: /content/datasets/brain-tumor/train/labels/00340_138.txt  \n",
            "  inflating: /content/datasets/brain-tumor/train/labels/00350_126.txt  \n",
            "  inflating: /content/datasets/brain-tumor/train/labels/00350_128.txt  \n",
            "  inflating: /content/datasets/brain-tumor/train/labels/00350_132.txt  \n",
            "  inflating: /content/datasets/brain-tumor/train/labels/00350_135.txt  \n",
            "  inflating: /content/datasets/brain-tumor/train/labels/00350_139.txt  \n",
            "  inflating: /content/datasets/brain-tumor/train/labels/00350_145.txt  \n",
            "  inflating: /content/datasets/brain-tumor/train/labels/00350_151.txt  \n",
            "  inflating: /content/datasets/brain-tumor/train/labels/00350_157.txt  \n",
            "  inflating: /content/datasets/brain-tumor/train/labels/00352_103.txt  \n",
            "  inflating: /content/datasets/brain-tumor/train/labels/00352_93.txt  \n",
            "  inflating: /content/datasets/brain-tumor/train/labels/00352_97.txt  \n",
            "  inflating: /content/datasets/brain-tumor/train/labels/00359_103.txt  \n",
            "  inflating: /content/datasets/brain-tumor/train/labels/00359_109.txt  \n",
            "  inflating: /content/datasets/brain-tumor/train/labels/00359_115.txt  \n",
            "  inflating: /content/datasets/brain-tumor/train/labels/00359_116.txt  \n",
            "  inflating: /content/datasets/brain-tumor/train/labels/00359_121.txt  \n",
            "  inflating: /content/datasets/brain-tumor/train/labels/00359_123.txt  \n",
            "  inflating: /content/datasets/brain-tumor/train/labels/00359_97.txt  \n",
            "  inflating: /content/datasets/brain-tumor/train/labels/00360_102.txt  \n",
            "  inflating: /content/datasets/brain-tumor/train/labels/00360_87.txt  \n",
            "  inflating: /content/datasets/brain-tumor/train/labels/00360_90.txt  \n",
            "  inflating: /content/datasets/brain-tumor/train/labels/00360_96.txt  \n",
            "  inflating: /content/datasets/brain-tumor/train/labels/100 (2).txt  \n",
            "  inflating: /content/datasets/brain-tumor/train/labels/100 (3).txt  \n",
            "  inflating: /content/datasets/brain-tumor/train/labels/100.txt  \n",
            "  inflating: /content/datasets/brain-tumor/train/labels/102 (2).txt  \n",
            "  inflating: /content/datasets/brain-tumor/train/labels/102 (3).txt  \n",
            "  inflating: /content/datasets/brain-tumor/train/labels/102 (4).txt  \n",
            "  inflating: /content/datasets/brain-tumor/train/labels/102.txt  \n",
            "  inflating: /content/datasets/brain-tumor/train/labels/103 (2).txt  \n",
            "  inflating: /content/datasets/brain-tumor/train/labels/103.txt  \n",
            "  inflating: /content/datasets/brain-tumor/train/labels/104 (2).txt  \n",
            "  inflating: /content/datasets/brain-tumor/train/labels/104 (3).txt  \n",
            "  inflating: /content/datasets/brain-tumor/train/labels/104.txt  \n",
            "  inflating: /content/datasets/brain-tumor/train/labels/105.txt  \n",
            "  inflating: /content/datasets/brain-tumor/train/labels/106 (2).txt  \n",
            "  inflating: /content/datasets/brain-tumor/train/labels/106.txt  \n",
            "  inflating: /content/datasets/brain-tumor/train/labels/107.txt  \n",
            "  inflating: /content/datasets/brain-tumor/train/labels/108.txt  \n",
            "  inflating: /content/datasets/brain-tumor/train/labels/109 (2).txt  \n",
            "  inflating: /content/datasets/brain-tumor/train/labels/109.txt  \n",
            "  inflating: /content/datasets/brain-tumor/train/labels/110 (2).txt  \n",
            "  inflating: /content/datasets/brain-tumor/train/labels/110.txt  \n",
            "  inflating: /content/datasets/brain-tumor/train/labels/111.txt  \n",
            "  inflating: /content/datasets/brain-tumor/train/labels/112 (2).txt  \n",
            "  inflating: /content/datasets/brain-tumor/train/labels/112.txt  \n",
            "  inflating: /content/datasets/brain-tumor/train/labels/113 (2).txt  \n",
            "  inflating: /content/datasets/brain-tumor/train/labels/113.txt  \n",
            "  inflating: /content/datasets/brain-tumor/train/labels/114.txt  \n",
            "  inflating: /content/datasets/brain-tumor/train/labels/115.txt  \n",
            "  inflating: /content/datasets/brain-tumor/train/labels/116.txt  \n",
            "  inflating: /content/datasets/brain-tumor/train/labels/118.txt  \n",
            "  inflating: /content/datasets/brain-tumor/train/labels/119.txt  \n",
            "  inflating: /content/datasets/brain-tumor/train/labels/124.txt  \n",
            "  inflating: /content/datasets/brain-tumor/train/labels/125.txt  \n",
            "  inflating: /content/datasets/brain-tumor/train/labels/128 (2).txt  \n",
            "  inflating: /content/datasets/brain-tumor/train/labels/128.txt  \n",
            "  inflating: /content/datasets/brain-tumor/train/labels/138.txt  \n",
            "  inflating: /content/datasets/brain-tumor/train/labels/144.txt  \n",
            "  inflating: /content/datasets/brain-tumor/train/labels/61 (3).txt  \n",
            "  inflating: /content/datasets/brain-tumor/train/labels/61 (4).txt  \n",
            "  inflating: /content/datasets/brain-tumor/train/labels/61 (5).txt  \n",
            "  inflating: /content/datasets/brain-tumor/train/labels/61 (6).txt  \n",
            "  inflating: /content/datasets/brain-tumor/train/labels/61 (7).txt  \n",
            "  inflating: /content/datasets/brain-tumor/train/labels/61 (8).txt  \n",
            "  inflating: /content/datasets/brain-tumor/train/labels/61.txt  \n",
            "  inflating: /content/datasets/brain-tumor/train/labels/62 (10).txt  \n",
            "  inflating: /content/datasets/brain-tumor/train/labels/62 (11).txt  \n",
            "  inflating: /content/datasets/brain-tumor/train/labels/62 (12).txt  \n",
            "  inflating: /content/datasets/brain-tumor/train/labels/62 (13).txt  \n",
            "  inflating: /content/datasets/brain-tumor/train/labels/62 (14).txt  \n",
            "  inflating: /content/datasets/brain-tumor/train/labels/62 (15).txt  \n",
            "  inflating: /content/datasets/brain-tumor/train/labels/62 (2).txt  \n",
            "  inflating: /content/datasets/brain-tumor/train/labels/62 (3).txt  \n",
            "  inflating: /content/datasets/brain-tumor/train/labels/62 (4).txt  \n",
            "  inflating: /content/datasets/brain-tumor/train/labels/62 (5).txt  \n",
            "  inflating: /content/datasets/brain-tumor/train/labels/62 (6).txt  \n",
            "  inflating: /content/datasets/brain-tumor/train/labels/62 (7).txt  \n",
            "  inflating: /content/datasets/brain-tumor/train/labels/62 (8).txt  \n",
            "  inflating: /content/datasets/brain-tumor/train/labels/62 (9).txt  \n",
            "  inflating: /content/datasets/brain-tumor/train/labels/62.txt  \n",
            "  inflating: /content/datasets/brain-tumor/train/labels/63 (2).txt  \n",
            "  inflating: /content/datasets/brain-tumor/train/labels/63 (3).txt  \n",
            "  inflating: /content/datasets/brain-tumor/train/labels/63 (4).txt  \n",
            "  inflating: /content/datasets/brain-tumor/train/labels/63 (5).txt  \n",
            "  inflating: /content/datasets/brain-tumor/train/labels/63 (6).txt  \n",
            "  inflating: /content/datasets/brain-tumor/train/labels/63 (7).txt  \n",
            "  inflating: /content/datasets/brain-tumor/train/labels/63 (8).txt  \n",
            "  inflating: /content/datasets/brain-tumor/train/labels/63.txt  \n",
            "  inflating: /content/datasets/brain-tumor/train/labels/64 (2).txt  \n",
            "  inflating: /content/datasets/brain-tumor/train/labels/64 (3).txt  \n",
            "  inflating: /content/datasets/brain-tumor/train/labels/64 (4).txt  \n",
            "  inflating: /content/datasets/brain-tumor/train/labels/64 (5).txt  \n",
            "  inflating: /content/datasets/brain-tumor/train/labels/64 (6).txt  \n",
            "  inflating: /content/datasets/brain-tumor/train/labels/64 (7).txt  \n",
            "  inflating: /content/datasets/brain-tumor/train/labels/64 (8).txt  \n",
            "  inflating: /content/datasets/brain-tumor/train/labels/64.txt  \n",
            "  inflating: /content/datasets/brain-tumor/train/labels/65 (10).txt  \n",
            "  inflating: /content/datasets/brain-tumor/train/labels/65 (11).txt  \n",
            "  inflating: /content/datasets/brain-tumor/train/labels/65 (12).txt  \n",
            "  inflating: /content/datasets/brain-tumor/train/labels/65 (2).txt  \n",
            "  inflating: /content/datasets/brain-tumor/train/labels/65 (3).txt  \n",
            "  inflating: /content/datasets/brain-tumor/train/labels/65 (4).txt  \n",
            "  inflating: /content/datasets/brain-tumor/train/labels/65 (5).txt  \n",
            "  inflating: /content/datasets/brain-tumor/train/labels/65 (6).txt  \n",
            "  inflating: /content/datasets/brain-tumor/train/labels/65 (7).txt  \n",
            "  inflating: /content/datasets/brain-tumor/train/labels/65 (8).txt  \n",
            "  inflating: /content/datasets/brain-tumor/train/labels/65 (9).txt  \n",
            "  inflating: /content/datasets/brain-tumor/train/labels/65.txt  \n",
            "  inflating: /content/datasets/brain-tumor/train/labels/66 (10).txt  \n",
            "  inflating: /content/datasets/brain-tumor/train/labels/66 (11).txt  \n",
            "  inflating: /content/datasets/brain-tumor/train/labels/66 (12).txt  \n",
            "  inflating: /content/datasets/brain-tumor/train/labels/66 (13).txt  \n",
            "  inflating: /content/datasets/brain-tumor/train/labels/66 (2).txt  \n",
            "  inflating: /content/datasets/brain-tumor/train/labels/66 (3).txt  \n",
            "  inflating: /content/datasets/brain-tumor/train/labels/66 (4).txt  \n",
            "  inflating: /content/datasets/brain-tumor/train/labels/66 (5).txt  \n",
            "  inflating: /content/datasets/brain-tumor/train/labels/66 (6).txt  \n",
            "  inflating: /content/datasets/brain-tumor/train/labels/66 (7).txt  \n",
            "  inflating: /content/datasets/brain-tumor/train/labels/66 (8).txt  \n",
            "  inflating: /content/datasets/brain-tumor/train/labels/66 (9).txt  \n",
            "  inflating: /content/datasets/brain-tumor/train/labels/66.txt  \n",
            "  inflating: /content/datasets/brain-tumor/train/labels/67 (10).txt  \n",
            "  inflating: /content/datasets/brain-tumor/train/labels/67 (11).txt  \n",
            "  inflating: /content/datasets/brain-tumor/train/labels/67 (2).txt  \n",
            "  inflating: /content/datasets/brain-tumor/train/labels/67 (3).txt  \n",
            "  inflating: /content/datasets/brain-tumor/train/labels/67 (4).txt  \n",
            "  inflating: /content/datasets/brain-tumor/train/labels/67 (5).txt  \n",
            "  inflating: /content/datasets/brain-tumor/train/labels/67 (6).txt  \n",
            "  inflating: /content/datasets/brain-tumor/train/labels/67 (7).txt  \n",
            "  inflating: /content/datasets/brain-tumor/train/labels/67 (8).txt  \n",
            "  inflating: /content/datasets/brain-tumor/train/labels/67 (9).txt  \n",
            "  inflating: /content/datasets/brain-tumor/train/labels/67.txt  \n",
            "  inflating: /content/datasets/brain-tumor/train/labels/68 (10).txt  \n",
            "  inflating: /content/datasets/brain-tumor/train/labels/68 (2).txt  \n",
            "  inflating: /content/datasets/brain-tumor/train/labels/68 (3).txt  \n",
            "  inflating: /content/datasets/brain-tumor/train/labels/68 (4).txt  \n",
            "  inflating: /content/datasets/brain-tumor/train/labels/68 (5).txt  \n",
            "  inflating: /content/datasets/brain-tumor/train/labels/68 (6).txt  \n",
            "  inflating: /content/datasets/brain-tumor/train/labels/68 (7).txt  \n",
            "  inflating: /content/datasets/brain-tumor/train/labels/68 (8).txt  \n",
            "  inflating: /content/datasets/brain-tumor/train/labels/68 (9).txt  \n",
            "  inflating: /content/datasets/brain-tumor/train/labels/68.txt  \n",
            "  inflating: /content/datasets/brain-tumor/train/labels/69 (2).txt  \n",
            "  inflating: /content/datasets/brain-tumor/train/labels/69 (3).txt  \n",
            "  inflating: /content/datasets/brain-tumor/train/labels/69 (4).txt  \n",
            "  inflating: /content/datasets/brain-tumor/train/labels/69 (5).txt  \n",
            "  inflating: /content/datasets/brain-tumor/train/labels/69 (6).txt  \n",
            "  inflating: /content/datasets/brain-tumor/train/labels/69 (7).txt  \n",
            "  inflating: /content/datasets/brain-tumor/train/labels/69 (8).txt  \n",
            "  inflating: /content/datasets/brain-tumor/train/labels/69.txt  \n",
            "  inflating: /content/datasets/brain-tumor/train/labels/70 (10).txt  \n",
            "  inflating: /content/datasets/brain-tumor/train/labels/70 (11).txt  \n",
            "  inflating: /content/datasets/brain-tumor/train/labels/70 (2).txt  \n",
            "  inflating: /content/datasets/brain-tumor/train/labels/70 (3).txt  \n",
            "  inflating: /content/datasets/brain-tumor/train/labels/70 (4).txt  \n",
            "  inflating: /content/datasets/brain-tumor/train/labels/70 (5).txt  \n",
            "  inflating: /content/datasets/brain-tumor/train/labels/70 (6).txt  \n",
            "  inflating: /content/datasets/brain-tumor/train/labels/70 (7).txt  \n",
            "  inflating: /content/datasets/brain-tumor/train/labels/70 (8).txt  \n",
            "  inflating: /content/datasets/brain-tumor/train/labels/70 (9).txt  \n",
            "  inflating: /content/datasets/brain-tumor/train/labels/70.txt  \n",
            "  inflating: /content/datasets/brain-tumor/train/labels/71 (2).txt  \n",
            "  inflating: /content/datasets/brain-tumor/train/labels/71 (3).txt  \n",
            "  inflating: /content/datasets/brain-tumor/train/labels/71 (4).txt  \n",
            "  inflating: /content/datasets/brain-tumor/train/labels/71 (5).txt  \n",
            "  inflating: /content/datasets/brain-tumor/train/labels/71 (6).txt  \n",
            "  inflating: /content/datasets/brain-tumor/train/labels/71.txt  \n",
            "  inflating: /content/datasets/brain-tumor/train/labels/72 (10).txt  \n",
            "  inflating: /content/datasets/brain-tumor/train/labels/72 (11).txt  \n",
            "  inflating: /content/datasets/brain-tumor/train/labels/72 (2).txt  \n",
            "  inflating: /content/datasets/brain-tumor/train/labels/72 (3).txt  \n",
            "  inflating: /content/datasets/brain-tumor/train/labels/72 (4).txt  \n",
            "  inflating: /content/datasets/brain-tumor/train/labels/72 (5).txt  \n",
            "  inflating: /content/datasets/brain-tumor/train/labels/72 (6).txt  \n",
            "  inflating: /content/datasets/brain-tumor/train/labels/72 (7).txt  \n",
            "  inflating: /content/datasets/brain-tumor/train/labels/72 (8).txt  \n",
            "  inflating: /content/datasets/brain-tumor/train/labels/72 (9).txt  \n",
            "  inflating: /content/datasets/brain-tumor/train/labels/72.txt  \n",
            "  inflating: /content/datasets/brain-tumor/train/labels/73 (2).txt  \n",
            "  inflating: /content/datasets/brain-tumor/train/labels/73 (3).txt  \n",
            "  inflating: /content/datasets/brain-tumor/train/labels/73 (4).txt  \n",
            "  inflating: /content/datasets/brain-tumor/train/labels/73 (5).txt  \n",
            "  inflating: /content/datasets/brain-tumor/train/labels/73 (6).txt  \n",
            "  inflating: /content/datasets/brain-tumor/train/labels/73.txt  \n",
            "  inflating: /content/datasets/brain-tumor/train/labels/74 (10).txt  \n",
            "  inflating: /content/datasets/brain-tumor/train/labels/74 (11).txt  \n",
            "  inflating: /content/datasets/brain-tumor/train/labels/74 (12).txt  \n",
            "  inflating: /content/datasets/brain-tumor/train/labels/74 (2).txt  \n",
            "  inflating: /content/datasets/brain-tumor/train/labels/74 (3).txt  \n",
            "  inflating: /content/datasets/brain-tumor/train/labels/74 (4).txt  \n",
            "  inflating: /content/datasets/brain-tumor/train/labels/74 (5).txt  \n",
            "  inflating: /content/datasets/brain-tumor/train/labels/74 (6).txt  \n",
            "  inflating: /content/datasets/brain-tumor/train/labels/74 (7).txt  \n",
            "  inflating: /content/datasets/brain-tumor/train/labels/74 (8).txt  \n",
            "  inflating: /content/datasets/brain-tumor/train/labels/74 (9).txt  \n",
            "  inflating: /content/datasets/brain-tumor/train/labels/74.txt  \n",
            "  inflating: /content/datasets/brain-tumor/train/labels/75 (10).txt  \n",
            "  inflating: /content/datasets/brain-tumor/train/labels/75 (2).txt  \n",
            "  inflating: /content/datasets/brain-tumor/train/labels/75 (3).txt  \n",
            "  inflating: /content/datasets/brain-tumor/train/labels/75 (4).txt  \n",
            "  inflating: /content/datasets/brain-tumor/train/labels/75 (5).txt  \n",
            "  inflating: /content/datasets/brain-tumor/train/labels/75 (6).txt  \n",
            "  inflating: /content/datasets/brain-tumor/train/labels/75 (7).txt  \n",
            "  inflating: /content/datasets/brain-tumor/train/labels/75 (8).txt  \n",
            "  inflating: /content/datasets/brain-tumor/train/labels/75 (9).txt  \n",
            "  inflating: /content/datasets/brain-tumor/train/labels/75.txt  \n",
            "  inflating: /content/datasets/brain-tumor/train/labels/76 (10).txt  \n",
            "  inflating: /content/datasets/brain-tumor/train/labels/76 (11).txt  \n",
            "  inflating: /content/datasets/brain-tumor/train/labels/76 (12).txt  \n",
            "  inflating: /content/datasets/brain-tumor/train/labels/76 (2).txt  \n",
            "  inflating: /content/datasets/brain-tumor/train/labels/76 (3).txt  \n",
            "  inflating: /content/datasets/brain-tumor/train/labels/76 (4).txt  \n",
            "  inflating: /content/datasets/brain-tumor/train/labels/76 (5).txt  \n",
            "  inflating: /content/datasets/brain-tumor/train/labels/76 (6).txt  \n",
            "  inflating: /content/datasets/brain-tumor/train/labels/76 (7).txt  \n",
            "  inflating: /content/datasets/brain-tumor/train/labels/76 (8).txt  \n",
            "  inflating: /content/datasets/brain-tumor/train/labels/76 (9).txt  \n",
            "  inflating: /content/datasets/brain-tumor/train/labels/76.txt  \n",
            "  inflating: /content/datasets/brain-tumor/train/labels/77 (2).txt  \n",
            "  inflating: /content/datasets/brain-tumor/train/labels/77 (3).txt  \n",
            "  inflating: /content/datasets/brain-tumor/train/labels/77 (4).txt  \n",
            "  inflating: /content/datasets/brain-tumor/train/labels/77 (5).txt  \n",
            "  inflating: /content/datasets/brain-tumor/train/labels/77 (6).txt  \n",
            "  inflating: /content/datasets/brain-tumor/train/labels/77.txt  \n",
            "  inflating: /content/datasets/brain-tumor/train/labels/78 (2).txt  \n",
            "  inflating: /content/datasets/brain-tumor/train/labels/78 (3).txt  \n",
            "  inflating: /content/datasets/brain-tumor/train/labels/78 (4).txt  \n",
            "  inflating: /content/datasets/brain-tumor/train/labels/78 (5).txt  \n",
            "  inflating: /content/datasets/brain-tumor/train/labels/78 (6).txt  \n",
            "  inflating: /content/datasets/brain-tumor/train/labels/78.txt  \n",
            "  inflating: /content/datasets/brain-tumor/train/labels/79 (10).txt  \n",
            "  inflating: /content/datasets/brain-tumor/train/labels/79 (11).txt  \n",
            "  inflating: /content/datasets/brain-tumor/train/labels/79 (12).txt  \n",
            "  inflating: /content/datasets/brain-tumor/train/labels/79 (2).txt  \n",
            "  inflating: /content/datasets/brain-tumor/train/labels/79 (3).txt  \n",
            "  inflating: /content/datasets/brain-tumor/train/labels/79 (4).txt  \n",
            "  inflating: /content/datasets/brain-tumor/train/labels/79 (5).txt  \n",
            "  inflating: /content/datasets/brain-tumor/train/labels/79 (6).txt  \n",
            "  inflating: /content/datasets/brain-tumor/train/labels/79 (7).txt  \n",
            "  inflating: /content/datasets/brain-tumor/train/labels/79 (8).txt  \n",
            "  inflating: /content/datasets/brain-tumor/train/labels/79 (9).txt  \n",
            "  inflating: /content/datasets/brain-tumor/train/labels/79.txt  \n",
            "  inflating: /content/datasets/brain-tumor/train/labels/80 (2).txt  \n",
            "  inflating: /content/datasets/brain-tumor/train/labels/80 (3).txt  \n",
            "  inflating: /content/datasets/brain-tumor/train/labels/80 (4).txt  \n",
            "  inflating: /content/datasets/brain-tumor/train/labels/80 (5).txt  \n",
            "  inflating: /content/datasets/brain-tumor/train/labels/80 (6).txt  \n",
            "  inflating: /content/datasets/brain-tumor/train/labels/80 (7).txt  \n",
            "  inflating: /content/datasets/brain-tumor/train/labels/80.txt  \n",
            "  inflating: /content/datasets/brain-tumor/train/labels/81 (2).txt  \n",
            "  inflating: /content/datasets/brain-tumor/train/labels/81 (3).txt  \n",
            "  inflating: /content/datasets/brain-tumor/train/labels/81 (4).txt  \n",
            "  inflating: /content/datasets/brain-tumor/train/labels/81 (5).txt  \n",
            "  inflating: /content/datasets/brain-tumor/train/labels/81 (6).txt  \n",
            "  inflating: /content/datasets/brain-tumor/train/labels/81.txt  \n",
            "  inflating: /content/datasets/brain-tumor/train/labels/82 (2).txt  \n",
            "  inflating: /content/datasets/brain-tumor/train/labels/82 (3).txt  \n",
            "  inflating: /content/datasets/brain-tumor/train/labels/82 (4).txt  \n",
            "  inflating: /content/datasets/brain-tumor/train/labels/82 (5).txt  \n",
            "  inflating: /content/datasets/brain-tumor/train/labels/82.txt  \n",
            "  inflating: /content/datasets/brain-tumor/train/labels/83 (2).txt  \n",
            "  inflating: /content/datasets/brain-tumor/train/labels/83 (3).txt  \n",
            "  inflating: /content/datasets/brain-tumor/train/labels/83 (4).txt  \n",
            "  inflating: /content/datasets/brain-tumor/train/labels/83 (5).txt  \n",
            "  inflating: /content/datasets/brain-tumor/train/labels/83.txt  \n",
            "  inflating: /content/datasets/brain-tumor/train/labels/84 (2).txt  \n",
            "  inflating: /content/datasets/brain-tumor/train/labels/84 (3).txt  \n",
            "  inflating: /content/datasets/brain-tumor/train/labels/84 (4).txt  \n",
            "  inflating: /content/datasets/brain-tumor/train/labels/84.txt  \n",
            "  inflating: /content/datasets/brain-tumor/train/labels/85 (2).txt  \n",
            "  inflating: /content/datasets/brain-tumor/train/labels/85 (3).txt  \n",
            "  inflating: /content/datasets/brain-tumor/train/labels/85 (4).txt  \n",
            "  inflating: /content/datasets/brain-tumor/train/labels/85 (5).txt  \n",
            "  inflating: /content/datasets/brain-tumor/train/labels/85 (6).txt  \n",
            "  inflating: /content/datasets/brain-tumor/train/labels/85.txt  \n",
            "  inflating: /content/datasets/brain-tumor/train/labels/86 (2).txt  \n",
            "  inflating: /content/datasets/brain-tumor/train/labels/86.txt  \n",
            "  inflating: /content/datasets/brain-tumor/train/labels/87 (2).txt  \n",
            "  inflating: /content/datasets/brain-tumor/train/labels/87 (3).txt  \n",
            "  inflating: /content/datasets/brain-tumor/train/labels/87 (4).txt  \n",
            "  inflating: /content/datasets/brain-tumor/train/labels/87 (5).txt  \n",
            "  inflating: /content/datasets/brain-tumor/train/labels/87.txt  \n",
            "  inflating: /content/datasets/brain-tumor/train/labels/88 (2).txt  \n",
            "  inflating: /content/datasets/brain-tumor/train/labels/88 (3).txt  \n",
            "  inflating: /content/datasets/brain-tumor/train/labels/88 (4).txt  \n",
            "  inflating: /content/datasets/brain-tumor/train/labels/88 (5).txt  \n",
            "  inflating: /content/datasets/brain-tumor/train/labels/88.txt  \n",
            "  inflating: /content/datasets/brain-tumor/train/labels/89 (2).txt  \n",
            "  inflating: /content/datasets/brain-tumor/train/labels/89 (3).txt  \n",
            "  inflating: /content/datasets/brain-tumor/train/labels/89 (4).txt  \n",
            "  inflating: /content/datasets/brain-tumor/train/labels/89 (5).txt  \n",
            "  inflating: /content/datasets/brain-tumor/train/labels/89.txt  \n",
            "  inflating: /content/datasets/brain-tumor/train/labels/90 (2).txt  \n",
            "  inflating: /content/datasets/brain-tumor/train/labels/90 (3).txt  \n",
            "  inflating: /content/datasets/brain-tumor/train/labels/90.txt  \n",
            "  inflating: /content/datasets/brain-tumor/train/labels/91 (2).txt  \n",
            "  inflating: /content/datasets/brain-tumor/train/labels/91 (3).txt  \n",
            "  inflating: /content/datasets/brain-tumor/train/labels/91 (4).txt  \n",
            "  inflating: /content/datasets/brain-tumor/train/labels/91 (5).txt  \n",
            "  inflating: /content/datasets/brain-tumor/train/labels/91 (6).txt  \n",
            "  inflating: /content/datasets/brain-tumor/train/labels/91.txt  \n",
            "  inflating: /content/datasets/brain-tumor/train/labels/92 (2).txt  \n",
            "  inflating: /content/datasets/brain-tumor/train/labels/92 (3).txt  \n",
            "  inflating: /content/datasets/brain-tumor/train/labels/92 (4).txt  \n",
            "  inflating: /content/datasets/brain-tumor/train/labels/92 (5).txt  \n",
            "  inflating: /content/datasets/brain-tumor/train/labels/92 (6).txt  \n",
            "  inflating: /content/datasets/brain-tumor/train/labels/92.txt  \n",
            "  inflating: /content/datasets/brain-tumor/train/labels/93 (2).txt  \n",
            "  inflating: /content/datasets/brain-tumor/train/labels/93 (3).txt  \n",
            "  inflating: /content/datasets/brain-tumor/train/labels/93 (4).txt  \n",
            "  inflating: /content/datasets/brain-tumor/train/labels/93 (5).txt  \n",
            "  inflating: /content/datasets/brain-tumor/train/labels/93 (6).txt  \n",
            "  inflating: /content/datasets/brain-tumor/train/labels/93.txt  \n",
            "  inflating: /content/datasets/brain-tumor/train/labels/94 (2).txt  \n",
            "  inflating: /content/datasets/brain-tumor/train/labels/94 (3).txt  \n",
            "  inflating: /content/datasets/brain-tumor/train/labels/94 (4).txt  \n",
            "  inflating: /content/datasets/brain-tumor/train/labels/94 (5).txt  \n",
            "  inflating: /content/datasets/brain-tumor/train/labels/94 (6).txt  \n",
            "  inflating: /content/datasets/brain-tumor/train/labels/94.txt  \n",
            "  inflating: /content/datasets/brain-tumor/train/labels/95 (2).txt  \n",
            "  inflating: /content/datasets/brain-tumor/train/labels/95 (3).txt  \n",
            "  inflating: /content/datasets/brain-tumor/train/labels/95 (4).txt  \n",
            "  inflating: /content/datasets/brain-tumor/train/labels/95.txt  \n",
            "  inflating: /content/datasets/brain-tumor/train/labels/96 (2).txt  \n",
            "  inflating: /content/datasets/brain-tumor/train/labels/96 (3).txt  \n",
            "  inflating: /content/datasets/brain-tumor/train/labels/96 (4).txt  \n",
            "  inflating: /content/datasets/brain-tumor/train/labels/96 (5).txt  \n",
            "  inflating: /content/datasets/brain-tumor/train/labels/96.txt  \n",
            "  inflating: /content/datasets/brain-tumor/train/labels/97 (2).txt  \n",
            "  inflating: /content/datasets/brain-tumor/train/labels/97 (3).txt  \n",
            "  inflating: /content/datasets/brain-tumor/train/labels/97.txt  \n",
            "  inflating: /content/datasets/brain-tumor/train/labels/98 (2).txt  \n",
            "  inflating: /content/datasets/brain-tumor/train/labels/98 (3).txt  \n",
            "  inflating: /content/datasets/brain-tumor/train/labels/98 (4).txt  \n",
            "  inflating: /content/datasets/brain-tumor/train/labels/98.txt  \n",
            "  inflating: /content/datasets/brain-tumor/train/labels/99 (2).txt  \n",
            "  inflating: /content/datasets/brain-tumor/train/labels/99 (3).txt  \n",
            "  inflating: /content/datasets/brain-tumor/train/labels/99 (4).txt  \n",
            "  inflating: /content/datasets/brain-tumor/train/labels/99.txt  \n",
            "  inflating: /content/datasets/brain-tumor/valid/images/val_1 (1).jpg  \n",
            "  inflating: /content/datasets/brain-tumor/valid/images/val_1 (10).jpg  \n",
            "  inflating: /content/datasets/brain-tumor/valid/images/val_1 (100).jpg  \n",
            "  inflating: /content/datasets/brain-tumor/valid/images/val_1 (101).jpg  \n",
            "  inflating: /content/datasets/brain-tumor/valid/images/val_1 (102).jpg  \n",
            "  inflating: /content/datasets/brain-tumor/valid/images/val_1 (103).jpg  \n",
            "  inflating: /content/datasets/brain-tumor/valid/images/val_1 (104).jpg  \n",
            "  inflating: /content/datasets/brain-tumor/valid/images/val_1 (105).jpg  \n",
            "  inflating: /content/datasets/brain-tumor/valid/images/val_1 (106).jpg  \n",
            "  inflating: /content/datasets/brain-tumor/valid/images/val_1 (107).jpg  \n",
            "  inflating: /content/datasets/brain-tumor/valid/images/val_1 (108).jpg  \n",
            "  inflating: /content/datasets/brain-tumor/valid/images/val_1 (109).jpg  \n",
            "  inflating: /content/datasets/brain-tumor/valid/images/val_1 (11).jpg  \n",
            "  inflating: /content/datasets/brain-tumor/valid/images/val_1 (110).jpg  \n",
            "  inflating: /content/datasets/brain-tumor/valid/images/val_1 (111).jpg  \n",
            "  inflating: /content/datasets/brain-tumor/valid/images/val_1 (112).jpg  \n",
            "  inflating: /content/datasets/brain-tumor/valid/images/val_1 (113).jpg  \n",
            "  inflating: /content/datasets/brain-tumor/valid/images/val_1 (114).jpg  \n",
            "  inflating: /content/datasets/brain-tumor/valid/images/val_1 (115).jpg  \n",
            "  inflating: /content/datasets/brain-tumor/valid/images/val_1 (116).jpg  \n",
            "  inflating: /content/datasets/brain-tumor/valid/images/val_1 (117).jpg  \n",
            "  inflating: /content/datasets/brain-tumor/valid/images/val_1 (118).jpg  \n",
            "  inflating: /content/datasets/brain-tumor/valid/images/val_1 (119).jpg  \n",
            "  inflating: /content/datasets/brain-tumor/valid/images/val_1 (12).jpg  \n",
            "  inflating: /content/datasets/brain-tumor/valid/images/val_1 (120).jpg  \n",
            "  inflating: /content/datasets/brain-tumor/valid/images/val_1 (121).jpg  \n",
            "  inflating: /content/datasets/brain-tumor/valid/images/val_1 (122).jpg  \n",
            "  inflating: /content/datasets/brain-tumor/valid/images/val_1 (123).jpg  \n",
            "  inflating: /content/datasets/brain-tumor/valid/images/val_1 (124).jpg  \n",
            "  inflating: /content/datasets/brain-tumor/valid/images/val_1 (125).jpg  \n",
            "  inflating: /content/datasets/brain-tumor/valid/images/val_1 (126).jpg  \n",
            "  inflating: /content/datasets/brain-tumor/valid/images/val_1 (127).jpg  \n",
            "  inflating: /content/datasets/brain-tumor/valid/images/val_1 (128).jpg  \n",
            "  inflating: /content/datasets/brain-tumor/valid/images/val_1 (129).jpg  \n",
            "  inflating: /content/datasets/brain-tumor/valid/images/val_1 (13).jpg  \n",
            "  inflating: /content/datasets/brain-tumor/valid/images/val_1 (130).jpg  \n",
            "  inflating: /content/datasets/brain-tumor/valid/images/val_1 (131).jpg  \n",
            "  inflating: /content/datasets/brain-tumor/valid/images/val_1 (132).jpg  \n",
            "  inflating: /content/datasets/brain-tumor/valid/images/val_1 (133).jpg  \n",
            "  inflating: /content/datasets/brain-tumor/valid/images/val_1 (134).jpg  \n",
            "  inflating: /content/datasets/brain-tumor/valid/images/val_1 (135).jpg  \n",
            "  inflating: /content/datasets/brain-tumor/valid/images/val_1 (136).jpg  \n",
            "  inflating: /content/datasets/brain-tumor/valid/images/val_1 (137).jpg  \n",
            "  inflating: /content/datasets/brain-tumor/valid/images/val_1 (138).jpg  \n",
            "  inflating: /content/datasets/brain-tumor/valid/images/val_1 (139).jpg  \n",
            "  inflating: /content/datasets/brain-tumor/valid/images/val_1 (14).jpg  \n",
            "  inflating: /content/datasets/brain-tumor/valid/images/val_1 (140).jpg  \n",
            "  inflating: /content/datasets/brain-tumor/valid/images/val_1 (141).jpg  \n",
            "  inflating: /content/datasets/brain-tumor/valid/images/val_1 (142).jpg  \n",
            "  inflating: /content/datasets/brain-tumor/valid/images/val_1 (143).jpg  \n",
            "  inflating: /content/datasets/brain-tumor/valid/images/val_1 (144).jpg  \n",
            "  inflating: /content/datasets/brain-tumor/valid/images/val_1 (145).jpg  \n",
            "  inflating: /content/datasets/brain-tumor/valid/images/val_1 (146).jpg  \n",
            "  inflating: /content/datasets/brain-tumor/valid/images/val_1 (147).jpg  \n",
            "  inflating: /content/datasets/brain-tumor/valid/images/val_1 (148).jpg  \n",
            "  inflating: /content/datasets/brain-tumor/valid/images/val_1 (149).jpg  \n",
            "  inflating: /content/datasets/brain-tumor/valid/images/val_1 (15).jpg  \n",
            "  inflating: /content/datasets/brain-tumor/valid/images/val_1 (150).jpg  \n",
            "  inflating: /content/datasets/brain-tumor/valid/images/val_1 (151).jpg  \n",
            "  inflating: /content/datasets/brain-tumor/valid/images/val_1 (152).jpg  \n",
            "  inflating: /content/datasets/brain-tumor/valid/images/val_1 (153).jpg  \n",
            "  inflating: /content/datasets/brain-tumor/valid/images/val_1 (154).jpg  \n",
            "  inflating: /content/datasets/brain-tumor/valid/images/val_1 (155).jpg  \n",
            "  inflating: /content/datasets/brain-tumor/valid/images/val_1 (156).jpg  \n",
            "  inflating: /content/datasets/brain-tumor/valid/images/val_1 (157).jpg  \n",
            "  inflating: /content/datasets/brain-tumor/valid/images/val_1 (158).jpg  \n",
            "  inflating: /content/datasets/brain-tumor/valid/images/val_1 (159).jpg  \n",
            "  inflating: /content/datasets/brain-tumor/valid/images/val_1 (16).jpg  \n",
            "  inflating: /content/datasets/brain-tumor/valid/images/val_1 (160).jpg  \n",
            "  inflating: /content/datasets/brain-tumor/valid/images/val_1 (161).jpg  \n",
            "  inflating: /content/datasets/brain-tumor/valid/images/val_1 (162).jpg  \n",
            "  inflating: /content/datasets/brain-tumor/valid/images/val_1 (163).jpg  \n",
            "  inflating: /content/datasets/brain-tumor/valid/images/val_1 (164).jpg  \n",
            "  inflating: /content/datasets/brain-tumor/valid/images/val_1 (165).jpg  \n",
            "  inflating: /content/datasets/brain-tumor/valid/images/val_1 (166).jpg  \n",
            "  inflating: /content/datasets/brain-tumor/valid/images/val_1 (167).jpg  \n",
            "  inflating: /content/datasets/brain-tumor/valid/images/val_1 (168).jpg  \n",
            "  inflating: /content/datasets/brain-tumor/valid/images/val_1 (169).jpg  \n",
            "  inflating: /content/datasets/brain-tumor/valid/images/val_1 (17).jpg  \n",
            "  inflating: /content/datasets/brain-tumor/valid/images/val_1 (170).jpg  \n",
            "  inflating: /content/datasets/brain-tumor/valid/images/val_1 (171).jpg  \n",
            "  inflating: /content/datasets/brain-tumor/valid/images/val_1 (172).jpg  \n",
            "  inflating: /content/datasets/brain-tumor/valid/images/val_1 (173).jpg  \n",
            "  inflating: /content/datasets/brain-tumor/valid/images/val_1 (174).jpg  \n",
            "  inflating: /content/datasets/brain-tumor/valid/images/val_1 (175).jpg  \n",
            "  inflating: /content/datasets/brain-tumor/valid/images/val_1 (176).jpg  \n",
            "  inflating: /content/datasets/brain-tumor/valid/images/val_1 (177).jpg  \n",
            "  inflating: /content/datasets/brain-tumor/valid/images/val_1 (178).jpg  \n",
            "  inflating: /content/datasets/brain-tumor/valid/images/val_1 (179).jpg  \n",
            "  inflating: /content/datasets/brain-tumor/valid/images/val_1 (18).jpg  \n",
            "  inflating: /content/datasets/brain-tumor/valid/images/val_1 (180).jpg  \n",
            "  inflating: /content/datasets/brain-tumor/valid/images/val_1 (181).jpg  \n",
            "  inflating: /content/datasets/brain-tumor/valid/images/val_1 (182).jpg  \n",
            "  inflating: /content/datasets/brain-tumor/valid/images/val_1 (183).jpg  \n",
            "  inflating: /content/datasets/brain-tumor/valid/images/val_1 (184).jpg  \n",
            "  inflating: /content/datasets/brain-tumor/valid/images/val_1 (185).jpg  \n",
            "  inflating: /content/datasets/brain-tumor/valid/images/val_1 (186).jpg  \n",
            "  inflating: /content/datasets/brain-tumor/valid/images/val_1 (187).jpg  \n",
            "  inflating: /content/datasets/brain-tumor/valid/images/val_1 (188).jpg  \n",
            "  inflating: /content/datasets/brain-tumor/valid/images/val_1 (189).jpg  \n",
            "  inflating: /content/datasets/brain-tumor/valid/images/val_1 (19).jpg  \n",
            "  inflating: /content/datasets/brain-tumor/valid/images/val_1 (190).jpg  \n",
            "  inflating: /content/datasets/brain-tumor/valid/images/val_1 (191).jpg  \n",
            "  inflating: /content/datasets/brain-tumor/valid/images/val_1 (192).jpg  \n",
            "  inflating: /content/datasets/brain-tumor/valid/images/val_1 (193).jpg  \n",
            "  inflating: /content/datasets/brain-tumor/valid/images/val_1 (194).jpg  \n",
            "  inflating: /content/datasets/brain-tumor/valid/images/val_1 (195).jpg  \n",
            "  inflating: /content/datasets/brain-tumor/valid/images/val_1 (196).jpg  \n",
            "  inflating: /content/datasets/brain-tumor/valid/images/val_1 (197).jpg  \n",
            "  inflating: /content/datasets/brain-tumor/valid/images/val_1 (198).jpg  \n",
            "  inflating: /content/datasets/brain-tumor/valid/images/val_1 (199).jpg  \n",
            "  inflating: /content/datasets/brain-tumor/valid/images/val_1 (2).jpg  \n",
            "  inflating: /content/datasets/brain-tumor/valid/images/val_1 (20).jpg  \n",
            "  inflating: /content/datasets/brain-tumor/valid/images/val_1 (200).jpg  \n",
            "  inflating: /content/datasets/brain-tumor/valid/images/val_1 (201).jpg  \n",
            "  inflating: /content/datasets/brain-tumor/valid/images/val_1 (202).jpg  \n",
            "  inflating: /content/datasets/brain-tumor/valid/images/val_1 (203).jpg  \n",
            "  inflating: /content/datasets/brain-tumor/valid/images/val_1 (204).jpg  \n",
            "  inflating: /content/datasets/brain-tumor/valid/images/val_1 (205).jpg  \n",
            "  inflating: /content/datasets/brain-tumor/valid/images/val_1 (206).jpg  \n",
            "  inflating: /content/datasets/brain-tumor/valid/images/val_1 (207).jpg  \n",
            "  inflating: /content/datasets/brain-tumor/valid/images/val_1 (208).jpg  \n",
            "  inflating: /content/datasets/brain-tumor/valid/images/val_1 (209).jpg  \n",
            "  inflating: /content/datasets/brain-tumor/valid/images/val_1 (21).jpg  \n",
            "  inflating: /content/datasets/brain-tumor/valid/images/val_1 (210).jpg  \n",
            "  inflating: /content/datasets/brain-tumor/valid/images/val_1 (211).jpg  \n",
            "  inflating: /content/datasets/brain-tumor/valid/images/val_1 (212).jpg  \n",
            "  inflating: /content/datasets/brain-tumor/valid/images/val_1 (213).jpg  \n",
            "  inflating: /content/datasets/brain-tumor/valid/images/val_1 (214).jpg  \n",
            "  inflating: /content/datasets/brain-tumor/valid/images/val_1 (215).jpg  \n",
            "  inflating: /content/datasets/brain-tumor/valid/images/val_1 (216).jpg  \n",
            "  inflating: /content/datasets/brain-tumor/valid/images/val_1 (217).jpg  \n",
            "  inflating: /content/datasets/brain-tumor/valid/images/val_1 (218).jpg  \n",
            "  inflating: /content/datasets/brain-tumor/valid/images/val_1 (219).jpg  \n",
            "  inflating: /content/datasets/brain-tumor/valid/images/val_1 (22).jpg  \n",
            "  inflating: /content/datasets/brain-tumor/valid/images/val_1 (220).jpg  \n",
            "  inflating: /content/datasets/brain-tumor/valid/images/val_1 (221).jpg  \n",
            "  inflating: /content/datasets/brain-tumor/valid/images/val_1 (222).jpg  \n",
            "  inflating: /content/datasets/brain-tumor/valid/images/val_1 (223).jpg  \n",
            "  inflating: /content/datasets/brain-tumor/valid/images/val_1 (23).jpg  \n",
            "  inflating: /content/datasets/brain-tumor/valid/images/val_1 (24).jpg  \n",
            "  inflating: /content/datasets/brain-tumor/valid/images/val_1 (25).jpg  \n",
            "  inflating: /content/datasets/brain-tumor/valid/images/val_1 (26).jpg  \n",
            "  inflating: /content/datasets/brain-tumor/valid/images/val_1 (27).jpg  \n",
            "  inflating: /content/datasets/brain-tumor/valid/images/val_1 (28).jpg  \n",
            "  inflating: /content/datasets/brain-tumor/valid/images/val_1 (29).jpg  \n",
            "  inflating: /content/datasets/brain-tumor/valid/images/val_1 (3).jpg  \n",
            "  inflating: /content/datasets/brain-tumor/valid/images/val_1 (30).jpg  \n",
            "  inflating: /content/datasets/brain-tumor/valid/images/val_1 (31).jpg  \n",
            "  inflating: /content/datasets/brain-tumor/valid/images/val_1 (32).jpg  \n",
            "  inflating: /content/datasets/brain-tumor/valid/images/val_1 (33).jpg  \n",
            "  inflating: /content/datasets/brain-tumor/valid/images/val_1 (34).jpg  \n",
            "  inflating: /content/datasets/brain-tumor/valid/images/val_1 (35).jpg  \n",
            "  inflating: /content/datasets/brain-tumor/valid/images/val_1 (36).jpg  \n",
            "  inflating: /content/datasets/brain-tumor/valid/images/val_1 (37).jpg  \n",
            "  inflating: /content/datasets/brain-tumor/valid/images/val_1 (38).jpg  \n",
            "  inflating: /content/datasets/brain-tumor/valid/images/val_1 (39).jpg  \n",
            "  inflating: /content/datasets/brain-tumor/valid/images/val_1 (4).jpg  \n",
            "  inflating: /content/datasets/brain-tumor/valid/images/val_1 (40).jpg  \n",
            "  inflating: /content/datasets/brain-tumor/valid/images/val_1 (41).jpg  \n",
            "  inflating: /content/datasets/brain-tumor/valid/images/val_1 (42).jpg  \n",
            "  inflating: /content/datasets/brain-tumor/valid/images/val_1 (43).jpg  \n",
            "  inflating: /content/datasets/brain-tumor/valid/images/val_1 (44).jpg  \n",
            "  inflating: /content/datasets/brain-tumor/valid/images/val_1 (45).jpg  \n",
            "  inflating: /content/datasets/brain-tumor/valid/images/val_1 (46).jpg  \n",
            "  inflating: /content/datasets/brain-tumor/valid/images/val_1 (47).jpg  \n",
            "  inflating: /content/datasets/brain-tumor/valid/images/val_1 (48).jpg  \n",
            "  inflating: /content/datasets/brain-tumor/valid/images/val_1 (49).jpg  \n",
            "  inflating: /content/datasets/brain-tumor/valid/images/val_1 (5).jpg  \n",
            "  inflating: /content/datasets/brain-tumor/valid/images/val_1 (50).jpg  \n",
            "  inflating: /content/datasets/brain-tumor/valid/images/val_1 (51).jpg  \n",
            "  inflating: /content/datasets/brain-tumor/valid/images/val_1 (52).jpg  \n",
            "  inflating: /content/datasets/brain-tumor/valid/images/val_1 (53).jpg  \n",
            "  inflating: /content/datasets/brain-tumor/valid/images/val_1 (54).jpg  \n",
            "  inflating: /content/datasets/brain-tumor/valid/images/val_1 (55).jpg  \n",
            "  inflating: /content/datasets/brain-tumor/valid/images/val_1 (56).jpg  \n",
            "  inflating: /content/datasets/brain-tumor/valid/images/val_1 (57).jpg  \n",
            "  inflating: /content/datasets/brain-tumor/valid/images/val_1 (58).jpg  \n",
            "  inflating: /content/datasets/brain-tumor/valid/images/val_1 (59).jpg  \n",
            "  inflating: /content/datasets/brain-tumor/valid/images/val_1 (6).jpg  \n",
            "  inflating: /content/datasets/brain-tumor/valid/images/val_1 (60).jpg  \n",
            "  inflating: /content/datasets/brain-tumor/valid/images/val_1 (61).jpg  \n",
            "  inflating: /content/datasets/brain-tumor/valid/images/val_1 (62).jpg  \n",
            "  inflating: /content/datasets/brain-tumor/valid/images/val_1 (63).jpg  \n",
            "  inflating: /content/datasets/brain-tumor/valid/images/val_1 (64).jpg  \n",
            "  inflating: /content/datasets/brain-tumor/valid/images/val_1 (65).jpg  \n",
            "  inflating: /content/datasets/brain-tumor/valid/images/val_1 (66).jpg  \n",
            "  inflating: /content/datasets/brain-tumor/valid/images/val_1 (67).jpg  \n",
            "  inflating: /content/datasets/brain-tumor/valid/images/val_1 (68).jpg  \n",
            "  inflating: /content/datasets/brain-tumor/valid/images/val_1 (69).jpg  \n",
            "  inflating: /content/datasets/brain-tumor/valid/images/val_1 (7).jpg  \n",
            "  inflating: /content/datasets/brain-tumor/valid/images/val_1 (70).jpg  \n",
            "  inflating: /content/datasets/brain-tumor/valid/images/val_1 (71).jpg  \n",
            "  inflating: /content/datasets/brain-tumor/valid/images/val_1 (72).jpg  \n",
            "  inflating: /content/datasets/brain-tumor/valid/images/val_1 (73).jpg  \n",
            "  inflating: /content/datasets/brain-tumor/valid/images/val_1 (74).jpg  \n",
            "  inflating: /content/datasets/brain-tumor/valid/images/val_1 (75).jpg  \n",
            "  inflating: /content/datasets/brain-tumor/valid/images/val_1 (76).jpg  \n",
            "  inflating: /content/datasets/brain-tumor/valid/images/val_1 (77).jpg  \n",
            "  inflating: /content/datasets/brain-tumor/valid/images/val_1 (78).jpg  \n",
            "  inflating: /content/datasets/brain-tumor/valid/images/val_1 (79).jpg  \n",
            "  inflating: /content/datasets/brain-tumor/valid/images/val_1 (8).jpg  \n",
            "  inflating: /content/datasets/brain-tumor/valid/images/val_1 (80).jpg  \n",
            "  inflating: /content/datasets/brain-tumor/valid/images/val_1 (81).jpg  \n",
            "  inflating: /content/datasets/brain-tumor/valid/images/val_1 (82).jpg  \n",
            "  inflating: /content/datasets/brain-tumor/valid/images/val_1 (83).jpg  \n",
            "  inflating: /content/datasets/brain-tumor/valid/images/val_1 (84).jpg  \n",
            "  inflating: /content/datasets/brain-tumor/valid/images/val_1 (85).jpg  \n",
            "  inflating: /content/datasets/brain-tumor/valid/images/val_1 (86).jpg  \n",
            "  inflating: /content/datasets/brain-tumor/valid/images/val_1 (87).jpg  \n",
            "  inflating: /content/datasets/brain-tumor/valid/images/val_1 (88).jpg  \n",
            "  inflating: /content/datasets/brain-tumor/valid/images/val_1 (89).jpg  \n",
            "  inflating: /content/datasets/brain-tumor/valid/images/val_1 (9).jpg  \n",
            "  inflating: /content/datasets/brain-tumor/valid/images/val_1 (90).jpg  \n",
            "  inflating: /content/datasets/brain-tumor/valid/images/val_1 (91).jpg  \n",
            "  inflating: /content/datasets/brain-tumor/valid/images/val_1 (92).jpg  \n",
            "  inflating: /content/datasets/brain-tumor/valid/images/val_1 (93).jpg  \n",
            "  inflating: /content/datasets/brain-tumor/valid/images/val_1 (94).jpg  \n",
            "  inflating: /content/datasets/brain-tumor/valid/images/val_1 (95).jpg  \n",
            "  inflating: /content/datasets/brain-tumor/valid/images/val_1 (96).jpg  \n",
            "  inflating: /content/datasets/brain-tumor/valid/images/val_1 (97).jpg  \n",
            "  inflating: /content/datasets/brain-tumor/valid/images/val_1 (98).jpg  \n",
            "  inflating: /content/datasets/brain-tumor/valid/images/val_1 (99).jpg  \n",
            "  inflating: /content/datasets/brain-tumor/valid/labels/val_1 (1).txt  \n",
            "  inflating: /content/datasets/brain-tumor/valid/labels/val_1 (10).txt  \n",
            "  inflating: /content/datasets/brain-tumor/valid/labels/val_1 (100).txt  \n",
            "  inflating: /content/datasets/brain-tumor/valid/labels/val_1 (101).txt  \n",
            "  inflating: /content/datasets/brain-tumor/valid/labels/val_1 (102).txt  \n",
            "  inflating: /content/datasets/brain-tumor/valid/labels/val_1 (103).txt  \n",
            "  inflating: /content/datasets/brain-tumor/valid/labels/val_1 (104).txt  \n",
            "  inflating: /content/datasets/brain-tumor/valid/labels/val_1 (105).txt  \n",
            "  inflating: /content/datasets/brain-tumor/valid/labels/val_1 (106).txt  \n",
            "  inflating: /content/datasets/brain-tumor/valid/labels/val_1 (107).txt  \n",
            "  inflating: /content/datasets/brain-tumor/valid/labels/val_1 (108).txt  \n",
            "  inflating: /content/datasets/brain-tumor/valid/labels/val_1 (109).txt  \n",
            "  inflating: /content/datasets/brain-tumor/valid/labels/val_1 (11).txt  \n",
            "  inflating: /content/datasets/brain-tumor/valid/labels/val_1 (110).txt  \n",
            "  inflating: /content/datasets/brain-tumor/valid/labels/val_1 (111).txt  \n",
            "  inflating: /content/datasets/brain-tumor/valid/labels/val_1 (112).txt  \n",
            "  inflating: /content/datasets/brain-tumor/valid/labels/val_1 (113).txt  \n",
            "  inflating: /content/datasets/brain-tumor/valid/labels/val_1 (114).txt  \n",
            "  inflating: /content/datasets/brain-tumor/valid/labels/val_1 (115).txt  \n",
            "  inflating: /content/datasets/brain-tumor/valid/labels/val_1 (116).txt  \n",
            "  inflating: /content/datasets/brain-tumor/valid/labels/val_1 (117).txt  \n",
            "  inflating: /content/datasets/brain-tumor/valid/labels/val_1 (118).txt  \n",
            "  inflating: /content/datasets/brain-tumor/valid/labels/val_1 (119).txt  \n",
            "  inflating: /content/datasets/brain-tumor/valid/labels/val_1 (12).txt  \n",
            "  inflating: /content/datasets/brain-tumor/valid/labels/val_1 (120).txt  \n",
            "  inflating: /content/datasets/brain-tumor/valid/labels/val_1 (121).txt  \n",
            "  inflating: /content/datasets/brain-tumor/valid/labels/val_1 (122).txt  \n",
            "  inflating: /content/datasets/brain-tumor/valid/labels/val_1 (123).txt  \n",
            "  inflating: /content/datasets/brain-tumor/valid/labels/val_1 (124).txt  \n",
            "  inflating: /content/datasets/brain-tumor/valid/labels/val_1 (125).txt  \n",
            "  inflating: /content/datasets/brain-tumor/valid/labels/val_1 (126).txt  \n",
            "  inflating: /content/datasets/brain-tumor/valid/labels/val_1 (127).txt  \n",
            "  inflating: /content/datasets/brain-tumor/valid/labels/val_1 (128).txt  \n",
            "  inflating: /content/datasets/brain-tumor/valid/labels/val_1 (129).txt  \n",
            "  inflating: /content/datasets/brain-tumor/valid/labels/val_1 (13).txt  \n",
            "  inflating: /content/datasets/brain-tumor/valid/labels/val_1 (130).txt  \n",
            "  inflating: /content/datasets/brain-tumor/valid/labels/val_1 (131).txt  \n",
            "  inflating: /content/datasets/brain-tumor/valid/labels/val_1 (132).txt  \n",
            "  inflating: /content/datasets/brain-tumor/valid/labels/val_1 (133).txt  \n",
            "  inflating: /content/datasets/brain-tumor/valid/labels/val_1 (134).txt  \n",
            "  inflating: /content/datasets/brain-tumor/valid/labels/val_1 (135).txt  \n",
            "  inflating: /content/datasets/brain-tumor/valid/labels/val_1 (136).txt  \n",
            "  inflating: /content/datasets/brain-tumor/valid/labels/val_1 (137).txt  \n",
            "  inflating: /content/datasets/brain-tumor/valid/labels/val_1 (138).txt  \n",
            "  inflating: /content/datasets/brain-tumor/valid/labels/val_1 (139).txt  \n",
            "  inflating: /content/datasets/brain-tumor/valid/labels/val_1 (14).txt  \n",
            "  inflating: /content/datasets/brain-tumor/valid/labels/val_1 (140).txt  \n",
            "  inflating: /content/datasets/brain-tumor/valid/labels/val_1 (141).txt  \n",
            "  inflating: /content/datasets/brain-tumor/valid/labels/val_1 (142).txt  \n",
            "  inflating: /content/datasets/brain-tumor/valid/labels/val_1 (143).txt  \n",
            "  inflating: /content/datasets/brain-tumor/valid/labels/val_1 (144).txt  \n",
            "  inflating: /content/datasets/brain-tumor/valid/labels/val_1 (145).txt  \n",
            "  inflating: /content/datasets/brain-tumor/valid/labels/val_1 (146).txt  \n",
            "  inflating: /content/datasets/brain-tumor/valid/labels/val_1 (147).txt  \n",
            "  inflating: /content/datasets/brain-tumor/valid/labels/val_1 (148).txt  \n",
            "  inflating: /content/datasets/brain-tumor/valid/labels/val_1 (149).txt  \n",
            "  inflating: /content/datasets/brain-tumor/valid/labels/val_1 (15).txt  \n",
            "  inflating: /content/datasets/brain-tumor/valid/labels/val_1 (150).txt  \n",
            "  inflating: /content/datasets/brain-tumor/valid/labels/val_1 (151).txt  \n",
            "  inflating: /content/datasets/brain-tumor/valid/labels/val_1 (152).txt  \n",
            "  inflating: /content/datasets/brain-tumor/valid/labels/val_1 (153).txt  \n",
            "  inflating: /content/datasets/brain-tumor/valid/labels/val_1 (154).txt  \n",
            "  inflating: /content/datasets/brain-tumor/valid/labels/val_1 (155).txt  \n",
            "  inflating: /content/datasets/brain-tumor/valid/labels/val_1 (156).txt  \n",
            "  inflating: /content/datasets/brain-tumor/valid/labels/val_1 (157).txt  \n",
            "  inflating: /content/datasets/brain-tumor/valid/labels/val_1 (158).txt  \n",
            "  inflating: /content/datasets/brain-tumor/valid/labels/val_1 (159).txt  \n",
            "  inflating: /content/datasets/brain-tumor/valid/labels/val_1 (16).txt  \n",
            "  inflating: /content/datasets/brain-tumor/valid/labels/val_1 (160).txt  \n",
            "  inflating: /content/datasets/brain-tumor/valid/labels/val_1 (161).txt  \n",
            "  inflating: /content/datasets/brain-tumor/valid/labels/val_1 (162).txt  \n",
            "  inflating: /content/datasets/brain-tumor/valid/labels/val_1 (163).txt  \n",
            "  inflating: /content/datasets/brain-tumor/valid/labels/val_1 (164).txt  \n",
            "  inflating: /content/datasets/brain-tumor/valid/labels/val_1 (165).txt  \n",
            "  inflating: /content/datasets/brain-tumor/valid/labels/val_1 (166).txt  \n",
            "  inflating: /content/datasets/brain-tumor/valid/labels/val_1 (167).txt  \n",
            "  inflating: /content/datasets/brain-tumor/valid/labels/val_1 (168).txt  \n",
            "  inflating: /content/datasets/brain-tumor/valid/labels/val_1 (169).txt  \n",
            "  inflating: /content/datasets/brain-tumor/valid/labels/val_1 (17).txt  \n",
            "  inflating: /content/datasets/brain-tumor/valid/labels/val_1 (170).txt  \n",
            "  inflating: /content/datasets/brain-tumor/valid/labels/val_1 (171).txt  \n",
            "  inflating: /content/datasets/brain-tumor/valid/labels/val_1 (172).txt  \n",
            "  inflating: /content/datasets/brain-tumor/valid/labels/val_1 (173).txt  \n",
            "  inflating: /content/datasets/brain-tumor/valid/labels/val_1 (174).txt  \n",
            "  inflating: /content/datasets/brain-tumor/valid/labels/val_1 (175).txt  \n",
            "  inflating: /content/datasets/brain-tumor/valid/labels/val_1 (176).txt  \n",
            "  inflating: /content/datasets/brain-tumor/valid/labels/val_1 (177).txt  \n",
            "  inflating: /content/datasets/brain-tumor/valid/labels/val_1 (178).txt  \n",
            "  inflating: /content/datasets/brain-tumor/valid/labels/val_1 (179).txt  \n",
            "  inflating: /content/datasets/brain-tumor/valid/labels/val_1 (18).txt  \n",
            "  inflating: /content/datasets/brain-tumor/valid/labels/val_1 (180).txt  \n",
            "  inflating: /content/datasets/brain-tumor/valid/labels/val_1 (181).txt  \n",
            "  inflating: /content/datasets/brain-tumor/valid/labels/val_1 (182).txt  \n",
            "  inflating: /content/datasets/brain-tumor/valid/labels/val_1 (183).txt  \n",
            "  inflating: /content/datasets/brain-tumor/valid/labels/val_1 (184).txt  \n",
            "  inflating: /content/datasets/brain-tumor/valid/labels/val_1 (185).txt  \n",
            "  inflating: /content/datasets/brain-tumor/valid/labels/val_1 (186).txt  \n",
            "  inflating: /content/datasets/brain-tumor/valid/labels/val_1 (187).txt  \n",
            "  inflating: /content/datasets/brain-tumor/valid/labels/val_1 (188).txt  \n",
            "  inflating: /content/datasets/brain-tumor/valid/labels/val_1 (189).txt  \n",
            "  inflating: /content/datasets/brain-tumor/valid/labels/val_1 (19).txt  \n",
            "  inflating: /content/datasets/brain-tumor/valid/labels/val_1 (190).txt  \n",
            "  inflating: /content/datasets/brain-tumor/valid/labels/val_1 (191).txt  \n",
            "  inflating: /content/datasets/brain-tumor/valid/labels/val_1 (192).txt  \n",
            "  inflating: /content/datasets/brain-tumor/valid/labels/val_1 (193).txt  \n",
            "  inflating: /content/datasets/brain-tumor/valid/labels/val_1 (194).txt  \n",
            "  inflating: /content/datasets/brain-tumor/valid/labels/val_1 (195).txt  \n",
            "  inflating: /content/datasets/brain-tumor/valid/labels/val_1 (196).txt  \n",
            "  inflating: /content/datasets/brain-tumor/valid/labels/val_1 (197).txt  \n",
            "  inflating: /content/datasets/brain-tumor/valid/labels/val_1 (198).txt  \n",
            "  inflating: /content/datasets/brain-tumor/valid/labels/val_1 (199).txt  \n",
            "  inflating: /content/datasets/brain-tumor/valid/labels/val_1 (2).txt  \n",
            "  inflating: /content/datasets/brain-tumor/valid/labels/val_1 (20).txt  \n",
            "  inflating: /content/datasets/brain-tumor/valid/labels/val_1 (200).txt  \n",
            "  inflating: /content/datasets/brain-tumor/valid/labels/val_1 (201).txt  \n",
            "  inflating: /content/datasets/brain-tumor/valid/labels/val_1 (202).txt  \n",
            "  inflating: /content/datasets/brain-tumor/valid/labels/val_1 (203).txt  \n",
            "  inflating: /content/datasets/brain-tumor/valid/labels/val_1 (204).txt  \n",
            "  inflating: /content/datasets/brain-tumor/valid/labels/val_1 (205).txt  \n",
            "  inflating: /content/datasets/brain-tumor/valid/labels/val_1 (206).txt  \n",
            "  inflating: /content/datasets/brain-tumor/valid/labels/val_1 (207).txt  \n",
            "  inflating: /content/datasets/brain-tumor/valid/labels/val_1 (208).txt  \n",
            "  inflating: /content/datasets/brain-tumor/valid/labels/val_1 (209).txt  \n",
            "  inflating: /content/datasets/brain-tumor/valid/labels/val_1 (21).txt  \n",
            "  inflating: /content/datasets/brain-tumor/valid/labels/val_1 (210).txt  \n",
            "  inflating: /content/datasets/brain-tumor/valid/labels/val_1 (211).txt  \n",
            "  inflating: /content/datasets/brain-tumor/valid/labels/val_1 (212).txt  \n",
            "  inflating: /content/datasets/brain-tumor/valid/labels/val_1 (213).txt  \n",
            "  inflating: /content/datasets/brain-tumor/valid/labels/val_1 (214).txt  \n",
            "  inflating: /content/datasets/brain-tumor/valid/labels/val_1 (215).txt  \n",
            "  inflating: /content/datasets/brain-tumor/valid/labels/val_1 (216).txt  \n",
            "  inflating: /content/datasets/brain-tumor/valid/labels/val_1 (217).txt  \n",
            "  inflating: /content/datasets/brain-tumor/valid/labels/val_1 (218).txt  \n",
            "  inflating: /content/datasets/brain-tumor/valid/labels/val_1 (219).txt  \n",
            "  inflating: /content/datasets/brain-tumor/valid/labels/val_1 (22).txt  \n",
            "  inflating: /content/datasets/brain-tumor/valid/labels/val_1 (220).txt  \n",
            "  inflating: /content/datasets/brain-tumor/valid/labels/val_1 (221).txt  \n",
            "  inflating: /content/datasets/brain-tumor/valid/labels/val_1 (222).txt  \n",
            "  inflating: /content/datasets/brain-tumor/valid/labels/val_1 (223).txt  \n",
            "  inflating: /content/datasets/brain-tumor/valid/labels/val_1 (23).txt  \n",
            "  inflating: /content/datasets/brain-tumor/valid/labels/val_1 (24).txt  \n",
            "  inflating: /content/datasets/brain-tumor/valid/labels/val_1 (25).txt  \n",
            "  inflating: /content/datasets/brain-tumor/valid/labels/val_1 (26).txt  \n",
            "  inflating: /content/datasets/brain-tumor/valid/labels/val_1 (27).txt  \n",
            "  inflating: /content/datasets/brain-tumor/valid/labels/val_1 (28).txt  \n",
            "  inflating: /content/datasets/brain-tumor/valid/labels/val_1 (29).txt  \n",
            "  inflating: /content/datasets/brain-tumor/valid/labels/val_1 (3).txt  \n",
            "  inflating: /content/datasets/brain-tumor/valid/labels/val_1 (30).txt  \n",
            "  inflating: /content/datasets/brain-tumor/valid/labels/val_1 (31).txt  \n",
            "  inflating: /content/datasets/brain-tumor/valid/labels/val_1 (32).txt  \n",
            "  inflating: /content/datasets/brain-tumor/valid/labels/val_1 (33).txt  \n",
            "  inflating: /content/datasets/brain-tumor/valid/labels/val_1 (34).txt  \n",
            "  inflating: /content/datasets/brain-tumor/valid/labels/val_1 (35).txt  \n",
            "  inflating: /content/datasets/brain-tumor/valid/labels/val_1 (36).txt  \n",
            "  inflating: /content/datasets/brain-tumor/valid/labels/val_1 (37).txt  \n",
            "  inflating: /content/datasets/brain-tumor/valid/labels/val_1 (38).txt  \n",
            "  inflating: /content/datasets/brain-tumor/valid/labels/val_1 (39).txt  \n",
            "  inflating: /content/datasets/brain-tumor/valid/labels/val_1 (4).txt  \n",
            "  inflating: /content/datasets/brain-tumor/valid/labels/val_1 (40).txt  \n",
            "  inflating: /content/datasets/brain-tumor/valid/labels/val_1 (41).txt  \n",
            "  inflating: /content/datasets/brain-tumor/valid/labels/val_1 (42).txt  \n",
            "  inflating: /content/datasets/brain-tumor/valid/labels/val_1 (43).txt  \n",
            "  inflating: /content/datasets/brain-tumor/valid/labels/val_1 (44).txt  \n",
            "  inflating: /content/datasets/brain-tumor/valid/labels/val_1 (45).txt  \n",
            "  inflating: /content/datasets/brain-tumor/valid/labels/val_1 (46).txt  \n",
            "  inflating: /content/datasets/brain-tumor/valid/labels/val_1 (47).txt  \n",
            "  inflating: /content/datasets/brain-tumor/valid/labels/val_1 (48).txt  \n",
            "  inflating: /content/datasets/brain-tumor/valid/labels/val_1 (49).txt  \n",
            "  inflating: /content/datasets/brain-tumor/valid/labels/val_1 (5).txt  \n",
            "  inflating: /content/datasets/brain-tumor/valid/labels/val_1 (50).txt  \n",
            "  inflating: /content/datasets/brain-tumor/valid/labels/val_1 (51).txt  \n",
            "  inflating: /content/datasets/brain-tumor/valid/labels/val_1 (52).txt  \n",
            "  inflating: /content/datasets/brain-tumor/valid/labels/val_1 (53).txt  \n",
            "  inflating: /content/datasets/brain-tumor/valid/labels/val_1 (54).txt  \n",
            "  inflating: /content/datasets/brain-tumor/valid/labels/val_1 (55).txt  \n",
            "  inflating: /content/datasets/brain-tumor/valid/labels/val_1 (56).txt  \n",
            "  inflating: /content/datasets/brain-tumor/valid/labels/val_1 (57).txt  \n",
            "  inflating: /content/datasets/brain-tumor/valid/labels/val_1 (58).txt  \n",
            "  inflating: /content/datasets/brain-tumor/valid/labels/val_1 (59).txt  \n",
            "  inflating: /content/datasets/brain-tumor/valid/labels/val_1 (6).txt  \n",
            "  inflating: /content/datasets/brain-tumor/valid/labels/val_1 (60).txt  \n",
            "  inflating: /content/datasets/brain-tumor/valid/labels/val_1 (61).txt  \n",
            "  inflating: /content/datasets/brain-tumor/valid/labels/val_1 (62).txt  \n",
            "  inflating: /content/datasets/brain-tumor/valid/labels/val_1 (63).txt  \n",
            "  inflating: /content/datasets/brain-tumor/valid/labels/val_1 (64).txt  \n",
            "  inflating: /content/datasets/brain-tumor/valid/labels/val_1 (65).txt  \n",
            "  inflating: /content/datasets/brain-tumor/valid/labels/val_1 (66).txt  \n",
            "  inflating: /content/datasets/brain-tumor/valid/labels/val_1 (67).txt  \n",
            "  inflating: /content/datasets/brain-tumor/valid/labels/val_1 (68).txt  \n",
            "  inflating: /content/datasets/brain-tumor/valid/labels/val_1 (69).txt  \n",
            "  inflating: /content/datasets/brain-tumor/valid/labels/val_1 (7).txt  \n",
            "  inflating: /content/datasets/brain-tumor/valid/labels/val_1 (70).txt  \n",
            "  inflating: /content/datasets/brain-tumor/valid/labels/val_1 (71).txt  \n",
            "  inflating: /content/datasets/brain-tumor/valid/labels/val_1 (72).txt  \n",
            "  inflating: /content/datasets/brain-tumor/valid/labels/val_1 (73).txt  \n",
            "  inflating: /content/datasets/brain-tumor/valid/labels/val_1 (74).txt  \n",
            "  inflating: /content/datasets/brain-tumor/valid/labels/val_1 (75).txt  \n",
            "  inflating: /content/datasets/brain-tumor/valid/labels/val_1 (76).txt  \n",
            "  inflating: /content/datasets/brain-tumor/valid/labels/val_1 (77).txt  \n",
            "  inflating: /content/datasets/brain-tumor/valid/labels/val_1 (78).txt  \n",
            "  inflating: /content/datasets/brain-tumor/valid/labels/val_1 (79).txt  \n",
            "  inflating: /content/datasets/brain-tumor/valid/labels/val_1 (8).txt  \n",
            "  inflating: /content/datasets/brain-tumor/valid/labels/val_1 (80).txt  \n",
            "  inflating: /content/datasets/brain-tumor/valid/labels/val_1 (81).txt  \n",
            "  inflating: /content/datasets/brain-tumor/valid/labels/val_1 (82).txt  \n",
            "  inflating: /content/datasets/brain-tumor/valid/labels/val_1 (83).txt  \n",
            "  inflating: /content/datasets/brain-tumor/valid/labels/val_1 (84).txt  \n",
            "  inflating: /content/datasets/brain-tumor/valid/labels/val_1 (85).txt  \n",
            "  inflating: /content/datasets/brain-tumor/valid/labels/val_1 (86).txt  \n",
            "  inflating: /content/datasets/brain-tumor/valid/labels/val_1 (87).txt  \n",
            "  inflating: /content/datasets/brain-tumor/valid/labels/val_1 (88).txt  \n",
            "  inflating: /content/datasets/brain-tumor/valid/labels/val_1 (89).txt  \n",
            "  inflating: /content/datasets/brain-tumor/valid/labels/val_1 (9).txt  \n",
            "  inflating: /content/datasets/brain-tumor/valid/labels/val_1 (90).txt  \n",
            "  inflating: /content/datasets/brain-tumor/valid/labels/val_1 (91).txt  \n",
            "  inflating: /content/datasets/brain-tumor/valid/labels/val_1 (92).txt  \n",
            "  inflating: /content/datasets/brain-tumor/valid/labels/val_1 (93).txt  \n",
            "  inflating: /content/datasets/brain-tumor/valid/labels/val_1 (94).txt  \n",
            "  inflating: /content/datasets/brain-tumor/valid/labels/val_1 (95).txt  \n",
            "  inflating: /content/datasets/brain-tumor/valid/labels/val_1 (96).txt  \n",
            "  inflating: /content/datasets/brain-tumor/valid/labels/val_1 (97).txt  \n",
            "  inflating: /content/datasets/brain-tumor/valid/labels/val_1 (98).txt  \n",
            "  inflating: /content/datasets/brain-tumor/valid/labels/val_1 (99).txt  \n"
          ]
        }
      ]
    },
    {
      "cell_type": "code",
      "source": [
        "!ls /content/datasets/brain-tumor\n",
        "!ls /content/datasets/brain-tumor/images\n",
        "!ls /content/datasets/brain-tumor/labels\n"
      ],
      "metadata": {
        "colab": {
          "base_uri": "https://localhost:8080/"
        },
        "id": "Spgb4Ar2bBF1",
        "outputId": "b877706d-6a78-40f1-82cc-b129a000fb6a"
      },
      "execution_count": null,
      "outputs": [
        {
          "output_type": "stream",
          "name": "stdout",
          "text": [
            "train  valid\n",
            "ls: cannot access '/content/datasets/brain-tumor/images': No such file or directory\n",
            "ls: cannot access '/content/datasets/brain-tumor/labels': No such file or directory\n"
          ]
        }
      ]
    },
    {
      "cell_type": "code",
      "source": [
        "!ls /content/datasets/brain-tumor/train\n",
        "!ls /content/datasets/brain-tumor/valid\n"
      ],
      "metadata": {
        "colab": {
          "base_uri": "https://localhost:8080/"
        },
        "id": "J1M7Y0aPbR1j",
        "outputId": "ded014bc-7fb4-491f-f390-e581d42e68ee"
      },
      "execution_count": null,
      "outputs": [
        {
          "output_type": "stream",
          "name": "stdout",
          "text": [
            "images\tlabels\n",
            "images\tlabels\n"
          ]
        }
      ]
    },
    {
      "cell_type": "code",
      "source": [
        "%%writefile /content/datasets/brain-tumor.yaml\n",
        "path: /content/datasets/brain-tumor\n",
        "train: train/images\n",
        "val: valid/images\n",
        "test: valid/images\n",
        "names: ['negative', 'positive']\n"
      ],
      "metadata": {
        "colab": {
          "base_uri": "https://localhost:8080/"
        },
        "id": "ZUcL1VHabhJo",
        "outputId": "fafab150-a194-4c8f-a56a-52d370bf162d"
      },
      "execution_count": null,
      "outputs": [
        {
          "output_type": "stream",
          "name": "stdout",
          "text": [
            "Writing /content/datasets/brain-tumor.yaml\n"
          ]
        }
      ]
    },
    {
      "cell_type": "code",
      "source": [
        "!ls /content/datasets/brain-tumor/train/images\n",
        "!ls /content/datasets/brain-tumor/train/labels\n",
        "!ls /content/datasets/brain-tumor/valid/images\n",
        "!ls /content/datasets/brain-tumor/valid/labels\n"
      ],
      "metadata": {
        "colab": {
          "base_uri": "https://localhost:8080/"
        },
        "id": "YO5-8hd9bi5u",
        "outputId": "880adf0c-1d21-4541-d51e-2eb2f4d6f3c1"
      },
      "execution_count": null,
      "outputs": [
        {
          "output_type": "stream",
          "name": "stdout",
          "text": [
            " 00054_145.jpg\t 00116_9.jpg\t 00165_158.jpg\t 00282_83.jpg\t'112 (2).jpg'  '74 (6).jpg'\n",
            " 00054_164.jpg\t 00117_200.jpg\t 00165_176.jpg\t 00282_87.jpg\t 112.jpg       '74 (7).jpg'\n",
            " 00056_110.jpg\t 00120_215.jpg\t 00165_193.jpg\t 00282_93.jpg\t'113 (2).jpg'  '74 (8).jpg'\n",
            " 00056_129.jpg\t 00120_230.jpg\t 00166_189.jpg\t 00282_99.jpg\t 113.jpg       '74 (9).jpg'\n",
            " 00056_147.jpg\t 00120_245.jpg\t 00166_206.jpg\t 00284_149.jpg\t 114.jpg        74.jpg\n",
            " 00056_239.jpg\t 00120_260.jpg\t 00166_224.jpg\t 00285_87.jpg\t 115.jpg       '75 (10).jpg'\n",
            " 00056_92.jpg\t 00121_139.jpg\t 00166_241.jpg\t 00285_93.jpg\t 116.jpg       '75 (2).jpg'\n",
            " 00058_102.jpg\t 00121_157.jpg\t 00166_259.jpg\t 00291_22.jpg\t 118.jpg       '75 (3).jpg'\n",
            " 00058_122.jpg\t 00121_175.jpg\t 00167_125.jpg\t 00291_23.jpg\t 119.jpg       '75 (4).jpg'\n",
            " 00058_141.jpg\t 00122_108.jpg\t 00167_127.jpg\t 00291_24.jpg\t 124.jpg       '75 (5).jpg'\n",
            " 00058_179.jpg\t 00122_10.jpg\t 00167_213.jpg\t 00294_20.jpg\t 125.jpg       '75 (6).jpg'\n",
            " 00059_103.jpg\t 00122_11.jpg\t 00169_112.jpg\t 00294_21.jpg\t'128 (2).jpg'  '75 (7).jpg'\n",
            " 00059_122.jpg\t 00122_8.jpg\t 00169_119.jpg\t 00294_22.jpg\t 128.jpg       '75 (8).jpg'\n",
            " 00059_141.jpg\t 00122_90.jpg\t 00169_127.jpg\t 00294_23.jpg\t 138.jpg       '75 (9).jpg'\n",
            " 00059_84.jpg\t 00122_9.jpg\t 00169_134.jpg\t 00296_118.jpg\t 144.jpg        75.jpg\n",
            " 00060_69.jpg\t 00123_10.jpg\t 00169_141.jpg\t 00296_124.jpg\t'61 (3).jpg'   '76 (10).jpg'\n",
            " 00060_70.jpg\t 00123_11.jpg\t 00169_142.jpg\t 00296_125.jpg\t'61 (4).jpg'   '76 (11).jpg'\n",
            " 00060_71.jpg\t 00123_12.jpg\t 00169_149.jpg\t 00296_130.jpg\t'61 (5).jpg'   '76 (12).jpg'\n",
            " 00060_72.jpg\t 00123_13.jpg\t 00169_208.jpg\t 00296_132.jpg\t'61 (6).jpg'   '76 (2).jpg'\n",
            " 00061_108.jpg\t 00123_14.jpg\t 00169_225.jpg\t 00299_101.jpg\t'61 (7).jpg'   '76 (3).jpg'\n",
            " 00061_127.jpg\t 00123_15.jpg\t 00169_243.jpg\t 00299_91.jpg\t'61 (8).jpg'   '76 (4).jpg'\n",
            " 00061_146.jpg\t 00123_16.jpg\t 00169_260.jpg\t 00303_81.jpg\t 61.jpg        '76 (5).jpg'\n",
            " 00061_184.jpg\t 00123_223.jpg\t 00171_109.jpg\t 00303_85.jpg\t'62 (10).jpg'  '76 (6).jpg'\n",
            " 00063_197.jpg\t 00123_241.jpg\t 00171_126.jpg\t 00304_101.jpg\t'62 (11).jpg'  '76 (7).jpg'\n",
            " 00063_217.jpg\t 00123_259.jpg\t 00172_102.jpg\t 00304_107.jpg\t'62 (12).jpg'  '76 (8).jpg'\n",
            " 00064_101.jpg\t 00123_277.jpg\t 00172_108.jpg\t 00304_113.jpg\t'62 (13).jpg'  '76 (9).jpg'\n",
            " 00064_121.jpg\t 00124_10.jpg\t 00172_110.jpg\t 00304_119.jpg\t'62 (14).jpg'   76.jpg\n",
            " 00064_140.jpg\t 00124_114.jpg\t 00172_114.jpg\t 00304_98.jpg\t'62 (15).jpg'  '77 (2).jpg'\n",
            " 00066_145.jpg\t 00124_11.jpg\t 00172_91.jpg\t 00305_105.jpg\t'62 (2).jpg'   '77 (3).jpg'\n",
            " 00066_221.jpg\t 00124_12.jpg\t 00172_92.jpg\t 00305_107.jpg\t'62 (3).jpg'   '77 (4).jpg'\n",
            " 00066_240.jpg\t 00124_132.jpg\t 00172_96.jpg\t 00305_113.jpg\t'62 (4).jpg'   '77 (5).jpg'\n",
            " 00066_259.jpg\t 00124_150.jpg\t 00176_104.jpg\t 00305_116.jpg\t'62 (5).jpg'   '77 (6).jpg'\n",
            " 00066_278.jpg\t 00124_168.jpg\t 00176_109.jpg\t 00305_97.jpg\t'62 (6).jpg'    77.jpg\n",
            " 00071_183.jpg\t 00124_6.jpg\t 00176_127.jpg\t 00305_98.jpg\t'62 (7).jpg'   '78 (2).jpg'\n",
            " 00071_221.jpg\t 00124_7.jpg\t 00176_145.jpg\t 00306_102.jpg\t'62 (8).jpg'   '78 (3).jpg'\n",
            " 00071_240.jpg\t 00124_8.jpg\t 00176_89.jpg\t 00306_109.jpg\t'62 (9).jpg'   '78 (4).jpg'\n",
            " 00071_259.jpg\t 00124_96.jpg\t 00176_92.jpg\t 00306_115.jpg\t 62.jpg        '78 (5).jpg'\n",
            " 00071_278.jpg\t 00124_9.jpg\t 00176_98.jpg\t 00306_92.jpg\t'63 (2).jpg'   '78 (6).jpg'\n",
            " 00072_119.jpg\t 00128_243.jpg\t 00177_125.jpg\t 00306_96.jpg\t'63 (3).jpg'    78.jpg\n",
            " 00072_138.jpg\t 00128_260.jpg\t 00177_145.jpg\t 00311_105.jpg\t'63 (4).jpg'   '79 (10).jpg'\n",
            " 00072_196.jpg\t 00128_277.jpg\t 00177_221.jpg\t 00311_111.jpg\t'63 (5).jpg'   '79 (11).jpg'\n",
            " 00072_80.jpg\t 00130_100.jpg\t 00177_241.jpg\t 00311_117.jpg\t'63 (6).jpg'   '79 (12).jpg'\n",
            " 00072_99.jpg\t 00130_107.jpg\t 00177_260.jpg\t 00311_118.jpg\t'63 (7).jpg'   '79 (2).jpg'\n",
            " 00074_209.jpg\t 00130_112.jpg\t 00177_280.jpg\t 00311_123.jpg\t'63 (8).jpg'   '79 (3).jpg'\n",
            " 00074_229.jpg\t 00130_114.jpg\t 00178_104.jpg\t 00313_118.jpg\t 63.jpg        '79 (4).jpg'\n",
            " 00074_249.jpg\t 00130_119.jpg\t 00178_122.jpg\t 00313_119.jpg\t'64 (2).jpg'   '79 (5).jpg'\n",
            " 00074_269.jpg\t 00130_239.jpg\t 00178_140.jpg\t 00313_124.jpg\t'64 (3).jpg'   '79 (6).jpg'\n",
            " 00074_289.jpg\t 00130_256.jpg\t 00178_158.jpg\t 00313_126.jpg\t'64 (4).jpg'   '79 (7).jpg'\n",
            " 00077_166.jpg\t 00130_273.jpg\t 00178_175.jpg\t 00313_130.jpg\t'64 (5).jpg'   '79 (8).jpg'\n",
            " 00077_186.jpg\t 00130_78.jpg\t 00183_109.jpg\t 00313_133.jpg\t'64 (6).jpg'   '79 (9).jpg'\n",
            " 00077_206.jpg\t 00130_81.jpg\t 00183_126.jpg\t 00317_20.jpg\t'64 (7).jpg'    79.jpg\n",
            " 00077_226.jpg\t 00130_88.jpg\t 00183_144.jpg\t 00317_21.jpg\t'64 (8).jpg'   '80 (2).jpg'\n",
            " 00077_246.jpg\t 00130_94.jpg\t 00183_161.jpg\t 00317_22.jpg\t 64.jpg        '80 (3).jpg'\n",
            " 00078_219.jpg\t 00132_112.jpg\t 00183_178.jpg\t 00317_23.jpg\t'65 (10).jpg'  '80 (4).jpg'\n",
            " 00078_239.jpg\t 00132_130.jpg\t 00183_195.jpg\t 00317_24.jpg\t'65 (11).jpg'  '80 (5).jpg'\n",
            " 00078_258.jpg\t 00132_147.jpg\t 00183_80.jpg\t 00317_25.jpg\t'65 (12).jpg'  '80 (6).jpg'\n",
            " 00078_278.jpg\t 00132_164.jpg\t 00183_86.jpg\t 00317_26.jpg\t'65 (2).jpg'   '80 (7).jpg'\n",
            " 00085_156.jpg\t 00132_95.jpg\t 00184_127.jpg\t 00317_27.jpg\t'65 (3).jpg'    80.jpg\n",
            " 00087_130.jpg\t 00133_228.jpg\t 00184_145.jpg\t 00317_28.jpg\t'65 (4).jpg'   '81 (2).jpg'\n",
            " 00087_149.jpg\t 00133_247.jpg\t 00184_164.jpg\t 00322_108.jpg\t'65 (5).jpg'   '81 (3).jpg'\n",
            " 00087_185.jpg\t 00133_266.jpg\t 00185_252.jpg\t 00322_114.jpg\t'65 (6).jpg'   '81 (4).jpg'\n",
            " 00090_112.jpg\t 00136_103.jpg\t 00185_271.jpg\t 00322_115.jpg\t'65 (7).jpg'   '81 (5).jpg'\n",
            " 00090_130.jpg\t 00136_121.jpg\t 00185_289.jpg\t 00322_121.jpg\t'65 (8).jpg'   '81 (6).jpg'\n",
            " 00090_204.jpg\t 00136_138.jpg\t 00186_207.jpg\t 00322_122.jpg\t'65 (9).jpg'    81.jpg\n",
            " 00095_161.jpg\t 00137_249.jpg\t 00187_100.jpg\t 00322_127.jpg\t 65.jpg        '82 (2).jpg'\n",
            " 00095_170.jpg\t 00137_264.jpg\t 00187_118.jpg\t 00322_130.jpg\t'66 (10).jpg'  '82 (3).jpg'\n",
            " 00095_176.jpg\t 00138_217.jpg\t 00187_135.jpg\t 00322_134.jpg\t'66 (11).jpg'  '82 (4).jpg'\n",
            " 00095_181.jpg\t 00138_235.jpg\t 00187_153.jpg\t 00322_140.jpg\t'66 (12).jpg'  '82 (5).jpg'\n",
            " 00095_188.jpg\t 00138_271.jpg\t 00187_170.jpg\t 00322_147.jpg\t'66 (13).jpg'   82.jpg\n",
            " 00095_200.jpg\t 00138_289.jpg\t 00191_106.jpg\t 00322_153.jpg\t'66 (2).jpg'   '83 (2).jpg'\n",
            " 00095_201.jpg\t 00142_107.jpg\t 00191_124.jpg\t 00328_100.jpg\t'66 (3).jpg'   '83 (3).jpg'\n",
            " 00095_212.jpg\t 00142_126.jpg\t 00191_143.jpg\t 00328_90.jpg\t'66 (4).jpg'   '83 (4).jpg'\n",
            " 00095_222.jpg\t 00142_144.jpg\t 00192_191.jpg\t 00328_94.jpg\t'66 (5).jpg'   '83 (5).jpg'\n",
            " 00095_224.jpg\t 00142_163.jpg\t 00192_244.jpg\t 00329_87.jpg\t'66 (6).jpg'    83.jpg\n",
            " 00095_226.jpg\t 00142_89.jpg\t 00192_262.jpg\t 00329_90.jpg\t'66 (7).jpg'   '84 (2).jpg'\n",
            " 00095_236.jpg\t 00143_236.jpg\t 00192_280.jpg\t 00332_141.jpg\t'66 (8).jpg'   '84 (3).jpg'\n",
            " 00095_243.jpg\t 00143_254.jpg\t 00193_172.jpg\t 00332_147.jpg\t'66 (9).jpg'   '84 (4).jpg'\n",
            " 00095_263.jpg\t 00143_272.jpg\t 00193_190.jpg\t 00334_101.jpg\t 66.jpg         84.jpg\n",
            " 00096_240.jpg\t 00144_243.jpg\t 00193_208.jpg\t 00334_108.jpg\t'67 (10).jpg'  '85 (2).jpg'\n",
            " 00096_260.jpg\t 00144_260.jpg\t 00194_209.jpg\t 00334_114.jpg\t'67 (11).jpg'  '85 (3).jpg'\n",
            " 00096_280.jpg\t 00144_278.jpg\t 00194_226.jpg\t 00334_120.jpg\t'67 (2).jpg'   '85 (4).jpg'\n",
            " 00097_106.jpg\t 00146_142.jpg\t 00194_243.jpg\t 00334_121.jpg\t'67 (3).jpg'   '85 (5).jpg'\n",
            " 00097_124.jpg\t 00146_160.jpg\t 00194_259.jpg\t 00334_91.jpg\t'67 (4).jpg'   '85 (6).jpg'\n",
            " 00097_162.jpg\t 00146_195.jpg\t 00195_208.jpg\t 00334_95.jpg\t'67 (5).jpg'    85.jpg\n",
            " 00097_254.jpg\t 00147_115.jpg\t 00195_225.jpg\t 00338_15.jpg\t'67 (6).jpg'   '86 (2).jpg'\n",
            " 00097_65.jpg\t 00147_134.jpg\t 00201_102.jpg\t 00340_119.jpg\t'67 (7).jpg'    86.jpg\n",
            " 00097_68.jpg\t 00147_152.jpg\t 00201_121.jpg\t 00340_121.jpg\t'67 (8).jpg'   '87 (2).jpg'\n",
            " 00097_70.jpg\t 00147_170.jpg\t 00201_141.jpg\t 00340_126.jpg\t'67 (9).jpg'   '87 (3).jpg'\n",
            " 00097_72.jpg\t 00148_19.jpg\t 00240_134.jpg\t 00340_128.jpg\t 67.jpg        '87 (4).jpg'\n",
            " 00097_74.jpg\t 00148_20.jpg\t 00240_138.jpg\t 00340_132.jpg\t'68 (10).jpg'  '87 (5).jpg'\n",
            " 00097_76.jpg\t 00148_22.jpg\t 00240_144.jpg\t 00340_138.jpg\t'68 (2).jpg'    87.jpg\n",
            " 00097_77.jpg\t 00148_24.jpg\t 00240_151.jpg\t 00350_126.jpg\t'68 (3).jpg'   '88 (2).jpg'\n",
            " 00097_79.jpg\t 00150_10.jpg\t 00240_157.jpg\t 00350_128.jpg\t'68 (4).jpg'   '88 (3).jpg'\n",
            " 00097_80.jpg\t 00150_11.jpg\t 00245_101.jpg\t 00350_132.jpg\t'68 (5).jpg'   '88 (4).jpg'\n",
            " 00097_81.jpg\t 00150_12.jpg\t 00246_103.jpg\t 00350_135.jpg\t'68 (6).jpg'   '88 (5).jpg'\n",
            " 00097_83.jpg\t 00150_235.jpg\t 00246_96.jpg\t 00350_139.jpg\t'68 (7).jpg'    88.jpg\n",
            " 00097_87.jpg\t 00150_252.jpg\t 00250_104.jpg\t 00350_145.jpg\t'68 (8).jpg'   '89 (2).jpg'\n",
            " 00098_247.jpg\t 00150_8.jpg\t 00250_110.jpg\t 00350_151.jpg\t'68 (9).jpg'   '89 (3).jpg'\n",
            " 00098_266.jpg\t 00150_9.jpg\t 00250_115.jpg\t 00350_157.jpg\t 68.jpg        '89 (4).jpg'\n",
            " 00099_129.jpg\t 00151_10.jpg\t 00250_120.jpg\t 00352_103.jpg\t'69 (2).jpg'   '89 (5).jpg'\n",
            " 00099_130.jpg\t 00151_128.jpg\t 00250_121.jpg\t 00352_93.jpg\t'69 (3).jpg'    89.jpg\n",
            " 00099_137.jpg\t 00151_12.jpg\t 00253_79.jpg\t 00352_97.jpg\t'69 (4).jpg'   '90 (2).jpg'\n",
            " 00099_139.jpg\t 00151_13.jpg\t 00253_85.jpg\t 00359_103.jpg\t'69 (5).jpg'   '90 (3).jpg'\n",
            " 00099_145.jpg\t 00151_145.jpg\t 00253_92.jpg\t 00359_109.jpg\t'69 (6).jpg'    90.jpg\n",
            " 00099_149.jpg\t 00151_14.jpg\t 00254_79.jpg\t 00359_115.jpg\t'69 (7).jpg'   '91 (2).jpg'\n",
            " 00099_154.jpg\t 00151_15.jpg\t 00254_83.jpg\t 00359_116.jpg\t'69 (8).jpg'   '91 (3).jpg'\n",
            " 00100_102.jpg\t 00151_162.jpg\t 00254_89.jpg\t 00359_121.jpg\t 69.jpg        '91 (4).jpg'\n",
            " 00100_119.jpg\t 00151_17.jpg\t 00260_113.jpg\t 00359_123.jpg\t'70 (10).jpg'  '91 (5).jpg'\n",
            " 00100_136.jpg\t 00151_195.jpg\t 00260_115.jpg\t 00359_97.jpg\t'70 (11).jpg'  '91 (6).jpg'\n",
            " 00100_153.jpg\t 00151_211.jpg\t 00260_119.jpg\t 00360_102.jpg\t'70 (2).jpg'    91.jpg\n",
            " 00100_170.jpg\t 00154_210.jpg\t 00260_121.jpg\t 00360_108.jpg\t'70 (3).jpg'   '92 (2).jpg'\n",
            " 00104_132.jpg\t 00154_229.jpg\t 00260_125.jpg\t 00360_114.jpg\t'70 (4).jpg'   '92 (3).jpg'\n",
            " 00104_14.jpg\t 00154_248.jpg\t 00260_130.jpg\t 00360_115.jpg\t'70 (5).jpg'   '92 (4).jpg'\n",
            " 00104_150.jpg\t 00154_267.jpg\t 00260_136.jpg\t 00360_120.jpg\t'70 (6).jpg'   '92 (5).jpg'\n",
            " 00104_15.jpg\t 00156_116.jpg\t 00260_142.jpg\t 00360_122.jpg\t'70 (7).jpg'   '92 (6).jpg'\n",
            " 00104_168.jpg\t 00156_132.jpg\t 00263_109.jpg\t 00360_126.jpg\t'70 (8).jpg'    92.jpg\n",
            " 00104_16.jpg\t 00156_148.jpg\t 00263_116.jpg\t 00360_129.jpg\t'70 (9).jpg'   '93 (2).jpg'\n",
            " 00104_17.jpg\t 00156_164.jpg\t 00263_117.jpg\t 00360_87.jpg\t 70.jpg        '93 (3).jpg'\n",
            " 00104_185.jpg\t 00156_180.jpg\t 00263_123.jpg\t 00360_90.jpg\t'71 (2).jpg'   '93 (4).jpg'\n",
            " 00104_18.jpg\t 00156_196.jpg\t 00263_125.jpg\t 00360_96.jpg\t'71 (3).jpg'   '93 (5).jpg'\n",
            " 00104_19.jpg\t 00157_115.jpg\t 00263_130.jpg\t 00364_107.jpg\t'71 (4).jpg'   '93 (6).jpg'\n",
            " 00105_113.jpg\t 00158_102.jpg\t 00263_133.jpg\t 00364_113.jpg\t'71 (5).jpg'    93.jpg\n",
            " 00105_132.jpg\t 00158_108.jpg\t 00263_137.jpg\t 00364_119.jpg\t'71 (6).jpg'   '94 (2).jpg'\n",
            " 00105_151.jpg\t 00158_114.jpg\t 00270_11.jpg\t 00364_120.jpg\t 71.jpg        '94 (3).jpg'\n",
            " 00105_94.jpg\t 00158_115.jpg\t 00270_12.jpg\t 00364_125.jpg\t'72 (10).jpg'  '94 (4).jpg'\n",
            " 00106_195.jpg\t 00158_239.jpg\t 00270_13.jpg\t 00364_127.jpg\t'72 (11).jpg'  '94 (5).jpg'\n",
            " 00106_253.jpg\t 00158_256.jpg\t 00271_106.jpg\t 00406_98.jpg\t'72 (12).jpg'  '94 (6).jpg'\n",
            " 00107_101.jpg\t 00158_272.jpg\t 00271_111.jpg\t'100 (2).jpg'\t'72 (2).jpg'    94.jpg\n",
            " 00107_118.jpg\t 00158_289.jpg\t 00271_116.jpg\t'100 (3).jpg'\t'72 (3).jpg'   '95 (2).jpg'\n",
            " 00108_102.jpg\t 00158_86.jpg\t 00271_117.jpg\t 100.jpg\t'72 (4).jpg'   '95 (3).jpg'\n",
            " 00109_104.jpg\t 00158_90.jpg\t 00271_122.jpg\t'102 (2).jpg'\t'72 (5).jpg'   '95 (4).jpg'\n",
            " 00109_85.jpg\t 00158_96.jpg\t 00271_124.jpg\t'102 (3).jpg'\t'72 (6).jpg'    95.jpg\n",
            " 00110_131.jpg\t 00159_133.jpg\t 00271_128.jpg\t'102 (4).jpg'\t'72 (7).jpg'   '96 (2).jpg'\n",
            " 00110_147.jpg\t 00159_152.jpg\t 00271_130.jpg\t 102.jpg\t'72 (8).jpg'   '96 (3).jpg'\n",
            " 00110_162.jpg\t 00159_171.jpg\t 00271_134.jpg\t'103 (2).jpg'\t'72 (9).jpg'   '96 (4).jpg'\n",
            " 00110_178.jpg\t 00159_189.jpg\t 00271_145.jpg\t 103.jpg\t 72.jpg        '96 (5).jpg'\n",
            " 00111_110.jpg\t 00159_207.jpg\t 00273_103.jpg\t'104 (2).jpg'\t'73 (2).jpg'    96.jpg\n",
            " 00111_98.jpg\t 00160_270.jpg\t 00273_109.jpg\t'104 (3).jpg'\t'73 (3).jpg'   '97 (2).jpg'\n",
            " 00112_10.jpg\t 00162_122.jpg\t 00273_86.jpg\t 104.jpg\t'73 (4).jpg'   '97 (3).jpg'\n",
            " 00112_11.jpg\t 00165_110.jpg\t 00273_90.jpg\t 105.jpg\t'73 (5).jpg'    97.jpg\n",
            " 00112_12.jpg\t 00165_111.jpg\t 00273_96.jpg\t'106 (2).jpg'\t'73 (6).jpg'   '98 (2).jpg'\n",
            " 00116_11.jpg\t 00165_116.jpg\t 00281_104.jpg\t 106.jpg\t 73.jpg        '98 (3).jpg'\n",
            " 00116_12.jpg\t 00165_118.jpg\t 00281_110.jpg\t 107.jpg\t'74 (10).jpg'  '98 (4).jpg'\n",
            " 00116_13.jpg\t 00165_122.jpg\t 00281_116.jpg\t 108.jpg\t'74 (11).jpg'   98.jpg\n",
            " 00116_14.jpg\t 00165_123.jpg\t 00281_117.jpg\t'109 (2).jpg'\t'74 (12).jpg'  '99 (2).jpg'\n",
            " 00116_15.jpg\t 00165_125.jpg\t 00281_122.jpg\t 109.jpg\t'74 (2).jpg'   '99 (3).jpg'\n",
            " 00116_16.jpg\t 00165_129.jpg\t 00281_124.jpg\t'110 (2).jpg'\t'74 (3).jpg'   '99 (4).jpg'\n",
            " 00116_231.jpg\t 00165_135.jpg\t 00281_128.jpg\t 110.jpg\t'74 (4).jpg'    99.jpg\n",
            " 00116_8.jpg\t 00165_140.jpg\t 00281_98.jpg\t 111.jpg\t'74 (5).jpg'\n",
            " 00054_145.txt\t 00116_231.txt\t 00165_125.txt\t 00281_116.txt\t 116.txt       '75 (10).txt'\n",
            " 00054_164.txt\t 00116_8.txt\t 00165_129.txt\t 00281_117.txt\t 118.txt       '75 (2).txt'\n",
            " 00056_110.txt\t 00116_9.txt\t 00165_135.txt\t 00281_122.txt\t 119.txt       '75 (3).txt'\n",
            " 00056_129.txt\t 00117_200.txt\t 00165_140.txt\t 00281_124.txt\t 124.txt       '75 (4).txt'\n",
            " 00056_147.txt\t 00120_215.txt\t 00165_158.txt\t 00281_128.txt\t 125.txt       '75 (5).txt'\n",
            " 00056_239.txt\t 00120_230.txt\t 00165_176.txt\t 00281_98.txt\t'128 (2).txt'  '75 (6).txt'\n",
            " 00056_92.txt\t 00120_245.txt\t 00165_193.txt\t 00282_83.txt\t 128.txt       '75 (7).txt'\n",
            " 00058_102.txt\t 00120_260.txt\t 00166_189.txt\t 00282_87.txt\t 138.txt       '75 (8).txt'\n",
            " 00058_122.txt\t 00121_139.txt\t 00166_206.txt\t 00282_93.txt\t 144.txt       '75 (9).txt'\n",
            " 00058_141.txt\t 00121_157.txt\t 00166_224.txt\t 00282_99.txt\t'61 (3).txt'    75.txt\n",
            " 00058_179.txt\t 00121_175.txt\t 00166_241.txt\t 00284_149.txt\t'61 (4).txt'   '76 (10).txt'\n",
            " 00059_103.txt\t 00122_108.txt\t 00166_259.txt\t 00285_87.txt\t'61 (5).txt'   '76 (11).txt'\n",
            " 00059_122.txt\t 00122_10.txt\t 00167_125.txt\t 00285_93.txt\t'61 (6).txt'   '76 (12).txt'\n",
            " 00059_141.txt\t 00122_11.txt\t 00167_127.txt\t 00291_22.txt\t'61 (7).txt'   '76 (2).txt'\n",
            " 00059_84.txt\t 00122_8.txt\t 00167_213.txt\t 00291_23.txt\t'61 (8).txt'   '76 (3).txt'\n",
            " 00060_69.txt\t 00122_90.txt\t 00169_112.txt\t 00291_24.txt\t 61.txt        '76 (4).txt'\n",
            " 00060_70.txt\t 00122_9.txt\t 00169_119.txt\t 00294_20.txt\t'62 (10).txt'  '76 (5).txt'\n",
            " 00060_71.txt\t 00123_10.txt\t 00169_127.txt\t 00294_21.txt\t'62 (11).txt'  '76 (6).txt'\n",
            " 00060_72.txt\t 00123_11.txt\t 00169_134.txt\t 00294_22.txt\t'62 (12).txt'  '76 (7).txt'\n",
            " 00061_108.txt\t 00123_12.txt\t 00169_141.txt\t 00294_23.txt\t'62 (13).txt'  '76 (8).txt'\n",
            " 00061_127.txt\t 00123_13.txt\t 00169_142.txt\t 00296_118.txt\t'62 (14).txt'  '76 (9).txt'\n",
            " 00061_146.txt\t 00123_14.txt\t 00169_149.txt\t 00296_124.txt\t'62 (15).txt'   76.txt\n",
            " 00061_184.txt\t 00123_15.txt\t 00169_208.txt\t 00296_125.txt\t'62 (2).txt'   '77 (2).txt'\n",
            " 00063_197.txt\t 00123_16.txt\t 00169_225.txt\t 00296_130.txt\t'62 (3).txt'   '77 (3).txt'\n",
            " 00063_217.txt\t 00123_223.txt\t 00169_243.txt\t 00296_132.txt\t'62 (4).txt'   '77 (4).txt'\n",
            " 00064_101.txt\t 00123_241.txt\t 00169_260.txt\t 00299_101.txt\t'62 (5).txt'   '77 (5).txt'\n",
            " 00064_121.txt\t 00123_259.txt\t 00171_109.txt\t 00299_91.txt\t'62 (6).txt'   '77 (6).txt'\n",
            " 00064_140.txt\t 00123_277.txt\t 00171_126.txt\t 00303_81.txt\t'62 (7).txt'    77.txt\n",
            " 00066_145.txt\t 00124_10.txt\t 00172_102.txt\t 00303_85.txt\t'62 (8).txt'   '78 (2).txt'\n",
            " 00066_221.txt\t 00124_114.txt\t 00172_108.txt\t 00304_101.txt\t'62 (9).txt'   '78 (3).txt'\n",
            " 00066_240.txt\t 00124_11.txt\t 00172_110.txt\t 00304_107.txt\t 62.txt        '78 (4).txt'\n",
            " 00066_259.txt\t 00124_12.txt\t 00172_114.txt\t 00304_113.txt\t'63 (2).txt'   '78 (5).txt'\n",
            " 00066_278.txt\t 00124_132.txt\t 00172_91.txt\t 00304_119.txt\t'63 (3).txt'   '78 (6).txt'\n",
            " 00071_183.txt\t 00124_150.txt\t 00172_92.txt\t 00304_98.txt\t'63 (4).txt'    78.txt\n",
            " 00071_221.txt\t 00124_168.txt\t 00172_96.txt\t 00305_105.txt\t'63 (5).txt'   '79 (10).txt'\n",
            " 00071_240.txt\t 00124_6.txt\t 00176_104.txt\t 00305_107.txt\t'63 (6).txt'   '79 (11).txt'\n",
            " 00071_259.txt\t 00124_7.txt\t 00176_109.txt\t 00305_113.txt\t'63 (7).txt'   '79 (12).txt'\n",
            " 00071_278.txt\t 00124_8.txt\t 00176_127.txt\t 00305_116.txt\t'63 (8).txt'   '79 (2).txt'\n",
            " 00072_119.txt\t 00124_96.txt\t 00176_145.txt\t 00305_97.txt\t 63.txt        '79 (3).txt'\n",
            " 00072_138.txt\t 00124_9.txt\t 00176_89.txt\t 00305_98.txt\t'64 (2).txt'   '79 (4).txt'\n",
            " 00072_196.txt\t 00128_243.txt\t 00176_92.txt\t 00306_102.txt\t'64 (3).txt'   '79 (5).txt'\n",
            " 00072_80.txt\t 00128_260.txt\t 00176_98.txt\t 00306_109.txt\t'64 (4).txt'   '79 (6).txt'\n",
            " 00072_99.txt\t 00128_277.txt\t 00177_125.txt\t 00306_115.txt\t'64 (5).txt'   '79 (7).txt'\n",
            " 00074_209.txt\t 00130_100.txt\t 00177_145.txt\t 00306_92.txt\t'64 (6).txt'   '79 (8).txt'\n",
            " 00074_229.txt\t 00130_107.txt\t 00177_221.txt\t 00306_96.txt\t'64 (7).txt'   '79 (9).txt'\n",
            " 00074_249.txt\t 00130_112.txt\t 00177_241.txt\t 00311_105.txt\t'64 (8).txt'    79.txt\n",
            " 00074_269.txt\t 00130_114.txt\t 00177_260.txt\t 00311_111.txt\t 64.txt        '80 (2).txt'\n",
            " 00074_289.txt\t 00130_119.txt\t 00177_280.txt\t 00311_117.txt\t'65 (10).txt'  '80 (3).txt'\n",
            " 00077_166.txt\t 00130_239.txt\t 00178_104.txt\t 00311_118.txt\t'65 (11).txt'  '80 (4).txt'\n",
            " 00077_186.txt\t 00130_256.txt\t 00178_122.txt\t 00311_123.txt\t'65 (12).txt'  '80 (5).txt'\n",
            " 00077_206.txt\t 00130_273.txt\t 00178_140.txt\t 00313_118.txt\t'65 (2).txt'   '80 (6).txt'\n",
            " 00077_226.txt\t 00130_78.txt\t 00178_158.txt\t 00313_119.txt\t'65 (3).txt'   '80 (7).txt'\n",
            " 00077_246.txt\t 00130_81.txt\t 00178_175.txt\t 00313_124.txt\t'65 (4).txt'    80.txt\n",
            " 00078_219.txt\t 00130_88.txt\t 00183_109.txt\t 00313_126.txt\t'65 (5).txt'   '81 (2).txt'\n",
            " 00078_239.txt\t 00130_94.txt\t 00183_126.txt\t 00313_130.txt\t'65 (6).txt'   '81 (3).txt'\n",
            " 00078_258.txt\t 00132_112.txt\t 00183_144.txt\t 00313_133.txt\t'65 (7).txt'   '81 (4).txt'\n",
            " 00078_278.txt\t 00132_130.txt\t 00183_161.txt\t 00317_20.txt\t'65 (8).txt'   '81 (5).txt'\n",
            " 00085_156.txt\t 00132_147.txt\t 00183_178.txt\t 00317_21.txt\t'65 (9).txt'   '81 (6).txt'\n",
            " 00087_130.txt\t 00132_164.txt\t 00183_195.txt\t 00317_22.txt\t 65.txt         81.txt\n",
            " 00087_149.txt\t 00132_95.txt\t 00183_80.txt\t 00317_23.txt\t'66 (10).txt'  '82 (2).txt'\n",
            " 00087_185.txt\t 00133_228.txt\t 00183_86.txt\t 00317_24.txt\t'66 (11).txt'  '82 (3).txt'\n",
            " 00090_112.txt\t 00133_247.txt\t 00184_127.txt\t 00317_25.txt\t'66 (12).txt'  '82 (4).txt'\n",
            " 00090_130.txt\t 00133_266.txt\t 00184_145.txt\t 00317_26.txt\t'66 (13).txt'  '82 (5).txt'\n",
            " 00090_204.txt\t 00136_103.txt\t 00184_164.txt\t 00317_27.txt\t'66 (2).txt'    82.txt\n",
            " 00095_161.txt\t 00136_121.txt\t 00185_252.txt\t 00317_28.txt\t'66 (3).txt'   '83 (2).txt'\n",
            " 00095_170.txt\t 00136_138.txt\t 00185_271.txt\t 00322_108.txt\t'66 (4).txt'   '83 (3).txt'\n",
            " 00095_176.txt\t 00137_249.txt\t 00185_289.txt\t 00322_114.txt\t'66 (5).txt'   '83 (4).txt'\n",
            " 00095_181.txt\t 00137_264.txt\t 00186_207.txt\t 00322_115.txt\t'66 (6).txt'   '83 (5).txt'\n",
            " 00095_188.txt\t 00138_217.txt\t 00187_100.txt\t 00322_121.txt\t'66 (7).txt'    83.txt\n",
            " 00095_200.txt\t 00138_235.txt\t 00187_118.txt\t 00322_122.txt\t'66 (8).txt'   '84 (2).txt'\n",
            " 00095_201.txt\t 00138_271.txt\t 00187_135.txt\t 00322_127.txt\t'66 (9).txt'   '84 (3).txt'\n",
            " 00095_212.txt\t 00138_289.txt\t 00187_153.txt\t 00322_130.txt\t 66.txt        '84 (4).txt'\n",
            " 00095_222.txt\t 00142_107.txt\t 00187_170.txt\t 00322_134.txt\t'67 (10).txt'   84.txt\n",
            " 00095_224.txt\t 00142_126.txt\t 00191_106.txt\t 00322_140.txt\t'67 (11).txt'  '85 (2).txt'\n",
            " 00095_226.txt\t 00142_144.txt\t 00191_124.txt\t 00322_147.txt\t'67 (2).txt'   '85 (3).txt'\n",
            " 00095_236.txt\t 00142_163.txt\t 00191_143.txt\t 00322_153.txt\t'67 (3).txt'   '85 (4).txt'\n",
            " 00095_243.txt\t 00142_89.txt\t 00192_191.txt\t 00328_100.txt\t'67 (4).txt'   '85 (5).txt'\n",
            " 00095_263.txt\t 00143_236.txt\t 00192_244.txt\t 00328_90.txt\t'67 (5).txt'   '85 (6).txt'\n",
            " 00096_240.txt\t 00143_254.txt\t 00192_262.txt\t 00328_94.txt\t'67 (6).txt'    85.txt\n",
            " 00096_260.txt\t 00143_272.txt\t 00192_280.txt\t 00329_87.txt\t'67 (7).txt'   '86 (2).txt'\n",
            " 00096_280.txt\t 00144_243.txt\t 00193_172.txt\t 00329_90.txt\t'67 (8).txt'    86.txt\n",
            " 00097_106.txt\t 00144_260.txt\t 00193_190.txt\t 00332_141.txt\t'67 (9).txt'   '87 (2).txt'\n",
            " 00097_124.txt\t 00144_278.txt\t 00193_208.txt\t 00332_147.txt\t 67.txt        '87 (3).txt'\n",
            " 00097_162.txt\t 00146_142.txt\t 00194_209.txt\t 00334_101.txt\t'68 (10).txt'  '87 (4).txt'\n",
            " 00097_254.txt\t 00146_160.txt\t 00194_226.txt\t 00334_108.txt\t'68 (2).txt'   '87 (5).txt'\n",
            " 00097_65.txt\t 00146_195.txt\t 00194_243.txt\t 00334_114.txt\t'68 (3).txt'    87.txt\n",
            " 00097_68.txt\t 00147_115.txt\t 00194_259.txt\t 00334_120.txt\t'68 (4).txt'   '88 (2).txt'\n",
            " 00097_70.txt\t 00147_134.txt\t 00195_208.txt\t 00334_121.txt\t'68 (5).txt'   '88 (3).txt'\n",
            " 00097_72.txt\t 00147_152.txt\t 00195_225.txt\t 00334_91.txt\t'68 (6).txt'   '88 (4).txt'\n",
            " 00097_74.txt\t 00147_170.txt\t 00201_102.txt\t 00334_95.txt\t'68 (7).txt'   '88 (5).txt'\n",
            " 00097_76.txt\t 00148_19.txt\t 00201_121.txt\t 00338_15.txt\t'68 (8).txt'    88.txt\n",
            " 00097_77.txt\t 00148_20.txt\t 00201_141.txt\t 00340_119.txt\t'68 (9).txt'   '89 (2).txt'\n",
            " 00097_79.txt\t 00148_22.txt\t 00240_134.txt\t 00340_121.txt\t 68.txt        '89 (3).txt'\n",
            " 00097_80.txt\t 00148_24.txt\t 00240_138.txt\t 00340_126.txt\t'69 (2).txt'   '89 (4).txt'\n",
            " 00097_81.txt\t 00150_10.txt\t 00240_144.txt\t 00340_128.txt\t'69 (3).txt'   '89 (5).txt'\n",
            " 00097_83.txt\t 00150_11.txt\t 00240_151.txt\t 00340_132.txt\t'69 (4).txt'    89.txt\n",
            " 00097_87.txt\t 00150_12.txt\t 00240_157.txt\t 00340_138.txt\t'69 (5).txt'   '90 (2).txt'\n",
            " 00098_247.txt\t 00150_235.txt\t 00245_101.txt\t 00350_126.txt\t'69 (6).txt'   '90 (3).txt'\n",
            " 00098_266.txt\t 00150_252.txt\t 00246_103.txt\t 00350_128.txt\t'69 (7).txt'    90.txt\n",
            " 00099_129.txt\t 00150_8.txt\t 00246_96.txt\t 00350_132.txt\t'69 (8).txt'   '91 (2).txt'\n",
            " 00099_130.txt\t 00150_9.txt\t 00250_104.txt\t 00350_135.txt\t 69.txt        '91 (3).txt'\n",
            " 00099_137.txt\t 00151_10.txt\t 00250_110.txt\t 00350_139.txt\t'70 (10).txt'  '91 (4).txt'\n",
            " 00099_139.txt\t 00151_128.txt\t 00250_115.txt\t 00350_145.txt\t'70 (11).txt'  '91 (5).txt'\n",
            " 00099_145.txt\t 00151_12.txt\t 00250_120.txt\t 00350_151.txt\t'70 (2).txt'   '91 (6).txt'\n",
            " 00099_149.txt\t 00151_13.txt\t 00250_121.txt\t 00350_157.txt\t'70 (3).txt'    91.txt\n",
            " 00099_154.txt\t 00151_145.txt\t 00253_79.txt\t 00352_103.txt\t'70 (4).txt'   '92 (2).txt'\n",
            " 00100_102.txt\t 00151_14.txt\t 00253_85.txt\t 00352_93.txt\t'70 (5).txt'   '92 (3).txt'\n",
            " 00100_119.txt\t 00151_15.txt\t 00253_92.txt\t 00352_97.txt\t'70 (6).txt'   '92 (4).txt'\n",
            " 00100_136.txt\t 00151_162.txt\t 00254_79.txt\t 00359_103.txt\t'70 (7).txt'   '92 (5).txt'\n",
            " 00100_153.txt\t 00151_17.txt\t 00254_83.txt\t 00359_109.txt\t'70 (8).txt'   '92 (6).txt'\n",
            " 00100_170.txt\t 00151_195.txt\t 00254_89.txt\t 00359_115.txt\t'70 (9).txt'    92.txt\n",
            " 00104_132.txt\t 00151_211.txt\t 00260_113.txt\t 00359_116.txt\t 70.txt        '93 (2).txt'\n",
            " 00104_14.txt\t 00154_210.txt\t 00260_115.txt\t 00359_121.txt\t'71 (2).txt'   '93 (3).txt'\n",
            " 00104_150.txt\t 00154_229.txt\t 00260_119.txt\t 00359_123.txt\t'71 (3).txt'   '93 (4).txt'\n",
            " 00104_15.txt\t 00154_248.txt\t 00260_121.txt\t 00359_97.txt\t'71 (4).txt'   '93 (5).txt'\n",
            " 00104_168.txt\t 00154_267.txt\t 00260_125.txt\t 00360_102.txt\t'71 (5).txt'   '93 (6).txt'\n",
            " 00104_16.txt\t 00156_116.txt\t 00260_130.txt\t 00360_87.txt\t'71 (6).txt'    93.txt\n",
            " 00104_17.txt\t 00156_132.txt\t 00260_136.txt\t 00360_90.txt\t 71.txt        '94 (2).txt'\n",
            " 00104_185.txt\t 00156_148.txt\t 00260_142.txt\t 00360_96.txt\t'72 (10).txt'  '94 (3).txt'\n",
            " 00104_18.txt\t 00156_164.txt\t 00263_109.txt\t'100 (2).txt'\t'72 (11).txt'  '94 (4).txt'\n",
            " 00104_19.txt\t 00156_180.txt\t 00263_116.txt\t'100 (3).txt'\t'72 (2).txt'   '94 (5).txt'\n",
            " 00105_113.txt\t 00156_196.txt\t 00263_117.txt\t 100.txt\t'72 (3).txt'   '94 (6).txt'\n",
            " 00105_132.txt\t 00157_115.txt\t 00263_123.txt\t'102 (2).txt'\t'72 (4).txt'    94.txt\n",
            " 00105_151.txt\t 00158_102.txt\t 00263_125.txt\t'102 (3).txt'\t'72 (5).txt'   '95 (2).txt'\n",
            " 00105_94.txt\t 00158_108.txt\t 00263_130.txt\t'102 (4).txt'\t'72 (6).txt'   '95 (3).txt'\n",
            " 00106_195.txt\t 00158_114.txt\t 00263_133.txt\t 102.txt\t'72 (7).txt'   '95 (4).txt'\n",
            " 00106_253.txt\t 00158_115.txt\t 00263_137.txt\t'103 (2).txt'\t'72 (8).txt'    95.txt\n",
            " 00107_101.txt\t 00158_239.txt\t 00270_11.txt\t 103.txt\t'72 (9).txt'   '96 (2).txt'\n",
            " 00107_118.txt\t 00158_256.txt\t 00270_12.txt\t'104 (2).txt'\t 72.txt        '96 (3).txt'\n",
            " 00108_102.txt\t 00158_272.txt\t 00270_13.txt\t'104 (3).txt'\t'73 (2).txt'   '96 (4).txt'\n",
            " 00109_104.txt\t 00158_289.txt\t 00271_106.txt\t 104.txt\t'73 (3).txt'   '96 (5).txt'\n",
            " 00109_85.txt\t 00158_86.txt\t 00271_111.txt\t 105.txt\t'73 (4).txt'    96.txt\n",
            " 00110_131.txt\t 00158_90.txt\t 00271_116.txt\t'106 (2).txt'\t'73 (5).txt'   '97 (2).txt'\n",
            " 00110_147.txt\t 00158_96.txt\t 00271_117.txt\t 106.txt\t'73 (6).txt'   '97 (3).txt'\n",
            " 00110_162.txt\t 00159_133.txt\t 00271_122.txt\t 107.txt\t 73.txt         97.txt\n",
            " 00110_178.txt\t 00159_152.txt\t 00271_124.txt\t 108.txt\t'74 (10).txt'  '98 (2).txt'\n",
            " 00111_110.txt\t 00159_171.txt\t 00271_128.txt\t'109 (2).txt'\t'74 (11).txt'  '98 (3).txt'\n",
            " 00111_98.txt\t 00159_189.txt\t 00271_130.txt\t 109.txt\t'74 (12).txt'  '98 (4).txt'\n",
            " 00112_10.txt\t 00159_207.txt\t 00271_134.txt\t'110 (2).txt'\t'74 (2).txt'    98.txt\n",
            " 00112_11.txt\t 00160_270.txt\t 00271_145.txt\t 110.txt\t'74 (3).txt'   '99 (2).txt'\n",
            " 00112_12.txt\t 00162_122.txt\t 00273_103.txt\t 111.txt\t'74 (4).txt'   '99 (3).txt'\n",
            " 00116_11.txt\t 00165_110.txt\t 00273_109.txt\t'112 (2).txt'\t'74 (5).txt'   '99 (4).txt'\n",
            " 00116_12.txt\t 00165_111.txt\t 00273_86.txt\t 112.txt\t'74 (6).txt'    99.txt\n",
            " 00116_13.txt\t 00165_116.txt\t 00273_90.txt\t'113 (2).txt'\t'74 (7).txt'\n",
            " 00116_14.txt\t 00165_118.txt\t 00273_96.txt\t 113.txt\t'74 (8).txt'\n",
            " 00116_15.txt\t 00165_122.txt\t 00281_104.txt\t 114.txt\t'74 (9).txt'\n",
            " 00116_16.txt\t 00165_123.txt\t 00281_110.txt\t 115.txt\t 74.txt\n",
            "'val_1 (100).jpg'  'val_1 (141).jpg'  'val_1 (182).jpg'  'val_1 (222).jpg'  'val_1 (61).jpg'\n",
            "'val_1 (101).jpg'  'val_1 (142).jpg'  'val_1 (183).jpg'  'val_1 (223).jpg'  'val_1 (62).jpg'\n",
            "'val_1 (102).jpg'  'val_1 (143).jpg'  'val_1 (184).jpg'  'val_1 (22).jpg'   'val_1 (63).jpg'\n",
            "'val_1 (103).jpg'  'val_1 (144).jpg'  'val_1 (185).jpg'  'val_1 (23).jpg'   'val_1 (64).jpg'\n",
            "'val_1 (104).jpg'  'val_1 (145).jpg'  'val_1 (186).jpg'  'val_1 (24).jpg'   'val_1 (65).jpg'\n",
            "'val_1 (105).jpg'  'val_1 (146).jpg'  'val_1 (187).jpg'  'val_1 (25).jpg'   'val_1 (66).jpg'\n",
            "'val_1 (106).jpg'  'val_1 (147).jpg'  'val_1 (188).jpg'  'val_1 (26).jpg'   'val_1 (67).jpg'\n",
            "'val_1 (107).jpg'  'val_1 (148).jpg'  'val_1 (189).jpg'  'val_1 (27).jpg'   'val_1 (68).jpg'\n",
            "'val_1 (108).jpg'  'val_1 (149).jpg'  'val_1 (18).jpg'\t 'val_1 (28).jpg'   'val_1 (69).jpg'\n",
            "'val_1 (109).jpg'  'val_1 (14).jpg'   'val_1 (190).jpg'  'val_1 (29).jpg'   'val_1 (6).jpg'\n",
            "'val_1 (10).jpg'   'val_1 (150).jpg'  'val_1 (191).jpg'  'val_1 (2).jpg'    'val_1 (70).jpg'\n",
            "'val_1 (110).jpg'  'val_1 (151).jpg'  'val_1 (192).jpg'  'val_1 (30).jpg'   'val_1 (71).jpg'\n",
            "'val_1 (111).jpg'  'val_1 (152).jpg'  'val_1 (193).jpg'  'val_1 (31).jpg'   'val_1 (72).jpg'\n",
            "'val_1 (112).jpg'  'val_1 (153).jpg'  'val_1 (194).jpg'  'val_1 (32).jpg'   'val_1 (73).jpg'\n",
            "'val_1 (113).jpg'  'val_1 (154).jpg'  'val_1 (195).jpg'  'val_1 (33).jpg'   'val_1 (74).jpg'\n",
            "'val_1 (114).jpg'  'val_1 (155).jpg'  'val_1 (196).jpg'  'val_1 (34).jpg'   'val_1 (75).jpg'\n",
            "'val_1 (115).jpg'  'val_1 (156).jpg'  'val_1 (197).jpg'  'val_1 (35).jpg'   'val_1 (76).jpg'\n",
            "'val_1 (116).jpg'  'val_1 (157).jpg'  'val_1 (198).jpg'  'val_1 (36).jpg'   'val_1 (77).jpg'\n",
            "'val_1 (117).jpg'  'val_1 (158).jpg'  'val_1 (199).jpg'  'val_1 (37).jpg'   'val_1 (78).jpg'\n",
            "'val_1 (118).jpg'  'val_1 (159).jpg'  'val_1 (19).jpg'\t 'val_1 (38).jpg'   'val_1 (79).jpg'\n",
            "'val_1 (119).jpg'  'val_1 (15).jpg'   'val_1 (1).jpg'\t 'val_1 (39).jpg'   'val_1 (7).jpg'\n",
            "'val_1 (11).jpg'   'val_1 (160).jpg'  'val_1 (200).jpg'  'val_1 (3).jpg'    'val_1 (80).jpg'\n",
            "'val_1 (120).jpg'  'val_1 (161).jpg'  'val_1 (201).jpg'  'val_1 (40).jpg'   'val_1 (81).jpg'\n",
            "'val_1 (121).jpg'  'val_1 (162).jpg'  'val_1 (202).jpg'  'val_1 (41).jpg'   'val_1 (82).jpg'\n",
            "'val_1 (122).jpg'  'val_1 (163).jpg'  'val_1 (203).jpg'  'val_1 (42).jpg'   'val_1 (83).jpg'\n",
            "'val_1 (123).jpg'  'val_1 (164).jpg'  'val_1 (204).jpg'  'val_1 (43).jpg'   'val_1 (84).jpg'\n",
            "'val_1 (124).jpg'  'val_1 (165).jpg'  'val_1 (205).jpg'  'val_1 (44).jpg'   'val_1 (85).jpg'\n",
            "'val_1 (125).jpg'  'val_1 (166).jpg'  'val_1 (206).jpg'  'val_1 (45).jpg'   'val_1 (86).jpg'\n",
            "'val_1 (126).jpg'  'val_1 (167).jpg'  'val_1 (207).jpg'  'val_1 (46).jpg'   'val_1 (87).jpg'\n",
            "'val_1 (127).jpg'  'val_1 (168).jpg'  'val_1 (208).jpg'  'val_1 (47).jpg'   'val_1 (88).jpg'\n",
            "'val_1 (128).jpg'  'val_1 (169).jpg'  'val_1 (209).jpg'  'val_1 (48).jpg'   'val_1 (89).jpg'\n",
            "'val_1 (129).jpg'  'val_1 (16).jpg'   'val_1 (20).jpg'\t 'val_1 (49).jpg'   'val_1 (8).jpg'\n",
            "'val_1 (12).jpg'   'val_1 (170).jpg'  'val_1 (210).jpg'  'val_1 (4).jpg'    'val_1 (90).jpg'\n",
            "'val_1 (130).jpg'  'val_1 (171).jpg'  'val_1 (211).jpg'  'val_1 (50).jpg'   'val_1 (91).jpg'\n",
            "'val_1 (131).jpg'  'val_1 (172).jpg'  'val_1 (212).jpg'  'val_1 (51).jpg'   'val_1 (92).jpg'\n",
            "'val_1 (132).jpg'  'val_1 (173).jpg'  'val_1 (213).jpg'  'val_1 (52).jpg'   'val_1 (93).jpg'\n",
            "'val_1 (133).jpg'  'val_1 (174).jpg'  'val_1 (214).jpg'  'val_1 (53).jpg'   'val_1 (94).jpg'\n",
            "'val_1 (134).jpg'  'val_1 (175).jpg'  'val_1 (215).jpg'  'val_1 (54).jpg'   'val_1 (95).jpg'\n",
            "'val_1 (135).jpg'  'val_1 (176).jpg'  'val_1 (216).jpg'  'val_1 (55).jpg'   'val_1 (96).jpg'\n",
            "'val_1 (136).jpg'  'val_1 (177).jpg'  'val_1 (217).jpg'  'val_1 (56).jpg'   'val_1 (97).jpg'\n",
            "'val_1 (137).jpg'  'val_1 (178).jpg'  'val_1 (218).jpg'  'val_1 (57).jpg'   'val_1 (98).jpg'\n",
            "'val_1 (138).jpg'  'val_1 (179).jpg'  'val_1 (219).jpg'  'val_1 (58).jpg'   'val_1 (99).jpg'\n",
            "'val_1 (139).jpg'  'val_1 (17).jpg'   'val_1 (21).jpg'\t 'val_1 (59).jpg'   'val_1 (9).jpg'\n",
            "'val_1 (13).jpg'   'val_1 (180).jpg'  'val_1 (220).jpg'  'val_1 (5).jpg'\n",
            "'val_1 (140).jpg'  'val_1 (181).jpg'  'val_1 (221).jpg'  'val_1 (60).jpg'\n",
            "'val_1 (100).txt'  'val_1 (141).txt'  'val_1 (182).txt'  'val_1 (222).txt'  'val_1 (61).txt'\n",
            "'val_1 (101).txt'  'val_1 (142).txt'  'val_1 (183).txt'  'val_1 (223).txt'  'val_1 (62).txt'\n",
            "'val_1 (102).txt'  'val_1 (143).txt'  'val_1 (184).txt'  'val_1 (22).txt'   'val_1 (63).txt'\n",
            "'val_1 (103).txt'  'val_1 (144).txt'  'val_1 (185).txt'  'val_1 (23).txt'   'val_1 (64).txt'\n",
            "'val_1 (104).txt'  'val_1 (145).txt'  'val_1 (186).txt'  'val_1 (24).txt'   'val_1 (65).txt'\n",
            "'val_1 (105).txt'  'val_1 (146).txt'  'val_1 (187).txt'  'val_1 (25).txt'   'val_1 (66).txt'\n",
            "'val_1 (106).txt'  'val_1 (147).txt'  'val_1 (188).txt'  'val_1 (26).txt'   'val_1 (67).txt'\n",
            "'val_1 (107).txt'  'val_1 (148).txt'  'val_1 (189).txt'  'val_1 (27).txt'   'val_1 (68).txt'\n",
            "'val_1 (108).txt'  'val_1 (149).txt'  'val_1 (18).txt'\t 'val_1 (28).txt'   'val_1 (69).txt'\n",
            "'val_1 (109).txt'  'val_1 (14).txt'   'val_1 (190).txt'  'val_1 (29).txt'   'val_1 (6).txt'\n",
            "'val_1 (10).txt'   'val_1 (150).txt'  'val_1 (191).txt'  'val_1 (2).txt'    'val_1 (70).txt'\n",
            "'val_1 (110).txt'  'val_1 (151).txt'  'val_1 (192).txt'  'val_1 (30).txt'   'val_1 (71).txt'\n",
            "'val_1 (111).txt'  'val_1 (152).txt'  'val_1 (193).txt'  'val_1 (31).txt'   'val_1 (72).txt'\n",
            "'val_1 (112).txt'  'val_1 (153).txt'  'val_1 (194).txt'  'val_1 (32).txt'   'val_1 (73).txt'\n",
            "'val_1 (113).txt'  'val_1 (154).txt'  'val_1 (195).txt'  'val_1 (33).txt'   'val_1 (74).txt'\n",
            "'val_1 (114).txt'  'val_1 (155).txt'  'val_1 (196).txt'  'val_1 (34).txt'   'val_1 (75).txt'\n",
            "'val_1 (115).txt'  'val_1 (156).txt'  'val_1 (197).txt'  'val_1 (35).txt'   'val_1 (76).txt'\n",
            "'val_1 (116).txt'  'val_1 (157).txt'  'val_1 (198).txt'  'val_1 (36).txt'   'val_1 (77).txt'\n",
            "'val_1 (117).txt'  'val_1 (158).txt'  'val_1 (199).txt'  'val_1 (37).txt'   'val_1 (78).txt'\n",
            "'val_1 (118).txt'  'val_1 (159).txt'  'val_1 (19).txt'\t 'val_1 (38).txt'   'val_1 (79).txt'\n",
            "'val_1 (119).txt'  'val_1 (15).txt'   'val_1 (1).txt'\t 'val_1 (39).txt'   'val_1 (7).txt'\n",
            "'val_1 (11).txt'   'val_1 (160).txt'  'val_1 (200).txt'  'val_1 (3).txt'    'val_1 (80).txt'\n",
            "'val_1 (120).txt'  'val_1 (161).txt'  'val_1 (201).txt'  'val_1 (40).txt'   'val_1 (81).txt'\n",
            "'val_1 (121).txt'  'val_1 (162).txt'  'val_1 (202).txt'  'val_1 (41).txt'   'val_1 (82).txt'\n",
            "'val_1 (122).txt'  'val_1 (163).txt'  'val_1 (203).txt'  'val_1 (42).txt'   'val_1 (83).txt'\n",
            "'val_1 (123).txt'  'val_1 (164).txt'  'val_1 (204).txt'  'val_1 (43).txt'   'val_1 (84).txt'\n",
            "'val_1 (124).txt'  'val_1 (165).txt'  'val_1 (205).txt'  'val_1 (44).txt'   'val_1 (85).txt'\n",
            "'val_1 (125).txt'  'val_1 (166).txt'  'val_1 (206).txt'  'val_1 (45).txt'   'val_1 (86).txt'\n",
            "'val_1 (126).txt'  'val_1 (167).txt'  'val_1 (207).txt'  'val_1 (46).txt'   'val_1 (87).txt'\n",
            "'val_1 (127).txt'  'val_1 (168).txt'  'val_1 (208).txt'  'val_1 (47).txt'   'val_1 (88).txt'\n",
            "'val_1 (128).txt'  'val_1 (169).txt'  'val_1 (209).txt'  'val_1 (48).txt'   'val_1 (89).txt'\n",
            "'val_1 (129).txt'  'val_1 (16).txt'   'val_1 (20).txt'\t 'val_1 (49).txt'   'val_1 (8).txt'\n",
            "'val_1 (12).txt'   'val_1 (170).txt'  'val_1 (210).txt'  'val_1 (4).txt'    'val_1 (90).txt'\n",
            "'val_1 (130).txt'  'val_1 (171).txt'  'val_1 (211).txt'  'val_1 (50).txt'   'val_1 (91).txt'\n",
            "'val_1 (131).txt'  'val_1 (172).txt'  'val_1 (212).txt'  'val_1 (51).txt'   'val_1 (92).txt'\n",
            "'val_1 (132).txt'  'val_1 (173).txt'  'val_1 (213).txt'  'val_1 (52).txt'   'val_1 (93).txt'\n",
            "'val_1 (133).txt'  'val_1 (174).txt'  'val_1 (214).txt'  'val_1 (53).txt'   'val_1 (94).txt'\n",
            "'val_1 (134).txt'  'val_1 (175).txt'  'val_1 (215).txt'  'val_1 (54).txt'   'val_1 (95).txt'\n",
            "'val_1 (135).txt'  'val_1 (176).txt'  'val_1 (216).txt'  'val_1 (55).txt'   'val_1 (96).txt'\n",
            "'val_1 (136).txt'  'val_1 (177).txt'  'val_1 (217).txt'  'val_1 (56).txt'   'val_1 (97).txt'\n",
            "'val_1 (137).txt'  'val_1 (178).txt'  'val_1 (218).txt'  'val_1 (57).txt'   'val_1 (98).txt'\n",
            "'val_1 (138).txt'  'val_1 (179).txt'  'val_1 (219).txt'  'val_1 (58).txt'   'val_1 (99).txt'\n",
            "'val_1 (139).txt'  'val_1 (17).txt'   'val_1 (21).txt'\t 'val_1 (59).txt'   'val_1 (9).txt'\n",
            "'val_1 (13).txt'   'val_1 (180).txt'  'val_1 (220).txt'  'val_1 (5).txt'\n",
            "'val_1 (140).txt'  'val_1 (181).txt'  'val_1 (221).txt'  'val_1 (60).txt'\n"
          ]
        }
      ]
    },
    {
      "cell_type": "code",
      "source": [
        "!pip install ultralytics\n"
      ],
      "metadata": {
        "colab": {
          "base_uri": "https://localhost:8080/"
        },
        "id": "oAWRMrKbbvKE",
        "outputId": "abe44c92-0f0e-4357-b835-c139cf649709"
      },
      "execution_count": null,
      "outputs": [
        {
          "output_type": "stream",
          "name": "stdout",
          "text": [
            "Collecting ultralytics\n",
            "  Downloading ultralytics-8.2.62-py3-none-any.whl (825 kB)\n",
            "\u001b[?25l     \u001b[90m━━━━━━━━━━━━━━━━━━━━━━━━━━━━━━━━━━━━━━━━\u001b[0m \u001b[32m0.0/825.2 kB\u001b[0m \u001b[31m?\u001b[0m eta \u001b[36m-:--:--\u001b[0m\r\u001b[2K     \u001b[91m━━━━━━━━━━━━━━━━━━━━━━━━━━━━━━━━━━━━━━━\u001b[0m\u001b[91m╸\u001b[0m \u001b[32m819.2/825.2 kB\u001b[0m \u001b[31m26.9 MB/s\u001b[0m eta \u001b[36m0:00:01\u001b[0m\r\u001b[2K     \u001b[90m━━━━━━━━━━━━━━━━━━━━━━━━━━━━━━━━━━━━━━━━\u001b[0m \u001b[32m825.2/825.2 kB\u001b[0m \u001b[31m19.7 MB/s\u001b[0m eta \u001b[36m0:00:00\u001b[0m\n",
            "\u001b[?25hRequirement already satisfied: numpy<2.0.0,>=1.23.0 in /usr/local/lib/python3.10/dist-packages (from ultralytics) (1.25.2)\n",
            "Requirement already satisfied: matplotlib>=3.3.0 in /usr/local/lib/python3.10/dist-packages (from ultralytics) (3.7.1)\n",
            "Requirement already satisfied: opencv-python>=4.6.0 in /usr/local/lib/python3.10/dist-packages (from ultralytics) (4.8.0.76)\n",
            "Requirement already satisfied: pillow>=7.1.2 in /usr/local/lib/python3.10/dist-packages (from ultralytics) (9.4.0)\n",
            "Requirement already satisfied: pyyaml>=5.3.1 in /usr/local/lib/python3.10/dist-packages (from ultralytics) (6.0.1)\n",
            "Requirement already satisfied: requests>=2.23.0 in /usr/local/lib/python3.10/dist-packages (from ultralytics) (2.31.0)\n",
            "Requirement already satisfied: scipy>=1.4.1 in /usr/local/lib/python3.10/dist-packages (from ultralytics) (1.11.4)\n",
            "Requirement already satisfied: torch>=1.8.0 in /usr/local/lib/python3.10/dist-packages (from ultralytics) (2.3.1+cu121)\n",
            "Requirement already satisfied: torchvision>=0.9.0 in /usr/local/lib/python3.10/dist-packages (from ultralytics) (0.18.1+cu121)\n",
            "Requirement already satisfied: tqdm>=4.64.0 in /usr/local/lib/python3.10/dist-packages (from ultralytics) (4.66.4)\n",
            "Requirement already satisfied: psutil in /usr/local/lib/python3.10/dist-packages (from ultralytics) (5.9.5)\n",
            "Requirement already satisfied: py-cpuinfo in /usr/local/lib/python3.10/dist-packages (from ultralytics) (9.0.0)\n",
            "Requirement already satisfied: pandas>=1.1.4 in /usr/local/lib/python3.10/dist-packages (from ultralytics) (2.0.3)\n",
            "Requirement already satisfied: seaborn>=0.11.0 in /usr/local/lib/python3.10/dist-packages (from ultralytics) (0.13.1)\n",
            "Collecting ultralytics-thop>=2.0.0 (from ultralytics)\n",
            "  Downloading ultralytics_thop-2.0.0-py3-none-any.whl (25 kB)\n",
            "Requirement already satisfied: contourpy>=1.0.1 in /usr/local/lib/python3.10/dist-packages (from matplotlib>=3.3.0->ultralytics) (1.2.1)\n",
            "Requirement already satisfied: cycler>=0.10 in /usr/local/lib/python3.10/dist-packages (from matplotlib>=3.3.0->ultralytics) (0.12.1)\n",
            "Requirement already satisfied: fonttools>=4.22.0 in /usr/local/lib/python3.10/dist-packages (from matplotlib>=3.3.0->ultralytics) (4.53.1)\n",
            "Requirement already satisfied: kiwisolver>=1.0.1 in /usr/local/lib/python3.10/dist-packages (from matplotlib>=3.3.0->ultralytics) (1.4.5)\n",
            "Requirement already satisfied: packaging>=20.0 in /usr/local/lib/python3.10/dist-packages (from matplotlib>=3.3.0->ultralytics) (24.1)\n",
            "Requirement already satisfied: pyparsing>=2.3.1 in /usr/local/lib/python3.10/dist-packages (from matplotlib>=3.3.0->ultralytics) (3.1.2)\n",
            "Requirement already satisfied: python-dateutil>=2.7 in /usr/local/lib/python3.10/dist-packages (from matplotlib>=3.3.0->ultralytics) (2.8.2)\n",
            "Requirement already satisfied: pytz>=2020.1 in /usr/local/lib/python3.10/dist-packages (from pandas>=1.1.4->ultralytics) (2023.4)\n",
            "Requirement already satisfied: tzdata>=2022.1 in /usr/local/lib/python3.10/dist-packages (from pandas>=1.1.4->ultralytics) (2024.1)\n",
            "Requirement already satisfied: charset-normalizer<4,>=2 in /usr/local/lib/python3.10/dist-packages (from requests>=2.23.0->ultralytics) (3.3.2)\n",
            "Requirement already satisfied: idna<4,>=2.5 in /usr/local/lib/python3.10/dist-packages (from requests>=2.23.0->ultralytics) (3.7)\n",
            "Requirement already satisfied: urllib3<3,>=1.21.1 in /usr/local/lib/python3.10/dist-packages (from requests>=2.23.0->ultralytics) (2.0.7)\n",
            "Requirement already satisfied: certifi>=2017.4.17 in /usr/local/lib/python3.10/dist-packages (from requests>=2.23.0->ultralytics) (2024.7.4)\n",
            "Requirement already satisfied: filelock in /usr/local/lib/python3.10/dist-packages (from torch>=1.8.0->ultralytics) (3.15.4)\n",
            "Requirement already satisfied: typing-extensions>=4.8.0 in /usr/local/lib/python3.10/dist-packages (from torch>=1.8.0->ultralytics) (4.12.2)\n",
            "Requirement already satisfied: sympy in /usr/local/lib/python3.10/dist-packages (from torch>=1.8.0->ultralytics) (1.13.0)\n",
            "Requirement already satisfied: networkx in /usr/local/lib/python3.10/dist-packages (from torch>=1.8.0->ultralytics) (3.3)\n",
            "Requirement already satisfied: jinja2 in /usr/local/lib/python3.10/dist-packages (from torch>=1.8.0->ultralytics) (3.1.4)\n",
            "Requirement already satisfied: fsspec in /usr/local/lib/python3.10/dist-packages (from torch>=1.8.0->ultralytics) (2023.6.0)\n",
            "Collecting nvidia-cuda-nvrtc-cu12==12.1.105 (from torch>=1.8.0->ultralytics)\n",
            "  Using cached nvidia_cuda_nvrtc_cu12-12.1.105-py3-none-manylinux1_x86_64.whl (23.7 MB)\n",
            "Collecting nvidia-cuda-runtime-cu12==12.1.105 (from torch>=1.8.0->ultralytics)\n",
            "  Using cached nvidia_cuda_runtime_cu12-12.1.105-py3-none-manylinux1_x86_64.whl (823 kB)\n",
            "Collecting nvidia-cuda-cupti-cu12==12.1.105 (from torch>=1.8.0->ultralytics)\n",
            "  Using cached nvidia_cuda_cupti_cu12-12.1.105-py3-none-manylinux1_x86_64.whl (14.1 MB)\n",
            "Collecting nvidia-cudnn-cu12==8.9.2.26 (from torch>=1.8.0->ultralytics)\n",
            "  Using cached nvidia_cudnn_cu12-8.9.2.26-py3-none-manylinux1_x86_64.whl (731.7 MB)\n",
            "Collecting nvidia-cublas-cu12==12.1.3.1 (from torch>=1.8.0->ultralytics)\n",
            "  Using cached nvidia_cublas_cu12-12.1.3.1-py3-none-manylinux1_x86_64.whl (410.6 MB)\n",
            "Collecting nvidia-cufft-cu12==11.0.2.54 (from torch>=1.8.0->ultralytics)\n",
            "  Using cached nvidia_cufft_cu12-11.0.2.54-py3-none-manylinux1_x86_64.whl (121.6 MB)\n",
            "Collecting nvidia-curand-cu12==10.3.2.106 (from torch>=1.8.0->ultralytics)\n",
            "  Using cached nvidia_curand_cu12-10.3.2.106-py3-none-manylinux1_x86_64.whl (56.5 MB)\n",
            "Collecting nvidia-cusolver-cu12==11.4.5.107 (from torch>=1.8.0->ultralytics)\n",
            "  Using cached nvidia_cusolver_cu12-11.4.5.107-py3-none-manylinux1_x86_64.whl (124.2 MB)\n",
            "Collecting nvidia-cusparse-cu12==12.1.0.106 (from torch>=1.8.0->ultralytics)\n",
            "  Using cached nvidia_cusparse_cu12-12.1.0.106-py3-none-manylinux1_x86_64.whl (196.0 MB)\n",
            "Collecting nvidia-nccl-cu12==2.20.5 (from torch>=1.8.0->ultralytics)\n",
            "  Using cached nvidia_nccl_cu12-2.20.5-py3-none-manylinux2014_x86_64.whl (176.2 MB)\n",
            "Collecting nvidia-nvtx-cu12==12.1.105 (from torch>=1.8.0->ultralytics)\n",
            "  Using cached nvidia_nvtx_cu12-12.1.105-py3-none-manylinux1_x86_64.whl (99 kB)\n",
            "Requirement already satisfied: triton==2.3.1 in /usr/local/lib/python3.10/dist-packages (from torch>=1.8.0->ultralytics) (2.3.1)\n",
            "Collecting nvidia-nvjitlink-cu12 (from nvidia-cusolver-cu12==11.4.5.107->torch>=1.8.0->ultralytics)\n",
            "  Downloading nvidia_nvjitlink_cu12-12.5.82-py3-none-manylinux2014_x86_64.whl (21.3 MB)\n",
            "\u001b[2K     \u001b[90m━━━━━━━━━━━━━━━━━━━━━━━━━━━━━━━━━━━━━━━━\u001b[0m \u001b[32m21.3/21.3 MB\u001b[0m \u001b[31m60.8 MB/s\u001b[0m eta \u001b[36m0:00:00\u001b[0m\n",
            "\u001b[?25hRequirement already satisfied: six>=1.5 in /usr/local/lib/python3.10/dist-packages (from python-dateutil>=2.7->matplotlib>=3.3.0->ultralytics) (1.16.0)\n",
            "Requirement already satisfied: MarkupSafe>=2.0 in /usr/local/lib/python3.10/dist-packages (from jinja2->torch>=1.8.0->ultralytics) (2.1.5)\n",
            "Requirement already satisfied: mpmath<1.4,>=1.1.0 in /usr/local/lib/python3.10/dist-packages (from sympy->torch>=1.8.0->ultralytics) (1.3.0)\n",
            "Installing collected packages: nvidia-nvtx-cu12, nvidia-nvjitlink-cu12, nvidia-nccl-cu12, nvidia-curand-cu12, nvidia-cufft-cu12, nvidia-cuda-runtime-cu12, nvidia-cuda-nvrtc-cu12, nvidia-cuda-cupti-cu12, nvidia-cublas-cu12, nvidia-cusparse-cu12, nvidia-cudnn-cu12, nvidia-cusolver-cu12, ultralytics-thop, ultralytics\n",
            "Successfully installed nvidia-cublas-cu12-12.1.3.1 nvidia-cuda-cupti-cu12-12.1.105 nvidia-cuda-nvrtc-cu12-12.1.105 nvidia-cuda-runtime-cu12-12.1.105 nvidia-cudnn-cu12-8.9.2.26 nvidia-cufft-cu12-11.0.2.54 nvidia-curand-cu12-10.3.2.106 nvidia-cusolver-cu12-11.4.5.107 nvidia-cusparse-cu12-12.1.0.106 nvidia-nccl-cu12-2.20.5 nvidia-nvjitlink-cu12-12.5.82 nvidia-nvtx-cu12-12.1.105 ultralytics-8.2.62 ultralytics-thop-2.0.0\n"
          ]
        }
      ]
    },
    {
      "cell_type": "code",
      "source": [
        "from ultralytics import YOLO\n",
        "model = YOLO(\"yolov8n.pt\")\n",
        "model.train(data=\"/content/datasets/brain-tumor.yaml\", epochs=100, imgsz=640)\n"
      ],
      "metadata": {
        "colab": {
          "base_uri": "https://localhost:8080/"
        },
        "id": "yOV2_qcObqDr",
        "outputId": "1c55b130-279a-479d-adb4-a181ea2c396a"
      },
      "execution_count": null,
      "outputs": [
        {
          "output_type": "stream",
          "name": "stdout",
          "text": [
            "Downloading https://github.com/ultralytics/assets/releases/download/v8.2.0/yolov8n.pt to 'yolov8n.pt'...\n"
          ]
        },
        {
          "output_type": "stream",
          "name": "stderr",
          "text": [
            "100%|██████████| 6.25M/6.25M [00:00<00:00, 338MB/s]\n"
          ]
        },
        {
          "output_type": "stream",
          "name": "stdout",
          "text": [
            "Ultralytics YOLOv8.2.62 🚀 Python-3.10.12 torch-2.3.1+cu121 CUDA:0 (Tesla T4, 15102MiB)\n",
            "\u001b[34m\u001b[1mengine/trainer: \u001b[0mtask=detect, mode=train, model=yolov8n.pt, data=/content/datasets/brain-tumor.yaml, epochs=100, time=None, patience=100, batch=16, imgsz=640, save=True, save_period=-1, cache=False, device=None, workers=8, project=None, name=train, exist_ok=False, pretrained=True, optimizer=auto, verbose=True, seed=0, deterministic=True, single_cls=False, rect=False, cos_lr=False, close_mosaic=10, resume=False, amp=True, fraction=1.0, profile=False, freeze=None, multi_scale=False, overlap_mask=True, mask_ratio=4, dropout=0.0, val=True, split=val, save_json=False, save_hybrid=False, conf=None, iou=0.7, max_det=300, half=False, dnn=False, plots=True, source=None, vid_stride=1, stream_buffer=False, visualize=False, augment=False, agnostic_nms=False, classes=None, retina_masks=False, embed=None, show=False, save_frames=False, save_txt=False, save_conf=False, save_crop=False, show_labels=True, show_conf=True, show_boxes=True, line_width=None, format=torchscript, keras=False, optimize=False, int8=False, dynamic=False, simplify=False, opset=None, workspace=4, nms=False, lr0=0.01, lrf=0.01, momentum=0.937, weight_decay=0.0005, warmup_epochs=3.0, warmup_momentum=0.8, warmup_bias_lr=0.1, box=7.5, cls=0.5, dfl=1.5, pose=12.0, kobj=1.0, label_smoothing=0.0, nbs=64, hsv_h=0.015, hsv_s=0.7, hsv_v=0.4, degrees=0.0, translate=0.1, scale=0.5, shear=0.0, perspective=0.0, flipud=0.0, fliplr=0.5, bgr=0.0, mosaic=1.0, mixup=0.0, copy_paste=0.0, auto_augment=randaugment, erasing=0.4, crop_fraction=1.0, cfg=None, tracker=botsort.yaml, save_dir=runs/detect/train\n",
            "Downloading https://ultralytics.com/assets/Arial.ttf to '/root/.config/Ultralytics/Arial.ttf'...\n"
          ]
        },
        {
          "output_type": "stream",
          "name": "stderr",
          "text": [
            "100%|██████████| 755k/755k [00:00<00:00, 92.0MB/s]\n"
          ]
        },
        {
          "output_type": "stream",
          "name": "stdout",
          "text": [
            "Overriding model.yaml nc=80 with nc=2\n",
            "\n",
            "                   from  n    params  module                                       arguments                     \n",
            "  0                  -1  1       464  ultralytics.nn.modules.conv.Conv             [3, 16, 3, 2]                 \n",
            "  1                  -1  1      4672  ultralytics.nn.modules.conv.Conv             [16, 32, 3, 2]                \n",
            "  2                  -1  1      7360  ultralytics.nn.modules.block.C2f             [32, 32, 1, True]             \n",
            "  3                  -1  1     18560  ultralytics.nn.modules.conv.Conv             [32, 64, 3, 2]                \n",
            "  4                  -1  2     49664  ultralytics.nn.modules.block.C2f             [64, 64, 2, True]             \n",
            "  5                  -1  1     73984  ultralytics.nn.modules.conv.Conv             [64, 128, 3, 2]               \n",
            "  6                  -1  2    197632  ultralytics.nn.modules.block.C2f             [128, 128, 2, True]           \n",
            "  7                  -1  1    295424  ultralytics.nn.modules.conv.Conv             [128, 256, 3, 2]              \n",
            "  8                  -1  1    460288  ultralytics.nn.modules.block.C2f             [256, 256, 1, True]           \n",
            "  9                  -1  1    164608  ultralytics.nn.modules.block.SPPF            [256, 256, 5]                 \n",
            " 10                  -1  1         0  torch.nn.modules.upsampling.Upsample         [None, 2, 'nearest']          \n",
            " 11             [-1, 6]  1         0  ultralytics.nn.modules.conv.Concat           [1]                           \n",
            " 12                  -1  1    148224  ultralytics.nn.modules.block.C2f             [384, 128, 1]                 \n",
            " 13                  -1  1         0  torch.nn.modules.upsampling.Upsample         [None, 2, 'nearest']          \n",
            " 14             [-1, 4]  1         0  ultralytics.nn.modules.conv.Concat           [1]                           \n",
            " 15                  -1  1     37248  ultralytics.nn.modules.block.C2f             [192, 64, 1]                  \n",
            " 16                  -1  1     36992  ultralytics.nn.modules.conv.Conv             [64, 64, 3, 2]                \n",
            " 17            [-1, 12]  1         0  ultralytics.nn.modules.conv.Concat           [1]                           \n",
            " 18                  -1  1    123648  ultralytics.nn.modules.block.C2f             [192, 128, 1]                 \n",
            " 19                  -1  1    147712  ultralytics.nn.modules.conv.Conv             [128, 128, 3, 2]              \n",
            " 20             [-1, 9]  1         0  ultralytics.nn.modules.conv.Concat           [1]                           \n",
            " 21                  -1  1    493056  ultralytics.nn.modules.block.C2f             [384, 256, 1]                 \n",
            " 22        [15, 18, 21]  1    751702  ultralytics.nn.modules.head.Detect           [2, [64, 128, 256]]           \n",
            "Model summary: 225 layers, 3,011,238 parameters, 3,011,222 gradients, 8.2 GFLOPs\n",
            "\n",
            "Transferred 319/355 items from pretrained weights\n",
            "\u001b[34m\u001b[1mTensorBoard: \u001b[0mStart with 'tensorboard --logdir runs/detect/train', view at http://localhost:6006/\n",
            "Freezing layer 'model.22.dfl.conv.weight'\n",
            "\u001b[34m\u001b[1mAMP: \u001b[0mrunning Automatic Mixed Precision (AMP) checks with YOLOv8n...\n",
            "\u001b[34m\u001b[1mAMP: \u001b[0mchecks passed ✅\n"
          ]
        },
        {
          "output_type": "stream",
          "name": "stderr",
          "text": [
            "\u001b[34m\u001b[1mtrain: \u001b[0mScanning /content/datasets/brain-tumor/train/labels... 878 images, 15 backgrounds, 0 corrupt: 100%|██████████| 893/893 [00:00<00:00, 1629.74it/s]"
          ]
        },
        {
          "output_type": "stream",
          "name": "stdout",
          "text": [
            "\u001b[34m\u001b[1mtrain: \u001b[0mNew cache created: /content/datasets/brain-tumor/train/labels.cache\n"
          ]
        },
        {
          "output_type": "stream",
          "name": "stderr",
          "text": [
            "\n"
          ]
        },
        {
          "output_type": "stream",
          "name": "stdout",
          "text": [
            "\u001b[34m\u001b[1malbumentations: \u001b[0mBlur(p=0.01, blur_limit=(3, 7)), MedianBlur(p=0.01, blur_limit=(3, 7)), ToGray(p=0.01), CLAHE(p=0.01, clip_limit=(1, 4.0), tile_grid_size=(8, 8))\n"
          ]
        },
        {
          "output_type": "stream",
          "name": "stderr",
          "text": [
            "/usr/lib/python3.10/multiprocessing/popen_fork.py:66: RuntimeWarning: os.fork() was called. os.fork() is incompatible with multithreaded code, and JAX is multithreaded, so this will likely lead to a deadlock.\n",
            "  self.pid = os.fork()\n",
            "\u001b[34m\u001b[1mval: \u001b[0mScanning /content/datasets/brain-tumor/valid/labels... 223 images, 0 backgrounds, 0 corrupt: 100%|██████████| 223/223 [00:00<00:00, 787.27it/s]\n"
          ]
        },
        {
          "output_type": "stream",
          "name": "stdout",
          "text": [
            "\u001b[34m\u001b[1mval: \u001b[0mNew cache created: /content/datasets/brain-tumor/valid/labels.cache\n",
            "Plotting labels to runs/detect/train/labels.jpg... \n",
            "\u001b[34m\u001b[1moptimizer:\u001b[0m 'optimizer=auto' found, ignoring 'lr0=0.01' and 'momentum=0.937' and determining best 'optimizer', 'lr0' and 'momentum' automatically... \n",
            "\u001b[34m\u001b[1moptimizer:\u001b[0m AdamW(lr=0.001667, momentum=0.9) with parameter groups 57 weight(decay=0.0), 64 weight(decay=0.0005), 63 bias(decay=0.0)\n",
            "\u001b[34m\u001b[1mTensorBoard: \u001b[0mmodel graph visualization added ✅\n",
            "Image sizes 640 train, 640 val\n",
            "Using 2 dataloader workers\n",
            "Logging results to \u001b[1mruns/detect/train\u001b[0m\n",
            "Starting training for 100 epochs...\n",
            "\n",
            "      Epoch    GPU_mem   box_loss   cls_loss   dfl_loss  Instances       Size\n"
          ]
        },
        {
          "output_type": "stream",
          "name": "stderr",
          "text": [
            "      1/100      2.45G      1.416      3.408       1.25         20        640: 100%|██████████| 56/56 [00:22<00:00,  2.51it/s]\n",
            "                 Class     Images  Instances      Box(P          R      mAP50  mAP50-95): 100%|██████████| 7/7 [00:03<00:00,  1.89it/s]"
          ]
        },
        {
          "output_type": "stream",
          "name": "stdout",
          "text": [
            "                   all        223        241    0.00237      0.682       0.19      0.107\n"
          ]
        },
        {
          "output_type": "stream",
          "name": "stderr",
          "text": [
            "\n"
          ]
        },
        {
          "output_type": "stream",
          "name": "stdout",
          "text": [
            "\n",
            "      Epoch    GPU_mem   box_loss   cls_loss   dfl_loss  Instances       Size\n"
          ]
        },
        {
          "output_type": "stream",
          "name": "stderr",
          "text": [
            "      2/100      2.24G      1.202       2.35      1.132         29        640: 100%|██████████| 56/56 [00:18<00:00,  2.95it/s]\n",
            "                 Class     Images  Instances      Box(P          R      mAP50  mAP50-95): 100%|██████████| 7/7 [00:02<00:00,  2.46it/s]"
          ]
        },
        {
          "output_type": "stream",
          "name": "stdout",
          "text": [
            "                   all        223        241      0.425      0.629      0.393      0.255\n"
          ]
        },
        {
          "output_type": "stream",
          "name": "stderr",
          "text": [
            "\n"
          ]
        },
        {
          "output_type": "stream",
          "name": "stdout",
          "text": [
            "\n",
            "      Epoch    GPU_mem   box_loss   cls_loss   dfl_loss  Instances       Size\n"
          ]
        },
        {
          "output_type": "stream",
          "name": "stderr",
          "text": [
            "      3/100      2.26G       1.25      2.034      1.168         21        640: 100%|██████████| 56/56 [00:18<00:00,  3.11it/s]\n",
            "                 Class     Images  Instances      Box(P          R      mAP50  mAP50-95): 100%|██████████| 7/7 [00:04<00:00,  1.57it/s]"
          ]
        },
        {
          "output_type": "stream",
          "name": "stdout",
          "text": [
            "                   all        223        241      0.413      0.547      0.381      0.246\n"
          ]
        },
        {
          "output_type": "stream",
          "name": "stderr",
          "text": [
            "\n"
          ]
        },
        {
          "output_type": "stream",
          "name": "stdout",
          "text": [
            "\n",
            "      Epoch    GPU_mem   box_loss   cls_loss   dfl_loss  Instances       Size\n"
          ]
        },
        {
          "output_type": "stream",
          "name": "stderr",
          "text": [
            "      4/100      2.24G      1.209      1.818      1.154         17        640: 100%|██████████| 56/56 [00:18<00:00,  3.04it/s]\n",
            "                 Class     Images  Instances      Box(P          R      mAP50  mAP50-95): 100%|██████████| 7/7 [00:02<00:00,  2.75it/s]"
          ]
        },
        {
          "output_type": "stream",
          "name": "stdout",
          "text": [
            "                   all        223        241       0.44      0.731      0.451      0.308\n"
          ]
        },
        {
          "output_type": "stream",
          "name": "stderr",
          "text": [
            "\n"
          ]
        },
        {
          "output_type": "stream",
          "name": "stdout",
          "text": [
            "\n",
            "      Epoch    GPU_mem   box_loss   cls_loss   dfl_loss  Instances       Size\n"
          ]
        },
        {
          "output_type": "stream",
          "name": "stderr",
          "text": [
            "      5/100      2.24G      1.179      1.608      1.132         16        640: 100%|██████████| 56/56 [00:18<00:00,  3.11it/s]\n",
            "                 Class     Images  Instances      Box(P          R      mAP50  mAP50-95): 100%|██████████| 7/7 [00:02<00:00,  3.07it/s]"
          ]
        },
        {
          "output_type": "stream",
          "name": "stdout",
          "text": [
            "                   all        223        241      0.465      0.741      0.478      0.334\n"
          ]
        },
        {
          "output_type": "stream",
          "name": "stderr",
          "text": [
            "\n"
          ]
        },
        {
          "output_type": "stream",
          "name": "stdout",
          "text": [
            "\n",
            "      Epoch    GPU_mem   box_loss   cls_loss   dfl_loss  Instances       Size\n"
          ]
        },
        {
          "output_type": "stream",
          "name": "stderr",
          "text": [
            "      6/100      2.24G      1.152      1.473      1.132         17        640: 100%|██████████| 56/56 [00:18<00:00,  3.03it/s]\n",
            "                 Class     Images  Instances      Box(P          R      mAP50  mAP50-95): 100%|██████████| 7/7 [00:02<00:00,  3.40it/s]"
          ]
        },
        {
          "output_type": "stream",
          "name": "stdout",
          "text": [
            "                   all        223        241       0.44      0.794       0.47       0.33\n"
          ]
        },
        {
          "output_type": "stream",
          "name": "stderr",
          "text": [
            "\n"
          ]
        },
        {
          "output_type": "stream",
          "name": "stdout",
          "text": [
            "\n",
            "      Epoch    GPU_mem   box_loss   cls_loss   dfl_loss  Instances       Size\n"
          ]
        },
        {
          "output_type": "stream",
          "name": "stderr",
          "text": [
            "      7/100      2.24G      1.205      1.443      1.132         21        640: 100%|██████████| 56/56 [00:19<00:00,  2.94it/s]\n",
            "                 Class     Images  Instances      Box(P          R      mAP50  mAP50-95): 100%|██████████| 7/7 [00:02<00:00,  3.26it/s]"
          ]
        },
        {
          "output_type": "stream",
          "name": "stdout",
          "text": [
            "                   all        223        241      0.424      0.681      0.426      0.288\n"
          ]
        },
        {
          "output_type": "stream",
          "name": "stderr",
          "text": [
            "\n"
          ]
        },
        {
          "output_type": "stream",
          "name": "stdout",
          "text": [
            "\n",
            "      Epoch    GPU_mem   box_loss   cls_loss   dfl_loss  Instances       Size\n"
          ]
        },
        {
          "output_type": "stream",
          "name": "stderr",
          "text": [
            "      8/100      2.24G      1.171      1.387       1.12         15        640: 100%|██████████| 56/56 [00:19<00:00,  2.89it/s]\n",
            "                 Class     Images  Instances      Box(P          R      mAP50  mAP50-95): 100%|██████████| 7/7 [00:02<00:00,  2.72it/s]"
          ]
        },
        {
          "output_type": "stream",
          "name": "stdout",
          "text": [
            "                   all        223        241      0.426      0.728      0.451      0.289\n"
          ]
        },
        {
          "output_type": "stream",
          "name": "stderr",
          "text": [
            "\n"
          ]
        },
        {
          "output_type": "stream",
          "name": "stdout",
          "text": [
            "\n",
            "      Epoch    GPU_mem   box_loss   cls_loss   dfl_loss  Instances       Size\n"
          ]
        },
        {
          "output_type": "stream",
          "name": "stderr",
          "text": [
            "      9/100      2.24G       1.14      1.336      1.101         25        640: 100%|██████████| 56/56 [00:18<00:00,  3.07it/s]\n",
            "                 Class     Images  Instances      Box(P          R      mAP50  mAP50-95): 100%|██████████| 7/7 [00:04<00:00,  1.74it/s]"
          ]
        },
        {
          "output_type": "stream",
          "name": "stdout",
          "text": [
            "                   all        223        241       0.47      0.785      0.496      0.349\n"
          ]
        },
        {
          "output_type": "stream",
          "name": "stderr",
          "text": [
            "\n"
          ]
        },
        {
          "output_type": "stream",
          "name": "stdout",
          "text": [
            "\n",
            "      Epoch    GPU_mem   box_loss   cls_loss   dfl_loss  Instances       Size\n"
          ]
        },
        {
          "output_type": "stream",
          "name": "stderr",
          "text": [
            "     10/100      2.24G        1.1      1.273      1.088         20        640: 100%|██████████| 56/56 [00:17<00:00,  3.13it/s]\n",
            "                 Class     Images  Instances      Box(P          R      mAP50  mAP50-95): 100%|██████████| 7/7 [00:03<00:00,  2.29it/s]"
          ]
        },
        {
          "output_type": "stream",
          "name": "stdout",
          "text": [
            "                   all        223        241      0.469      0.753       0.49      0.357\n"
          ]
        },
        {
          "output_type": "stream",
          "name": "stderr",
          "text": [
            "\n"
          ]
        },
        {
          "output_type": "stream",
          "name": "stdout",
          "text": [
            "\n",
            "      Epoch    GPU_mem   box_loss   cls_loss   dfl_loss  Instances       Size\n"
          ]
        },
        {
          "output_type": "stream",
          "name": "stderr",
          "text": [
            "     11/100      2.24G      1.093      1.273      1.082         24        640: 100%|██████████| 56/56 [00:18<00:00,  2.95it/s]\n",
            "                 Class     Images  Instances      Box(P          R      mAP50  mAP50-95): 100%|██████████| 7/7 [00:02<00:00,  2.94it/s]"
          ]
        },
        {
          "output_type": "stream",
          "name": "stdout",
          "text": [
            "                   all        223        241      0.447      0.817      0.469      0.328\n"
          ]
        },
        {
          "output_type": "stream",
          "name": "stderr",
          "text": [
            "\n"
          ]
        },
        {
          "output_type": "stream",
          "name": "stdout",
          "text": [
            "\n",
            "      Epoch    GPU_mem   box_loss   cls_loss   dfl_loss  Instances       Size\n"
          ]
        },
        {
          "output_type": "stream",
          "name": "stderr",
          "text": [
            "     12/100      2.24G      1.062      1.239       1.08         14        640: 100%|██████████| 56/56 [00:19<00:00,  2.94it/s]\n",
            "                 Class     Images  Instances      Box(P          R      mAP50  mAP50-95): 100%|██████████| 7/7 [00:02<00:00,  3.18it/s]"
          ]
        },
        {
          "output_type": "stream",
          "name": "stdout",
          "text": [
            "                   all        223        241      0.468      0.821       0.49      0.349\n"
          ]
        },
        {
          "output_type": "stream",
          "name": "stderr",
          "text": [
            "\n"
          ]
        },
        {
          "output_type": "stream",
          "name": "stdout",
          "text": [
            "\n",
            "      Epoch    GPU_mem   box_loss   cls_loss   dfl_loss  Instances       Size\n"
          ]
        },
        {
          "output_type": "stream",
          "name": "stderr",
          "text": [
            "     13/100      2.24G      1.067      1.226      1.091         17        640: 100%|██████████| 56/56 [00:19<00:00,  2.87it/s]\n",
            "                 Class     Images  Instances      Box(P          R      mAP50  mAP50-95): 100%|██████████| 7/7 [00:02<00:00,  3.29it/s]"
          ]
        },
        {
          "output_type": "stream",
          "name": "stdout",
          "text": [
            "                   all        223        241      0.442      0.835      0.491      0.352\n"
          ]
        },
        {
          "output_type": "stream",
          "name": "stderr",
          "text": [
            "\n"
          ]
        },
        {
          "output_type": "stream",
          "name": "stdout",
          "text": [
            "\n",
            "      Epoch    GPU_mem   box_loss   cls_loss   dfl_loss  Instances       Size\n"
          ]
        },
        {
          "output_type": "stream",
          "name": "stderr",
          "text": [
            "     14/100      2.24G      1.096      1.232      1.091         26        640: 100%|██████████| 56/56 [00:17<00:00,  3.17it/s]\n",
            "                 Class     Images  Instances      Box(P          R      mAP50  mAP50-95): 100%|██████████| 7/7 [00:02<00:00,  2.51it/s]"
          ]
        },
        {
          "output_type": "stream",
          "name": "stdout",
          "text": [
            "                   all        223        241      0.424      0.815      0.448      0.321\n"
          ]
        },
        {
          "output_type": "stream",
          "name": "stderr",
          "text": [
            "\n"
          ]
        },
        {
          "output_type": "stream",
          "name": "stdout",
          "text": [
            "\n",
            "      Epoch    GPU_mem   box_loss   cls_loss   dfl_loss  Instances       Size\n"
          ]
        },
        {
          "output_type": "stream",
          "name": "stderr",
          "text": [
            "     15/100      2.24G      1.084      1.231      1.085         19        640: 100%|██████████| 56/56 [00:18<00:00,  3.07it/s]\n",
            "                 Class     Images  Instances      Box(P          R      mAP50  mAP50-95): 100%|██████████| 7/7 [00:04<00:00,  1.68it/s]"
          ]
        },
        {
          "output_type": "stream",
          "name": "stdout",
          "text": [
            "                   all        223        241      0.471      0.818      0.501      0.373\n"
          ]
        },
        {
          "output_type": "stream",
          "name": "stderr",
          "text": [
            "\n"
          ]
        },
        {
          "output_type": "stream",
          "name": "stdout",
          "text": [
            "\n",
            "      Epoch    GPU_mem   box_loss   cls_loss   dfl_loss  Instances       Size\n"
          ]
        },
        {
          "output_type": "stream",
          "name": "stderr",
          "text": [
            "     16/100      2.24G      1.031      1.237      1.077         19        640: 100%|██████████| 56/56 [00:18<00:00,  3.00it/s]\n",
            "                 Class     Images  Instances      Box(P          R      mAP50  mAP50-95): 100%|██████████| 7/7 [00:03<00:00,  1.89it/s]"
          ]
        },
        {
          "output_type": "stream",
          "name": "stdout",
          "text": [
            "                   all        223        241      0.468      0.771      0.489       0.36\n"
          ]
        },
        {
          "output_type": "stream",
          "name": "stderr",
          "text": [
            "\n"
          ]
        },
        {
          "output_type": "stream",
          "name": "stdout",
          "text": [
            "\n",
            "      Epoch    GPU_mem   box_loss   cls_loss   dfl_loss  Instances       Size\n"
          ]
        },
        {
          "output_type": "stream",
          "name": "stderr",
          "text": [
            "     17/100      2.24G      1.036      1.171      1.066         24        640: 100%|██████████| 56/56 [00:18<00:00,  2.96it/s]\n",
            "                 Class     Images  Instances      Box(P          R      mAP50  mAP50-95): 100%|██████████| 7/7 [00:02<00:00,  3.25it/s]"
          ]
        },
        {
          "output_type": "stream",
          "name": "stdout",
          "text": [
            "                   all        223        241      0.435      0.854      0.501      0.365\n"
          ]
        },
        {
          "output_type": "stream",
          "name": "stderr",
          "text": [
            "\n"
          ]
        },
        {
          "output_type": "stream",
          "name": "stdout",
          "text": [
            "\n",
            "      Epoch    GPU_mem   box_loss   cls_loss   dfl_loss  Instances       Size\n"
          ]
        },
        {
          "output_type": "stream",
          "name": "stderr",
          "text": [
            "     18/100      2.24G      1.032      1.153       1.06         25        640: 100%|██████████| 56/56 [00:18<00:00,  3.03it/s]\n",
            "                 Class     Images  Instances      Box(P          R      mAP50  mAP50-95): 100%|██████████| 7/7 [00:02<00:00,  3.37it/s]"
          ]
        },
        {
          "output_type": "stream",
          "name": "stdout",
          "text": [
            "                   all        223        241      0.435      0.875      0.466      0.327\n"
          ]
        },
        {
          "output_type": "stream",
          "name": "stderr",
          "text": [
            "\n"
          ]
        },
        {
          "output_type": "stream",
          "name": "stdout",
          "text": [
            "\n",
            "      Epoch    GPU_mem   box_loss   cls_loss   dfl_loss  Instances       Size\n"
          ]
        },
        {
          "output_type": "stream",
          "name": "stderr",
          "text": [
            "     19/100      2.24G      1.052      1.171      1.064         23        640: 100%|██████████| 56/56 [00:19<00:00,  2.90it/s]\n",
            "                 Class     Images  Instances      Box(P          R      mAP50  mAP50-95): 100%|██████████| 7/7 [00:02<00:00,  3.17it/s]"
          ]
        },
        {
          "output_type": "stream",
          "name": "stdout",
          "text": [
            "                   all        223        241      0.445      0.808      0.464      0.334\n"
          ]
        },
        {
          "output_type": "stream",
          "name": "stderr",
          "text": [
            "\n"
          ]
        },
        {
          "output_type": "stream",
          "name": "stdout",
          "text": [
            "\n",
            "      Epoch    GPU_mem   box_loss   cls_loss   dfl_loss  Instances       Size\n"
          ]
        },
        {
          "output_type": "stream",
          "name": "stderr",
          "text": [
            "     20/100      2.24G      1.014      1.131      1.046         23        640: 100%|██████████| 56/56 [00:18<00:00,  3.08it/s]\n",
            "                 Class     Images  Instances      Box(P          R      mAP50  mAP50-95): 100%|██████████| 7/7 [00:02<00:00,  2.50it/s]"
          ]
        },
        {
          "output_type": "stream",
          "name": "stdout",
          "text": [
            "                   all        223        241      0.447      0.829      0.457      0.326\n"
          ]
        },
        {
          "output_type": "stream",
          "name": "stderr",
          "text": [
            "\n"
          ]
        },
        {
          "output_type": "stream",
          "name": "stdout",
          "text": [
            "\n",
            "      Epoch    GPU_mem   box_loss   cls_loss   dfl_loss  Instances       Size\n"
          ]
        },
        {
          "output_type": "stream",
          "name": "stderr",
          "text": [
            "     21/100      2.24G      1.008      1.134      1.042         20        640: 100%|██████████| 56/56 [00:18<00:00,  3.04it/s]\n",
            "                 Class     Images  Instances      Box(P          R      mAP50  mAP50-95): 100%|██████████| 7/7 [00:04<00:00,  1.61it/s]"
          ]
        },
        {
          "output_type": "stream",
          "name": "stdout",
          "text": [
            "                   all        223        241       0.44      0.879      0.462       0.32\n"
          ]
        },
        {
          "output_type": "stream",
          "name": "stderr",
          "text": [
            "\n"
          ]
        },
        {
          "output_type": "stream",
          "name": "stdout",
          "text": [
            "\n",
            "      Epoch    GPU_mem   box_loss   cls_loss   dfl_loss  Instances       Size\n"
          ]
        },
        {
          "output_type": "stream",
          "name": "stderr",
          "text": [
            "     22/100      2.24G      1.023      1.145      1.062         24        640: 100%|██████████| 56/56 [00:18<00:00,  3.06it/s]\n",
            "                 Class     Images  Instances      Box(P          R      mAP50  mAP50-95): 100%|██████████| 7/7 [00:03<00:00,  2.05it/s]"
          ]
        },
        {
          "output_type": "stream",
          "name": "stdout",
          "text": [
            "                   all        223        241       0.43      0.792      0.453      0.322\n"
          ]
        },
        {
          "output_type": "stream",
          "name": "stderr",
          "text": [
            "\n"
          ]
        },
        {
          "output_type": "stream",
          "name": "stdout",
          "text": [
            "\n",
            "      Epoch    GPU_mem   box_loss   cls_loss   dfl_loss  Instances       Size\n"
          ]
        },
        {
          "output_type": "stream",
          "name": "stderr",
          "text": [
            "     23/100      2.24G     0.9756      1.098      1.036         26        640: 100%|██████████| 56/56 [00:18<00:00,  3.08it/s]\n",
            "                 Class     Images  Instances      Box(P          R      mAP50  mAP50-95): 100%|██████████| 7/7 [00:02<00:00,  3.06it/s]"
          ]
        },
        {
          "output_type": "stream",
          "name": "stdout",
          "text": [
            "                   all        223        241      0.442      0.804      0.455      0.323\n"
          ]
        },
        {
          "output_type": "stream",
          "name": "stderr",
          "text": [
            "\n"
          ]
        },
        {
          "output_type": "stream",
          "name": "stdout",
          "text": [
            "\n",
            "      Epoch    GPU_mem   box_loss   cls_loss   dfl_loss  Instances       Size\n"
          ]
        },
        {
          "output_type": "stream",
          "name": "stderr",
          "text": [
            "     24/100      2.24G          1      1.104      1.046         17        640: 100%|██████████| 56/56 [00:17<00:00,  3.12it/s]\n",
            "                 Class     Images  Instances      Box(P          R      mAP50  mAP50-95): 100%|██████████| 7/7 [00:01<00:00,  3.52it/s]"
          ]
        },
        {
          "output_type": "stream",
          "name": "stdout",
          "text": [
            "                   all        223        241      0.425      0.855      0.462      0.338\n"
          ]
        },
        {
          "output_type": "stream",
          "name": "stderr",
          "text": [
            "\n"
          ]
        },
        {
          "output_type": "stream",
          "name": "stdout",
          "text": [
            "\n",
            "      Epoch    GPU_mem   box_loss   cls_loss   dfl_loss  Instances       Size\n"
          ]
        },
        {
          "output_type": "stream",
          "name": "stderr",
          "text": [
            "     25/100      2.24G     0.9768      1.067      1.029         18        640: 100%|██████████| 56/56 [00:18<00:00,  2.96it/s]\n",
            "                 Class     Images  Instances      Box(P          R      mAP50  mAP50-95): 100%|██████████| 7/7 [00:02<00:00,  3.37it/s]"
          ]
        },
        {
          "output_type": "stream",
          "name": "stdout",
          "text": [
            "                   all        223        241       0.38      0.839      0.413      0.277\n"
          ]
        },
        {
          "output_type": "stream",
          "name": "stderr",
          "text": [
            "\n"
          ]
        },
        {
          "output_type": "stream",
          "name": "stdout",
          "text": [
            "\n",
            "      Epoch    GPU_mem   box_loss   cls_loss   dfl_loss  Instances       Size\n"
          ]
        },
        {
          "output_type": "stream",
          "name": "stderr",
          "text": [
            "     26/100      2.24G       0.97      1.091      1.024         22        640: 100%|██████████| 56/56 [00:19<00:00,  2.89it/s]\n",
            "                 Class     Images  Instances      Box(P          R      mAP50  mAP50-95): 100%|██████████| 7/7 [00:03<00:00,  2.01it/s]"
          ]
        },
        {
          "output_type": "stream",
          "name": "stdout",
          "text": [
            "                   all        223        241      0.449      0.854      0.472       0.34\n"
          ]
        },
        {
          "output_type": "stream",
          "name": "stderr",
          "text": [
            "\n"
          ]
        },
        {
          "output_type": "stream",
          "name": "stdout",
          "text": [
            "\n",
            "      Epoch    GPU_mem   box_loss   cls_loss   dfl_loss  Instances       Size\n"
          ]
        },
        {
          "output_type": "stream",
          "name": "stderr",
          "text": [
            "     27/100      2.24G     0.9653      1.075       1.03         19        640: 100%|██████████| 56/56 [00:18<00:00,  3.07it/s]\n",
            "                 Class     Images  Instances      Box(P          R      mAP50  mAP50-95): 100%|██████████| 7/7 [00:04<00:00,  1.62it/s]"
          ]
        },
        {
          "output_type": "stream",
          "name": "stdout",
          "text": [
            "                   all        223        241      0.425      0.879      0.433      0.306\n"
          ]
        },
        {
          "output_type": "stream",
          "name": "stderr",
          "text": [
            "\n"
          ]
        },
        {
          "output_type": "stream",
          "name": "stdout",
          "text": [
            "\n",
            "      Epoch    GPU_mem   box_loss   cls_loss   dfl_loss  Instances       Size\n"
          ]
        },
        {
          "output_type": "stream",
          "name": "stderr",
          "text": [
            "     28/100      2.24G     0.9979      1.055      1.042         17        640: 100%|██████████| 56/56 [00:18<00:00,  3.00it/s]\n",
            "                 Class     Images  Instances      Box(P          R      mAP50  mAP50-95): 100%|██████████| 7/7 [00:02<00:00,  2.63it/s]"
          ]
        },
        {
          "output_type": "stream",
          "name": "stdout",
          "text": [
            "                   all        223        241      0.417      0.876      0.445      0.314\n"
          ]
        },
        {
          "output_type": "stream",
          "name": "stderr",
          "text": [
            "\n"
          ]
        },
        {
          "output_type": "stream",
          "name": "stdout",
          "text": [
            "\n",
            "      Epoch    GPU_mem   box_loss   cls_loss   dfl_loss  Instances       Size\n"
          ]
        },
        {
          "output_type": "stream",
          "name": "stderr",
          "text": [
            "     29/100      2.24G     0.9853       1.03      1.026         19        640: 100%|██████████| 56/56 [00:18<00:00,  3.08it/s]\n",
            "                 Class     Images  Instances      Box(P          R      mAP50  mAP50-95): 100%|██████████| 7/7 [00:02<00:00,  2.93it/s]"
          ]
        },
        {
          "output_type": "stream",
          "name": "stdout",
          "text": [
            "                   all        223        241      0.421      0.888      0.454      0.316\n"
          ]
        },
        {
          "output_type": "stream",
          "name": "stderr",
          "text": [
            "\n"
          ]
        },
        {
          "output_type": "stream",
          "name": "stdout",
          "text": [
            "\n",
            "      Epoch    GPU_mem   box_loss   cls_loss   dfl_loss  Instances       Size\n"
          ]
        },
        {
          "output_type": "stream",
          "name": "stderr",
          "text": [
            "     30/100      2.24G     0.9535      1.064      1.023         22        640: 100%|██████████| 56/56 [00:18<00:00,  2.97it/s]\n",
            "                 Class     Images  Instances      Box(P          R      mAP50  mAP50-95): 100%|██████████| 7/7 [00:02<00:00,  3.42it/s]"
          ]
        },
        {
          "output_type": "stream",
          "name": "stdout",
          "text": [
            "                   all        223        241      0.418      0.877      0.422      0.304\n"
          ]
        },
        {
          "output_type": "stream",
          "name": "stderr",
          "text": [
            "\n"
          ]
        },
        {
          "output_type": "stream",
          "name": "stdout",
          "text": [
            "\n",
            "      Epoch    GPU_mem   box_loss   cls_loss   dfl_loss  Instances       Size\n"
          ]
        },
        {
          "output_type": "stream",
          "name": "stderr",
          "text": [
            "     31/100      2.24G     0.9736      1.042      1.019         12        640: 100%|██████████| 56/56 [00:18<00:00,  3.06it/s]\n",
            "                 Class     Images  Instances      Box(P          R      mAP50  mAP50-95): 100%|██████████| 7/7 [00:03<00:00,  2.30it/s]"
          ]
        },
        {
          "output_type": "stream",
          "name": "stdout",
          "text": [
            "                   all        223        241      0.439      0.894      0.461      0.335\n"
          ]
        },
        {
          "output_type": "stream",
          "name": "stderr",
          "text": [
            "\n"
          ]
        },
        {
          "output_type": "stream",
          "name": "stdout",
          "text": [
            "\n",
            "      Epoch    GPU_mem   box_loss   cls_loss   dfl_loss  Instances       Size\n"
          ]
        },
        {
          "output_type": "stream",
          "name": "stderr",
          "text": [
            "     32/100      2.24G     0.9415      1.029      1.011         21        640: 100%|██████████| 56/56 [00:18<00:00,  3.05it/s]\n",
            "                 Class     Images  Instances      Box(P          R      mAP50  mAP50-95): 100%|██████████| 7/7 [00:04<00:00,  1.68it/s]"
          ]
        },
        {
          "output_type": "stream",
          "name": "stdout",
          "text": [
            "                   all        223        241      0.409      0.857      0.433      0.305\n"
          ]
        },
        {
          "output_type": "stream",
          "name": "stderr",
          "text": [
            "\n"
          ]
        },
        {
          "output_type": "stream",
          "name": "stdout",
          "text": [
            "\n",
            "      Epoch    GPU_mem   box_loss   cls_loss   dfl_loss  Instances       Size\n"
          ]
        },
        {
          "output_type": "stream",
          "name": "stderr",
          "text": [
            "     33/100      2.24G     0.9497       1.01      1.021         17        640: 100%|██████████| 56/56 [00:18<00:00,  3.04it/s]\n",
            "                 Class     Images  Instances      Box(P          R      mAP50  mAP50-95): 100%|██████████| 7/7 [00:03<00:00,  1.92it/s]"
          ]
        },
        {
          "output_type": "stream",
          "name": "stdout",
          "text": [
            "                   all        223        241      0.442      0.914      0.468      0.326\n"
          ]
        },
        {
          "output_type": "stream",
          "name": "stderr",
          "text": [
            "\n"
          ]
        },
        {
          "output_type": "stream",
          "name": "stdout",
          "text": [
            "\n",
            "      Epoch    GPU_mem   box_loss   cls_loss   dfl_loss  Instances       Size\n"
          ]
        },
        {
          "output_type": "stream",
          "name": "stderr",
          "text": [
            "     34/100      2.24G     0.9581      1.006      1.018         27        640: 100%|██████████| 56/56 [00:19<00:00,  2.91it/s]\n",
            "                 Class     Images  Instances      Box(P          R      mAP50  mAP50-95): 100%|██████████| 7/7 [00:02<00:00,  3.33it/s]"
          ]
        },
        {
          "output_type": "stream",
          "name": "stdout",
          "text": [
            "                   all        223        241      0.435        0.8      0.459      0.329\n"
          ]
        },
        {
          "output_type": "stream",
          "name": "stderr",
          "text": [
            "\n"
          ]
        },
        {
          "output_type": "stream",
          "name": "stdout",
          "text": [
            "\n",
            "      Epoch    GPU_mem   box_loss   cls_loss   dfl_loss  Instances       Size\n"
          ]
        },
        {
          "output_type": "stream",
          "name": "stderr",
          "text": [
            "     35/100      2.24G     0.9187      0.978      1.012         18        640: 100%|██████████| 56/56 [00:19<00:00,  2.88it/s]\n",
            "                 Class     Images  Instances      Box(P          R      mAP50  mAP50-95): 100%|██████████| 7/7 [00:02<00:00,  3.04it/s]"
          ]
        },
        {
          "output_type": "stream",
          "name": "stdout",
          "text": [
            "                   all        223        241      0.433      0.876      0.478      0.352\n"
          ]
        },
        {
          "output_type": "stream",
          "name": "stderr",
          "text": [
            "\n"
          ]
        },
        {
          "output_type": "stream",
          "name": "stdout",
          "text": [
            "\n",
            "      Epoch    GPU_mem   box_loss   cls_loss   dfl_loss  Instances       Size\n"
          ]
        },
        {
          "output_type": "stream",
          "name": "stderr",
          "text": [
            "     36/100      2.24G     0.9418     0.9726      1.011         21        640: 100%|██████████| 56/56 [00:18<00:00,  2.97it/s]\n",
            "                 Class     Images  Instances      Box(P          R      mAP50  mAP50-95): 100%|██████████| 7/7 [00:02<00:00,  3.29it/s]"
          ]
        },
        {
          "output_type": "stream",
          "name": "stdout",
          "text": [
            "                   all        223        241      0.454      0.857      0.452      0.327\n"
          ]
        },
        {
          "output_type": "stream",
          "name": "stderr",
          "text": [
            "\n"
          ]
        },
        {
          "output_type": "stream",
          "name": "stdout",
          "text": [
            "\n",
            "      Epoch    GPU_mem   box_loss   cls_loss   dfl_loss  Instances       Size\n"
          ]
        },
        {
          "output_type": "stream",
          "name": "stderr",
          "text": [
            "     37/100      2.24G     0.9457     0.9819      1.027         18        640: 100%|██████████| 56/56 [00:18<00:00,  2.95it/s]\n",
            "                 Class     Images  Instances      Box(P          R      mAP50  mAP50-95): 100%|██████████| 7/7 [00:02<00:00,  2.35it/s]"
          ]
        },
        {
          "output_type": "stream",
          "name": "stdout",
          "text": [
            "                   all        223        241       0.45      0.845      0.448      0.315\n"
          ]
        },
        {
          "output_type": "stream",
          "name": "stderr",
          "text": [
            "\n"
          ]
        },
        {
          "output_type": "stream",
          "name": "stdout",
          "text": [
            "\n",
            "      Epoch    GPU_mem   box_loss   cls_loss   dfl_loss  Instances       Size\n"
          ]
        },
        {
          "output_type": "stream",
          "name": "stderr",
          "text": [
            "     38/100      2.24G     0.9205     0.9859      1.008         20        640: 100%|██████████| 56/56 [00:18<00:00,  3.01it/s]\n",
            "                 Class     Images  Instances      Box(P          R      mAP50  mAP50-95): 100%|██████████| 7/7 [00:03<00:00,  1.77it/s]"
          ]
        },
        {
          "output_type": "stream",
          "name": "stdout",
          "text": [
            "                   all        223        241      0.421       0.89      0.429      0.303\n"
          ]
        },
        {
          "output_type": "stream",
          "name": "stderr",
          "text": [
            "\n"
          ]
        },
        {
          "output_type": "stream",
          "name": "stdout",
          "text": [
            "\n",
            "      Epoch    GPU_mem   box_loss   cls_loss   dfl_loss  Instances       Size\n"
          ]
        },
        {
          "output_type": "stream",
          "name": "stderr",
          "text": [
            "     39/100      2.25G      0.911     0.9476      1.002         22        640: 100%|██████████| 56/56 [00:18<00:00,  3.00it/s]\n",
            "                 Class     Images  Instances      Box(P          R      mAP50  mAP50-95): 100%|██████████| 7/7 [00:02<00:00,  3.20it/s]"
          ]
        },
        {
          "output_type": "stream",
          "name": "stdout",
          "text": [
            "                   all        223        241      0.393       0.88      0.413      0.285\n"
          ]
        },
        {
          "output_type": "stream",
          "name": "stderr",
          "text": [
            "\n"
          ]
        },
        {
          "output_type": "stream",
          "name": "stdout",
          "text": [
            "\n",
            "      Epoch    GPU_mem   box_loss   cls_loss   dfl_loss  Instances       Size\n"
          ]
        },
        {
          "output_type": "stream",
          "name": "stderr",
          "text": [
            "     40/100      2.24G     0.9115     0.9533     0.9991         21        640: 100%|██████████| 56/56 [00:18<00:00,  3.10it/s]\n",
            "                 Class     Images  Instances      Box(P          R      mAP50  mAP50-95): 100%|██████████| 7/7 [00:02<00:00,  3.39it/s]"
          ]
        },
        {
          "output_type": "stream",
          "name": "stdout",
          "text": [
            "                   all        223        241      0.435      0.858      0.436      0.313\n"
          ]
        },
        {
          "output_type": "stream",
          "name": "stderr",
          "text": [
            "\n"
          ]
        },
        {
          "output_type": "stream",
          "name": "stdout",
          "text": [
            "\n",
            "      Epoch    GPU_mem   box_loss   cls_loss   dfl_loss  Instances       Size\n"
          ]
        },
        {
          "output_type": "stream",
          "name": "stderr",
          "text": [
            "     41/100      2.24G      0.916     0.9345     0.9986         22        640: 100%|██████████| 56/56 [00:19<00:00,  2.94it/s]\n",
            "                 Class     Images  Instances      Box(P          R      mAP50  mAP50-95): 100%|██████████| 7/7 [00:02<00:00,  3.05it/s]"
          ]
        },
        {
          "output_type": "stream",
          "name": "stdout",
          "text": [
            "                   all        223        241      0.406      0.816      0.412      0.296\n"
          ]
        },
        {
          "output_type": "stream",
          "name": "stderr",
          "text": [
            "\n"
          ]
        },
        {
          "output_type": "stream",
          "name": "stdout",
          "text": [
            "\n",
            "      Epoch    GPU_mem   box_loss   cls_loss   dfl_loss  Instances       Size\n"
          ]
        },
        {
          "output_type": "stream",
          "name": "stderr",
          "text": [
            "     42/100      2.24G      0.924     0.9234     0.9984         20        640: 100%|██████████| 56/56 [00:18<00:00,  2.96it/s]\n",
            "                 Class     Images  Instances      Box(P          R      mAP50  mAP50-95): 100%|██████████| 7/7 [00:03<00:00,  2.29it/s]"
          ]
        },
        {
          "output_type": "stream",
          "name": "stdout",
          "text": [
            "                   all        223        241      0.406      0.835       0.41      0.294\n"
          ]
        },
        {
          "output_type": "stream",
          "name": "stderr",
          "text": [
            "\n"
          ]
        },
        {
          "output_type": "stream",
          "name": "stdout",
          "text": [
            "\n",
            "      Epoch    GPU_mem   box_loss   cls_loss   dfl_loss  Instances       Size\n"
          ]
        },
        {
          "output_type": "stream",
          "name": "stderr",
          "text": [
            "     43/100      2.24G     0.9355     0.9075      1.008         19        640: 100%|██████████| 56/56 [00:18<00:00,  2.98it/s]\n",
            "                 Class     Images  Instances      Box(P          R      mAP50  mAP50-95): 100%|██████████| 7/7 [00:04<00:00,  1.56it/s]"
          ]
        },
        {
          "output_type": "stream",
          "name": "stdout",
          "text": [
            "                   all        223        241      0.406      0.887      0.434      0.304\n"
          ]
        },
        {
          "output_type": "stream",
          "name": "stderr",
          "text": [
            "\n"
          ]
        },
        {
          "output_type": "stream",
          "name": "stdout",
          "text": [
            "\n",
            "      Epoch    GPU_mem   box_loss   cls_loss   dfl_loss  Instances       Size\n"
          ]
        },
        {
          "output_type": "stream",
          "name": "stderr",
          "text": [
            "     44/100      2.24G     0.9115     0.9188      1.001         14        640: 100%|██████████| 56/56 [00:19<00:00,  2.92it/s]\n",
            "                 Class     Images  Instances      Box(P          R      mAP50  mAP50-95): 100%|██████████| 7/7 [00:03<00:00,  2.33it/s]"
          ]
        },
        {
          "output_type": "stream",
          "name": "stdout",
          "text": [
            "                   all        223        241      0.423      0.814      0.439      0.306\n"
          ]
        },
        {
          "output_type": "stream",
          "name": "stderr",
          "text": [
            "\n"
          ]
        },
        {
          "output_type": "stream",
          "name": "stdout",
          "text": [
            "\n",
            "      Epoch    GPU_mem   box_loss   cls_loss   dfl_loss  Instances       Size\n"
          ]
        },
        {
          "output_type": "stream",
          "name": "stderr",
          "text": [
            "     45/100      2.24G     0.8898     0.8895     0.9994         23        640: 100%|██████████| 56/56 [00:19<00:00,  2.95it/s]\n",
            "                 Class     Images  Instances      Box(P          R      mAP50  mAP50-95): 100%|██████████| 7/7 [00:02<00:00,  3.31it/s]"
          ]
        },
        {
          "output_type": "stream",
          "name": "stdout",
          "text": [
            "                   all        223        241      0.434      0.853      0.457      0.322\n"
          ]
        },
        {
          "output_type": "stream",
          "name": "stderr",
          "text": [
            "\n"
          ]
        },
        {
          "output_type": "stream",
          "name": "stdout",
          "text": [
            "\n",
            "      Epoch    GPU_mem   box_loss   cls_loss   dfl_loss  Instances       Size\n"
          ]
        },
        {
          "output_type": "stream",
          "name": "stderr",
          "text": [
            "     46/100      2.24G     0.8815     0.8912      0.995         20        640: 100%|██████████| 56/56 [00:19<00:00,  2.91it/s]\n",
            "                 Class     Images  Instances      Box(P          R      mAP50  mAP50-95): 100%|██████████| 7/7 [00:02<00:00,  3.18it/s]"
          ]
        },
        {
          "output_type": "stream",
          "name": "stdout",
          "text": [
            "                   all        223        241      0.402      0.814      0.437      0.321\n"
          ]
        },
        {
          "output_type": "stream",
          "name": "stderr",
          "text": [
            "\n"
          ]
        },
        {
          "output_type": "stream",
          "name": "stdout",
          "text": [
            "\n",
            "      Epoch    GPU_mem   box_loss   cls_loss   dfl_loss  Instances       Size\n"
          ]
        },
        {
          "output_type": "stream",
          "name": "stderr",
          "text": [
            "     47/100      2.24G     0.8779     0.8714     0.9957         22        640: 100%|██████████| 56/56 [00:19<00:00,  2.89it/s]\n",
            "                 Class     Images  Instances      Box(P          R      mAP50  mAP50-95): 100%|██████████| 7/7 [00:02<00:00,  2.90it/s]"
          ]
        },
        {
          "output_type": "stream",
          "name": "stdout",
          "text": [
            "                   all        223        241      0.411      0.854      0.415      0.292\n"
          ]
        },
        {
          "output_type": "stream",
          "name": "stderr",
          "text": [
            "\n"
          ]
        },
        {
          "output_type": "stream",
          "name": "stdout",
          "text": [
            "\n",
            "      Epoch    GPU_mem   box_loss   cls_loss   dfl_loss  Instances       Size\n"
          ]
        },
        {
          "output_type": "stream",
          "name": "stderr",
          "text": [
            "     48/100      2.24G     0.8929     0.8508     0.9865         25        640: 100%|██████████| 56/56 [00:18<00:00,  3.01it/s]\n",
            "                 Class     Images  Instances      Box(P          R      mAP50  mAP50-95): 100%|██████████| 7/7 [00:03<00:00,  2.13it/s]"
          ]
        },
        {
          "output_type": "stream",
          "name": "stdout",
          "text": [
            "                   all        223        241      0.439      0.809       0.45       0.33\n"
          ]
        },
        {
          "output_type": "stream",
          "name": "stderr",
          "text": [
            "\n"
          ]
        },
        {
          "output_type": "stream",
          "name": "stdout",
          "text": [
            "\n",
            "      Epoch    GPU_mem   box_loss   cls_loss   dfl_loss  Instances       Size\n"
          ]
        },
        {
          "output_type": "stream",
          "name": "stderr",
          "text": [
            "     49/100      2.24G     0.9137     0.8794      1.007         18        640: 100%|██████████| 56/56 [00:18<00:00,  2.98it/s]\n",
            "                 Class     Images  Instances      Box(P          R      mAP50  mAP50-95): 100%|██████████| 7/7 [00:04<00:00,  1.63it/s]"
          ]
        },
        {
          "output_type": "stream",
          "name": "stdout",
          "text": [
            "                   all        223        241      0.416      0.808      0.418      0.293\n"
          ]
        },
        {
          "output_type": "stream",
          "name": "stderr",
          "text": [
            "\n"
          ]
        },
        {
          "output_type": "stream",
          "name": "stdout",
          "text": [
            "\n",
            "      Epoch    GPU_mem   box_loss   cls_loss   dfl_loss  Instances       Size\n"
          ]
        },
        {
          "output_type": "stream",
          "name": "stderr",
          "text": [
            "     50/100      2.24G     0.8794     0.8343      0.964         21        640: 100%|██████████| 56/56 [00:18<00:00,  2.97it/s]\n",
            "                 Class     Images  Instances      Box(P          R      mAP50  mAP50-95): 100%|██████████| 7/7 [00:02<00:00,  3.13it/s]"
          ]
        },
        {
          "output_type": "stream",
          "name": "stdout",
          "text": [
            "                   all        223        241      0.419      0.833       0.44      0.312\n"
          ]
        },
        {
          "output_type": "stream",
          "name": "stderr",
          "text": [
            "\n"
          ]
        },
        {
          "output_type": "stream",
          "name": "stdout",
          "text": [
            "\n",
            "      Epoch    GPU_mem   box_loss   cls_loss   dfl_loss  Instances       Size\n"
          ]
        },
        {
          "output_type": "stream",
          "name": "stderr",
          "text": [
            "     51/100      2.24G     0.8525     0.8136     0.9805         19        640: 100%|██████████| 56/56 [00:19<00:00,  2.86it/s]\n",
            "                 Class     Images  Instances      Box(P          R      mAP50  mAP50-95): 100%|██████████| 7/7 [00:02<00:00,  3.11it/s]"
          ]
        },
        {
          "output_type": "stream",
          "name": "stdout",
          "text": [
            "                   all        223        241      0.418      0.848      0.446      0.324\n"
          ]
        },
        {
          "output_type": "stream",
          "name": "stderr",
          "text": [
            "\n"
          ]
        },
        {
          "output_type": "stream",
          "name": "stdout",
          "text": [
            "\n",
            "      Epoch    GPU_mem   box_loss   cls_loss   dfl_loss  Instances       Size\n"
          ]
        },
        {
          "output_type": "stream",
          "name": "stderr",
          "text": [
            "     52/100      2.24G     0.8901     0.8107     0.9858         24        640: 100%|██████████| 56/56 [00:18<00:00,  3.04it/s]\n",
            "                 Class     Images  Instances      Box(P          R      mAP50  mAP50-95): 100%|██████████| 7/7 [00:02<00:00,  3.38it/s]"
          ]
        },
        {
          "output_type": "stream",
          "name": "stdout",
          "text": [
            "                   all        223        241      0.402      0.838      0.429        0.3\n"
          ]
        },
        {
          "output_type": "stream",
          "name": "stderr",
          "text": [
            "\n"
          ]
        },
        {
          "output_type": "stream",
          "name": "stdout",
          "text": [
            "\n",
            "      Epoch    GPU_mem   box_loss   cls_loss   dfl_loss  Instances       Size\n"
          ]
        },
        {
          "output_type": "stream",
          "name": "stderr",
          "text": [
            "     53/100      2.24G     0.9027     0.8322     0.9869         26        640: 100%|██████████| 56/56 [00:18<00:00,  3.01it/s]\n",
            "                 Class     Images  Instances      Box(P          R      mAP50  mAP50-95): 100%|██████████| 7/7 [00:02<00:00,  2.55it/s]"
          ]
        },
        {
          "output_type": "stream",
          "name": "stdout",
          "text": [
            "                   all        223        241      0.357      0.784      0.389      0.273\n"
          ]
        },
        {
          "output_type": "stream",
          "name": "stderr",
          "text": [
            "\n"
          ]
        },
        {
          "output_type": "stream",
          "name": "stdout",
          "text": [
            "\n",
            "      Epoch    GPU_mem   box_loss   cls_loss   dfl_loss  Instances       Size\n"
          ]
        },
        {
          "output_type": "stream",
          "name": "stderr",
          "text": [
            "     54/100      2.24G      0.859     0.8238     0.9773         33        640: 100%|██████████| 56/56 [00:18<00:00,  3.00it/s]\n",
            "                 Class     Images  Instances      Box(P          R      mAP50  mAP50-95): 100%|██████████| 7/7 [00:04<00:00,  1.54it/s]"
          ]
        },
        {
          "output_type": "stream",
          "name": "stdout",
          "text": [
            "                   all        223        241      0.418       0.81      0.434      0.308\n"
          ]
        },
        {
          "output_type": "stream",
          "name": "stderr",
          "text": [
            "\n"
          ]
        },
        {
          "output_type": "stream",
          "name": "stdout",
          "text": [
            "\n",
            "      Epoch    GPU_mem   box_loss   cls_loss   dfl_loss  Instances       Size\n"
          ]
        },
        {
          "output_type": "stream",
          "name": "stderr",
          "text": [
            "     55/100      2.24G     0.8738     0.7929     0.9848         16        640: 100%|██████████| 56/56 [00:18<00:00,  3.07it/s]\n",
            "                 Class     Images  Instances      Box(P          R      mAP50  mAP50-95): 100%|██████████| 7/7 [00:02<00:00,  2.53it/s]"
          ]
        },
        {
          "output_type": "stream",
          "name": "stdout",
          "text": [
            "                   all        223        241      0.375      0.774      0.406      0.294\n"
          ]
        },
        {
          "output_type": "stream",
          "name": "stderr",
          "text": [
            "\n"
          ]
        },
        {
          "output_type": "stream",
          "name": "stdout",
          "text": [
            "\n",
            "      Epoch    GPU_mem   box_loss   cls_loss   dfl_loss  Instances       Size\n"
          ]
        },
        {
          "output_type": "stream",
          "name": "stderr",
          "text": [
            "     56/100      2.24G      0.849     0.7883     0.9753         26        640: 100%|██████████| 56/56 [00:18<00:00,  2.98it/s]\n",
            "                 Class     Images  Instances      Box(P          R      mAP50  mAP50-95): 100%|██████████| 7/7 [00:02<00:00,  3.22it/s]"
          ]
        },
        {
          "output_type": "stream",
          "name": "stdout",
          "text": [
            "                   all        223        241      0.408      0.802       0.44      0.316\n"
          ]
        },
        {
          "output_type": "stream",
          "name": "stderr",
          "text": [
            "\n"
          ]
        },
        {
          "output_type": "stream",
          "name": "stdout",
          "text": [
            "\n",
            "      Epoch    GPU_mem   box_loss   cls_loss   dfl_loss  Instances       Size\n"
          ]
        },
        {
          "output_type": "stream",
          "name": "stderr",
          "text": [
            "     57/100      2.24G     0.8521     0.7692     0.9718         19        640: 100%|██████████| 56/56 [00:19<00:00,  2.93it/s]\n",
            "                 Class     Images  Instances      Box(P          R      mAP50  mAP50-95): 100%|██████████| 7/7 [00:02<00:00,  3.07it/s]"
          ]
        },
        {
          "output_type": "stream",
          "name": "stdout",
          "text": [
            "                   all        223        241      0.402      0.845      0.474      0.346\n"
          ]
        },
        {
          "output_type": "stream",
          "name": "stderr",
          "text": [
            "\n"
          ]
        },
        {
          "output_type": "stream",
          "name": "stdout",
          "text": [
            "\n",
            "      Epoch    GPU_mem   box_loss   cls_loss   dfl_loss  Instances       Size\n"
          ]
        },
        {
          "output_type": "stream",
          "name": "stderr",
          "text": [
            "     58/100      2.24G     0.8506     0.7636     0.9626         28        640: 100%|██████████| 56/56 [00:18<00:00,  3.04it/s]\n",
            "                 Class     Images  Instances      Box(P          R      mAP50  mAP50-95): 100%|██████████| 7/7 [00:02<00:00,  3.22it/s]"
          ]
        },
        {
          "output_type": "stream",
          "name": "stdout",
          "text": [
            "                   all        223        241      0.439      0.831      0.468      0.336\n"
          ]
        },
        {
          "output_type": "stream",
          "name": "stderr",
          "text": [
            "\n"
          ]
        },
        {
          "output_type": "stream",
          "name": "stdout",
          "text": [
            "\n",
            "      Epoch    GPU_mem   box_loss   cls_loss   dfl_loss  Instances       Size\n"
          ]
        },
        {
          "output_type": "stream",
          "name": "stderr",
          "text": [
            "     59/100      2.24G     0.8282     0.7745     0.9682         19        640: 100%|██████████| 56/56 [00:18<00:00,  2.98it/s]\n",
            "                 Class     Images  Instances      Box(P          R      mAP50  mAP50-95): 100%|██████████| 7/7 [00:02<00:00,  2.71it/s]"
          ]
        },
        {
          "output_type": "stream",
          "name": "stdout",
          "text": [
            "                   all        223        241      0.391      0.711      0.459       0.33\n"
          ]
        },
        {
          "output_type": "stream",
          "name": "stderr",
          "text": [
            "\n"
          ]
        },
        {
          "output_type": "stream",
          "name": "stdout",
          "text": [
            "\n",
            "      Epoch    GPU_mem   box_loss   cls_loss   dfl_loss  Instances       Size\n"
          ]
        },
        {
          "output_type": "stream",
          "name": "stderr",
          "text": [
            "     60/100      2.24G     0.8431     0.7649      0.979         19        640: 100%|██████████| 56/56 [00:18<00:00,  2.98it/s]\n",
            "                 Class     Images  Instances      Box(P          R      mAP50  mAP50-95): 100%|██████████| 7/7 [00:03<00:00,  1.84it/s]"
          ]
        },
        {
          "output_type": "stream",
          "name": "stdout",
          "text": [
            "                   all        223        241      0.362      0.757      0.434      0.321\n"
          ]
        },
        {
          "output_type": "stream",
          "name": "stderr",
          "text": [
            "\n"
          ]
        },
        {
          "output_type": "stream",
          "name": "stdout",
          "text": [
            "\n",
            "      Epoch    GPU_mem   box_loss   cls_loss   dfl_loss  Instances       Size\n"
          ]
        },
        {
          "output_type": "stream",
          "name": "stderr",
          "text": [
            "     61/100      2.24G     0.8195     0.7555     0.9679         23        640: 100%|██████████| 56/56 [00:17<00:00,  3.17it/s]\n",
            "                 Class     Images  Instances      Box(P          R      mAP50  mAP50-95): 100%|██████████| 7/7 [00:02<00:00,  2.51it/s]"
          ]
        },
        {
          "output_type": "stream",
          "name": "stdout",
          "text": [
            "                   all        223        241      0.416        0.8      0.467      0.343\n"
          ]
        },
        {
          "output_type": "stream",
          "name": "stderr",
          "text": [
            "\n"
          ]
        },
        {
          "output_type": "stream",
          "name": "stdout",
          "text": [
            "\n",
            "      Epoch    GPU_mem   box_loss   cls_loss   dfl_loss  Instances       Size\n"
          ]
        },
        {
          "output_type": "stream",
          "name": "stderr",
          "text": [
            "     62/100      2.24G     0.8242      0.743     0.9694         16        640: 100%|██████████| 56/56 [00:18<00:00,  3.07it/s]\n",
            "                 Class     Images  Instances      Box(P          R      mAP50  mAP50-95): 100%|██████████| 7/7 [00:02<00:00,  3.31it/s]"
          ]
        },
        {
          "output_type": "stream",
          "name": "stdout",
          "text": [
            "                   all        223        241      0.422      0.849      0.469      0.347\n"
          ]
        },
        {
          "output_type": "stream",
          "name": "stderr",
          "text": [
            "\n"
          ]
        },
        {
          "output_type": "stream",
          "name": "stdout",
          "text": [
            "\n",
            "      Epoch    GPU_mem   box_loss   cls_loss   dfl_loss  Instances       Size\n"
          ]
        },
        {
          "output_type": "stream",
          "name": "stderr",
          "text": [
            "     63/100      2.24G     0.8401     0.7169     0.9724         24        640: 100%|██████████| 56/56 [00:18<00:00,  3.05it/s]\n",
            "                 Class     Images  Instances      Box(P          R      mAP50  mAP50-95): 100%|██████████| 7/7 [00:02<00:00,  3.04it/s]"
          ]
        },
        {
          "output_type": "stream",
          "name": "stdout",
          "text": [
            "                   all        223        241      0.391      0.811      0.459      0.334\n"
          ]
        },
        {
          "output_type": "stream",
          "name": "stderr",
          "text": [
            "\n"
          ]
        },
        {
          "output_type": "stream",
          "name": "stdout",
          "text": [
            "\n",
            "      Epoch    GPU_mem   box_loss   cls_loss   dfl_loss  Instances       Size\n"
          ]
        },
        {
          "output_type": "stream",
          "name": "stderr",
          "text": [
            "     64/100      2.24G     0.8167     0.7168     0.9647         17        640: 100%|██████████| 56/56 [00:17<00:00,  3.12it/s]\n",
            "                 Class     Images  Instances      Box(P          R      mAP50  mAP50-95): 100%|██████████| 7/7 [00:02<00:00,  3.08it/s]"
          ]
        },
        {
          "output_type": "stream",
          "name": "stdout",
          "text": [
            "                   all        223        241      0.397      0.826      0.473      0.349\n"
          ]
        },
        {
          "output_type": "stream",
          "name": "stderr",
          "text": [
            "\n"
          ]
        },
        {
          "output_type": "stream",
          "name": "stdout",
          "text": [
            "\n",
            "      Epoch    GPU_mem   box_loss   cls_loss   dfl_loss  Instances       Size\n"
          ]
        },
        {
          "output_type": "stream",
          "name": "stderr",
          "text": [
            "     65/100      2.24G     0.7995     0.6875      0.954         18        640: 100%|██████████| 56/56 [00:18<00:00,  3.04it/s]\n",
            "                 Class     Images  Instances      Box(P          R      mAP50  mAP50-95): 100%|██████████| 7/7 [00:03<00:00,  1.85it/s]"
          ]
        },
        {
          "output_type": "stream",
          "name": "stdout",
          "text": [
            "                   all        223        241      0.431      0.789      0.509      0.371\n"
          ]
        },
        {
          "output_type": "stream",
          "name": "stderr",
          "text": [
            "\n"
          ]
        },
        {
          "output_type": "stream",
          "name": "stdout",
          "text": [
            "\n",
            "      Epoch    GPU_mem   box_loss   cls_loss   dfl_loss  Instances       Size\n"
          ]
        },
        {
          "output_type": "stream",
          "name": "stderr",
          "text": [
            "     66/100      2.24G     0.8027     0.7011     0.9621         23        640: 100%|██████████| 56/56 [00:18<00:00,  3.08it/s]\n",
            "                 Class     Images  Instances      Box(P          R      mAP50  mAP50-95): 100%|██████████| 7/7 [00:04<00:00,  1.67it/s]"
          ]
        },
        {
          "output_type": "stream",
          "name": "stdout",
          "text": [
            "                   all        223        241       0.39      0.821      0.466      0.349\n"
          ]
        },
        {
          "output_type": "stream",
          "name": "stderr",
          "text": [
            "\n"
          ]
        },
        {
          "output_type": "stream",
          "name": "stdout",
          "text": [
            "\n",
            "      Epoch    GPU_mem   box_loss   cls_loss   dfl_loss  Instances       Size\n"
          ]
        },
        {
          "output_type": "stream",
          "name": "stderr",
          "text": [
            "     67/100      2.24G     0.8203     0.6765     0.9699         20        640: 100%|██████████| 56/56 [00:18<00:00,  2.99it/s]\n",
            "                 Class     Images  Instances      Box(P          R      mAP50  mAP50-95): 100%|██████████| 7/7 [00:02<00:00,  2.72it/s]"
          ]
        },
        {
          "output_type": "stream",
          "name": "stdout",
          "text": [
            "                   all        223        241      0.454       0.74       0.51      0.382\n"
          ]
        },
        {
          "output_type": "stream",
          "name": "stderr",
          "text": [
            "\n"
          ]
        },
        {
          "output_type": "stream",
          "name": "stdout",
          "text": [
            "\n",
            "      Epoch    GPU_mem   box_loss   cls_loss   dfl_loss  Instances       Size\n"
          ]
        },
        {
          "output_type": "stream",
          "name": "stderr",
          "text": [
            "     68/100      2.24G     0.8028     0.6802      0.957         21        640: 100%|██████████| 56/56 [00:18<00:00,  2.97it/s]\n",
            "                 Class     Images  Instances      Box(P          R      mAP50  mAP50-95): 100%|██████████| 7/7 [00:02<00:00,  3.15it/s]"
          ]
        },
        {
          "output_type": "stream",
          "name": "stdout",
          "text": [
            "                   all        223        241      0.441      0.754      0.509      0.372\n"
          ]
        },
        {
          "output_type": "stream",
          "name": "stderr",
          "text": [
            "\n"
          ]
        },
        {
          "output_type": "stream",
          "name": "stdout",
          "text": [
            "\n",
            "      Epoch    GPU_mem   box_loss   cls_loss   dfl_loss  Instances       Size\n"
          ]
        },
        {
          "output_type": "stream",
          "name": "stderr",
          "text": [
            "     69/100      2.24G     0.8028     0.6717     0.9443         12        640: 100%|██████████| 56/56 [00:19<00:00,  2.91it/s]\n",
            "                 Class     Images  Instances      Box(P          R      mAP50  mAP50-95): 100%|██████████| 7/7 [00:02<00:00,  3.22it/s]"
          ]
        },
        {
          "output_type": "stream",
          "name": "stdout",
          "text": [
            "                   all        223        241      0.373      0.699      0.434       0.32\n"
          ]
        },
        {
          "output_type": "stream",
          "name": "stderr",
          "text": [
            "\n"
          ]
        },
        {
          "output_type": "stream",
          "name": "stdout",
          "text": [
            "\n",
            "      Epoch    GPU_mem   box_loss   cls_loss   dfl_loss  Instances       Size\n"
          ]
        },
        {
          "output_type": "stream",
          "name": "stderr",
          "text": [
            "     70/100      2.24G     0.8121     0.7015     0.9543         18        640: 100%|██████████| 56/56 [00:18<00:00,  3.00it/s]\n",
            "                 Class     Images  Instances      Box(P          R      mAP50  mAP50-95): 100%|██████████| 7/7 [00:02<00:00,  3.24it/s]"
          ]
        },
        {
          "output_type": "stream",
          "name": "stdout",
          "text": [
            "                   all        223        241      0.411      0.721      0.484      0.361\n"
          ]
        },
        {
          "output_type": "stream",
          "name": "stderr",
          "text": [
            "\n"
          ]
        },
        {
          "output_type": "stream",
          "name": "stdout",
          "text": [
            "\n",
            "      Epoch    GPU_mem   box_loss   cls_loss   dfl_loss  Instances       Size\n"
          ]
        },
        {
          "output_type": "stream",
          "name": "stderr",
          "text": [
            "     71/100      2.24G     0.7777     0.6377      0.942         27        640: 100%|██████████| 56/56 [00:18<00:00,  2.96it/s]\n",
            "                 Class     Images  Instances      Box(P          R      mAP50  mAP50-95): 100%|██████████| 7/7 [00:02<00:00,  2.38it/s]"
          ]
        },
        {
          "output_type": "stream",
          "name": "stdout",
          "text": [
            "                   all        223        241      0.392      0.757      0.461      0.336\n"
          ]
        },
        {
          "output_type": "stream",
          "name": "stderr",
          "text": [
            "\n"
          ]
        },
        {
          "output_type": "stream",
          "name": "stdout",
          "text": [
            "\n",
            "      Epoch    GPU_mem   box_loss   cls_loss   dfl_loss  Instances       Size\n"
          ]
        },
        {
          "output_type": "stream",
          "name": "stderr",
          "text": [
            "     72/100      2.24G     0.7868     0.6313     0.9468         19        640: 100%|██████████| 56/56 [00:17<00:00,  3.14it/s]\n",
            "                 Class     Images  Instances      Box(P          R      mAP50  mAP50-95): 100%|██████████| 7/7 [00:03<00:00,  1.79it/s]"
          ]
        },
        {
          "output_type": "stream",
          "name": "stdout",
          "text": [
            "                   all        223        241      0.425      0.779        0.5      0.364\n"
          ]
        },
        {
          "output_type": "stream",
          "name": "stderr",
          "text": [
            "\n"
          ]
        },
        {
          "output_type": "stream",
          "name": "stdout",
          "text": [
            "\n",
            "      Epoch    GPU_mem   box_loss   cls_loss   dfl_loss  Instances       Size\n"
          ]
        },
        {
          "output_type": "stream",
          "name": "stderr",
          "text": [
            "     73/100      2.24G     0.8007     0.6422     0.9577         25        640: 100%|██████████| 56/56 [00:17<00:00,  3.13it/s]\n",
            "                 Class     Images  Instances      Box(P          R      mAP50  mAP50-95): 100%|██████████| 7/7 [00:03<00:00,  1.75it/s]"
          ]
        },
        {
          "output_type": "stream",
          "name": "stdout",
          "text": [
            "                   all        223        241      0.466      0.777       0.53      0.403\n"
          ]
        },
        {
          "output_type": "stream",
          "name": "stderr",
          "text": [
            "\n"
          ]
        },
        {
          "output_type": "stream",
          "name": "stdout",
          "text": [
            "\n",
            "      Epoch    GPU_mem   box_loss   cls_loss   dfl_loss  Instances       Size\n"
          ]
        },
        {
          "output_type": "stream",
          "name": "stderr",
          "text": [
            "     74/100      2.24G     0.8067     0.6346     0.9646         17        640: 100%|██████████| 56/56 [00:18<00:00,  3.03it/s]\n",
            "                 Class     Images  Instances      Box(P          R      mAP50  mAP50-95): 100%|██████████| 7/7 [00:02<00:00,  3.10it/s]"
          ]
        },
        {
          "output_type": "stream",
          "name": "stdout",
          "text": [
            "                   all        223        241      0.412      0.765      0.491      0.362\n"
          ]
        },
        {
          "output_type": "stream",
          "name": "stderr",
          "text": [
            "\n"
          ]
        },
        {
          "output_type": "stream",
          "name": "stdout",
          "text": [
            "\n",
            "      Epoch    GPU_mem   box_loss   cls_loss   dfl_loss  Instances       Size\n"
          ]
        },
        {
          "output_type": "stream",
          "name": "stderr",
          "text": [
            "     75/100      2.24G     0.7733     0.6099     0.9398         24        640: 100%|██████████| 56/56 [00:18<00:00,  3.06it/s]\n",
            "                 Class     Images  Instances      Box(P          R      mAP50  mAP50-95): 100%|██████████| 7/7 [00:02<00:00,  3.23it/s]"
          ]
        },
        {
          "output_type": "stream",
          "name": "stdout",
          "text": [
            "                   all        223        241      0.435      0.819      0.482       0.36\n"
          ]
        },
        {
          "output_type": "stream",
          "name": "stderr",
          "text": [
            "\n"
          ]
        },
        {
          "output_type": "stream",
          "name": "stdout",
          "text": [
            "\n",
            "      Epoch    GPU_mem   box_loss   cls_loss   dfl_loss  Instances       Size\n"
          ]
        },
        {
          "output_type": "stream",
          "name": "stderr",
          "text": [
            "     76/100      2.24G     0.7465     0.6154     0.9338         15        640: 100%|██████████| 56/56 [00:18<00:00,  3.02it/s]\n",
            "                 Class     Images  Instances      Box(P          R      mAP50  mAP50-95): 100%|██████████| 7/7 [00:02<00:00,  3.42it/s]"
          ]
        },
        {
          "output_type": "stream",
          "name": "stdout",
          "text": [
            "                   all        223        241       0.43      0.781      0.487      0.353\n"
          ]
        },
        {
          "output_type": "stream",
          "name": "stderr",
          "text": [
            "\n"
          ]
        },
        {
          "output_type": "stream",
          "name": "stdout",
          "text": [
            "\n",
            "      Epoch    GPU_mem   box_loss   cls_loss   dfl_loss  Instances       Size\n"
          ]
        },
        {
          "output_type": "stream",
          "name": "stderr",
          "text": [
            "     77/100      2.24G     0.7767       0.59     0.9438         25        640: 100%|██████████| 56/56 [00:18<00:00,  3.01it/s]\n",
            "                 Class     Images  Instances      Box(P          R      mAP50  mAP50-95): 100%|██████████| 7/7 [00:02<00:00,  3.04it/s]"
          ]
        },
        {
          "output_type": "stream",
          "name": "stdout",
          "text": [
            "                   all        223        241      0.422      0.753      0.462      0.337\n"
          ]
        },
        {
          "output_type": "stream",
          "name": "stderr",
          "text": [
            "\n"
          ]
        },
        {
          "output_type": "stream",
          "name": "stdout",
          "text": [
            "\n",
            "      Epoch    GPU_mem   box_loss   cls_loss   dfl_loss  Instances       Size\n"
          ]
        },
        {
          "output_type": "stream",
          "name": "stderr",
          "text": [
            "     78/100      2.24G     0.7599     0.5975     0.9366         22        640: 100%|██████████| 56/56 [00:18<00:00,  3.08it/s]\n",
            "                 Class     Images  Instances      Box(P          R      mAP50  mAP50-95): 100%|██████████| 7/7 [00:04<00:00,  1.65it/s]"
          ]
        },
        {
          "output_type": "stream",
          "name": "stdout",
          "text": [
            "                   all        223        241      0.407      0.731       0.47      0.354\n"
          ]
        },
        {
          "output_type": "stream",
          "name": "stderr",
          "text": [
            "\n"
          ]
        },
        {
          "output_type": "stream",
          "name": "stdout",
          "text": [
            "\n",
            "      Epoch    GPU_mem   box_loss   cls_loss   dfl_loss  Instances       Size\n"
          ]
        },
        {
          "output_type": "stream",
          "name": "stderr",
          "text": [
            "     79/100      2.24G     0.7778     0.5885     0.9489         17        640: 100%|██████████| 56/56 [00:17<00:00,  3.13it/s]\n",
            "                 Class     Images  Instances      Box(P          R      mAP50  mAP50-95): 100%|██████████| 7/7 [00:03<00:00,  1.93it/s]"
          ]
        },
        {
          "output_type": "stream",
          "name": "stdout",
          "text": [
            "                   all        223        241      0.474      0.671      0.506      0.371\n"
          ]
        },
        {
          "output_type": "stream",
          "name": "stderr",
          "text": [
            "\n"
          ]
        },
        {
          "output_type": "stream",
          "name": "stdout",
          "text": [
            "\n",
            "      Epoch    GPU_mem   box_loss   cls_loss   dfl_loss  Instances       Size\n"
          ]
        },
        {
          "output_type": "stream",
          "name": "stderr",
          "text": [
            "     80/100      2.24G     0.7629     0.5974     0.9413         21        640: 100%|██████████| 56/56 [00:18<00:00,  3.09it/s]\n",
            "                 Class     Images  Instances      Box(P          R      mAP50  mAP50-95): 100%|██████████| 7/7 [00:02<00:00,  3.39it/s]"
          ]
        },
        {
          "output_type": "stream",
          "name": "stdout",
          "text": [
            "                   all        223        241      0.416      0.735      0.457      0.331\n"
          ]
        },
        {
          "output_type": "stream",
          "name": "stderr",
          "text": [
            "\n"
          ]
        },
        {
          "output_type": "stream",
          "name": "stdout",
          "text": [
            "\n",
            "      Epoch    GPU_mem   box_loss   cls_loss   dfl_loss  Instances       Size\n"
          ]
        },
        {
          "output_type": "stream",
          "name": "stderr",
          "text": [
            "     81/100      2.24G     0.7742     0.6052     0.9487         19        640: 100%|██████████| 56/56 [00:19<00:00,  2.93it/s]\n",
            "                 Class     Images  Instances      Box(P          R      mAP50  mAP50-95): 100%|██████████| 7/7 [00:02<00:00,  3.36it/s]"
          ]
        },
        {
          "output_type": "stream",
          "name": "stdout",
          "text": [
            "                   all        223        241      0.434      0.776      0.511      0.381\n"
          ]
        },
        {
          "output_type": "stream",
          "name": "stderr",
          "text": [
            "\n"
          ]
        },
        {
          "output_type": "stream",
          "name": "stdout",
          "text": [
            "\n",
            "      Epoch    GPU_mem   box_loss   cls_loss   dfl_loss  Instances       Size\n"
          ]
        },
        {
          "output_type": "stream",
          "name": "stderr",
          "text": [
            "     82/100      2.24G     0.7364      0.548     0.9216         22        640: 100%|██████████| 56/56 [00:17<00:00,  3.13it/s]\n",
            "                 Class     Images  Instances      Box(P          R      mAP50  mAP50-95): 100%|██████████| 7/7 [00:01<00:00,  3.55it/s]"
          ]
        },
        {
          "output_type": "stream",
          "name": "stdout",
          "text": [
            "                   all        223        241      0.474      0.609       0.49      0.365\n"
          ]
        },
        {
          "output_type": "stream",
          "name": "stderr",
          "text": [
            "\n"
          ]
        },
        {
          "output_type": "stream",
          "name": "stdout",
          "text": [
            "\n",
            "      Epoch    GPU_mem   box_loss   cls_loss   dfl_loss  Instances       Size\n"
          ]
        },
        {
          "output_type": "stream",
          "name": "stderr",
          "text": [
            "     83/100      2.24G      0.743     0.5462     0.9314         21        640: 100%|██████████| 56/56 [00:18<00:00,  3.02it/s]\n",
            "                 Class     Images  Instances      Box(P          R      mAP50  mAP50-95): 100%|██████████| 7/7 [00:02<00:00,  2.85it/s]"
          ]
        },
        {
          "output_type": "stream",
          "name": "stdout",
          "text": [
            "                   all        223        241      0.443      0.751      0.535      0.399\n"
          ]
        },
        {
          "output_type": "stream",
          "name": "stderr",
          "text": [
            "\n"
          ]
        },
        {
          "output_type": "stream",
          "name": "stdout",
          "text": [
            "\n",
            "      Epoch    GPU_mem   box_loss   cls_loss   dfl_loss  Instances       Size\n"
          ]
        },
        {
          "output_type": "stream",
          "name": "stderr",
          "text": [
            "     84/100      2.24G     0.7678      0.563     0.9369         30        640: 100%|██████████| 56/56 [00:18<00:00,  3.11it/s]\n",
            "                 Class     Images  Instances      Box(P          R      mAP50  mAP50-95): 100%|██████████| 7/7 [00:03<00:00,  1.84it/s]"
          ]
        },
        {
          "output_type": "stream",
          "name": "stdout",
          "text": [
            "                   all        223        241      0.426      0.774      0.499      0.368\n"
          ]
        },
        {
          "output_type": "stream",
          "name": "stderr",
          "text": [
            "\n"
          ]
        },
        {
          "output_type": "stream",
          "name": "stdout",
          "text": [
            "\n",
            "      Epoch    GPU_mem   box_loss   cls_loss   dfl_loss  Instances       Size\n"
          ]
        },
        {
          "output_type": "stream",
          "name": "stderr",
          "text": [
            "     85/100      2.24G     0.7423     0.5677     0.9315         22        640: 100%|██████████| 56/56 [00:17<00:00,  3.15it/s]\n",
            "                 Class     Images  Instances      Box(P          R      mAP50  mAP50-95): 100%|██████████| 7/7 [00:04<00:00,  1.68it/s]"
          ]
        },
        {
          "output_type": "stream",
          "name": "stdout",
          "text": [
            "                   all        223        241      0.453      0.783      0.524      0.388\n"
          ]
        },
        {
          "output_type": "stream",
          "name": "stderr",
          "text": [
            "\n"
          ]
        },
        {
          "output_type": "stream",
          "name": "stdout",
          "text": [
            "\n",
            "      Epoch    GPU_mem   box_loss   cls_loss   dfl_loss  Instances       Size\n"
          ]
        },
        {
          "output_type": "stream",
          "name": "stderr",
          "text": [
            "     86/100      2.24G     0.7432     0.5377     0.9407         29        640: 100%|██████████| 56/56 [00:17<00:00,  3.11it/s]\n",
            "                 Class     Images  Instances      Box(P          R      mAP50  mAP50-95): 100%|██████████| 7/7 [00:02<00:00,  3.08it/s]"
          ]
        },
        {
          "output_type": "stream",
          "name": "stdout",
          "text": [
            "                   all        223        241      0.453      0.772      0.536      0.389\n"
          ]
        },
        {
          "output_type": "stream",
          "name": "stderr",
          "text": [
            "\n"
          ]
        },
        {
          "output_type": "stream",
          "name": "stdout",
          "text": [
            "\n",
            "      Epoch    GPU_mem   box_loss   cls_loss   dfl_loss  Instances       Size\n"
          ]
        },
        {
          "output_type": "stream",
          "name": "stderr",
          "text": [
            "     87/100      2.24G     0.7401     0.5649     0.9401         21        640: 100%|██████████| 56/56 [00:17<00:00,  3.22it/s]\n",
            "                 Class     Images  Instances      Box(P          R      mAP50  mAP50-95): 100%|██████████| 7/7 [00:02<00:00,  3.43it/s]"
          ]
        },
        {
          "output_type": "stream",
          "name": "stdout",
          "text": [
            "                   all        223        241       0.46      0.718      0.525      0.388\n"
          ]
        },
        {
          "output_type": "stream",
          "name": "stderr",
          "text": [
            "\n"
          ]
        },
        {
          "output_type": "stream",
          "name": "stdout",
          "text": [
            "\n",
            "      Epoch    GPU_mem   box_loss   cls_loss   dfl_loss  Instances       Size\n"
          ]
        },
        {
          "output_type": "stream",
          "name": "stderr",
          "text": [
            "     88/100      2.24G     0.7394     0.5285     0.9312         20        640: 100%|██████████| 56/56 [00:18<00:00,  3.11it/s]\n",
            "                 Class     Images  Instances      Box(P          R      mAP50  mAP50-95): 100%|██████████| 7/7 [00:02<00:00,  3.35it/s]"
          ]
        },
        {
          "output_type": "stream",
          "name": "stdout",
          "text": [
            "                   all        223        241       0.45      0.735      0.533      0.397\n"
          ]
        },
        {
          "output_type": "stream",
          "name": "stderr",
          "text": [
            "\n"
          ]
        },
        {
          "output_type": "stream",
          "name": "stdout",
          "text": [
            "\n",
            "      Epoch    GPU_mem   box_loss   cls_loss   dfl_loss  Instances       Size\n"
          ]
        },
        {
          "output_type": "stream",
          "name": "stderr",
          "text": [
            "     89/100      2.24G     0.7213     0.5201     0.9258         14        640: 100%|██████████| 56/56 [00:18<00:00,  3.04it/s]\n",
            "                 Class     Images  Instances      Box(P          R      mAP50  mAP50-95): 100%|██████████| 7/7 [00:03<00:00,  2.28it/s]"
          ]
        },
        {
          "output_type": "stream",
          "name": "stdout",
          "text": [
            "                   all        223        241      0.445      0.764      0.523      0.389\n"
          ]
        },
        {
          "output_type": "stream",
          "name": "stderr",
          "text": [
            "\n"
          ]
        },
        {
          "output_type": "stream",
          "name": "stdout",
          "text": [
            "\n",
            "      Epoch    GPU_mem   box_loss   cls_loss   dfl_loss  Instances       Size\n"
          ]
        },
        {
          "output_type": "stream",
          "name": "stderr",
          "text": [
            "     90/100      2.24G     0.7234     0.5462     0.9302         16        640: 100%|██████████| 56/56 [00:17<00:00,  3.21it/s]\n",
            "                 Class     Images  Instances      Box(P          R      mAP50  mAP50-95): 100%|██████████| 7/7 [00:03<00:00,  1.79it/s]"
          ]
        },
        {
          "output_type": "stream",
          "name": "stdout",
          "text": [
            "                   all        223        241      0.444      0.744      0.537      0.399\n"
          ]
        },
        {
          "output_type": "stream",
          "name": "stderr",
          "text": [
            "\n"
          ]
        },
        {
          "output_type": "stream",
          "name": "stdout",
          "text": [
            "Closing dataloader mosaic\n",
            "\u001b[34m\u001b[1malbumentations: \u001b[0mBlur(p=0.01, blur_limit=(3, 7)), MedianBlur(p=0.01, blur_limit=(3, 7)), ToGray(p=0.01), CLAHE(p=0.01, clip_limit=(1, 4.0), tile_grid_size=(8, 8))\n"
          ]
        },
        {
          "output_type": "stream",
          "name": "stderr",
          "text": [
            "/usr/lib/python3.10/multiprocessing/popen_fork.py:66: RuntimeWarning: os.fork() was called. os.fork() is incompatible with multithreaded code, and JAX is multithreaded, so this will likely lead to a deadlock.\n",
            "  self.pid = os.fork()\n"
          ]
        },
        {
          "output_type": "stream",
          "name": "stdout",
          "text": [
            "\n",
            "      Epoch    GPU_mem   box_loss   cls_loss   dfl_loss  Instances       Size\n"
          ]
        },
        {
          "output_type": "stream",
          "name": "stderr",
          "text": [
            "     91/100      2.24G     0.6792      0.468      0.892         13        640: 100%|██████████| 56/56 [00:18<00:00,  3.04it/s]\n",
            "                 Class     Images  Instances      Box(P          R      mAP50  mAP50-95): 100%|██████████| 7/7 [00:02<00:00,  3.36it/s]"
          ]
        },
        {
          "output_type": "stream",
          "name": "stdout",
          "text": [
            "                   all        223        241      0.431      0.767      0.537      0.394\n"
          ]
        },
        {
          "output_type": "stream",
          "name": "stderr",
          "text": [
            "\n"
          ]
        },
        {
          "output_type": "stream",
          "name": "stdout",
          "text": [
            "\n",
            "      Epoch    GPU_mem   box_loss   cls_loss   dfl_loss  Instances       Size\n"
          ]
        },
        {
          "output_type": "stream",
          "name": "stderr",
          "text": [
            "     92/100      2.24G     0.6633     0.4467     0.8977         16        640: 100%|██████████| 56/56 [00:17<00:00,  3.12it/s]\n",
            "                 Class     Images  Instances      Box(P          R      mAP50  mAP50-95): 100%|██████████| 7/7 [00:02<00:00,  3.44it/s]"
          ]
        },
        {
          "output_type": "stream",
          "name": "stdout",
          "text": [
            "                   all        223        241      0.425      0.752      0.504      0.371\n"
          ]
        },
        {
          "output_type": "stream",
          "name": "stderr",
          "text": [
            "\n"
          ]
        },
        {
          "output_type": "stream",
          "name": "stdout",
          "text": [
            "\n",
            "      Epoch    GPU_mem   box_loss   cls_loss   dfl_loss  Instances       Size\n"
          ]
        },
        {
          "output_type": "stream",
          "name": "stderr",
          "text": [
            "     93/100      2.24G     0.6386     0.4143     0.8902         14        640: 100%|██████████| 56/56 [00:17<00:00,  3.23it/s]\n",
            "                 Class     Images  Instances      Box(P          R      mAP50  mAP50-95): 100%|██████████| 7/7 [00:02<00:00,  3.32it/s]"
          ]
        },
        {
          "output_type": "stream",
          "name": "stdout",
          "text": [
            "                   all        223        241      0.435      0.735      0.523      0.384\n"
          ]
        },
        {
          "output_type": "stream",
          "name": "stderr",
          "text": [
            "\n"
          ]
        },
        {
          "output_type": "stream",
          "name": "stdout",
          "text": [
            "\n",
            "      Epoch    GPU_mem   box_loss   cls_loss   dfl_loss  Instances       Size\n"
          ]
        },
        {
          "output_type": "stream",
          "name": "stderr",
          "text": [
            "     94/100      2.24G     0.6377     0.4079     0.8856         12        640: 100%|██████████| 56/56 [00:18<00:00,  3.05it/s]\n",
            "                 Class     Images  Instances      Box(P          R      mAP50  mAP50-95): 100%|██████████| 7/7 [00:02<00:00,  3.33it/s]"
          ]
        },
        {
          "output_type": "stream",
          "name": "stdout",
          "text": [
            "                   all        223        241      0.427      0.749      0.529      0.392\n"
          ]
        },
        {
          "output_type": "stream",
          "name": "stderr",
          "text": [
            "\n"
          ]
        },
        {
          "output_type": "stream",
          "name": "stdout",
          "text": [
            "\n",
            "      Epoch    GPU_mem   box_loss   cls_loss   dfl_loss  Instances       Size\n"
          ]
        },
        {
          "output_type": "stream",
          "name": "stderr",
          "text": [
            "     95/100      2.24G     0.6318     0.3952     0.8862         13        640: 100%|██████████| 56/56 [00:17<00:00,  3.12it/s]\n",
            "                 Class     Images  Instances      Box(P          R      mAP50  mAP50-95): 100%|██████████| 7/7 [00:02<00:00,  3.49it/s]"
          ]
        },
        {
          "output_type": "stream",
          "name": "stdout",
          "text": [
            "                   all        223        241      0.442      0.775      0.552      0.411\n"
          ]
        },
        {
          "output_type": "stream",
          "name": "stderr",
          "text": [
            "\n"
          ]
        },
        {
          "output_type": "stream",
          "name": "stdout",
          "text": [
            "\n",
            "      Epoch    GPU_mem   box_loss   cls_loss   dfl_loss  Instances       Size\n"
          ]
        },
        {
          "output_type": "stream",
          "name": "stderr",
          "text": [
            "     96/100      2.24G      0.622     0.3908     0.8792         13        640: 100%|██████████| 56/56 [00:18<00:00,  3.11it/s]\n",
            "                 Class     Images  Instances      Box(P          R      mAP50  mAP50-95): 100%|██████████| 7/7 [00:01<00:00,  3.60it/s]"
          ]
        },
        {
          "output_type": "stream",
          "name": "stdout",
          "text": [
            "                   all        223        241      0.427      0.752      0.523      0.388\n"
          ]
        },
        {
          "output_type": "stream",
          "name": "stderr",
          "text": [
            "\n"
          ]
        },
        {
          "output_type": "stream",
          "name": "stdout",
          "text": [
            "\n",
            "      Epoch    GPU_mem   box_loss   cls_loss   dfl_loss  Instances       Size\n"
          ]
        },
        {
          "output_type": "stream",
          "name": "stderr",
          "text": [
            "     97/100      2.24G     0.6256     0.3815     0.8887         13        640: 100%|██████████| 56/56 [00:17<00:00,  3.24it/s]\n",
            "                 Class     Images  Instances      Box(P          R      mAP50  mAP50-95): 100%|██████████| 7/7 [00:02<00:00,  2.46it/s]"
          ]
        },
        {
          "output_type": "stream",
          "name": "stdout",
          "text": [
            "                   all        223        241      0.427      0.744      0.511      0.379\n"
          ]
        },
        {
          "output_type": "stream",
          "name": "stderr",
          "text": [
            "\n"
          ]
        },
        {
          "output_type": "stream",
          "name": "stdout",
          "text": [
            "\n",
            "      Epoch    GPU_mem   box_loss   cls_loss   dfl_loss  Instances       Size\n"
          ]
        },
        {
          "output_type": "stream",
          "name": "stderr",
          "text": [
            "     98/100      2.24G     0.6132     0.3825     0.8774         15        640: 100%|██████████| 56/56 [00:17<00:00,  3.24it/s]\n",
            "                 Class     Images  Instances      Box(P          R      mAP50  mAP50-95): 100%|██████████| 7/7 [00:03<00:00,  1.82it/s]"
          ]
        },
        {
          "output_type": "stream",
          "name": "stdout",
          "text": [
            "                   all        223        241      0.447      0.754      0.535      0.397\n"
          ]
        },
        {
          "output_type": "stream",
          "name": "stderr",
          "text": [
            "\n"
          ]
        },
        {
          "output_type": "stream",
          "name": "stdout",
          "text": [
            "\n",
            "      Epoch    GPU_mem   box_loss   cls_loss   dfl_loss  Instances       Size\n"
          ]
        },
        {
          "output_type": "stream",
          "name": "stderr",
          "text": [
            "     99/100      2.24G      0.616     0.3873     0.8793         13        640: 100%|██████████| 56/56 [00:16<00:00,  3.41it/s]\n",
            "                 Class     Images  Instances      Box(P          R      mAP50  mAP50-95): 100%|██████████| 7/7 [00:03<00:00,  2.01it/s]"
          ]
        },
        {
          "output_type": "stream",
          "name": "stdout",
          "text": [
            "                   all        223        241      0.441      0.765      0.528      0.391\n"
          ]
        },
        {
          "output_type": "stream",
          "name": "stderr",
          "text": [
            "\n"
          ]
        },
        {
          "output_type": "stream",
          "name": "stdout",
          "text": [
            "\n",
            "      Epoch    GPU_mem   box_loss   cls_loss   dfl_loss  Instances       Size\n"
          ]
        },
        {
          "output_type": "stream",
          "name": "stderr",
          "text": [
            "    100/100      2.24G     0.6069      0.367     0.8787         14        640: 100%|██████████| 56/56 [00:17<00:00,  3.23it/s]\n",
            "                 Class     Images  Instances      Box(P          R      mAP50  mAP50-95): 100%|██████████| 7/7 [00:02<00:00,  2.85it/s]"
          ]
        },
        {
          "output_type": "stream",
          "name": "stdout",
          "text": [
            "                   all        223        241      0.443      0.755      0.531      0.399\n"
          ]
        },
        {
          "output_type": "stream",
          "name": "stderr",
          "text": [
            "\n"
          ]
        },
        {
          "output_type": "stream",
          "name": "stdout",
          "text": [
            "\n",
            "100 epochs completed in 0.615 hours.\n",
            "Optimizer stripped from runs/detect/train/weights/last.pt, 6.3MB\n",
            "Optimizer stripped from runs/detect/train/weights/best.pt, 6.3MB\n",
            "\n",
            "Validating runs/detect/train/weights/best.pt...\n",
            "Ultralytics YOLOv8.2.62 🚀 Python-3.10.12 torch-2.3.1+cu121 CUDA:0 (Tesla T4, 15102MiB)\n",
            "Model summary (fused): 168 layers, 3,006,038 parameters, 0 gradients, 8.1 GFLOPs\n"
          ]
        },
        {
          "output_type": "stream",
          "name": "stderr",
          "text": [
            "                 Class     Images  Instances      Box(P          R      mAP50  mAP50-95): 100%|██████████| 7/7 [00:04<00:00,  1.49it/s]\n"
          ]
        },
        {
          "output_type": "stream",
          "name": "stdout",
          "text": [
            "                   all        223        241      0.443      0.787      0.551       0.41\n",
            "              negative        142        154      0.578      0.713      0.627      0.474\n",
            "              positive         81         87      0.307      0.862      0.476      0.346\n",
            "Speed: 0.4ms preprocess, 3.4ms inference, 0.0ms loss, 3.0ms postprocess per image\n",
            "Results saved to \u001b[1mruns/detect/train\u001b[0m\n"
          ]
        },
        {
          "output_type": "execute_result",
          "data": {
            "text/plain": [
              "ultralytics.utils.metrics.DetMetrics object with attributes:\n",
              "\n",
              "ap_class_index: array([0, 1])\n",
              "box: ultralytics.utils.metrics.Metric object\n",
              "confusion_matrix: <ultralytics.utils.metrics.ConfusionMatrix object at 0x7c35d736ea70>\n",
              "curves: ['Precision-Recall(B)', 'F1-Confidence(B)', 'Precision-Confidence(B)', 'Recall-Confidence(B)']\n",
              "curves_results: [[array([          0,    0.001001,    0.002002,    0.003003,    0.004004,    0.005005,    0.006006,    0.007007,    0.008008,    0.009009,     0.01001,    0.011011,    0.012012,    0.013013,    0.014014,    0.015015,    0.016016,    0.017017,    0.018018,    0.019019,     0.02002,    0.021021,    0.022022,    0.023023,\n",
              "          0.024024,    0.025025,    0.026026,    0.027027,    0.028028,    0.029029,     0.03003,    0.031031,    0.032032,    0.033033,    0.034034,    0.035035,    0.036036,    0.037037,    0.038038,    0.039039,     0.04004,    0.041041,    0.042042,    0.043043,    0.044044,    0.045045,    0.046046,    0.047047,\n",
              "          0.048048,    0.049049,     0.05005,    0.051051,    0.052052,    0.053053,    0.054054,    0.055055,    0.056056,    0.057057,    0.058058,    0.059059,     0.06006,    0.061061,    0.062062,    0.063063,    0.064064,    0.065065,    0.066066,    0.067067,    0.068068,    0.069069,     0.07007,    0.071071,\n",
              "          0.072072,    0.073073,    0.074074,    0.075075,    0.076076,    0.077077,    0.078078,    0.079079,     0.08008,    0.081081,    0.082082,    0.083083,    0.084084,    0.085085,    0.086086,    0.087087,    0.088088,    0.089089,     0.09009,    0.091091,    0.092092,    0.093093,    0.094094,    0.095095,\n",
              "          0.096096,    0.097097,    0.098098,    0.099099,      0.1001,      0.1011,      0.1021,      0.1031,      0.1041,     0.10511,     0.10611,     0.10711,     0.10811,     0.10911,     0.11011,     0.11111,     0.11211,     0.11311,     0.11411,     0.11512,     0.11612,     0.11712,     0.11812,     0.11912,\n",
              "           0.12012,     0.12112,     0.12212,     0.12312,     0.12412,     0.12513,     0.12613,     0.12713,     0.12813,     0.12913,     0.13013,     0.13113,     0.13213,     0.13313,     0.13413,     0.13514,     0.13614,     0.13714,     0.13814,     0.13914,     0.14014,     0.14114,     0.14214,     0.14314,\n",
              "           0.14414,     0.14515,     0.14615,     0.14715,     0.14815,     0.14915,     0.15015,     0.15115,     0.15215,     0.15315,     0.15415,     0.15516,     0.15616,     0.15716,     0.15816,     0.15916,     0.16016,     0.16116,     0.16216,     0.16316,     0.16416,     0.16517,     0.16617,     0.16717,\n",
              "           0.16817,     0.16917,     0.17017,     0.17117,     0.17217,     0.17317,     0.17417,     0.17518,     0.17618,     0.17718,     0.17818,     0.17918,     0.18018,     0.18118,     0.18218,     0.18318,     0.18418,     0.18519,     0.18619,     0.18719,     0.18819,     0.18919,     0.19019,     0.19119,\n",
              "           0.19219,     0.19319,     0.19419,      0.1952,      0.1962,      0.1972,      0.1982,      0.1992,      0.2002,      0.2012,      0.2022,      0.2032,      0.2042,     0.20521,     0.20621,     0.20721,     0.20821,     0.20921,     0.21021,     0.21121,     0.21221,     0.21321,     0.21421,     0.21522,\n",
              "           0.21622,     0.21722,     0.21822,     0.21922,     0.22022,     0.22122,     0.22222,     0.22322,     0.22422,     0.22523,     0.22623,     0.22723,     0.22823,     0.22923,     0.23023,     0.23123,     0.23223,     0.23323,     0.23423,     0.23524,     0.23624,     0.23724,     0.23824,     0.23924,\n",
              "           0.24024,     0.24124,     0.24224,     0.24324,     0.24424,     0.24525,     0.24625,     0.24725,     0.24825,     0.24925,     0.25025,     0.25125,     0.25225,     0.25325,     0.25425,     0.25526,     0.25626,     0.25726,     0.25826,     0.25926,     0.26026,     0.26126,     0.26226,     0.26326,\n",
              "           0.26426,     0.26527,     0.26627,     0.26727,     0.26827,     0.26927,     0.27027,     0.27127,     0.27227,     0.27327,     0.27427,     0.27528,     0.27628,     0.27728,     0.27828,     0.27928,     0.28028,     0.28128,     0.28228,     0.28328,     0.28428,     0.28529,     0.28629,     0.28729,\n",
              "           0.28829,     0.28929,     0.29029,     0.29129,     0.29229,     0.29329,     0.29429,      0.2953,      0.2963,      0.2973,      0.2983,      0.2993,      0.3003,      0.3013,      0.3023,      0.3033,      0.3043,     0.30531,     0.30631,     0.30731,     0.30831,     0.30931,     0.31031,     0.31131,\n",
              "           0.31231,     0.31331,     0.31431,     0.31532,     0.31632,     0.31732,     0.31832,     0.31932,     0.32032,     0.32132,     0.32232,     0.32332,     0.32432,     0.32533,     0.32633,     0.32733,     0.32833,     0.32933,     0.33033,     0.33133,     0.33233,     0.33333,     0.33433,     0.33534,\n",
              "           0.33634,     0.33734,     0.33834,     0.33934,     0.34034,     0.34134,     0.34234,     0.34334,     0.34434,     0.34535,     0.34635,     0.34735,     0.34835,     0.34935,     0.35035,     0.35135,     0.35235,     0.35335,     0.35435,     0.35536,     0.35636,     0.35736,     0.35836,     0.35936,\n",
              "           0.36036,     0.36136,     0.36236,     0.36336,     0.36436,     0.36537,     0.36637,     0.36737,     0.36837,     0.36937,     0.37037,     0.37137,     0.37237,     0.37337,     0.37437,     0.37538,     0.37638,     0.37738,     0.37838,     0.37938,     0.38038,     0.38138,     0.38238,     0.38338,\n",
              "           0.38438,     0.38539,     0.38639,     0.38739,     0.38839,     0.38939,     0.39039,     0.39139,     0.39239,     0.39339,     0.39439,      0.3954,      0.3964,      0.3974,      0.3984,      0.3994,      0.4004,      0.4014,      0.4024,      0.4034,      0.4044,     0.40541,     0.40641,     0.40741,\n",
              "           0.40841,     0.40941,     0.41041,     0.41141,     0.41241,     0.41341,     0.41441,     0.41542,     0.41642,     0.41742,     0.41842,     0.41942,     0.42042,     0.42142,     0.42242,     0.42342,     0.42442,     0.42543,     0.42643,     0.42743,     0.42843,     0.42943,     0.43043,     0.43143,\n",
              "           0.43243,     0.43343,     0.43443,     0.43544,     0.43644,     0.43744,     0.43844,     0.43944,     0.44044,     0.44144,     0.44244,     0.44344,     0.44444,     0.44545,     0.44645,     0.44745,     0.44845,     0.44945,     0.45045,     0.45145,     0.45245,     0.45345,     0.45445,     0.45546,\n",
              "           0.45646,     0.45746,     0.45846,     0.45946,     0.46046,     0.46146,     0.46246,     0.46346,     0.46446,     0.46547,     0.46647,     0.46747,     0.46847,     0.46947,     0.47047,     0.47147,     0.47247,     0.47347,     0.47447,     0.47548,     0.47648,     0.47748,     0.47848,     0.47948,\n",
              "           0.48048,     0.48148,     0.48248,     0.48348,     0.48448,     0.48549,     0.48649,     0.48749,     0.48849,     0.48949,     0.49049,     0.49149,     0.49249,     0.49349,     0.49449,      0.4955,      0.4965,      0.4975,      0.4985,      0.4995,      0.5005,      0.5015,      0.5025,      0.5035,\n",
              "            0.5045,     0.50551,     0.50651,     0.50751,     0.50851,     0.50951,     0.51051,     0.51151,     0.51251,     0.51351,     0.51451,     0.51552,     0.51652,     0.51752,     0.51852,     0.51952,     0.52052,     0.52152,     0.52252,     0.52352,     0.52452,     0.52553,     0.52653,     0.52753,\n",
              "           0.52853,     0.52953,     0.53053,     0.53153,     0.53253,     0.53353,     0.53453,     0.53554,     0.53654,     0.53754,     0.53854,     0.53954,     0.54054,     0.54154,     0.54254,     0.54354,     0.54454,     0.54555,     0.54655,     0.54755,     0.54855,     0.54955,     0.55055,     0.55155,\n",
              "           0.55255,     0.55355,     0.55455,     0.55556,     0.55656,     0.55756,     0.55856,     0.55956,     0.56056,     0.56156,     0.56256,     0.56356,     0.56456,     0.56557,     0.56657,     0.56757,     0.56857,     0.56957,     0.57057,     0.57157,     0.57257,     0.57357,     0.57457,     0.57558,\n",
              "           0.57658,     0.57758,     0.57858,     0.57958,     0.58058,     0.58158,     0.58258,     0.58358,     0.58458,     0.58559,     0.58659,     0.58759,     0.58859,     0.58959,     0.59059,     0.59159,     0.59259,     0.59359,     0.59459,      0.5956,      0.5966,      0.5976,      0.5986,      0.5996,\n",
              "            0.6006,      0.6016,      0.6026,      0.6036,      0.6046,     0.60561,     0.60661,     0.60761,     0.60861,     0.60961,     0.61061,     0.61161,     0.61261,     0.61361,     0.61461,     0.61562,     0.61662,     0.61762,     0.61862,     0.61962,     0.62062,     0.62162,     0.62262,     0.62362,\n",
              "           0.62462,     0.62563,     0.62663,     0.62763,     0.62863,     0.62963,     0.63063,     0.63163,     0.63263,     0.63363,     0.63463,     0.63564,     0.63664,     0.63764,     0.63864,     0.63964,     0.64064,     0.64164,     0.64264,     0.64364,     0.64464,     0.64565,     0.64665,     0.64765,\n",
              "           0.64865,     0.64965,     0.65065,     0.65165,     0.65265,     0.65365,     0.65465,     0.65566,     0.65666,     0.65766,     0.65866,     0.65966,     0.66066,     0.66166,     0.66266,     0.66366,     0.66466,     0.66567,     0.66667,     0.66767,     0.66867,     0.66967,     0.67067,     0.67167,\n",
              "           0.67267,     0.67367,     0.67467,     0.67568,     0.67668,     0.67768,     0.67868,     0.67968,     0.68068,     0.68168,     0.68268,     0.68368,     0.68468,     0.68569,     0.68669,     0.68769,     0.68869,     0.68969,     0.69069,     0.69169,     0.69269,     0.69369,     0.69469,      0.6957,\n",
              "            0.6967,      0.6977,      0.6987,      0.6997,      0.7007,      0.7017,      0.7027,      0.7037,      0.7047,     0.70571,     0.70671,     0.70771,     0.70871,     0.70971,     0.71071,     0.71171,     0.71271,     0.71371,     0.71471,     0.71572,     0.71672,     0.71772,     0.71872,     0.71972,\n",
              "           0.72072,     0.72172,     0.72272,     0.72372,     0.72472,     0.72573,     0.72673,     0.72773,     0.72873,     0.72973,     0.73073,     0.73173,     0.73273,     0.73373,     0.73473,     0.73574,     0.73674,     0.73774,     0.73874,     0.73974,     0.74074,     0.74174,     0.74274,     0.74374,\n",
              "           0.74474,     0.74575,     0.74675,     0.74775,     0.74875,     0.74975,     0.75075,     0.75175,     0.75275,     0.75375,     0.75475,     0.75576,     0.75676,     0.75776,     0.75876,     0.75976,     0.76076,     0.76176,     0.76276,     0.76376,     0.76476,     0.76577,     0.76677,     0.76777,\n",
              "           0.76877,     0.76977,     0.77077,     0.77177,     0.77277,     0.77377,     0.77477,     0.77578,     0.77678,     0.77778,     0.77878,     0.77978,     0.78078,     0.78178,     0.78278,     0.78378,     0.78478,     0.78579,     0.78679,     0.78779,     0.78879,     0.78979,     0.79079,     0.79179,\n",
              "           0.79279,     0.79379,     0.79479,      0.7958,      0.7968,      0.7978,      0.7988,      0.7998,      0.8008,      0.8018,      0.8028,      0.8038,      0.8048,     0.80581,     0.80681,     0.80781,     0.80881,     0.80981,     0.81081,     0.81181,     0.81281,     0.81381,     0.81481,     0.81582,\n",
              "           0.81682,     0.81782,     0.81882,     0.81982,     0.82082,     0.82182,     0.82282,     0.82382,     0.82482,     0.82583,     0.82683,     0.82783,     0.82883,     0.82983,     0.83083,     0.83183,     0.83283,     0.83383,     0.83483,     0.83584,     0.83684,     0.83784,     0.83884,     0.83984,\n",
              "           0.84084,     0.84184,     0.84284,     0.84384,     0.84484,     0.84585,     0.84685,     0.84785,     0.84885,     0.84985,     0.85085,     0.85185,     0.85285,     0.85385,     0.85485,     0.85586,     0.85686,     0.85786,     0.85886,     0.85986,     0.86086,     0.86186,     0.86286,     0.86386,\n",
              "           0.86486,     0.86587,     0.86687,     0.86787,     0.86887,     0.86987,     0.87087,     0.87187,     0.87287,     0.87387,     0.87487,     0.87588,     0.87688,     0.87788,     0.87888,     0.87988,     0.88088,     0.88188,     0.88288,     0.88388,     0.88488,     0.88589,     0.88689,     0.88789,\n",
              "           0.88889,     0.88989,     0.89089,     0.89189,     0.89289,     0.89389,     0.89489,      0.8959,      0.8969,      0.8979,      0.8989,      0.8999,      0.9009,      0.9019,      0.9029,      0.9039,      0.9049,     0.90591,     0.90691,     0.90791,     0.90891,     0.90991,     0.91091,     0.91191,\n",
              "           0.91291,     0.91391,     0.91491,     0.91592,     0.91692,     0.91792,     0.91892,     0.91992,     0.92092,     0.92192,     0.92292,     0.92392,     0.92492,     0.92593,     0.92693,     0.92793,     0.92893,     0.92993,     0.93093,     0.93193,     0.93293,     0.93393,     0.93493,     0.93594,\n",
              "           0.93694,     0.93794,     0.93894,     0.93994,     0.94094,     0.94194,     0.94294,     0.94394,     0.94494,     0.94595,     0.94695,     0.94795,     0.94895,     0.94995,     0.95095,     0.95195,     0.95295,     0.95395,     0.95495,     0.95596,     0.95696,     0.95796,     0.95896,     0.95996,\n",
              "           0.96096,     0.96196,     0.96296,     0.96396,     0.96496,     0.96597,     0.96697,     0.96797,     0.96897,     0.96997,     0.97097,     0.97197,     0.97297,     0.97397,     0.97497,     0.97598,     0.97698,     0.97798,     0.97898,     0.97998,     0.98098,     0.98198,     0.98298,     0.98398,\n",
              "           0.98498,     0.98599,     0.98699,     0.98799,     0.98899,     0.98999,     0.99099,     0.99199,     0.99299,     0.99399,     0.99499,       0.996,       0.997,       0.998,       0.999,           1]), array([[       0.75,        0.75,        0.75, ...,    0.017174,   0.0085868,           0],\n",
              "       [          1,           1,           1, ...,    0.025781,    0.012891,           0]]), 'Recall', 'Precision'], [array([          0,    0.001001,    0.002002,    0.003003,    0.004004,    0.005005,    0.006006,    0.007007,    0.008008,    0.009009,     0.01001,    0.011011,    0.012012,    0.013013,    0.014014,    0.015015,    0.016016,    0.017017,    0.018018,    0.019019,     0.02002,    0.021021,    0.022022,    0.023023,\n",
              "          0.024024,    0.025025,    0.026026,    0.027027,    0.028028,    0.029029,     0.03003,    0.031031,    0.032032,    0.033033,    0.034034,    0.035035,    0.036036,    0.037037,    0.038038,    0.039039,     0.04004,    0.041041,    0.042042,    0.043043,    0.044044,    0.045045,    0.046046,    0.047047,\n",
              "          0.048048,    0.049049,     0.05005,    0.051051,    0.052052,    0.053053,    0.054054,    0.055055,    0.056056,    0.057057,    0.058058,    0.059059,     0.06006,    0.061061,    0.062062,    0.063063,    0.064064,    0.065065,    0.066066,    0.067067,    0.068068,    0.069069,     0.07007,    0.071071,\n",
              "          0.072072,    0.073073,    0.074074,    0.075075,    0.076076,    0.077077,    0.078078,    0.079079,     0.08008,    0.081081,    0.082082,    0.083083,    0.084084,    0.085085,    0.086086,    0.087087,    0.088088,    0.089089,     0.09009,    0.091091,    0.092092,    0.093093,    0.094094,    0.095095,\n",
              "          0.096096,    0.097097,    0.098098,    0.099099,      0.1001,      0.1011,      0.1021,      0.1031,      0.1041,     0.10511,     0.10611,     0.10711,     0.10811,     0.10911,     0.11011,     0.11111,     0.11211,     0.11311,     0.11411,     0.11512,     0.11612,     0.11712,     0.11812,     0.11912,\n",
              "           0.12012,     0.12112,     0.12212,     0.12312,     0.12412,     0.12513,     0.12613,     0.12713,     0.12813,     0.12913,     0.13013,     0.13113,     0.13213,     0.13313,     0.13413,     0.13514,     0.13614,     0.13714,     0.13814,     0.13914,     0.14014,     0.14114,     0.14214,     0.14314,\n",
              "           0.14414,     0.14515,     0.14615,     0.14715,     0.14815,     0.14915,     0.15015,     0.15115,     0.15215,     0.15315,     0.15415,     0.15516,     0.15616,     0.15716,     0.15816,     0.15916,     0.16016,     0.16116,     0.16216,     0.16316,     0.16416,     0.16517,     0.16617,     0.16717,\n",
              "           0.16817,     0.16917,     0.17017,     0.17117,     0.17217,     0.17317,     0.17417,     0.17518,     0.17618,     0.17718,     0.17818,     0.17918,     0.18018,     0.18118,     0.18218,     0.18318,     0.18418,     0.18519,     0.18619,     0.18719,     0.18819,     0.18919,     0.19019,     0.19119,\n",
              "           0.19219,     0.19319,     0.19419,      0.1952,      0.1962,      0.1972,      0.1982,      0.1992,      0.2002,      0.2012,      0.2022,      0.2032,      0.2042,     0.20521,     0.20621,     0.20721,     0.20821,     0.20921,     0.21021,     0.21121,     0.21221,     0.21321,     0.21421,     0.21522,\n",
              "           0.21622,     0.21722,     0.21822,     0.21922,     0.22022,     0.22122,     0.22222,     0.22322,     0.22422,     0.22523,     0.22623,     0.22723,     0.22823,     0.22923,     0.23023,     0.23123,     0.23223,     0.23323,     0.23423,     0.23524,     0.23624,     0.23724,     0.23824,     0.23924,\n",
              "           0.24024,     0.24124,     0.24224,     0.24324,     0.24424,     0.24525,     0.24625,     0.24725,     0.24825,     0.24925,     0.25025,     0.25125,     0.25225,     0.25325,     0.25425,     0.25526,     0.25626,     0.25726,     0.25826,     0.25926,     0.26026,     0.26126,     0.26226,     0.26326,\n",
              "           0.26426,     0.26527,     0.26627,     0.26727,     0.26827,     0.26927,     0.27027,     0.27127,     0.27227,     0.27327,     0.27427,     0.27528,     0.27628,     0.27728,     0.27828,     0.27928,     0.28028,     0.28128,     0.28228,     0.28328,     0.28428,     0.28529,     0.28629,     0.28729,\n",
              "           0.28829,     0.28929,     0.29029,     0.29129,     0.29229,     0.29329,     0.29429,      0.2953,      0.2963,      0.2973,      0.2983,      0.2993,      0.3003,      0.3013,      0.3023,      0.3033,      0.3043,     0.30531,     0.30631,     0.30731,     0.30831,     0.30931,     0.31031,     0.31131,\n",
              "           0.31231,     0.31331,     0.31431,     0.31532,     0.31632,     0.31732,     0.31832,     0.31932,     0.32032,     0.32132,     0.32232,     0.32332,     0.32432,     0.32533,     0.32633,     0.32733,     0.32833,     0.32933,     0.33033,     0.33133,     0.33233,     0.33333,     0.33433,     0.33534,\n",
              "           0.33634,     0.33734,     0.33834,     0.33934,     0.34034,     0.34134,     0.34234,     0.34334,     0.34434,     0.34535,     0.34635,     0.34735,     0.34835,     0.34935,     0.35035,     0.35135,     0.35235,     0.35335,     0.35435,     0.35536,     0.35636,     0.35736,     0.35836,     0.35936,\n",
              "           0.36036,     0.36136,     0.36236,     0.36336,     0.36436,     0.36537,     0.36637,     0.36737,     0.36837,     0.36937,     0.37037,     0.37137,     0.37237,     0.37337,     0.37437,     0.37538,     0.37638,     0.37738,     0.37838,     0.37938,     0.38038,     0.38138,     0.38238,     0.38338,\n",
              "           0.38438,     0.38539,     0.38639,     0.38739,     0.38839,     0.38939,     0.39039,     0.39139,     0.39239,     0.39339,     0.39439,      0.3954,      0.3964,      0.3974,      0.3984,      0.3994,      0.4004,      0.4014,      0.4024,      0.4034,      0.4044,     0.40541,     0.40641,     0.40741,\n",
              "           0.40841,     0.40941,     0.41041,     0.41141,     0.41241,     0.41341,     0.41441,     0.41542,     0.41642,     0.41742,     0.41842,     0.41942,     0.42042,     0.42142,     0.42242,     0.42342,     0.42442,     0.42543,     0.42643,     0.42743,     0.42843,     0.42943,     0.43043,     0.43143,\n",
              "           0.43243,     0.43343,     0.43443,     0.43544,     0.43644,     0.43744,     0.43844,     0.43944,     0.44044,     0.44144,     0.44244,     0.44344,     0.44444,     0.44545,     0.44645,     0.44745,     0.44845,     0.44945,     0.45045,     0.45145,     0.45245,     0.45345,     0.45445,     0.45546,\n",
              "           0.45646,     0.45746,     0.45846,     0.45946,     0.46046,     0.46146,     0.46246,     0.46346,     0.46446,     0.46547,     0.46647,     0.46747,     0.46847,     0.46947,     0.47047,     0.47147,     0.47247,     0.47347,     0.47447,     0.47548,     0.47648,     0.47748,     0.47848,     0.47948,\n",
              "           0.48048,     0.48148,     0.48248,     0.48348,     0.48448,     0.48549,     0.48649,     0.48749,     0.48849,     0.48949,     0.49049,     0.49149,     0.49249,     0.49349,     0.49449,      0.4955,      0.4965,      0.4975,      0.4985,      0.4995,      0.5005,      0.5015,      0.5025,      0.5035,\n",
              "            0.5045,     0.50551,     0.50651,     0.50751,     0.50851,     0.50951,     0.51051,     0.51151,     0.51251,     0.51351,     0.51451,     0.51552,     0.51652,     0.51752,     0.51852,     0.51952,     0.52052,     0.52152,     0.52252,     0.52352,     0.52452,     0.52553,     0.52653,     0.52753,\n",
              "           0.52853,     0.52953,     0.53053,     0.53153,     0.53253,     0.53353,     0.53453,     0.53554,     0.53654,     0.53754,     0.53854,     0.53954,     0.54054,     0.54154,     0.54254,     0.54354,     0.54454,     0.54555,     0.54655,     0.54755,     0.54855,     0.54955,     0.55055,     0.55155,\n",
              "           0.55255,     0.55355,     0.55455,     0.55556,     0.55656,     0.55756,     0.55856,     0.55956,     0.56056,     0.56156,     0.56256,     0.56356,     0.56456,     0.56557,     0.56657,     0.56757,     0.56857,     0.56957,     0.57057,     0.57157,     0.57257,     0.57357,     0.57457,     0.57558,\n",
              "           0.57658,     0.57758,     0.57858,     0.57958,     0.58058,     0.58158,     0.58258,     0.58358,     0.58458,     0.58559,     0.58659,     0.58759,     0.58859,     0.58959,     0.59059,     0.59159,     0.59259,     0.59359,     0.59459,      0.5956,      0.5966,      0.5976,      0.5986,      0.5996,\n",
              "            0.6006,      0.6016,      0.6026,      0.6036,      0.6046,     0.60561,     0.60661,     0.60761,     0.60861,     0.60961,     0.61061,     0.61161,     0.61261,     0.61361,     0.61461,     0.61562,     0.61662,     0.61762,     0.61862,     0.61962,     0.62062,     0.62162,     0.62262,     0.62362,\n",
              "           0.62462,     0.62563,     0.62663,     0.62763,     0.62863,     0.62963,     0.63063,     0.63163,     0.63263,     0.63363,     0.63463,     0.63564,     0.63664,     0.63764,     0.63864,     0.63964,     0.64064,     0.64164,     0.64264,     0.64364,     0.64464,     0.64565,     0.64665,     0.64765,\n",
              "           0.64865,     0.64965,     0.65065,     0.65165,     0.65265,     0.65365,     0.65465,     0.65566,     0.65666,     0.65766,     0.65866,     0.65966,     0.66066,     0.66166,     0.66266,     0.66366,     0.66466,     0.66567,     0.66667,     0.66767,     0.66867,     0.66967,     0.67067,     0.67167,\n",
              "           0.67267,     0.67367,     0.67467,     0.67568,     0.67668,     0.67768,     0.67868,     0.67968,     0.68068,     0.68168,     0.68268,     0.68368,     0.68468,     0.68569,     0.68669,     0.68769,     0.68869,     0.68969,     0.69069,     0.69169,     0.69269,     0.69369,     0.69469,      0.6957,\n",
              "            0.6967,      0.6977,      0.6987,      0.6997,      0.7007,      0.7017,      0.7027,      0.7037,      0.7047,     0.70571,     0.70671,     0.70771,     0.70871,     0.70971,     0.71071,     0.71171,     0.71271,     0.71371,     0.71471,     0.71572,     0.71672,     0.71772,     0.71872,     0.71972,\n",
              "           0.72072,     0.72172,     0.72272,     0.72372,     0.72472,     0.72573,     0.72673,     0.72773,     0.72873,     0.72973,     0.73073,     0.73173,     0.73273,     0.73373,     0.73473,     0.73574,     0.73674,     0.73774,     0.73874,     0.73974,     0.74074,     0.74174,     0.74274,     0.74374,\n",
              "           0.74474,     0.74575,     0.74675,     0.74775,     0.74875,     0.74975,     0.75075,     0.75175,     0.75275,     0.75375,     0.75475,     0.75576,     0.75676,     0.75776,     0.75876,     0.75976,     0.76076,     0.76176,     0.76276,     0.76376,     0.76476,     0.76577,     0.76677,     0.76777,\n",
              "           0.76877,     0.76977,     0.77077,     0.77177,     0.77277,     0.77377,     0.77477,     0.77578,     0.77678,     0.77778,     0.77878,     0.77978,     0.78078,     0.78178,     0.78278,     0.78378,     0.78478,     0.78579,     0.78679,     0.78779,     0.78879,     0.78979,     0.79079,     0.79179,\n",
              "           0.79279,     0.79379,     0.79479,      0.7958,      0.7968,      0.7978,      0.7988,      0.7998,      0.8008,      0.8018,      0.8028,      0.8038,      0.8048,     0.80581,     0.80681,     0.80781,     0.80881,     0.80981,     0.81081,     0.81181,     0.81281,     0.81381,     0.81481,     0.81582,\n",
              "           0.81682,     0.81782,     0.81882,     0.81982,     0.82082,     0.82182,     0.82282,     0.82382,     0.82482,     0.82583,     0.82683,     0.82783,     0.82883,     0.82983,     0.83083,     0.83183,     0.83283,     0.83383,     0.83483,     0.83584,     0.83684,     0.83784,     0.83884,     0.83984,\n",
              "           0.84084,     0.84184,     0.84284,     0.84384,     0.84484,     0.84585,     0.84685,     0.84785,     0.84885,     0.84985,     0.85085,     0.85185,     0.85285,     0.85385,     0.85485,     0.85586,     0.85686,     0.85786,     0.85886,     0.85986,     0.86086,     0.86186,     0.86286,     0.86386,\n",
              "           0.86486,     0.86587,     0.86687,     0.86787,     0.86887,     0.86987,     0.87087,     0.87187,     0.87287,     0.87387,     0.87487,     0.87588,     0.87688,     0.87788,     0.87888,     0.87988,     0.88088,     0.88188,     0.88288,     0.88388,     0.88488,     0.88589,     0.88689,     0.88789,\n",
              "           0.88889,     0.88989,     0.89089,     0.89189,     0.89289,     0.89389,     0.89489,      0.8959,      0.8969,      0.8979,      0.8989,      0.8999,      0.9009,      0.9019,      0.9029,      0.9039,      0.9049,     0.90591,     0.90691,     0.90791,     0.90891,     0.90991,     0.91091,     0.91191,\n",
              "           0.91291,     0.91391,     0.91491,     0.91592,     0.91692,     0.91792,     0.91892,     0.91992,     0.92092,     0.92192,     0.92292,     0.92392,     0.92492,     0.92593,     0.92693,     0.92793,     0.92893,     0.92993,     0.93093,     0.93193,     0.93293,     0.93393,     0.93493,     0.93594,\n",
              "           0.93694,     0.93794,     0.93894,     0.93994,     0.94094,     0.94194,     0.94294,     0.94394,     0.94494,     0.94595,     0.94695,     0.94795,     0.94895,     0.94995,     0.95095,     0.95195,     0.95295,     0.95395,     0.95495,     0.95596,     0.95696,     0.95796,     0.95896,     0.95996,\n",
              "           0.96096,     0.96196,     0.96296,     0.96396,     0.96496,     0.96597,     0.96697,     0.96797,     0.96897,     0.96997,     0.97097,     0.97197,     0.97297,     0.97397,     0.97497,     0.97598,     0.97698,     0.97798,     0.97898,     0.97998,     0.98098,     0.98198,     0.98298,     0.98398,\n",
              "           0.98498,     0.98599,     0.98699,     0.98799,     0.98899,     0.98999,     0.99099,     0.99199,     0.99299,     0.99399,     0.99499,       0.996,       0.997,       0.998,       0.999,           1]), array([[    0.55367,     0.55367,     0.60454, ...,           0,           0,           0],\n",
              "       [    0.25749,     0.25749,     0.30794, ...,           0,           0,           0]]), 'Confidence', 'F1'], [array([          0,    0.001001,    0.002002,    0.003003,    0.004004,    0.005005,    0.006006,    0.007007,    0.008008,    0.009009,     0.01001,    0.011011,    0.012012,    0.013013,    0.014014,    0.015015,    0.016016,    0.017017,    0.018018,    0.019019,     0.02002,    0.021021,    0.022022,    0.023023,\n",
              "          0.024024,    0.025025,    0.026026,    0.027027,    0.028028,    0.029029,     0.03003,    0.031031,    0.032032,    0.033033,    0.034034,    0.035035,    0.036036,    0.037037,    0.038038,    0.039039,     0.04004,    0.041041,    0.042042,    0.043043,    0.044044,    0.045045,    0.046046,    0.047047,\n",
              "          0.048048,    0.049049,     0.05005,    0.051051,    0.052052,    0.053053,    0.054054,    0.055055,    0.056056,    0.057057,    0.058058,    0.059059,     0.06006,    0.061061,    0.062062,    0.063063,    0.064064,    0.065065,    0.066066,    0.067067,    0.068068,    0.069069,     0.07007,    0.071071,\n",
              "          0.072072,    0.073073,    0.074074,    0.075075,    0.076076,    0.077077,    0.078078,    0.079079,     0.08008,    0.081081,    0.082082,    0.083083,    0.084084,    0.085085,    0.086086,    0.087087,    0.088088,    0.089089,     0.09009,    0.091091,    0.092092,    0.093093,    0.094094,    0.095095,\n",
              "          0.096096,    0.097097,    0.098098,    0.099099,      0.1001,      0.1011,      0.1021,      0.1031,      0.1041,     0.10511,     0.10611,     0.10711,     0.10811,     0.10911,     0.11011,     0.11111,     0.11211,     0.11311,     0.11411,     0.11512,     0.11612,     0.11712,     0.11812,     0.11912,\n",
              "           0.12012,     0.12112,     0.12212,     0.12312,     0.12412,     0.12513,     0.12613,     0.12713,     0.12813,     0.12913,     0.13013,     0.13113,     0.13213,     0.13313,     0.13413,     0.13514,     0.13614,     0.13714,     0.13814,     0.13914,     0.14014,     0.14114,     0.14214,     0.14314,\n",
              "           0.14414,     0.14515,     0.14615,     0.14715,     0.14815,     0.14915,     0.15015,     0.15115,     0.15215,     0.15315,     0.15415,     0.15516,     0.15616,     0.15716,     0.15816,     0.15916,     0.16016,     0.16116,     0.16216,     0.16316,     0.16416,     0.16517,     0.16617,     0.16717,\n",
              "           0.16817,     0.16917,     0.17017,     0.17117,     0.17217,     0.17317,     0.17417,     0.17518,     0.17618,     0.17718,     0.17818,     0.17918,     0.18018,     0.18118,     0.18218,     0.18318,     0.18418,     0.18519,     0.18619,     0.18719,     0.18819,     0.18919,     0.19019,     0.19119,\n",
              "           0.19219,     0.19319,     0.19419,      0.1952,      0.1962,      0.1972,      0.1982,      0.1992,      0.2002,      0.2012,      0.2022,      0.2032,      0.2042,     0.20521,     0.20621,     0.20721,     0.20821,     0.20921,     0.21021,     0.21121,     0.21221,     0.21321,     0.21421,     0.21522,\n",
              "           0.21622,     0.21722,     0.21822,     0.21922,     0.22022,     0.22122,     0.22222,     0.22322,     0.22422,     0.22523,     0.22623,     0.22723,     0.22823,     0.22923,     0.23023,     0.23123,     0.23223,     0.23323,     0.23423,     0.23524,     0.23624,     0.23724,     0.23824,     0.23924,\n",
              "           0.24024,     0.24124,     0.24224,     0.24324,     0.24424,     0.24525,     0.24625,     0.24725,     0.24825,     0.24925,     0.25025,     0.25125,     0.25225,     0.25325,     0.25425,     0.25526,     0.25626,     0.25726,     0.25826,     0.25926,     0.26026,     0.26126,     0.26226,     0.26326,\n",
              "           0.26426,     0.26527,     0.26627,     0.26727,     0.26827,     0.26927,     0.27027,     0.27127,     0.27227,     0.27327,     0.27427,     0.27528,     0.27628,     0.27728,     0.27828,     0.27928,     0.28028,     0.28128,     0.28228,     0.28328,     0.28428,     0.28529,     0.28629,     0.28729,\n",
              "           0.28829,     0.28929,     0.29029,     0.29129,     0.29229,     0.29329,     0.29429,      0.2953,      0.2963,      0.2973,      0.2983,      0.2993,      0.3003,      0.3013,      0.3023,      0.3033,      0.3043,     0.30531,     0.30631,     0.30731,     0.30831,     0.30931,     0.31031,     0.31131,\n",
              "           0.31231,     0.31331,     0.31431,     0.31532,     0.31632,     0.31732,     0.31832,     0.31932,     0.32032,     0.32132,     0.32232,     0.32332,     0.32432,     0.32533,     0.32633,     0.32733,     0.32833,     0.32933,     0.33033,     0.33133,     0.33233,     0.33333,     0.33433,     0.33534,\n",
              "           0.33634,     0.33734,     0.33834,     0.33934,     0.34034,     0.34134,     0.34234,     0.34334,     0.34434,     0.34535,     0.34635,     0.34735,     0.34835,     0.34935,     0.35035,     0.35135,     0.35235,     0.35335,     0.35435,     0.35536,     0.35636,     0.35736,     0.35836,     0.35936,\n",
              "           0.36036,     0.36136,     0.36236,     0.36336,     0.36436,     0.36537,     0.36637,     0.36737,     0.36837,     0.36937,     0.37037,     0.37137,     0.37237,     0.37337,     0.37437,     0.37538,     0.37638,     0.37738,     0.37838,     0.37938,     0.38038,     0.38138,     0.38238,     0.38338,\n",
              "           0.38438,     0.38539,     0.38639,     0.38739,     0.38839,     0.38939,     0.39039,     0.39139,     0.39239,     0.39339,     0.39439,      0.3954,      0.3964,      0.3974,      0.3984,      0.3994,      0.4004,      0.4014,      0.4024,      0.4034,      0.4044,     0.40541,     0.40641,     0.40741,\n",
              "           0.40841,     0.40941,     0.41041,     0.41141,     0.41241,     0.41341,     0.41441,     0.41542,     0.41642,     0.41742,     0.41842,     0.41942,     0.42042,     0.42142,     0.42242,     0.42342,     0.42442,     0.42543,     0.42643,     0.42743,     0.42843,     0.42943,     0.43043,     0.43143,\n",
              "           0.43243,     0.43343,     0.43443,     0.43544,     0.43644,     0.43744,     0.43844,     0.43944,     0.44044,     0.44144,     0.44244,     0.44344,     0.44444,     0.44545,     0.44645,     0.44745,     0.44845,     0.44945,     0.45045,     0.45145,     0.45245,     0.45345,     0.45445,     0.45546,\n",
              "           0.45646,     0.45746,     0.45846,     0.45946,     0.46046,     0.46146,     0.46246,     0.46346,     0.46446,     0.46547,     0.46647,     0.46747,     0.46847,     0.46947,     0.47047,     0.47147,     0.47247,     0.47347,     0.47447,     0.47548,     0.47648,     0.47748,     0.47848,     0.47948,\n",
              "           0.48048,     0.48148,     0.48248,     0.48348,     0.48448,     0.48549,     0.48649,     0.48749,     0.48849,     0.48949,     0.49049,     0.49149,     0.49249,     0.49349,     0.49449,      0.4955,      0.4965,      0.4975,      0.4985,      0.4995,      0.5005,      0.5015,      0.5025,      0.5035,\n",
              "            0.5045,     0.50551,     0.50651,     0.50751,     0.50851,     0.50951,     0.51051,     0.51151,     0.51251,     0.51351,     0.51451,     0.51552,     0.51652,     0.51752,     0.51852,     0.51952,     0.52052,     0.52152,     0.52252,     0.52352,     0.52452,     0.52553,     0.52653,     0.52753,\n",
              "           0.52853,     0.52953,     0.53053,     0.53153,     0.53253,     0.53353,     0.53453,     0.53554,     0.53654,     0.53754,     0.53854,     0.53954,     0.54054,     0.54154,     0.54254,     0.54354,     0.54454,     0.54555,     0.54655,     0.54755,     0.54855,     0.54955,     0.55055,     0.55155,\n",
              "           0.55255,     0.55355,     0.55455,     0.55556,     0.55656,     0.55756,     0.55856,     0.55956,     0.56056,     0.56156,     0.56256,     0.56356,     0.56456,     0.56557,     0.56657,     0.56757,     0.56857,     0.56957,     0.57057,     0.57157,     0.57257,     0.57357,     0.57457,     0.57558,\n",
              "           0.57658,     0.57758,     0.57858,     0.57958,     0.58058,     0.58158,     0.58258,     0.58358,     0.58458,     0.58559,     0.58659,     0.58759,     0.58859,     0.58959,     0.59059,     0.59159,     0.59259,     0.59359,     0.59459,      0.5956,      0.5966,      0.5976,      0.5986,      0.5996,\n",
              "            0.6006,      0.6016,      0.6026,      0.6036,      0.6046,     0.60561,     0.60661,     0.60761,     0.60861,     0.60961,     0.61061,     0.61161,     0.61261,     0.61361,     0.61461,     0.61562,     0.61662,     0.61762,     0.61862,     0.61962,     0.62062,     0.62162,     0.62262,     0.62362,\n",
              "           0.62462,     0.62563,     0.62663,     0.62763,     0.62863,     0.62963,     0.63063,     0.63163,     0.63263,     0.63363,     0.63463,     0.63564,     0.63664,     0.63764,     0.63864,     0.63964,     0.64064,     0.64164,     0.64264,     0.64364,     0.64464,     0.64565,     0.64665,     0.64765,\n",
              "           0.64865,     0.64965,     0.65065,     0.65165,     0.65265,     0.65365,     0.65465,     0.65566,     0.65666,     0.65766,     0.65866,     0.65966,     0.66066,     0.66166,     0.66266,     0.66366,     0.66466,     0.66567,     0.66667,     0.66767,     0.66867,     0.66967,     0.67067,     0.67167,\n",
              "           0.67267,     0.67367,     0.67467,     0.67568,     0.67668,     0.67768,     0.67868,     0.67968,     0.68068,     0.68168,     0.68268,     0.68368,     0.68468,     0.68569,     0.68669,     0.68769,     0.68869,     0.68969,     0.69069,     0.69169,     0.69269,     0.69369,     0.69469,      0.6957,\n",
              "            0.6967,      0.6977,      0.6987,      0.6997,      0.7007,      0.7017,      0.7027,      0.7037,      0.7047,     0.70571,     0.70671,     0.70771,     0.70871,     0.70971,     0.71071,     0.71171,     0.71271,     0.71371,     0.71471,     0.71572,     0.71672,     0.71772,     0.71872,     0.71972,\n",
              "           0.72072,     0.72172,     0.72272,     0.72372,     0.72472,     0.72573,     0.72673,     0.72773,     0.72873,     0.72973,     0.73073,     0.73173,     0.73273,     0.73373,     0.73473,     0.73574,     0.73674,     0.73774,     0.73874,     0.73974,     0.74074,     0.74174,     0.74274,     0.74374,\n",
              "           0.74474,     0.74575,     0.74675,     0.74775,     0.74875,     0.74975,     0.75075,     0.75175,     0.75275,     0.75375,     0.75475,     0.75576,     0.75676,     0.75776,     0.75876,     0.75976,     0.76076,     0.76176,     0.76276,     0.76376,     0.76476,     0.76577,     0.76677,     0.76777,\n",
              "           0.76877,     0.76977,     0.77077,     0.77177,     0.77277,     0.77377,     0.77477,     0.77578,     0.77678,     0.77778,     0.77878,     0.77978,     0.78078,     0.78178,     0.78278,     0.78378,     0.78478,     0.78579,     0.78679,     0.78779,     0.78879,     0.78979,     0.79079,     0.79179,\n",
              "           0.79279,     0.79379,     0.79479,      0.7958,      0.7968,      0.7978,      0.7988,      0.7998,      0.8008,      0.8018,      0.8028,      0.8038,      0.8048,     0.80581,     0.80681,     0.80781,     0.80881,     0.80981,     0.81081,     0.81181,     0.81281,     0.81381,     0.81481,     0.81582,\n",
              "           0.81682,     0.81782,     0.81882,     0.81982,     0.82082,     0.82182,     0.82282,     0.82382,     0.82482,     0.82583,     0.82683,     0.82783,     0.82883,     0.82983,     0.83083,     0.83183,     0.83283,     0.83383,     0.83483,     0.83584,     0.83684,     0.83784,     0.83884,     0.83984,\n",
              "           0.84084,     0.84184,     0.84284,     0.84384,     0.84484,     0.84585,     0.84685,     0.84785,     0.84885,     0.84985,     0.85085,     0.85185,     0.85285,     0.85385,     0.85485,     0.85586,     0.85686,     0.85786,     0.85886,     0.85986,     0.86086,     0.86186,     0.86286,     0.86386,\n",
              "           0.86486,     0.86587,     0.86687,     0.86787,     0.86887,     0.86987,     0.87087,     0.87187,     0.87287,     0.87387,     0.87487,     0.87588,     0.87688,     0.87788,     0.87888,     0.87988,     0.88088,     0.88188,     0.88288,     0.88388,     0.88488,     0.88589,     0.88689,     0.88789,\n",
              "           0.88889,     0.88989,     0.89089,     0.89189,     0.89289,     0.89389,     0.89489,      0.8959,      0.8969,      0.8979,      0.8989,      0.8999,      0.9009,      0.9019,      0.9029,      0.9039,      0.9049,     0.90591,     0.90691,     0.90791,     0.90891,     0.90991,     0.91091,     0.91191,\n",
              "           0.91291,     0.91391,     0.91491,     0.91592,     0.91692,     0.91792,     0.91892,     0.91992,     0.92092,     0.92192,     0.92292,     0.92392,     0.92492,     0.92593,     0.92693,     0.92793,     0.92893,     0.92993,     0.93093,     0.93193,     0.93293,     0.93393,     0.93493,     0.93594,\n",
              "           0.93694,     0.93794,     0.93894,     0.93994,     0.94094,     0.94194,     0.94294,     0.94394,     0.94494,     0.94595,     0.94695,     0.94795,     0.94895,     0.94995,     0.95095,     0.95195,     0.95295,     0.95395,     0.95495,     0.95596,     0.95696,     0.95796,     0.95896,     0.95996,\n",
              "           0.96096,     0.96196,     0.96296,     0.96396,     0.96496,     0.96597,     0.96697,     0.96797,     0.96897,     0.96997,     0.97097,     0.97197,     0.97297,     0.97397,     0.97497,     0.97598,     0.97698,     0.97798,     0.97898,     0.97998,     0.98098,     0.98198,     0.98298,     0.98398,\n",
              "           0.98498,     0.98599,     0.98699,     0.98799,     0.98899,     0.98999,     0.99099,     0.99199,     0.99299,     0.99399,     0.99499,       0.996,       0.997,       0.998,       0.999,           1]), array([[    0.38992,     0.38992,     0.44375, ...,           1,           1,           1],\n",
              "       [    0.14802,     0.14802,     0.18278, ...,           1,           1,           1]]), 'Confidence', 'Precision'], [array([          0,    0.001001,    0.002002,    0.003003,    0.004004,    0.005005,    0.006006,    0.007007,    0.008008,    0.009009,     0.01001,    0.011011,    0.012012,    0.013013,    0.014014,    0.015015,    0.016016,    0.017017,    0.018018,    0.019019,     0.02002,    0.021021,    0.022022,    0.023023,\n",
              "          0.024024,    0.025025,    0.026026,    0.027027,    0.028028,    0.029029,     0.03003,    0.031031,    0.032032,    0.033033,    0.034034,    0.035035,    0.036036,    0.037037,    0.038038,    0.039039,     0.04004,    0.041041,    0.042042,    0.043043,    0.044044,    0.045045,    0.046046,    0.047047,\n",
              "          0.048048,    0.049049,     0.05005,    0.051051,    0.052052,    0.053053,    0.054054,    0.055055,    0.056056,    0.057057,    0.058058,    0.059059,     0.06006,    0.061061,    0.062062,    0.063063,    0.064064,    0.065065,    0.066066,    0.067067,    0.068068,    0.069069,     0.07007,    0.071071,\n",
              "          0.072072,    0.073073,    0.074074,    0.075075,    0.076076,    0.077077,    0.078078,    0.079079,     0.08008,    0.081081,    0.082082,    0.083083,    0.084084,    0.085085,    0.086086,    0.087087,    0.088088,    0.089089,     0.09009,    0.091091,    0.092092,    0.093093,    0.094094,    0.095095,\n",
              "          0.096096,    0.097097,    0.098098,    0.099099,      0.1001,      0.1011,      0.1021,      0.1031,      0.1041,     0.10511,     0.10611,     0.10711,     0.10811,     0.10911,     0.11011,     0.11111,     0.11211,     0.11311,     0.11411,     0.11512,     0.11612,     0.11712,     0.11812,     0.11912,\n",
              "           0.12012,     0.12112,     0.12212,     0.12312,     0.12412,     0.12513,     0.12613,     0.12713,     0.12813,     0.12913,     0.13013,     0.13113,     0.13213,     0.13313,     0.13413,     0.13514,     0.13614,     0.13714,     0.13814,     0.13914,     0.14014,     0.14114,     0.14214,     0.14314,\n",
              "           0.14414,     0.14515,     0.14615,     0.14715,     0.14815,     0.14915,     0.15015,     0.15115,     0.15215,     0.15315,     0.15415,     0.15516,     0.15616,     0.15716,     0.15816,     0.15916,     0.16016,     0.16116,     0.16216,     0.16316,     0.16416,     0.16517,     0.16617,     0.16717,\n",
              "           0.16817,     0.16917,     0.17017,     0.17117,     0.17217,     0.17317,     0.17417,     0.17518,     0.17618,     0.17718,     0.17818,     0.17918,     0.18018,     0.18118,     0.18218,     0.18318,     0.18418,     0.18519,     0.18619,     0.18719,     0.18819,     0.18919,     0.19019,     0.19119,\n",
              "           0.19219,     0.19319,     0.19419,      0.1952,      0.1962,      0.1972,      0.1982,      0.1992,      0.2002,      0.2012,      0.2022,      0.2032,      0.2042,     0.20521,     0.20621,     0.20721,     0.20821,     0.20921,     0.21021,     0.21121,     0.21221,     0.21321,     0.21421,     0.21522,\n",
              "           0.21622,     0.21722,     0.21822,     0.21922,     0.22022,     0.22122,     0.22222,     0.22322,     0.22422,     0.22523,     0.22623,     0.22723,     0.22823,     0.22923,     0.23023,     0.23123,     0.23223,     0.23323,     0.23423,     0.23524,     0.23624,     0.23724,     0.23824,     0.23924,\n",
              "           0.24024,     0.24124,     0.24224,     0.24324,     0.24424,     0.24525,     0.24625,     0.24725,     0.24825,     0.24925,     0.25025,     0.25125,     0.25225,     0.25325,     0.25425,     0.25526,     0.25626,     0.25726,     0.25826,     0.25926,     0.26026,     0.26126,     0.26226,     0.26326,\n",
              "           0.26426,     0.26527,     0.26627,     0.26727,     0.26827,     0.26927,     0.27027,     0.27127,     0.27227,     0.27327,     0.27427,     0.27528,     0.27628,     0.27728,     0.27828,     0.27928,     0.28028,     0.28128,     0.28228,     0.28328,     0.28428,     0.28529,     0.28629,     0.28729,\n",
              "           0.28829,     0.28929,     0.29029,     0.29129,     0.29229,     0.29329,     0.29429,      0.2953,      0.2963,      0.2973,      0.2983,      0.2993,      0.3003,      0.3013,      0.3023,      0.3033,      0.3043,     0.30531,     0.30631,     0.30731,     0.30831,     0.30931,     0.31031,     0.31131,\n",
              "           0.31231,     0.31331,     0.31431,     0.31532,     0.31632,     0.31732,     0.31832,     0.31932,     0.32032,     0.32132,     0.32232,     0.32332,     0.32432,     0.32533,     0.32633,     0.32733,     0.32833,     0.32933,     0.33033,     0.33133,     0.33233,     0.33333,     0.33433,     0.33534,\n",
              "           0.33634,     0.33734,     0.33834,     0.33934,     0.34034,     0.34134,     0.34234,     0.34334,     0.34434,     0.34535,     0.34635,     0.34735,     0.34835,     0.34935,     0.35035,     0.35135,     0.35235,     0.35335,     0.35435,     0.35536,     0.35636,     0.35736,     0.35836,     0.35936,\n",
              "           0.36036,     0.36136,     0.36236,     0.36336,     0.36436,     0.36537,     0.36637,     0.36737,     0.36837,     0.36937,     0.37037,     0.37137,     0.37237,     0.37337,     0.37437,     0.37538,     0.37638,     0.37738,     0.37838,     0.37938,     0.38038,     0.38138,     0.38238,     0.38338,\n",
              "           0.38438,     0.38539,     0.38639,     0.38739,     0.38839,     0.38939,     0.39039,     0.39139,     0.39239,     0.39339,     0.39439,      0.3954,      0.3964,      0.3974,      0.3984,      0.3994,      0.4004,      0.4014,      0.4024,      0.4034,      0.4044,     0.40541,     0.40641,     0.40741,\n",
              "           0.40841,     0.40941,     0.41041,     0.41141,     0.41241,     0.41341,     0.41441,     0.41542,     0.41642,     0.41742,     0.41842,     0.41942,     0.42042,     0.42142,     0.42242,     0.42342,     0.42442,     0.42543,     0.42643,     0.42743,     0.42843,     0.42943,     0.43043,     0.43143,\n",
              "           0.43243,     0.43343,     0.43443,     0.43544,     0.43644,     0.43744,     0.43844,     0.43944,     0.44044,     0.44144,     0.44244,     0.44344,     0.44444,     0.44545,     0.44645,     0.44745,     0.44845,     0.44945,     0.45045,     0.45145,     0.45245,     0.45345,     0.45445,     0.45546,\n",
              "           0.45646,     0.45746,     0.45846,     0.45946,     0.46046,     0.46146,     0.46246,     0.46346,     0.46446,     0.46547,     0.46647,     0.46747,     0.46847,     0.46947,     0.47047,     0.47147,     0.47247,     0.47347,     0.47447,     0.47548,     0.47648,     0.47748,     0.47848,     0.47948,\n",
              "           0.48048,     0.48148,     0.48248,     0.48348,     0.48448,     0.48549,     0.48649,     0.48749,     0.48849,     0.48949,     0.49049,     0.49149,     0.49249,     0.49349,     0.49449,      0.4955,      0.4965,      0.4975,      0.4985,      0.4995,      0.5005,      0.5015,      0.5025,      0.5035,\n",
              "            0.5045,     0.50551,     0.50651,     0.50751,     0.50851,     0.50951,     0.51051,     0.51151,     0.51251,     0.51351,     0.51451,     0.51552,     0.51652,     0.51752,     0.51852,     0.51952,     0.52052,     0.52152,     0.52252,     0.52352,     0.52452,     0.52553,     0.52653,     0.52753,\n",
              "           0.52853,     0.52953,     0.53053,     0.53153,     0.53253,     0.53353,     0.53453,     0.53554,     0.53654,     0.53754,     0.53854,     0.53954,     0.54054,     0.54154,     0.54254,     0.54354,     0.54454,     0.54555,     0.54655,     0.54755,     0.54855,     0.54955,     0.55055,     0.55155,\n",
              "           0.55255,     0.55355,     0.55455,     0.55556,     0.55656,     0.55756,     0.55856,     0.55956,     0.56056,     0.56156,     0.56256,     0.56356,     0.56456,     0.56557,     0.56657,     0.56757,     0.56857,     0.56957,     0.57057,     0.57157,     0.57257,     0.57357,     0.57457,     0.57558,\n",
              "           0.57658,     0.57758,     0.57858,     0.57958,     0.58058,     0.58158,     0.58258,     0.58358,     0.58458,     0.58559,     0.58659,     0.58759,     0.58859,     0.58959,     0.59059,     0.59159,     0.59259,     0.59359,     0.59459,      0.5956,      0.5966,      0.5976,      0.5986,      0.5996,\n",
              "            0.6006,      0.6016,      0.6026,      0.6036,      0.6046,     0.60561,     0.60661,     0.60761,     0.60861,     0.60961,     0.61061,     0.61161,     0.61261,     0.61361,     0.61461,     0.61562,     0.61662,     0.61762,     0.61862,     0.61962,     0.62062,     0.62162,     0.62262,     0.62362,\n",
              "           0.62462,     0.62563,     0.62663,     0.62763,     0.62863,     0.62963,     0.63063,     0.63163,     0.63263,     0.63363,     0.63463,     0.63564,     0.63664,     0.63764,     0.63864,     0.63964,     0.64064,     0.64164,     0.64264,     0.64364,     0.64464,     0.64565,     0.64665,     0.64765,\n",
              "           0.64865,     0.64965,     0.65065,     0.65165,     0.65265,     0.65365,     0.65465,     0.65566,     0.65666,     0.65766,     0.65866,     0.65966,     0.66066,     0.66166,     0.66266,     0.66366,     0.66466,     0.66567,     0.66667,     0.66767,     0.66867,     0.66967,     0.67067,     0.67167,\n",
              "           0.67267,     0.67367,     0.67467,     0.67568,     0.67668,     0.67768,     0.67868,     0.67968,     0.68068,     0.68168,     0.68268,     0.68368,     0.68468,     0.68569,     0.68669,     0.68769,     0.68869,     0.68969,     0.69069,     0.69169,     0.69269,     0.69369,     0.69469,      0.6957,\n",
              "            0.6967,      0.6977,      0.6987,      0.6997,      0.7007,      0.7017,      0.7027,      0.7037,      0.7047,     0.70571,     0.70671,     0.70771,     0.70871,     0.70971,     0.71071,     0.71171,     0.71271,     0.71371,     0.71471,     0.71572,     0.71672,     0.71772,     0.71872,     0.71972,\n",
              "           0.72072,     0.72172,     0.72272,     0.72372,     0.72472,     0.72573,     0.72673,     0.72773,     0.72873,     0.72973,     0.73073,     0.73173,     0.73273,     0.73373,     0.73473,     0.73574,     0.73674,     0.73774,     0.73874,     0.73974,     0.74074,     0.74174,     0.74274,     0.74374,\n",
              "           0.74474,     0.74575,     0.74675,     0.74775,     0.74875,     0.74975,     0.75075,     0.75175,     0.75275,     0.75375,     0.75475,     0.75576,     0.75676,     0.75776,     0.75876,     0.75976,     0.76076,     0.76176,     0.76276,     0.76376,     0.76476,     0.76577,     0.76677,     0.76777,\n",
              "           0.76877,     0.76977,     0.77077,     0.77177,     0.77277,     0.77377,     0.77477,     0.77578,     0.77678,     0.77778,     0.77878,     0.77978,     0.78078,     0.78178,     0.78278,     0.78378,     0.78478,     0.78579,     0.78679,     0.78779,     0.78879,     0.78979,     0.79079,     0.79179,\n",
              "           0.79279,     0.79379,     0.79479,      0.7958,      0.7968,      0.7978,      0.7988,      0.7998,      0.8008,      0.8018,      0.8028,      0.8038,      0.8048,     0.80581,     0.80681,     0.80781,     0.80881,     0.80981,     0.81081,     0.81181,     0.81281,     0.81381,     0.81481,     0.81582,\n",
              "           0.81682,     0.81782,     0.81882,     0.81982,     0.82082,     0.82182,     0.82282,     0.82382,     0.82482,     0.82583,     0.82683,     0.82783,     0.82883,     0.82983,     0.83083,     0.83183,     0.83283,     0.83383,     0.83483,     0.83584,     0.83684,     0.83784,     0.83884,     0.83984,\n",
              "           0.84084,     0.84184,     0.84284,     0.84384,     0.84484,     0.84585,     0.84685,     0.84785,     0.84885,     0.84985,     0.85085,     0.85185,     0.85285,     0.85385,     0.85485,     0.85586,     0.85686,     0.85786,     0.85886,     0.85986,     0.86086,     0.86186,     0.86286,     0.86386,\n",
              "           0.86486,     0.86587,     0.86687,     0.86787,     0.86887,     0.86987,     0.87087,     0.87187,     0.87287,     0.87387,     0.87487,     0.87588,     0.87688,     0.87788,     0.87888,     0.87988,     0.88088,     0.88188,     0.88288,     0.88388,     0.88488,     0.88589,     0.88689,     0.88789,\n",
              "           0.88889,     0.88989,     0.89089,     0.89189,     0.89289,     0.89389,     0.89489,      0.8959,      0.8969,      0.8979,      0.8989,      0.8999,      0.9009,      0.9019,      0.9029,      0.9039,      0.9049,     0.90591,     0.90691,     0.90791,     0.90891,     0.90991,     0.91091,     0.91191,\n",
              "           0.91291,     0.91391,     0.91491,     0.91592,     0.91692,     0.91792,     0.91892,     0.91992,     0.92092,     0.92192,     0.92292,     0.92392,     0.92492,     0.92593,     0.92693,     0.92793,     0.92893,     0.92993,     0.93093,     0.93193,     0.93293,     0.93393,     0.93493,     0.93594,\n",
              "           0.93694,     0.93794,     0.93894,     0.93994,     0.94094,     0.94194,     0.94294,     0.94394,     0.94494,     0.94595,     0.94695,     0.94795,     0.94895,     0.94995,     0.95095,     0.95195,     0.95295,     0.95395,     0.95495,     0.95596,     0.95696,     0.95796,     0.95896,     0.95996,\n",
              "           0.96096,     0.96196,     0.96296,     0.96396,     0.96496,     0.96597,     0.96697,     0.96797,     0.96897,     0.96997,     0.97097,     0.97197,     0.97297,     0.97397,     0.97497,     0.97598,     0.97698,     0.97798,     0.97898,     0.97998,     0.98098,     0.98198,     0.98298,     0.98398,\n",
              "           0.98498,     0.98599,     0.98699,     0.98799,     0.98899,     0.98999,     0.99099,     0.99199,     0.99299,     0.99399,     0.99499,       0.996,       0.997,       0.998,       0.999,           1]), array([[    0.95455,     0.95455,     0.94805, ...,           0,           0,           0],\n",
              "       [    0.98851,     0.98851,     0.97701, ...,           0,           0,           0]]), 'Confidence', 'Recall']]\n",
              "fitness: 0.42379028992156403\n",
              "keys: ['metrics/precision(B)', 'metrics/recall(B)', 'metrics/mAP50(B)', 'metrics/mAP50-95(B)']\n",
              "maps: array([    0.47358,     0.34564])\n",
              "names: {0: 'negative', 1: 'positive'}\n",
              "plot: True\n",
              "results_dict: {'metrics/precision(B)': 0.4425095066990391, 'metrics/recall(B)': 0.7873364754242498, 'metrics/mAP50(B)': 0.5514057684601374, 'metrics/mAP50-95(B)': 0.409610792306167, 'fitness': 0.42379028992156403}\n",
              "save_dir: PosixPath('runs/detect/train')\n",
              "speed: {'preprocess': 0.44642007938949513, 'inference': 3.3953296764014547, 'loss': 0.0007013568963705157, 'postprocess': 2.9503262096456346}\n",
              "task: 'detect'"
            ]
          },
          "metadata": {},
          "execution_count": 10
        }
      ]
    },
    {
      "cell_type": "code",
      "source": [
        "results = model.predict(\"/content/test image.jpg\")"
      ],
      "metadata": {
        "colab": {
          "base_uri": "https://localhost:8080/"
        },
        "id": "whSyieZ6kzR8",
        "outputId": "73aabedc-b54d-493e-9dc1-9c7acbe6599f"
      },
      "execution_count": null,
      "outputs": [
        {
          "output_type": "stream",
          "name": "stdout",
          "text": [
            "\n",
            "image 1/1 /content/test image.jpg: 640x608 1 negative, 1 positive, 14.6ms\n",
            "Speed: 5.5ms preprocess, 14.6ms inference, 2.1ms postprocess per image at shape (1, 3, 640, 608)\n"
          ]
        }
      ]
    },
    {
      "cell_type": "code",
      "source": [
        "import cv2\n",
        "import matplotlib.pyplot as plt\n",
        "import torch # Import PyTorch to use .cpu()\n",
        "\n",
        "# Load the image\n",
        "img = cv2.imread(\"/content/test image.jpg\")\n",
        "img = cv2.cvtColor(img, cv2.COLOR_BGR2RGB)\n",
        "\n",
        "# Draw predictions on the image\n",
        "for result in results:\n",
        "    # Move tensors to CPU before converting to NumPy\n",
        "    boxes = result.boxes.xyxy.cpu().numpy()  # Get bounding boxes\n",
        "    classes = result.boxes.cls.cpu().numpy()  # Get class labels\n",
        "    scores = result.boxes.conf.cpu().numpy()  # Get confidence scores\n",
        "\n",
        "    for box, cls, score in zip(boxes, classes, scores):\n",
        "        x1, y1, x2, y2 = map(int, box)\n",
        "        label = f'{model.names[int(cls)]} {score:.2f}'\n",
        "        color = (255, 0, 0)  # Red color for bounding box\n",
        "\n",
        "        # Draw rectangle\n",
        "        cv2.rectangle(img, (x1, y1), (x2, y2), color, 2)\n",
        "        # Draw label\n",
        "        (w, h), _ = cv2.getTextSize(label, cv2.FONT_HERSHEY_SIMPLEX, 0.5, 1)\n",
        "        img = cv2.rectangle(img, (x1, y1 - 20), (x1 + w, y1), color, -1)\n",
        "        img = cv2.putText(img, label, (x1, y1 - 5), cv2.FONT_HERSHEY_SIMPLEX, 0.5, (255, 255, 255), 1)\n",
        "\n",
        "# Display the image with matplotlib\n",
        "plt.imshow(img)\n",
        "plt.axis('off')\n",
        "plt.show()"
      ],
      "metadata": {
        "colab": {
          "base_uri": "https://localhost:8080/",
          "height": 406
        },
        "id": "npBgLnoQoUTn",
        "outputId": "b0bb5cb2-48ba-450a-bb80-378d9d3accf5"
      },
      "execution_count": null,
      "outputs": [
        {
          "output_type": "display_data",
          "data": {
            "text/plain": [
              "<Figure size 640x480 with 1 Axes>"
            ],
            "image/png": "[encoded data removed]"
          },
          "metadata": {}
        }
      ]
    }
  ]
}
